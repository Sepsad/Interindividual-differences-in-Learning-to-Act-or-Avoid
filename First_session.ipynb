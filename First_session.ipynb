{
 "cells": [
  {
   "cell_type": "code",
   "execution_count": 139,
   "metadata": {},
   "outputs": [],
   "source": [
    "import matplotlib.pyplot as plt\n",
    "import pandas as pd\n",
    "pd.set_option(\"display.max_columns\", None)\n",
    "pd.set_option(\"display.max_rows\", 150)\n",
    "import seaborn as sns\n",
    "sns.set_theme(color_codes=True)\n",
    "from scipy import stats\n",
    "import statsmodels.api as sm\n",
    "import numpy as np\n",
    "import json"
   ]
  },
  {
   "cell_type": "markdown",
   "metadata": {},
   "source": [
    "## Read the Data"
   ]
  },
  {
   "cell_type": "code",
   "execution_count": 140,
   "metadata": {},
   "outputs": [
    {
     "name": "stderr",
     "output_type": "stream",
     "text": [
      "/opt/homebrew/lib/python3.9/site-packages/IPython/core/interactiveshell.py:3441: DtypeWarning: Columns (32,65) have mixed types.Specify dtype option on import or set low_memory=False.\n",
      "  exec(code_obj, self.user_global_ns, self.user_ns)\n"
     ]
    },
    {
     "data": {
      "text/html": [
       "<div>\n",
       "<style scoped>\n",
       "    .dataframe tbody tr th:only-of-type {\n",
       "        vertical-align: middle;\n",
       "    }\n",
       "\n",
       "    .dataframe tbody tr th {\n",
       "        vertical-align: top;\n",
       "    }\n",
       "\n",
       "    .dataframe thead th {\n",
       "        text-align: right;\n",
       "    }\n",
       "</style>\n",
       "<table border=\"1\" class=\"dataframe\">\n",
       "  <thead>\n",
       "    <tr style=\"text-align: right;\">\n",
       "      <th></th>\n",
       "      <th>run_id</th>\n",
       "      <th>condition</th>\n",
       "      <th>rt</th>\n",
       "      <th>url</th>\n",
       "      <th>trial_type</th>\n",
       "      <th>trial_index</th>\n",
       "      <th>time_elapsed</th>\n",
       "      <th>internal_node_id</th>\n",
       "      <th>experiment_id</th>\n",
       "      <th>assignmentID</th>\n",
       "      <th>mturkID</th>\n",
       "      <th>hitID</th>\n",
       "      <th>exp_final_status</th>\n",
       "      <th>success</th>\n",
       "      <th>timeout</th>\n",
       "      <th>failed_images</th>\n",
       "      <th>failed_audio</th>\n",
       "      <th>failed_video</th>\n",
       "      <th>stimulus</th>\n",
       "      <th>response</th>\n",
       "      <th>exp_stage</th>\n",
       "      <th>view_history</th>\n",
       "      <th>exp_part</th>\n",
       "      <th>question_order</th>\n",
       "      <th>quiz_score</th>\n",
       "      <th>recorded_at</th>\n",
       "      <th>ip</th>\n",
       "      <th>user_agent</th>\n",
       "      <th>device</th>\n",
       "      <th>browser</th>\n",
       "      <th>browser_version</th>\n",
       "      <th>platform</th>\n",
       "      <th>platform_version</th>\n",
       "      <th>source_code_version</th>\n",
       "      <th>focus_screen</th>\n",
       "      <th>color</th>\n",
       "      <th>cond</th>\n",
       "      <th>cond_action</th>\n",
       "      <th>cond_outcome</th>\n",
       "      <th>block</th>\n",
       "      <th>side</th>\n",
       "      <th>x_circle</th>\n",
       "      <th>y_circle</th>\n",
       "      <th>choice</th>\n",
       "      <th>correct</th>\n",
       "      <th>curr_bonus</th>\n",
       "      <th>trial_bonus</th>\n",
       "      <th>outcome</th>\n",
       "      <th>feedback_points</th>\n",
       "      <th>prob_fall</th>\n",
       "      <th>expected_feedback</th>\n",
       "      <th>agg_fb_pts</th>\n",
       "      <th>hitId</th>\n",
       "      <th>workerId</th>\n",
       "      <th>assignmentId</th>\n",
       "      <th>a</th>\n",
       "      <th>tp_a</th>\n",
       "      <th>b</th>\n",
       "      <th>tp_b</th>\n",
       "      <th>c</th>\n",
       "      <th>tp_c</th>\n",
       "      <th>error_block</th>\n",
       "      <th>num_gos</th>\n",
       "      <th>num_nogos</th>\n",
       "      <th>suspicious</th>\n",
       "      <th>suspicious_type</th>\n",
       "    </tr>\n",
       "  </thead>\n",
       "  <tbody>\n",
       "    <tr>\n",
       "      <th>0</th>\n",
       "      <td>10</td>\n",
       "      <td>1</td>\n",
       "      <td>1429.1999999955297</td>\n",
       "      <td>https://raw.githubusercontent.com/Sepsad/Ortho...</td>\n",
       "      <td>external-html</td>\n",
       "      <td>0</td>\n",
       "      <td>1440</td>\n",
       "      <td>0.0-0.0</td>\n",
       "      <td>GNG_ev45gnlk</td>\n",
       "      <td>\"</td>\n",
       "      <td>\"</td>\n",
       "      <td>\"</td>\n",
       "      <td>not_completed_by_failing_quiz</td>\n",
       "      <td>\"</td>\n",
       "      <td>\"</td>\n",
       "      <td>\"</td>\n",
       "      <td>\"</td>\n",
       "      <td>\"</td>\n",
       "      <td>\"</td>\n",
       "      <td>\"</td>\n",
       "      <td>\"</td>\n",
       "      <td>\"</td>\n",
       "      <td>\"</td>\n",
       "      <td>\"</td>\n",
       "      <td>\"</td>\n",
       "      <td>2021-11-12 15:05:54</td>\n",
       "      <td>95.217.7.68</td>\n",
       "      <td>Mozilla/5.0 (Macintosh; Intel Mac OS X 10_15_7...</td>\n",
       "      <td>Macintosh</td>\n",
       "      <td>Chrome</td>\n",
       "      <td>95.0.4638.69</td>\n",
       "      <td>OS X</td>\n",
       "      <td>10_15_7</td>\n",
       "      <td>ff253546778cd407e57361676f185c6a</td>\n",
       "      <td>NaN</td>\n",
       "      <td>NaN</td>\n",
       "      <td>NaN</td>\n",
       "      <td>NaN</td>\n",
       "      <td>NaN</td>\n",
       "      <td>NaN</td>\n",
       "      <td>NaN</td>\n",
       "      <td>NaN</td>\n",
       "      <td>NaN</td>\n",
       "      <td>NaN</td>\n",
       "      <td>False</td>\n",
       "      <td>NaN</td>\n",
       "      <td>NaN</td>\n",
       "      <td>NaN</td>\n",
       "      <td>NaN</td>\n",
       "      <td>NaN</td>\n",
       "      <td>NaN</td>\n",
       "      <td>NaN</td>\n",
       "      <td>NaN</td>\n",
       "      <td>NaN</td>\n",
       "      <td>NaN</td>\n",
       "      <td>NaN</td>\n",
       "      <td>NaN</td>\n",
       "      <td>NaN</td>\n",
       "      <td>NaN</td>\n",
       "      <td>NaN</td>\n",
       "      <td>NaN</td>\n",
       "      <td>NaN</td>\n",
       "      <td>NaN</td>\n",
       "      <td>NaN</td>\n",
       "      <td>NaN</td>\n",
       "      <td>NaN</td>\n",
       "    </tr>\n",
       "    <tr>\n",
       "      <th>1</th>\n",
       "      <td>10</td>\n",
       "      <td>1</td>\n",
       "      <td>1251.1999999955297</td>\n",
       "      <td>https://raw.githubusercontent.com/Sepsad/Ortho...</td>\n",
       "      <td>external-html</td>\n",
       "      <td>1</td>\n",
       "      <td>2703</td>\n",
       "      <td>0.0-1.0</td>\n",
       "      <td>GNG_ev45gnlk</td>\n",
       "      <td>\"</td>\n",
       "      <td>\"</td>\n",
       "      <td>\"</td>\n",
       "      <td>not_completed_by_failing_quiz</td>\n",
       "      <td>\"</td>\n",
       "      <td>\"</td>\n",
       "      <td>\"</td>\n",
       "      <td>\"</td>\n",
       "      <td>\"</td>\n",
       "      <td>\"</td>\n",
       "      <td>\"</td>\n",
       "      <td>\"</td>\n",
       "      <td>\"</td>\n",
       "      <td>\"</td>\n",
       "      <td>\"</td>\n",
       "      <td>\"</td>\n",
       "      <td>2021-11-12 15:05:54</td>\n",
       "      <td>95.217.7.68</td>\n",
       "      <td>Mozilla/5.0 (Macintosh; Intel Mac OS X 10_15_7...</td>\n",
       "      <td>Macintosh</td>\n",
       "      <td>Chrome</td>\n",
       "      <td>95.0.4638.69</td>\n",
       "      <td>OS X</td>\n",
       "      <td>10_15_7</td>\n",
       "      <td>ff253546778cd407e57361676f185c6a</td>\n",
       "      <td>NaN</td>\n",
       "      <td>NaN</td>\n",
       "      <td>NaN</td>\n",
       "      <td>NaN</td>\n",
       "      <td>NaN</td>\n",
       "      <td>NaN</td>\n",
       "      <td>NaN</td>\n",
       "      <td>NaN</td>\n",
       "      <td>NaN</td>\n",
       "      <td>NaN</td>\n",
       "      <td>False</td>\n",
       "      <td>NaN</td>\n",
       "      <td>NaN</td>\n",
       "      <td>NaN</td>\n",
       "      <td>NaN</td>\n",
       "      <td>NaN</td>\n",
       "      <td>NaN</td>\n",
       "      <td>NaN</td>\n",
       "      <td>NaN</td>\n",
       "      <td>NaN</td>\n",
       "      <td>NaN</td>\n",
       "      <td>NaN</td>\n",
       "      <td>NaN</td>\n",
       "      <td>NaN</td>\n",
       "      <td>NaN</td>\n",
       "      <td>NaN</td>\n",
       "      <td>NaN</td>\n",
       "      <td>NaN</td>\n",
       "      <td>NaN</td>\n",
       "      <td>NaN</td>\n",
       "      <td>NaN</td>\n",
       "      <td>NaN</td>\n",
       "    </tr>\n",
       "    <tr>\n",
       "      <th>2</th>\n",
       "      <td>10</td>\n",
       "      <td>1</td>\n",
       "      <td>\"</td>\n",
       "      <td>\"</td>\n",
       "      <td>preload</td>\n",
       "      <td>2</td>\n",
       "      <td>3543</td>\n",
       "      <td>0.0-2.0</td>\n",
       "      <td>GNG_ev45gnlk</td>\n",
       "      <td>\"</td>\n",
       "      <td>\"</td>\n",
       "      <td>\"</td>\n",
       "      <td>not_completed_by_failing_quiz</td>\n",
       "      <td>true</td>\n",
       "      <td>false</td>\n",
       "      <td>[]</td>\n",
       "      <td>[]</td>\n",
       "      <td>[]</td>\n",
       "      <td>\"</td>\n",
       "      <td>\"</td>\n",
       "      <td>\"</td>\n",
       "      <td>\"</td>\n",
       "      <td>\"</td>\n",
       "      <td>\"</td>\n",
       "      <td>\"</td>\n",
       "      <td>2021-11-12 15:05:54</td>\n",
       "      <td>95.217.7.68</td>\n",
       "      <td>Mozilla/5.0 (Macintosh; Intel Mac OS X 10_15_7...</td>\n",
       "      <td>Macintosh</td>\n",
       "      <td>Chrome</td>\n",
       "      <td>95.0.4638.69</td>\n",
       "      <td>OS X</td>\n",
       "      <td>10_15_7</td>\n",
       "      <td>ff253546778cd407e57361676f185c6a</td>\n",
       "      <td>NaN</td>\n",
       "      <td>NaN</td>\n",
       "      <td>NaN</td>\n",
       "      <td>NaN</td>\n",
       "      <td>NaN</td>\n",
       "      <td>NaN</td>\n",
       "      <td>NaN</td>\n",
       "      <td>NaN</td>\n",
       "      <td>NaN</td>\n",
       "      <td>NaN</td>\n",
       "      <td>False</td>\n",
       "      <td>NaN</td>\n",
       "      <td>NaN</td>\n",
       "      <td>NaN</td>\n",
       "      <td>NaN</td>\n",
       "      <td>NaN</td>\n",
       "      <td>NaN</td>\n",
       "      <td>NaN</td>\n",
       "      <td>NaN</td>\n",
       "      <td>NaN</td>\n",
       "      <td>NaN</td>\n",
       "      <td>NaN</td>\n",
       "      <td>NaN</td>\n",
       "      <td>NaN</td>\n",
       "      <td>NaN</td>\n",
       "      <td>NaN</td>\n",
       "      <td>NaN</td>\n",
       "      <td>NaN</td>\n",
       "      <td>NaN</td>\n",
       "      <td>NaN</td>\n",
       "      <td>NaN</td>\n",
       "      <td>NaN</td>\n",
       "    </tr>\n",
       "    <tr>\n",
       "      <th>3</th>\n",
       "      <td>10</td>\n",
       "      <td>1</td>\n",
       "      <td>977.1000000014901</td>\n",
       "      <td>\"</td>\n",
       "      <td>html-button-response</td>\n",
       "      <td>3</td>\n",
       "      <td>4522</td>\n",
       "      <td>0.0-3.0</td>\n",
       "      <td>GNG_ev45gnlk</td>\n",
       "      <td>\"</td>\n",
       "      <td>\"</td>\n",
       "      <td>\"</td>\n",
       "      <td>not_completed_by_failing_quiz</td>\n",
       "      <td>\"</td>\n",
       "      <td>\"</td>\n",
       "      <td>\"</td>\n",
       "      <td>\"</td>\n",
       "      <td>\"</td>\n",
       "      <td>&lt;img src='../img/welcome.gif' style='height: 2...</td>\n",
       "      <td>0</td>\n",
       "      <td>first_welcome</td>\n",
       "      <td>\"</td>\n",
       "      <td>\"</td>\n",
       "      <td>\"</td>\n",
       "      <td>\"</td>\n",
       "      <td>2021-11-12 15:05:54</td>\n",
       "      <td>95.217.7.68</td>\n",
       "      <td>Mozilla/5.0 (Macintosh; Intel Mac OS X 10_15_7...</td>\n",
       "      <td>Macintosh</td>\n",
       "      <td>Chrome</td>\n",
       "      <td>95.0.4638.69</td>\n",
       "      <td>OS X</td>\n",
       "      <td>10_15_7</td>\n",
       "      <td>ff253546778cd407e57361676f185c6a</td>\n",
       "      <td>NaN</td>\n",
       "      <td>NaN</td>\n",
       "      <td>NaN</td>\n",
       "      <td>NaN</td>\n",
       "      <td>NaN</td>\n",
       "      <td>NaN</td>\n",
       "      <td>NaN</td>\n",
       "      <td>NaN</td>\n",
       "      <td>NaN</td>\n",
       "      <td>NaN</td>\n",
       "      <td>False</td>\n",
       "      <td>NaN</td>\n",
       "      <td>NaN</td>\n",
       "      <td>NaN</td>\n",
       "      <td>NaN</td>\n",
       "      <td>NaN</td>\n",
       "      <td>NaN</td>\n",
       "      <td>NaN</td>\n",
       "      <td>NaN</td>\n",
       "      <td>NaN</td>\n",
       "      <td>NaN</td>\n",
       "      <td>NaN</td>\n",
       "      <td>NaN</td>\n",
       "      <td>NaN</td>\n",
       "      <td>NaN</td>\n",
       "      <td>NaN</td>\n",
       "      <td>NaN</td>\n",
       "      <td>NaN</td>\n",
       "      <td>NaN</td>\n",
       "      <td>NaN</td>\n",
       "      <td>NaN</td>\n",
       "      <td>NaN</td>\n",
       "    </tr>\n",
       "    <tr>\n",
       "      <th>4</th>\n",
       "      <td>10</td>\n",
       "      <td>1</td>\n",
       "      <td>3232.89999999851</td>\n",
       "      <td>\"</td>\n",
       "      <td>instructions</td>\n",
       "      <td>4</td>\n",
       "      <td>7756</td>\n",
       "      <td>0.0-4.0</td>\n",
       "      <td>GNG_ev45gnlk</td>\n",
       "      <td>\"</td>\n",
       "      <td>\"</td>\n",
       "      <td>\"</td>\n",
       "      <td>not_completed_by_failing_quiz</td>\n",
       "      <td>\"</td>\n",
       "      <td>\"</td>\n",
       "      <td>\"</td>\n",
       "      <td>\"</td>\n",
       "      <td>\"</td>\n",
       "      <td>\"</td>\n",
       "      <td>\"</td>\n",
       "      <td>before_instructions</td>\n",
       "      <td>[{\"page_index\":0,\"viewing_time\":713},{\"page_in...</td>\n",
       "      <td>before_instructions</td>\n",
       "      <td>\"</td>\n",
       "      <td>\"</td>\n",
       "      <td>2021-11-12 15:05:54</td>\n",
       "      <td>95.217.7.68</td>\n",
       "      <td>Mozilla/5.0 (Macintosh; Intel Mac OS X 10_15_7...</td>\n",
       "      <td>Macintosh</td>\n",
       "      <td>Chrome</td>\n",
       "      <td>95.0.4638.69</td>\n",
       "      <td>OS X</td>\n",
       "      <td>10_15_7</td>\n",
       "      <td>ff253546778cd407e57361676f185c6a</td>\n",
       "      <td>NaN</td>\n",
       "      <td>NaN</td>\n",
       "      <td>NaN</td>\n",
       "      <td>NaN</td>\n",
       "      <td>NaN</td>\n",
       "      <td>NaN</td>\n",
       "      <td>NaN</td>\n",
       "      <td>NaN</td>\n",
       "      <td>NaN</td>\n",
       "      <td>NaN</td>\n",
       "      <td>False</td>\n",
       "      <td>NaN</td>\n",
       "      <td>NaN</td>\n",
       "      <td>NaN</td>\n",
       "      <td>NaN</td>\n",
       "      <td>NaN</td>\n",
       "      <td>NaN</td>\n",
       "      <td>NaN</td>\n",
       "      <td>NaN</td>\n",
       "      <td>NaN</td>\n",
       "      <td>NaN</td>\n",
       "      <td>NaN</td>\n",
       "      <td>NaN</td>\n",
       "      <td>NaN</td>\n",
       "      <td>NaN</td>\n",
       "      <td>NaN</td>\n",
       "      <td>NaN</td>\n",
       "      <td>NaN</td>\n",
       "      <td>NaN</td>\n",
       "      <td>NaN</td>\n",
       "      <td>NaN</td>\n",
       "      <td>NaN</td>\n",
       "    </tr>\n",
       "  </tbody>\n",
       "</table>\n",
       "</div>"
      ],
      "text/plain": [
       "   run_id  condition                  rt  \\\n",
       "0      10          1  1429.1999999955297   \n",
       "1      10          1  1251.1999999955297   \n",
       "2      10          1                   \"   \n",
       "3      10          1   977.1000000014901   \n",
       "4      10          1    3232.89999999851   \n",
       "\n",
       "                                                 url            trial_type  \\\n",
       "0  https://raw.githubusercontent.com/Sepsad/Ortho...         external-html   \n",
       "1  https://raw.githubusercontent.com/Sepsad/Ortho...         external-html   \n",
       "2                                                  \"               preload   \n",
       "3                                                  \"  html-button-response   \n",
       "4                                                  \"          instructions   \n",
       "\n",
       "   trial_index  time_elapsed internal_node_id experiment_id assignmentID  \\\n",
       "0            0          1440          0.0-0.0  GNG_ev45gnlk            \"   \n",
       "1            1          2703          0.0-1.0  GNG_ev45gnlk            \"   \n",
       "2            2          3543          0.0-2.0  GNG_ev45gnlk            \"   \n",
       "3            3          4522          0.0-3.0  GNG_ev45gnlk            \"   \n",
       "4            4          7756          0.0-4.0  GNG_ev45gnlk            \"   \n",
       "\n",
       "  mturkID hitID               exp_final_status success timeout failed_images  \\\n",
       "0       \"     \"  not_completed_by_failing_quiz       \"       \"             \"   \n",
       "1       \"     \"  not_completed_by_failing_quiz       \"       \"             \"   \n",
       "2       \"     \"  not_completed_by_failing_quiz    true   false            []   \n",
       "3       \"     \"  not_completed_by_failing_quiz       \"       \"             \"   \n",
       "4       \"     \"  not_completed_by_failing_quiz       \"       \"             \"   \n",
       "\n",
       "  failed_audio failed_video  \\\n",
       "0            \"            \"   \n",
       "1            \"            \"   \n",
       "2           []           []   \n",
       "3            \"            \"   \n",
       "4            \"            \"   \n",
       "\n",
       "                                            stimulus response  \\\n",
       "0                                                  \"        \"   \n",
       "1                                                  \"        \"   \n",
       "2                                                  \"        \"   \n",
       "3  <img src='../img/welcome.gif' style='height: 2...        0   \n",
       "4                                                  \"        \"   \n",
       "\n",
       "             exp_stage                                       view_history  \\\n",
       "0                    \"                                                  \"   \n",
       "1                    \"                                                  \"   \n",
       "2                    \"                                                  \"   \n",
       "3        first_welcome                                                  \"   \n",
       "4  before_instructions  [{\"page_index\":0,\"viewing_time\":713},{\"page_in...   \n",
       "\n",
       "              exp_part question_order quiz_score          recorded_at  \\\n",
       "0                    \"              \"          \"  2021-11-12 15:05:54   \n",
       "1                    \"              \"          \"  2021-11-12 15:05:54   \n",
       "2                    \"              \"          \"  2021-11-12 15:05:54   \n",
       "3                    \"              \"          \"  2021-11-12 15:05:54   \n",
       "4  before_instructions              \"          \"  2021-11-12 15:05:54   \n",
       "\n",
       "            ip                                         user_agent     device  \\\n",
       "0  95.217.7.68  Mozilla/5.0 (Macintosh; Intel Mac OS X 10_15_7...  Macintosh   \n",
       "1  95.217.7.68  Mozilla/5.0 (Macintosh; Intel Mac OS X 10_15_7...  Macintosh   \n",
       "2  95.217.7.68  Mozilla/5.0 (Macintosh; Intel Mac OS X 10_15_7...  Macintosh   \n",
       "3  95.217.7.68  Mozilla/5.0 (Macintosh; Intel Mac OS X 10_15_7...  Macintosh   \n",
       "4  95.217.7.68  Mozilla/5.0 (Macintosh; Intel Mac OS X 10_15_7...  Macintosh   \n",
       "\n",
       "  browser browser_version platform platform_version  \\\n",
       "0  Chrome    95.0.4638.69     OS X          10_15_7   \n",
       "1  Chrome    95.0.4638.69     OS X          10_15_7   \n",
       "2  Chrome    95.0.4638.69     OS X          10_15_7   \n",
       "3  Chrome    95.0.4638.69     OS X          10_15_7   \n",
       "4  Chrome    95.0.4638.69     OS X          10_15_7   \n",
       "\n",
       "                source_code_version focus_screen color cond cond_action  \\\n",
       "0  ff253546778cd407e57361676f185c6a          NaN   NaN  NaN         NaN   \n",
       "1  ff253546778cd407e57361676f185c6a          NaN   NaN  NaN         NaN   \n",
       "2  ff253546778cd407e57361676f185c6a          NaN   NaN  NaN         NaN   \n",
       "3  ff253546778cd407e57361676f185c6a          NaN   NaN  NaN         NaN   \n",
       "4  ff253546778cd407e57361676f185c6a          NaN   NaN  NaN         NaN   \n",
       "\n",
       "  cond_outcome block side x_circle y_circle choice  correct curr_bonus  \\\n",
       "0          NaN   NaN  NaN      NaN      NaN    NaN    False        NaN   \n",
       "1          NaN   NaN  NaN      NaN      NaN    NaN    False        NaN   \n",
       "2          NaN   NaN  NaN      NaN      NaN    NaN    False        NaN   \n",
       "3          NaN   NaN  NaN      NaN      NaN    NaN    False        NaN   \n",
       "4          NaN   NaN  NaN      NaN      NaN    NaN    False        NaN   \n",
       "\n",
       "  trial_bonus outcome feedback_points prob_fall expected_feedback agg_fb_pts  \\\n",
       "0         NaN     NaN             NaN       NaN               NaN        NaN   \n",
       "1         NaN     NaN             NaN       NaN               NaN        NaN   \n",
       "2         NaN     NaN             NaN       NaN               NaN        NaN   \n",
       "3         NaN     NaN             NaN       NaN               NaN        NaN   \n",
       "4         NaN     NaN             NaN       NaN               NaN        NaN   \n",
       "\n",
       "  hitId workerId assignmentId    a tp_a    b tp_b   c  tp_c error_block  \\\n",
       "0   NaN      NaN          NaN  NaN  NaN  NaN  NaN NaN   NaN         NaN   \n",
       "1   NaN      NaN          NaN  NaN  NaN  NaN  NaN NaN   NaN         NaN   \n",
       "2   NaN      NaN          NaN  NaN  NaN  NaN  NaN NaN   NaN         NaN   \n",
       "3   NaN      NaN          NaN  NaN  NaN  NaN  NaN NaN   NaN         NaN   \n",
       "4   NaN      NaN          NaN  NaN  NaN  NaN  NaN NaN   NaN         NaN   \n",
       "\n",
       "  num_gos num_nogos suspicious suspicious_type  \n",
       "0     NaN       NaN        NaN             NaN  \n",
       "1     NaN       NaN        NaN             NaN  \n",
       "2     NaN       NaN        NaN             NaN  \n",
       "3     NaN       NaN        NaN             NaN  \n",
       "4     NaN       NaN        NaN             NaN  "
      ]
     },
     "execution_count": 140,
     "metadata": {},
     "output_type": "execute_result"
    }
   ],
   "source": [
    "first_session_raw_data = pd.read_csv('Data/gono-go-game-first-round.csv', index_col=0).reset_index()\n",
    "# first_session_raw_data = first_session_raw_data[first_session_raw_data['recorded_at'] > '2022-01-18']\n",
    "\n",
    "num_all_experimenters = len(first_session_raw_data.mturkID.unique())\n",
    "num_excluded_experimenters = 0\n",
    "\n",
    "first_session_raw_data['correct'] = first_session_raw_data.correct == 'true'\n",
    "first_session_raw_data.head()"
   ]
  },
  {
   "cell_type": "code",
   "execution_count": 141,
   "metadata": {},
   "outputs": [
    {
     "data": {
      "text/plain": [
       "233"
      ]
     },
     "execution_count": 141,
     "metadata": {},
     "output_type": "execute_result"
    }
   ],
   "source": [
    "len(first_session_raw_data.mturkID.unique())"
   ]
  },
  {
   "cell_type": "code",
   "execution_count": 142,
   "metadata": {},
   "outputs": [],
   "source": [
    "# for i in list(set(first_session_clean_data.mturkID.unique()) - set(susp.mturkID.value_counts()[ (susp.mturkID.value_counts() == 3) ].index)):\n",
    "#     print(i)"
   ]
  },
  {
   "cell_type": "markdown",
   "metadata": {},
   "source": [
    "# Apply exclusion criteria"
   ]
  },
  {
   "cell_type": "markdown",
   "metadata": {},
   "source": [
    "1. Fail the quiz of instructions more than twice.\n",
    "2. Change the tab or window of the experiment."
   ]
  },
  {
   "cell_type": "code",
   "execution_count": 143,
   "metadata": {},
   "outputs": [
    {
     "name": "stdout",
     "output_type": "stream",
     "text": [
      "Number of participants excluded by this criterias: 31\n"
     ]
    }
   ],
   "source": [
    "first_session_clean_data = first_session_raw_data[(first_session_raw_data.exp_final_status == 'fully_completed')]\n",
    "\n",
    "num_excluded_experimenters = len(first_session_raw_data.mturkID.unique()) - len(first_session_clean_data.mturkID.unique())\n",
    "\n",
    "print(\"Number of participants excluded by this criterias:\", num_excluded_experimenters)"
   ]
  },
  {
   "cell_type": "markdown",
   "metadata": {},
   "source": [
    "3. Respond randomly, always go or never go.\n",
    "\n",
    "    * Note: We exclude who repond randomly, always go or nogo in each 3 block"
   ]
  },
  {
   "cell_type": "code",
   "execution_count": 144,
   "metadata": {},
   "outputs": [
    {
     "data": {
      "text/plain": [
       "(202,)"
      ]
     },
     "execution_count": 144,
     "metadata": {},
     "output_type": "execute_result"
    }
   ],
   "source": [
    "first_session_clean_data.mturkID.unique().shape"
   ]
  },
  {
   "cell_type": "code",
   "execution_count": 145,
   "metadata": {},
   "outputs": [
    {
     "name": "stdout",
     "output_type": "stream",
     "text": [
      "Number of participants excluded by this criterias: 12\n"
     ]
    }
   ],
   "source": [
    "IDs_for_exclusion_by_random_response = []\n",
    "IDs_for_exclusion_by_random_response = list(susp.mturkID.value_counts()[ (susp.mturkID.value_counts() == 3) ].index)\n",
    "\n",
    "\n",
    "\n",
    "num_excluded_experimenters += len(IDs_for_exclusion_by_random_response)\n",
    "\n",
    "first_session_clean_data = first_session_clean_data[first_session_clean_data.isin(IDs_for_exclusion_by_random_response) == False]\n",
    "\n",
    "print(\"Number of participants excluded by this criterias:\", len(IDs_for_exclusion_by_random_response))\n"
   ]
  },
  {
   "cell_type": "markdown",
   "metadata": {},
   "source": [
    "4. Their rate of the correct response to detection of circle side task is less than 55%."
   ]
  },
  {
   "cell_type": "code",
   "execution_count": 146,
   "metadata": {},
   "outputs": [],
   "source": [
    "circle_side_correctness = first_session_clean_data[first_session_clean_data.choice == 'go'][['mturkID','side', 'response']]\n",
    "circle_side_correctness['is_correct_circle_side'] =  (circle_side_correctness.side == circle_side_correctness.response)\n",
    "accuracy_data = circle_side_correctness.groupby('mturkID').mean().reset_index()\n",
    "accuracy_data.columns = ['mturkID', 'rate']\n",
    "accuracy_data['is_below_55'] = accuracy_data.rate < 0.55\n"
   ]
  },
  {
   "cell_type": "code",
   "execution_count": 147,
   "metadata": {},
   "outputs": [
    {
     "name": "stdout",
     "output_type": "stream",
     "text": [
      "Number of participants excluded by this criterias: 44\n"
     ]
    }
   ],
   "source": [
    "non_accurate_IDs = accuracy_data[accuracy_data.is_below_55].mturkID\n",
    "\n",
    "num_excluded_experimenters += len(non_accurate_IDs)\n",
    "\n",
    "first_session_clean_data = first_session_clean_data[first_session_clean_data.isin(list(non_accurate_IDs)) == False]\n",
    "print(\"Number of participants excluded by this criterias:\", len(non_accurate_IDs))\n",
    "\n"
   ]
  },
  {
   "cell_type": "markdown",
   "metadata": {},
   "source": [
    "# Plot Perforance per conditions"
   ]
  },
  {
   "cell_type": "code",
   "execution_count": 148,
   "metadata": {},
   "outputs": [
    {
     "name": "stderr",
     "output_type": "stream",
     "text": [
      "/var/folders/5p/j5wvkpqj2_n5r5h100pdscbr0000gn/T/ipykernel_61727/1135958102.py:5: SettingWithCopyWarning: \n",
      "A value is trying to be set on a copy of a slice from a DataFrame.\n",
      "Try using .loc[row_indexer,col_indexer] = value instead\n",
      "\n",
      "See the caveats in the documentation: https://pandas.pydata.org/pandas-docs/stable/user_guide/indexing.html#returning-a-view-versus-a-copy\n",
      "  circle_task_logs['correct_action'] = (circle_task_logs.choice == circle_task_logs.cond_action)\n"
     ]
    },
    {
     "data": {
      "image/png": "[encoded data removed]",
      "text/plain": [
       "<Figure size 360x360 with 1 Axes>"
      ]
     },
     "metadata": {},
     "output_type": "display_data"
    }
   ],
   "source": [
    "mapping = {'1': 'go2win', '2': 'nogo2win', '3': 'go2avoidPun', '4' : 'nogo2avoidPun'} \n",
    "\n",
    "circle_task_logs = first_session_clean_data[first_session_clean_data.exp_stage == 'main_target_detection']\n",
    "\n",
    "circle_task_logs['correct_action'] = (circle_task_logs.choice == circle_task_logs.cond_action)\n",
    "performance_per_condition = circle_task_logs.groupby(['mturkID','cond']).mean().reset_index()\n",
    "performance_per_condition.cond = performance_per_condition.cond.map(mapping)\n",
    "\n",
    "ax = sns.catplot(x=\"cond\", y=\"correct\", data=performance_per_condition, order= ['go2win','go2avoidPun' ,'nogo2win', 'nogo2avoidPun']);\n",
    "ax = sns.boxplot(x=\"cond\", y=\"correct\", data= performance_per_condition, boxprops=dict(alpha=.1), order= ['go2win','go2avoidPun' ,'nogo2win', 'nogo2avoidPun']);\n",
    "\n",
    "ax.set(xlabel=\"Condition\", ylabel = \"Overall Accuracy\", title = 'Total Performance per Condition')\n",
    "plt.show()\n"
   ]
  },
  {
   "cell_type": "code",
   "execution_count": 149,
   "metadata": {},
   "outputs": [
    {
     "data": {
      "text/plain": [
       "<AxesSubplot:ylabel='Frequency'>"
      ]
     },
     "execution_count": 149,
     "metadata": {},
     "output_type": "execute_result"
    },
    {
     "data": {
      "image/png": "[encoded data removed]",
      "text/plain": [
       "<Figure size 432x288 with 1 Axes>"
      ]
     },
     "metadata": {},
     "output_type": "display_data"
    }
   ],
   "source": [
    "performance_per_condition[performance_per_condition.cond == 'nogo2win'].correct.plot(kind='hist', bins = 20)"
   ]
  },
  {
   "cell_type": "markdown",
   "metadata": {},
   "source": [
    "# Extract demographic data"
   ]
  },
  {
   "cell_type": "code",
   "execution_count": 150,
   "metadata": {},
   "outputs": [
    {
     "data": {
      "text/html": [
       "<div>\n",
       "<style scoped>\n",
       "    .dataframe tbody tr th:only-of-type {\n",
       "        vertical-align: middle;\n",
       "    }\n",
       "\n",
       "    .dataframe tbody tr th {\n",
       "        vertical-align: top;\n",
       "    }\n",
       "\n",
       "    .dataframe thead th {\n",
       "        text-align: right;\n",
       "    }\n",
       "</style>\n",
       "<table border=\"1\" class=\"dataframe\">\n",
       "  <thead>\n",
       "    <tr style=\"text-align: right;\">\n",
       "      <th></th>\n",
       "      <th>mturkID</th>\n",
       "      <th>gender</th>\n",
       "      <th>age</th>\n",
       "      <th>education_level</th>\n",
       "      <th>comments</th>\n",
       "    </tr>\n",
       "  </thead>\n",
       "  <tbody>\n",
       "    <tr>\n",
       "      <th>859</th>\n",
       "      <td>A8028AFBBS29G</td>\n",
       "      <td>female</td>\n",
       "      <td>66</td>\n",
       "      <td>High</td>\n",
       "      <td>Yes I wanted to remember which to push and whi...</td>\n",
       "    </tr>\n",
       "    <tr>\n",
       "      <th>2560</th>\n",
       "      <td>A1FVXS8IM5QYO8</td>\n",
       "      <td>female</td>\n",
       "      <td>55</td>\n",
       "      <td>High</td>\n",
       "      <td>This was a really interesting task</td>\n",
       "    </tr>\n",
       "    <tr>\n",
       "      <th>3367</th>\n",
       "      <td>AD1WGUMVD6KED</td>\n",
       "      <td>female</td>\n",
       "      <td>39</td>\n",
       "      <td>High</td>\n",
       "      <td>Everything was straight forward and ran smooth...</td>\n",
       "    </tr>\n",
       "    <tr>\n",
       "      <th>4174</th>\n",
       "      <td>A353XKDTUX10NC</td>\n",
       "      <td>male</td>\n",
       "      <td>27</td>\n",
       "      <td>High</td>\n",
       "      <td>}</td>\n",
       "    </tr>\n",
       "    <tr>\n",
       "      <th>4991</th>\n",
       "      <td>NaN</td>\n",
       "      <td>male</td>\n",
       "      <td>33</td>\n",
       "      <td>Bachelor</td>\n",
       "      <td>n/a</td>\n",
       "    </tr>\n",
       "  </tbody>\n",
       "</table>\n",
       "</div>"
      ],
      "text/plain": [
       "             mturkID  gender age education_level  \\\n",
       "859    A8028AFBBS29G  female  66            High   \n",
       "2560  A1FVXS8IM5QYO8  female  55            High   \n",
       "3367   AD1WGUMVD6KED  female  39            High   \n",
       "4174  A353XKDTUX10NC    male  27            High   \n",
       "4991             NaN    male  33        Bachelor   \n",
       "\n",
       "                                               comments  \n",
       "859   Yes I wanted to remember which to push and whi...  \n",
       "2560                 This was a really interesting task  \n",
       "3367  Everything was straight forward and ran smooth...  \n",
       "4174                                                  }  \n",
       "4991                                                n/a  "
      ]
     },
     "execution_count": 150,
     "metadata": {},
     "output_type": "execute_result"
    }
   ],
   "source": [
    "raw_demographic_data = first_session_clean_data[first_session_clean_data.trial_type == 'survey-html-form'][['mturkID', 'response']]\n",
    "raw_demographic_data['gender'] = raw_demographic_data.response.apply(lambda x: x.split('\"')[3])\n",
    "raw_demographic_data['age'] = raw_demographic_data.response.apply(lambda x: x.split('\"')[7])\n",
    "raw_demographic_data['education_level'] = raw_demographic_data.response.apply(lambda x: x.split('\"')[11])\n",
    "raw_demographic_data['comments'] = raw_demographic_data.response.apply(lambda x: x.split('\"')[15])\n",
    "raw_demographic_data = raw_demographic_data.drop(['response'], axis=1)\n",
    "raw_demographic_data.head()"
   ]
  },
  {
   "cell_type": "markdown",
   "metadata": {},
   "source": [
    "# Create final data to analyze"
   ]
  },
  {
   "cell_type": "code",
   "execution_count": 151,
   "metadata": {},
   "outputs": [
    {
     "data": {
      "text/html": [
       "<div>\n",
       "<style scoped>\n",
       "    .dataframe tbody tr th:only-of-type {\n",
       "        vertical-align: middle;\n",
       "    }\n",
       "\n",
       "    .dataframe tbody tr th {\n",
       "        vertical-align: top;\n",
       "    }\n",
       "\n",
       "    .dataframe thead th {\n",
       "        text-align: right;\n",
       "    }\n",
       "</style>\n",
       "<table border=\"1\" class=\"dataframe\">\n",
       "  <thead>\n",
       "    <tr style=\"text-align: right;\">\n",
       "      <th></th>\n",
       "      <th>mturkID</th>\n",
       "      <th>go2avoidPun_first_session</th>\n",
       "      <th>go2win_first_session</th>\n",
       "      <th>nogo2avoidPun_first_session</th>\n",
       "      <th>nogo2win_first_session</th>\n",
       "      <th>circle_side_performance_first_session</th>\n",
       "      <th>is_below_55_first_session</th>\n",
       "      <th>gender_first_session</th>\n",
       "      <th>age_first_session</th>\n",
       "      <th>education_level_first_session</th>\n",
       "      <th>comments_first_session</th>\n",
       "    </tr>\n",
       "  </thead>\n",
       "  <tbody>\n",
       "    <tr>\n",
       "      <th>0</th>\n",
       "      <td>A10BH9PYCYUKDJ</td>\n",
       "      <td>0.100000</td>\n",
       "      <td>1.000000</td>\n",
       "      <td>0.833333</td>\n",
       "      <td>0.300000</td>\n",
       "      <td>0.983871</td>\n",
       "      <td>False</td>\n",
       "      <td>female</td>\n",
       "      <td>41</td>\n",
       "      <td>Associate</td>\n",
       "      <td>None</td>\n",
       "    </tr>\n",
       "    <tr>\n",
       "      <th>1</th>\n",
       "      <td>A10JXOU89D5RXR</td>\n",
       "      <td>0.800000</td>\n",
       "      <td>1.000000</td>\n",
       "      <td>0.833333</td>\n",
       "      <td>0.000000</td>\n",
       "      <td>1.000000</td>\n",
       "      <td>False</td>\n",
       "      <td>female</td>\n",
       "      <td>60</td>\n",
       "      <td>Bachelor</td>\n",
       "      <td>none</td>\n",
       "    </tr>\n",
       "    <tr>\n",
       "      <th>2</th>\n",
       "      <td>A10M63DSIGIEDI</td>\n",
       "      <td>0.466667</td>\n",
       "      <td>0.633333</td>\n",
       "      <td>0.000000</td>\n",
       "      <td>0.033333</td>\n",
       "      <td>0.610687</td>\n",
       "      <td>False</td>\n",
       "      <td>male</td>\n",
       "      <td>25</td>\n",
       "      <td>Bachelor</td>\n",
       "      <td>None</td>\n",
       "    </tr>\n",
       "    <tr>\n",
       "      <th>3</th>\n",
       "      <td>A11S8IAAVDXCUS</td>\n",
       "      <td>0.733333</td>\n",
       "      <td>1.000000</td>\n",
       "      <td>0.966667</td>\n",
       "      <td>0.033333</td>\n",
       "      <td>1.000000</td>\n",
       "      <td>False</td>\n",
       "      <td>female</td>\n",
       "      <td>31</td>\n",
       "      <td>Associate</td>\n",
       "      <td>}</td>\n",
       "    </tr>\n",
       "    <tr>\n",
       "      <th>4</th>\n",
       "      <td>A12FTSX85NQ8N9</td>\n",
       "      <td>0.566667</td>\n",
       "      <td>0.500000</td>\n",
       "      <td>0.866667</td>\n",
       "      <td>0.866667</td>\n",
       "      <td>0.895833</td>\n",
       "      <td>False</td>\n",
       "      <td>male</td>\n",
       "      <td>29</td>\n",
       "      <td>Bachelor</td>\n",
       "      <td>}</td>\n",
       "    </tr>\n",
       "  </tbody>\n",
       "</table>\n",
       "</div>"
      ],
      "text/plain": [
       "          mturkID  go2avoidPun_first_session  go2win_first_session  \\\n",
       "0  A10BH9PYCYUKDJ                   0.100000              1.000000   \n",
       "1  A10JXOU89D5RXR                   0.800000              1.000000   \n",
       "2  A10M63DSIGIEDI                   0.466667              0.633333   \n",
       "3  A11S8IAAVDXCUS                   0.733333              1.000000   \n",
       "4  A12FTSX85NQ8N9                   0.566667              0.500000   \n",
       "\n",
       "   nogo2avoidPun_first_session  nogo2win_first_session  \\\n",
       "0                     0.833333                0.300000   \n",
       "1                     0.833333                0.000000   \n",
       "2                     0.000000                0.033333   \n",
       "3                     0.966667                0.033333   \n",
       "4                     0.866667                0.866667   \n",
       "\n",
       "   circle_side_performance_first_session  is_below_55_first_session  \\\n",
       "0                               0.983871                      False   \n",
       "1                               1.000000                      False   \n",
       "2                               0.610687                      False   \n",
       "3                               1.000000                      False   \n",
       "4                               0.895833                      False   \n",
       "\n",
       "  gender_first_session age_first_session education_level_first_session  \\\n",
       "0               female                41                     Associate   \n",
       "1               female                60                      Bachelor   \n",
       "2                 male                25                      Bachelor   \n",
       "3               female                31                     Associate   \n",
       "4                 male                29                      Bachelor   \n",
       "\n",
       "  comments_first_session  \n",
       "0                   None  \n",
       "1                   none  \n",
       "2                   None  \n",
       "3                      }  \n",
       "4                      }  "
      ]
     },
     "execution_count": 151,
     "metadata": {},
     "output_type": "execute_result"
    }
   ],
   "source": [
    "final_performace_data = performance_per_condition.pivot(index='mturkID', columns='cond', values='correct').reset_index()\n",
    "\n",
    "final_performace_data = pd.merge(final_performace_data, accuracy_data, on='mturkID', how='left')\n",
    "final_performace_data = pd.merge(final_performace_data, raw_demographic_data, on='mturkID')\n",
    "final_performace_data.columns = ['mturkID', 'go2avoidPun_first_session', 'go2win_first_session', 'nogo2avoidPun_first_session', 'nogo2win_first_session', 'circle_side_performance_first_session',\\\n",
    "       'is_below_55_first_session', 'gender_first_session', 'age_first_session', 'education_level_first_session', 'comments_first_session']\n",
    "\n",
    "final_performace_data.head()"
   ]
  },
  {
   "cell_type": "code",
   "execution_count": 152,
   "metadata": {},
   "outputs": [
    {
     "data": {
      "text/plain": [
       "male      83\n",
       "female    59\n",
       "other      4\n",
       "Name: gender_first_session, dtype: int64"
      ]
     },
     "execution_count": 152,
     "metadata": {},
     "output_type": "execute_result"
    }
   ],
   "source": [
    "final_performace_data['gender_first_session'].value_counts()"
   ]
  },
  {
   "cell_type": "code",
   "execution_count": 153,
   "metadata": {},
   "outputs": [
    {
     "data": {
      "text/plain": [
       "(15, 11)"
      ]
     },
     "execution_count": 153,
     "metadata": {},
     "output_type": "execute_result"
    }
   ],
   "source": [
    "below_50_g2w_df = final_performace_data[final_performace_data.go2win_first_session < 0.5]\n",
    "below_50_g2w_df.shape"
   ]
  },
  {
   "cell_type": "code",
   "execution_count": 154,
   "metadata": {},
   "outputs": [
    {
     "data": {
      "text/plain": [
       "<AxesSubplot:xlabel='go2win_first_session', ylabel='nogo2avoidPun_first_session'>"
      ]
     },
     "execution_count": 154,
     "metadata": {},
     "output_type": "execute_result"
    },
    {
     "data": {
      "image/png": "[encoded data removed]",
      "text/plain": [
       "<Figure size 432x288 with 1 Axes>"
      ]
     },
     "metadata": {},
     "output_type": "display_data"
    }
   ],
   "source": [
    "sns.scatterplot( x = 'go2win_first_session', y = 'nogo2avoidPun_first_session', data = below_50_g2w_df)"
   ]
  },
  {
   "cell_type": "code",
   "execution_count": 155,
   "metadata": {},
   "outputs": [
    {
     "data": {
      "text/plain": [
       "<AxesSubplot:>"
      ]
     },
     "execution_count": 155,
     "metadata": {},
     "output_type": "execute_result"
    },
    {
     "data": {
      "image/png": "[encoded data removed]",
      "text/plain": [
       "<Figure size 432x288 with 1 Axes>"
      ]
     },
     "metadata": {},
     "output_type": "display_data"
    }
   ],
   "source": [
    "sns.regplot( x = final_performace_data['nogo2win_first_session'] - final_performace_data['go2win_first_session'],\n",
    "             y = final_performace_data['nogo2avoidPun_first_session'] - final_performace_data['go2win_first_session'])"
   ]
  },
  {
   "cell_type": "code",
   "execution_count": 156,
   "metadata": {},
   "outputs": [
    {
     "data": {
      "text/plain": [
       "<AxesSubplot:xlabel='nogo2win_first_session'>"
      ]
     },
     "execution_count": 156,
     "metadata": {},
     "output_type": "execute_result"
    },
    {
     "data": {
      "image/png": "[encoded data removed]",
      "text/plain": [
       "<Figure size 432x288 with 1 Axes>"
      ]
     },
     "metadata": {},
     "output_type": "display_data"
    }
   ],
   "source": [
    "overall_performance =  final_performace_data['nogo2win_first_session'] + \\\n",
    "                        final_performace_data['go2win_first_session'] + \\\n",
    "                        final_performace_data['nogo2avoidPun_first_session'] + \\\n",
    "                        final_performace_data['go2avoidPun_first_session']\n",
    "final_performace_data['overall_performance'] = overall_performance/4\n",
    "\n",
    "sns.regplot( x = final_performace_data['nogo2win_first_session'],\n",
    "             y = overall_performance)\n",
    "\n",
    "             "
   ]
  },
  {
   "cell_type": "code",
   "execution_count": 157,
   "metadata": {},
   "outputs": [
    {
     "data": {
      "text/plain": [
       "<AxesSubplot:xlabel='nogo2avoidPun_first_session'>"
      ]
     },
     "execution_count": 157,
     "metadata": {},
     "output_type": "execute_result"
    },
    {
     "data": {
      "image/png": "[encoded data removed]",
      "text/plain": [
       "<Figure size 432x288 with 1 Axes>"
      ]
     },
     "metadata": {},
     "output_type": "display_data"
    }
   ],
   "source": [
    "sns.regplot( x = final_performace_data['nogo2avoidPun_first_session'],\n",
    "             y = overall_performance)"
   ]
  },
  {
   "cell_type": "code",
   "execution_count": 158,
   "metadata": {},
   "outputs": [
    {
     "data": {
      "text/plain": [
       "(0.5232120181104403, 1.241447138938456e-11)"
      ]
     },
     "execution_count": 158,
     "metadata": {},
     "output_type": "execute_result"
    }
   ],
   "source": [
    "# np.corrcoef(final_performace_data['nogo2win_first_session'] - final_performace_data['go2win_first_session'], final_performace_data['nogo2avoidPun_first_session'] - final_performace_data['go2win_first_session'])\n",
    "\n",
    "stats.pearsonr(final_performace_data['nogo2win_first_session'] - final_performace_data['go2win_first_session'], final_performace_data['nogo2avoidPun_first_session'] - final_performace_data['go2win_first_session'])"
   ]
  },
  {
   "cell_type": "code",
   "execution_count": 159,
   "metadata": {},
   "outputs": [
    {
     "data": {
      "text/plain": [
       "<AxesSubplot:xlabel='go2win_first_session', ylabel='nogo2avoidPun_first_session'>"
      ]
     },
     "execution_count": 159,
     "metadata": {},
     "output_type": "execute_result"
    },
    {
     "data": {
      "image/png": "[encoded data removed]",
      "text/plain": [
       "<Figure size 432x288 with 1 Axes>"
      ]
     },
     "metadata": {},
     "output_type": "display_data"
    }
   ],
   "source": [
    "sns.regplot( x = final_performace_data['go2win_first_session'] ,\n",
    "             y = final_performace_data['nogo2avoidPun_first_session'] )"
   ]
  },
  {
   "cell_type": "code",
   "execution_count": 160,
   "metadata": {},
   "outputs": [
    {
     "data": {
      "text/plain": [
       "not_learned    73\n",
       "learned        73\n",
       "Name: is_learned, dtype: int64"
      ]
     },
     "execution_count": 160,
     "metadata": {},
     "output_type": "execute_result"
    }
   ],
   "source": [
    "final_performace_data['is_learned'] = final_performace_data.overall_performance > 0.65\n",
    "final_performace_data['is_learned'] = final_performace_data['is_learned'].replace({True:'learned', False:'not_learned'})\n",
    "final_performace_data['is_learned'].value_counts()"
   ]
  },
  {
   "cell_type": "code",
   "execution_count": 162,
   "metadata": {},
   "outputs": [
    {
     "data": {
      "text/plain": [
       "Text(0.5, 1.0, 'nogo2avoidPun')"
      ]
     },
     "execution_count": 162,
     "metadata": {},
     "output_type": "execute_result"
    },
    {
     "data": {
      "image/png": "[encoded data removed]",
      "text/plain": [
       "<Figure size 720x720 with 4 Axes>"
      ]
     },
     "metadata": {},
     "output_type": "display_data"
    }
   ],
   "source": [
    "fig, axs = plt.subplots(ncols=2, nrows = 2, figsize=(10,10))\n",
    "\n",
    "plt.ylim(0, 1)\n",
    "sns.barplot(x=\"is_learned\", y=\"nogo2win_first_session\", \n",
    "# title = 'Performance of Nogo2Win',\n",
    "# hue=\"is_learned\",\n",
    "#  kind=\"bar\",\n",
    " data=final_performace_data,\n",
    "#  height=4, aspect=11.7/8.27, \n",
    " palette=\"muted\", ax = axs[(1,1)]).set_title('Nogo2Win')\n",
    "\n",
    "sns.barplot(x=\"is_learned\", y=\"go2win_first_session\", \n",
    "\n",
    " data=final_performace_data,\n",
    "#  height=4, aspect=11.7/8.27, \n",
    " palette=\"muted\", ax = axs[(0,1)]).set_title('go2Win')\n",
    "\n",
    "\n",
    "sns.barplot(x=\"is_learned\", y=\"go2avoidPun_first_session\", \n",
    "\n",
    " data=final_performace_data,\n",
    "#  height=4, aspect=11.7/8.27, \n",
    " palette=\"muted\", ax = axs[(0,0)]).set_title('go2avoidPun')\n",
    "\n",
    "\n",
    "sns.barplot(x=\"is_learned\", y=\"nogo2avoidPun_first_session\", \n",
    "\n",
    " data=final_performace_data,\n",
    "#  height=4, aspect=11.7/8.27, \n",
    " palette=\"muted\", ax = axs[(1,0)]).set_title('nogo2avoidPun')\n",
    "\n"
   ]
  },
  {
   "cell_type": "code",
   "execution_count": 137,
   "metadata": {},
   "outputs": [],
   "source": [
    "final_performace_data.to_csv('Data/first_round_final_performance.csv')"
   ]
  },
  {
   "cell_type": "code",
   "execution_count": null,
   "metadata": {},
   "outputs": [],
   "source": []
  }
 ],
 "metadata": {
  "interpreter": {
   "hash": "b0fa6594d8f4cbf19f97940f81e996739fb7646882a419484c72d19e05852a7e"
  },
  "kernelspec": {
   "display_name": "Python 3.9.6 64-bit",
   "language": "python",
   "name": "python3"
  },
  "language_info": {
   "codemirror_mode": {
    "name": "ipython",
    "version": 3
   },
   "file_extension": ".py",
   "mimetype": "text/x-python",
   "name": "python",
   "nbconvert_exporter": "python",
   "pygments_lexer": "ipython3",
   "version": "3.9.10"
  },
  "orig_nbformat": 4
 },
 "nbformat": 4,
 "nbformat_minor": 2
}
