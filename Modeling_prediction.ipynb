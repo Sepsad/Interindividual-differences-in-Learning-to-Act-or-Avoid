{
 "cells": [
  {
   "cell_type": "code",
   "execution_count": 98,
   "metadata": {},
   "outputs": [],
   "source": [
    "import sys\n",
    "sys.path.insert(1, './Go-noGo-modelling/')\n",
    "\n",
    "import pandas as pd\n",
    "import numpy as np\n",
    "import matplotlib.pyplot as plt\n",
    "from agent import run_experiment, Bandit, Agent\n",
    "bandit = Bandit()\n",
    "\n",
    "import seaborn as sns\n"
   ]
  },
  {
   "cell_type": "code",
   "execution_count": 99,
   "metadata": {},
   "outputs": [],
   "source": [
    "first_experiment_goprob_df = pd.read_csv(\"Regret/EXPERIMENT_goProb.csv\",index_col= 0)"
   ]
  },
  {
   "cell_type": "code",
   "execution_count": 101,
   "metadata": {},
   "outputs": [
    {
     "data": {
      "text/html": [
       "<div>\n",
       "<style scoped>\n",
       "    .dataframe tbody tr th:only-of-type {\n",
       "        vertical-align: middle;\n",
       "    }\n",
       "\n",
       "    .dataframe tbody tr th {\n",
       "        vertical-align: top;\n",
       "    }\n",
       "\n",
       "    .dataframe thead th {\n",
       "        text-align: right;\n",
       "    }\n",
       "</style>\n",
       "<table border=\"1\" class=\"dataframe\">\n",
       "  <thead>\n",
       "    <tr style=\"text-align: right;\">\n",
       "      <th></th>\n",
       "      <th>outcome_before</th>\n",
       "      <th>go_prob</th>\n",
       "      <th>mturkID</th>\n",
       "    </tr>\n",
       "  </thead>\n",
       "  <tbody>\n",
       "    <tr>\n",
       "      <th>0</th>\n",
       "      <td>-1</td>\n",
       "      <td>0.566667</td>\n",
       "      <td>A10BH9PYCYUKDJ</td>\n",
       "    </tr>\n",
       "    <tr>\n",
       "      <th>1</th>\n",
       "      <td>0</td>\n",
       "      <td>0.574074</td>\n",
       "      <td>A10BH9PYCYUKDJ</td>\n",
       "    </tr>\n",
       "    <tr>\n",
       "      <th>2</th>\n",
       "      <td>1</td>\n",
       "      <td>0.285714</td>\n",
       "      <td>A10BH9PYCYUKDJ</td>\n",
       "    </tr>\n",
       "    <tr>\n",
       "      <th>3</th>\n",
       "      <td>-1</td>\n",
       "      <td>0.807692</td>\n",
       "      <td>A10JXOU89D5RXR</td>\n",
       "    </tr>\n",
       "    <tr>\n",
       "      <th>4</th>\n",
       "      <td>0</td>\n",
       "      <td>0.746269</td>\n",
       "      <td>A10JXOU89D5RXR</td>\n",
       "    </tr>\n",
       "    <tr>\n",
       "      <th>...</th>\n",
       "      <td>...</td>\n",
       "      <td>...</td>\n",
       "      <td>...</td>\n",
       "    </tr>\n",
       "    <tr>\n",
       "      <th>433</th>\n",
       "      <td>0</td>\n",
       "      <td>0.590909</td>\n",
       "      <td>AZ69TBTDH7AZS</td>\n",
       "    </tr>\n",
       "    <tr>\n",
       "      <th>434</th>\n",
       "      <td>1</td>\n",
       "      <td>0.379310</td>\n",
       "      <td>AZ69TBTDH7AZS</td>\n",
       "    </tr>\n",
       "    <tr>\n",
       "      <th>435</th>\n",
       "      <td>-1</td>\n",
       "      <td>0.620690</td>\n",
       "      <td>AZCGSVDT79E6X</td>\n",
       "    </tr>\n",
       "    <tr>\n",
       "      <th>436</th>\n",
       "      <td>0</td>\n",
       "      <td>0.616667</td>\n",
       "      <td>AZCGSVDT79E6X</td>\n",
       "    </tr>\n",
       "    <tr>\n",
       "      <th>437</th>\n",
       "      <td>1</td>\n",
       "      <td>0.700000</td>\n",
       "      <td>AZCGSVDT79E6X</td>\n",
       "    </tr>\n",
       "  </tbody>\n",
       "</table>\n",
       "<p>438 rows × 3 columns</p>\n",
       "</div>"
      ],
      "text/plain": [
       "     outcome_before   go_prob         mturkID\n",
       "0                -1  0.566667  A10BH9PYCYUKDJ\n",
       "1                 0  0.574074  A10BH9PYCYUKDJ\n",
       "2                 1  0.285714  A10BH9PYCYUKDJ\n",
       "3                -1  0.807692  A10JXOU89D5RXR\n",
       "4                 0  0.746269  A10JXOU89D5RXR\n",
       "..              ...       ...             ...\n",
       "433               0  0.590909   AZ69TBTDH7AZS\n",
       "434               1  0.379310   AZ69TBTDH7AZS\n",
       "435              -1  0.620690   AZCGSVDT79E6X\n",
       "436               0  0.616667   AZCGSVDT79E6X\n",
       "437               1  0.700000   AZCGSVDT79E6X\n",
       "\n",
       "[438 rows x 3 columns]"
      ]
     },
     "execution_count": 101,
     "metadata": {},
     "output_type": "execute_result"
    }
   ],
   "source": [
    "outcome_descriptive = {\"lose\": -1, \"neutral\": 0, \"win\" : 1}\n",
    "\n",
    "first_experiment_goprob_df = first_experiment_goprob_df.replace({\"outcome_before\": outcome_descriptive})\n",
    "first_experiment_goprob_df"
   ]
  },
  {
   "cell_type": "code",
   "execution_count": 10,
   "metadata": {},
   "outputs": [],
   "source": [
    "def calc_go_prob(a):\n",
    "\n",
    "    return sum(a.action == 'go') / a.shape[0]"
   ]
  },
  {
   "cell_type": "code",
   "execution_count": 11,
   "metadata": {},
   "outputs": [],
   "source": [
    "model_dict = {\n",
    "    \"llba\":\"RW\",\n",
    "    \"llbax\": \"RW + noise\",\n",
    "    \"llbaxb\": \"RW + noise + bias\",\n",
    "    \"llbaepxb\": \"RW + noise + bias + Pav\",\n",
    "    \"ll2baxb\":\"RW(rew/pun) + noise + bias\",\n",
    "    \"ll2baepxb\":\"RW(rew/pun) + noise + bias + Pav\",\n",
    "    \"ll2baepcxb\" : \"RW(rew/pun) + noise + bias + Pav(const)\",\n",
    "}"
   ]
  },
  {
   "cell_type": "markdown",
   "metadata": {},
   "source": [
    "# LLBA"
   ]
  },
  {
   "cell_type": "code",
   "execution_count": 12,
   "metadata": {},
   "outputs": [],
   "source": []
  },
  {
   "cell_type": "code",
   "execution_count": 32,
   "metadata": {},
   "outputs": [
    {
     "data": {
      "image/png": "[encoded data removed]",
      "text/plain": [
       "<Figure size 432x288 with 1 Axes>"
      ]
     },
     "metadata": {
      "needs_background": "light"
     },
     "output_type": "display_data"
    }
   ],
   "source": [
    "from matplotlib.pyplot import errorbar\n",
    "\n",
    "\n",
    "participant_parameters = pd.read_csv(\"Modeling results data/first_llba.csv\")\n",
    "all_dfs = []\n",
    "\n",
    "for i,row in participant_parameters.iterrows():\n",
    "    df = run_experiment(bandit, n_runs=30, params={'alpha': row.alpha, 'beta': row.beta, 'noise': 0, 'bias': 0, 'Pav': 0}, beta2=False)\n",
    "    df_subject = pd.DataFrame()\n",
    "    a = df\n",
    "    a['outcome_before'] = a.reward.shift(1)\n",
    "    df_subject['go_prob'] = a.groupby('outcome_before').apply(calc_go_prob)\n",
    "    df_subject = df_subject.reset_index()\n",
    "    df_subject['mturkID'] = row.mturkID\n",
    "    all_dfs.append(df_subject)\n",
    "datafram_go_prob_pun = pd.concat(all_dfs)\n",
    "\n",
    "\n",
    "\n",
    "\n",
    "datafram_go_prob_pun = datafram_go_prob_pun.replace({\"outcome_before\": outcome_descriptive})\n",
    "\n",
    "ax = sns.pointplot(x=\"outcome_before\", y=\"go_prob\",\n",
    "                data= datafram_go_prob_pun,\n",
    "                ci = None,\n",
    "                markers= \"*\",\n",
    "                join= False\n",
    "                ) \n",
    "ax = sns.pointplot(\n",
    "                    # data=datafram_go_prob_pun,\n",
    "                    data= first_experiment_goprob_df,\n",
    "                     x=\"outcome_before\", y=\"go_prob\",\n",
    "                     errorbar=('ci', 95),\n",
    "                    join=False, \n",
    "                    capsize=.1,\n",
    "                    legend=True)\n",
    "\n",
    "ax.set(\n",
    "    # ylim=(0, 0.7),\n",
    "    xlabel=\"Outcome of t-1\", \n",
    "    ylabel = \"Go probability in trial t\", \n",
    "    title = model_dict['llba'])\n",
    "plt.show()\n",
    "    "
   ]
  },
  {
   "cell_type": "markdown",
   "metadata": {},
   "source": [
    "# llbax"
   ]
  },
  {
   "cell_type": "code",
   "execution_count": 33,
   "metadata": {},
   "outputs": [
    {
     "data": {
      "image/png": "[encoded data removed]",
      "text/plain": [
       "<Figure size 432x288 with 1 Axes>"
      ]
     },
     "metadata": {
      "needs_background": "light"
     },
     "output_type": "display_data"
    }
   ],
   "source": [
    "participant_parameters = pd.read_csv(\"Modeling results data/first_llbax.csv\")\n",
    "all_dfs = []\n",
    "\n",
    "for i,row in participant_parameters.iterrows():\n",
    "    df = run_experiment(bandit, n_runs=30, params={'alpha': row.alpha, 'beta': row.beta, 'noise': row.noise, 'bias': 0, 'Pav': 0}, beta2=False)\n",
    "    df_subject = pd.DataFrame()\n",
    "    a = df\n",
    "    a['outcome_before'] = a.reward.shift(1)\n",
    "    df_subject['go_prob'] = a.groupby('outcome_before').apply(calc_go_prob)\n",
    "    df_subject = df_subject.reset_index()\n",
    "    df_subject['mturkID'] = row.mturkID\n",
    "    all_dfs.append(df_subject)\n",
    "datafram_go_prob_pun = pd.concat(all_dfs)\n",
    "\n",
    "\n",
    "ax = sns.pointplot(x=\"outcome_before\", y=\"go_prob\",\n",
    "                data= datafram_go_prob_pun,\n",
    "                ci = None,\n",
    "                markers= \"*\",\n",
    "                join= False\n",
    "                ) \n",
    "ax = sns.pointplot(\n",
    "                    # data=datafram_go_prob_pun,\n",
    "                    data= first_experiment_goprob_df,\n",
    "                     x=\"outcome_before\", y=\"go_prob\",\n",
    "                     errorbar=('ci', 95),\n",
    "                    join=False, \n",
    "                    capsize=.1,\n",
    "                    legend=True)\n",
    "\n",
    "ax.set(\n",
    "    # ylim=(0, 0.7),\n",
    "    xlabel=\"Outcome of t-1\", \n",
    "    ylabel = \"Go probability in trial t\", \n",
    "    title = model_dict['llba'])\n",
    "plt.show()\n"
   ]
  },
  {
   "cell_type": "markdown",
   "metadata": {},
   "source": [
    "# llbaxb"
   ]
  },
  {
   "cell_type": "code",
   "execution_count": 85,
   "metadata": {},
   "outputs": [
    {
     "data": {
      "image/png": "[encoded data removed]",
      "text/plain": [
       "<Figure size 432x288 with 1 Axes>"
      ]
     },
     "metadata": {
      "needs_background": "light"
     },
     "output_type": "display_data"
    }
   ],
   "source": [
    "participant_parameters = pd.read_csv(\"Modeling results data/first_llbaxb.csv\")\n",
    "all_dfs = []\n",
    "\n",
    "for i,row in participant_parameters.iterrows():\n",
    "    df_subject = pd.DataFrame()\n",
    "    df_subject_each_trial = 0\n",
    "    for i in range(10):\n",
    "\n",
    "        df = run_experiment(bandit, n_runs=30, params={'alpha': row.alpha, 'beta': row.beta, 'noise': row.noise, 'bias': row.bias, 'Pav': 0}, beta2=False)\n",
    "        a = df\n",
    "        a['outcome_before'] = a.reward.shift(1)\n",
    "        df_subject_each_trial += a.groupby('outcome_before').apply(calc_go_prob)/10\n",
    "    \n",
    "    df_subject['go_prob'] = df_subject_each_trial\n",
    "    df_subject = df_subject.reset_index()\n",
    "    df_subject['mturkID'] = row.mturkID\n",
    "    all_dfs.append(df_subject)\n",
    "datafram_go_prob_punـllbaxb = pd.concat(all_dfs)\n",
    "\n",
    "datafram_go_prob_punـllbaxb['data_gen_source'] = model_dict['llbaxb']\n",
    "\n",
    "ax = sns.pointplot(x=\"outcome_before\", y=\"go_prob\",\n",
    "                data= datafram_go_prob_pun,\n",
    "                ci = None,\n",
    "                markers= \"s\",\n",
    "                join= False\n",
    "                ) \n",
    "ax = sns.pointplot(\n",
    "                    # data=datafram_go_prob_pun,\n",
    "                    data= first_experiment_goprob_df,\n",
    "                     x=\"outcome_before\", y=\"go_prob\",\n",
    "                     errorbar=('ci', 95),\n",
    "                    join=False, \n",
    "                    capsize=.1,\n",
    "                    legend=True)\n",
    "\n",
    "ax.set(\n",
    "    # ylim=(0, 0.7),\n",
    "    xlabel=\"Outcome of t-1\", \n",
    "    ylabel = \"Go probability in trial t\", \n",
    "    title = model_dict['llbaxb'])\n",
    "plt.show()\n",
    "    "
   ]
  },
  {
   "cell_type": "markdown",
   "metadata": {},
   "source": [
    "# llbaepxb"
   ]
  },
  {
   "cell_type": "code",
   "execution_count": 86,
   "metadata": {},
   "outputs": [
    {
     "data": {
      "image/png": "[encoded data removed]",
      "text/plain": [
       "<Figure size 432x288 with 1 Axes>"
      ]
     },
     "metadata": {
      "needs_background": "light"
     },
     "output_type": "display_data"
    }
   ],
   "source": [
    "participant_parameters = pd.read_csv(\"Modeling results data/first_llbaepxb.csv\")\n",
    "all_dfs = []\n",
    "\n",
    "for i,row in participant_parameters.iterrows():\n",
    "    df_subject = pd.DataFrame()\n",
    "    df_subject_each_trial = 0\n",
    "    for i in range(10):\n",
    "\n",
    "        df = run_experiment(bandit, n_runs=30, params={'alpha': row.alpha, 'beta': row.beta, 'noise': row.noise, 'bias': row.bias, 'Pav': row.pav}, beta2=False)\n",
    "        a = df\n",
    "        a['outcome_before'] = a.reward.shift(1)\n",
    "        df_subject_each_trial += a.groupby('outcome_before').apply(calc_go_prob)/10\n",
    "    \n",
    "    df_subject['go_prob'] = df_subject_each_trial\n",
    "    df_subject = df_subject.reset_index()\n",
    "    df_subject['mturkID'] = row.mturkID\n",
    "    all_dfs.append(df_subject)\n",
    "datafram_go_prob_punـllbaepxb = pd.concat(all_dfs)\n",
    "\n",
    "datafram_go_prob_punـllbaepxb['data_gen_source'] = model_dict['llbaepxb']\n",
    "\n",
    "\n",
    "ax = sns.pointplot(x=\"outcome_before\", y=\"go_prob\",\n",
    "                data= datafram_go_prob_pun,\n",
    "                ci = None,\n",
    "                markers= \"s\",\n",
    "                join= False\n",
    "                ) \n",
    "ax = sns.pointplot(\n",
    "                    # data=datafram_go_prob_pun,\n",
    "                    data= first_experiment_goprob_df,\n",
    "                     x=\"outcome_before\", y=\"go_prob\",\n",
    "                     errorbar=('ci', 95),\n",
    "                    join=False, \n",
    "                    capsize=.1,\n",
    "                    legend=True)\n",
    "\n",
    "ax.set(\n",
    "    # ylim=(0, 0.7),\n",
    "    xlabel=\"Outcome of t-1\", \n",
    "    ylabel = \"Go probability in trial t\", \n",
    "    title = model_dict['llbaepxb'])\n",
    "plt.show()\n",
    "    "
   ]
  },
  {
   "cell_type": "markdown",
   "metadata": {},
   "source": [
    "# ll2baxb"
   ]
  },
  {
   "cell_type": "code",
   "execution_count": 87,
   "metadata": {},
   "outputs": [
    {
     "data": {
      "image/png": "[encoded data removed]",
      "text/plain": [
       "<Figure size 432x288 with 1 Axes>"
      ]
     },
     "metadata": {
      "needs_background": "light"
     },
     "output_type": "display_data"
    }
   ],
   "source": [
    "participant_parameters = pd.read_csv(\"Modeling results data/first_ll2baxb.csv\")\n",
    "all_dfs = []\n",
    "\n",
    "for i,row in participant_parameters.iterrows():\n",
    "    df_subject = pd.DataFrame()\n",
    "    df_subject_each_trial = 0\n",
    "    for i in range(10):\n",
    "\n",
    "        df = run_experiment(bandit, n_runs=30, params={'alpha': row.alpha, 'beta_rew': row.beta_rew, 'beta_pun': row.beta_pun, 'noise': row.noise, 'bias': row.bias, 'Pav': 0}, beta2=True)\n",
    "        a = df\n",
    "        a['outcome_before'] = a.reward.shift(1)\n",
    "        df_subject_each_trial += a.groupby('outcome_before').apply(calc_go_prob)/10\n",
    "    \n",
    "    df_subject['go_prob'] = df_subject_each_trial\n",
    "    df_subject = df_subject.reset_index()\n",
    "    df_subject['mturkID'] = row.mturkID\n",
    "    all_dfs.append(df_subject)\n",
    "datafram_go_prob_pun_ll2baxb = pd.concat(all_dfs)\n",
    "\n",
    "datafram_go_prob_pun_ll2baxb['data_gen_source'] = model_dict['ll2baxb']\n",
    "\n",
    "ax = sns.pointplot(x=\"outcome_before\", y=\"go_prob\",\n",
    "                data= datafram_go_prob_pun,\n",
    "                ci = None,\n",
    "                markers= \"s\",\n",
    "                join= False\n",
    "                ) \n",
    "\n",
    "\n",
    "ax.set(\n",
    "    # ylim=(0, 0.7),\n",
    "    xlabel=\"Outcome of t-1\", \n",
    "    ylabel = \"Go probability in trial t\", \n",
    "    title = model_dict['ll2baxb'])\n",
    "plt.show()\n",
    "    "
   ]
  },
  {
   "cell_type": "markdown",
   "metadata": {},
   "source": [
    "# ll2baepxb"
   ]
  },
  {
   "cell_type": "code",
   "execution_count": 88,
   "metadata": {},
   "outputs": [
    {
     "data": {
      "image/png": "[encoded data removed]",
      "text/plain": [
       "<Figure size 432x288 with 1 Axes>"
      ]
     },
     "metadata": {
      "needs_background": "light"
     },
     "output_type": "display_data"
    }
   ],
   "source": [
    "participant_parameters = pd.read_csv(\"Modeling results data/first_ll2baepxb.csv\")\n",
    "all_dfs = []\n",
    "\n",
    "for i,row in participant_parameters.iterrows():\n",
    "    df_subject = pd.DataFrame()\n",
    "    df_subject_each_trial = 0\n",
    "    for i in range(50):\n",
    "\n",
    "        df = run_experiment(bandit, n_runs=30, params={'alpha': row.alpha, 'beta_rew': row.beta_rew, 'beta_pun': row.beta_pun, 'noise': row.noise, 'bias': row.bias, 'Pav': row.pav}, beta2=True)\n",
    "        a = df\n",
    "        a['outcome_before'] = a.reward.shift(1)\n",
    "        df_subject_each_trial += a.groupby('outcome_before').apply(calc_go_prob)/50\n",
    "    \n",
    "    df_subject['go_prob'] = df_subject_each_trial\n",
    "    df_subject = df_subject.reset_index()\n",
    "    df_subject['mturkID'] = row.mturkID\n",
    "    all_dfs.append(df_subject)\n",
    "datafram_go_prob_pun_ll2baepxb = pd.concat(all_dfs)\n",
    "datafram_go_prob_pun_ll2baepxb['data_gen_source'] = model_dict['ll2baepxb']\n",
    "\n",
    "ax = sns.pointplot(x=\"outcome_before\", y=\"go_prob\",\n",
    "                data= datafram_go_prob_pun,\n",
    "                ci = None,\n",
    "                markers= \"s\",\n",
    "                join= False\n",
    "                ) \n",
    "\n",
    "ax.set(\n",
    "    # ylim=(0, 0.7),\n",
    "    xlabel=\"Outcome of t-1\", \n",
    "    ylabel = \"Go probability in trial t\", \n",
    "    title = model_dict['ll2baepxb'])\n",
    "plt.show()"
   ]
  },
  {
   "cell_type": "code",
   "execution_count": 125,
   "metadata": {},
   "outputs": [
    {
     "data": {
      "image/png": "[encoded data removed]",
      "text/plain": [
       "<Figure size 432x288 with 1 Axes>"
      ]
     },
     "metadata": {
      "needs_background": "light"
     },
     "output_type": "display_data"
    }
   ],
   "source": [
    "from cProfile import label\n",
    "from operator import le\n",
    "\n",
    "from matplotlib.pyplot import legend\n",
    "\n",
    "first_experiment_goprob_df['data_gen_source'] = 'Behavioral'\n",
    "\n",
    "all_df_models_and_behavioral = pd.concat([\n",
    "                                            # first_experiment_goprob_df,\n",
    "                                            datafram_go_prob_punـllbaepxb,\n",
    "                                            datafram_go_prob_punـllbaxb, \n",
    "                                            datafram_go_prob_pun_ll2baepxb,\n",
    "                                            datafram_go_prob_pun_ll2baxb]\n",
    "                                            )\n",
    "\n",
    "ax = sns.pointplot(\n",
    "                    data= first_experiment_goprob_df,\n",
    "                     x=\"outcome_before\", y=\"go_prob\",\n",
    "                     errorbar=('ci', 95),\n",
    "                    join=False, \n",
    "                    color= 'black',\n",
    "\n",
    "                    capsize=.05,dodge=0.4, \n",
    "                    label = 'Behavioral Data',\n",
    "                    legend=True)\n",
    "\n",
    "ax = sns.pointplot(\n",
    "                    data= all_df_models_and_behavioral,\n",
    "                     x=\"outcome_before\", y=\"go_prob\", hue = 'data_gen_source',\n",
    "                     errorbar=('ci', 95),\n",
    "                    join=False, \n",
    "                    capsize=.05,dodge=0.4, label = 'Behavioral Data',\n",
    "                    legend=True)\n",
    "\n",
    "\n",
    "\n",
    "\n",
    "\n",
    "\n",
    "ax.legend(loc='upper center', bbox_to_anchor=(0.5, 1.3),\n",
    "          ncol=2, fancybox=True, shadow=True)\n",
    "\n",
    "\n",
    "ax.yaxis.set_major_locator(plt.MaxNLocator(2))\n",
    "ax.tick_params(labelsize= 16 )\n",
    "\n",
    "ax.set_xlabel(\"Outcome in previous trial\",fontsize = 16)\n",
    "ax.set_ylabel(\"Go probability\", fontsize = 16)\n",
    "plt.setp(ax.collections, alpha=.5) #for the markers\n",
    "# plt.legend()\n",
    "plt.show()\n"
   ]
  },
  {
   "cell_type": "code",
   "execution_count": null,
   "metadata": {},
   "outputs": [],
   "source": []
  },
  {
   "cell_type": "code",
   "execution_count": 104,
   "metadata": {},
   "outputs": [
    {
     "data": {
      "text/html": [
       "<div>\n",
       "<style scoped>\n",
       "    .dataframe tbody tr th:only-of-type {\n",
       "        vertical-align: middle;\n",
       "    }\n",
       "\n",
       "    .dataframe tbody tr th {\n",
       "        vertical-align: top;\n",
       "    }\n",
       "\n",
       "    .dataframe thead th {\n",
       "        text-align: right;\n",
       "    }\n",
       "</style>\n",
       "<table border=\"1\" class=\"dataframe\">\n",
       "  <thead>\n",
       "    <tr style=\"text-align: right;\">\n",
       "      <th></th>\n",
       "      <th>outcome_before</th>\n",
       "      <th>go_prob</th>\n",
       "      <th>mturkID</th>\n",
       "      <th>data_gen_source</th>\n",
       "    </tr>\n",
       "  </thead>\n",
       "  <tbody>\n",
       "    <tr>\n",
       "      <th>0</th>\n",
       "      <td>-1.0</td>\n",
       "      <td>0.566667</td>\n",
       "      <td>A10BH9PYCYUKDJ</td>\n",
       "      <td>Behavioral</td>\n",
       "    </tr>\n",
       "    <tr>\n",
       "      <th>1</th>\n",
       "      <td>0.0</td>\n",
       "      <td>0.574074</td>\n",
       "      <td>A10BH9PYCYUKDJ</td>\n",
       "      <td>Behavioral</td>\n",
       "    </tr>\n",
       "    <tr>\n",
       "      <th>2</th>\n",
       "      <td>1.0</td>\n",
       "      <td>0.285714</td>\n",
       "      <td>A10BH9PYCYUKDJ</td>\n",
       "      <td>Behavioral</td>\n",
       "    </tr>\n",
       "    <tr>\n",
       "      <th>3</th>\n",
       "      <td>-1.0</td>\n",
       "      <td>0.807692</td>\n",
       "      <td>A10JXOU89D5RXR</td>\n",
       "      <td>Behavioral</td>\n",
       "    </tr>\n",
       "    <tr>\n",
       "      <th>4</th>\n",
       "      <td>0.0</td>\n",
       "      <td>0.746269</td>\n",
       "      <td>A10JXOU89D5RXR</td>\n",
       "      <td>Behavioral</td>\n",
       "    </tr>\n",
       "    <tr>\n",
       "      <th>...</th>\n",
       "      <td>...</td>\n",
       "      <td>...</td>\n",
       "      <td>...</td>\n",
       "      <td>...</td>\n",
       "    </tr>\n",
       "    <tr>\n",
       "      <th>1</th>\n",
       "      <td>0.0</td>\n",
       "      <td>0.498527</td>\n",
       "      <td>AZ69TBTDH7AZS</td>\n",
       "      <td>RW(rew/pun) + noise + bias</td>\n",
       "    </tr>\n",
       "    <tr>\n",
       "      <th>2</th>\n",
       "      <td>1.0</td>\n",
       "      <td>0.490193</td>\n",
       "      <td>AZ69TBTDH7AZS</td>\n",
       "      <td>RW(rew/pun) + noise + bias</td>\n",
       "    </tr>\n",
       "    <tr>\n",
       "      <th>0</th>\n",
       "      <td>-1.0</td>\n",
       "      <td>0.508118</td>\n",
       "      <td>AZCGSVDT79E6X</td>\n",
       "      <td>RW(rew/pun) + noise + bias</td>\n",
       "    </tr>\n",
       "    <tr>\n",
       "      <th>1</th>\n",
       "      <td>0.0</td>\n",
       "      <td>0.510077</td>\n",
       "      <td>AZCGSVDT79E6X</td>\n",
       "      <td>RW(rew/pun) + noise + bias</td>\n",
       "    </tr>\n",
       "    <tr>\n",
       "      <th>2</th>\n",
       "      <td>1.0</td>\n",
       "      <td>0.530960</td>\n",
       "      <td>AZCGSVDT79E6X</td>\n",
       "      <td>RW(rew/pun) + noise + bias</td>\n",
       "    </tr>\n",
       "  </tbody>\n",
       "</table>\n",
       "<p>2190 rows × 4 columns</p>\n",
       "</div>"
      ],
      "text/plain": [
       "    outcome_before   go_prob         mturkID             data_gen_source\n",
       "0             -1.0  0.566667  A10BH9PYCYUKDJ                  Behavioral\n",
       "1              0.0  0.574074  A10BH9PYCYUKDJ                  Behavioral\n",
       "2              1.0  0.285714  A10BH9PYCYUKDJ                  Behavioral\n",
       "3             -1.0  0.807692  A10JXOU89D5RXR                  Behavioral\n",
       "4              0.0  0.746269  A10JXOU89D5RXR                  Behavioral\n",
       "..             ...       ...             ...                         ...\n",
       "1              0.0  0.498527   AZ69TBTDH7AZS  RW(rew/pun) + noise + bias\n",
       "2              1.0  0.490193   AZ69TBTDH7AZS  RW(rew/pun) + noise + bias\n",
       "0             -1.0  0.508118   AZCGSVDT79E6X  RW(rew/pun) + noise + bias\n",
       "1              0.0  0.510077   AZCGSVDT79E6X  RW(rew/pun) + noise + bias\n",
       "2              1.0  0.530960   AZCGSVDT79E6X  RW(rew/pun) + noise + bias\n",
       "\n",
       "[2190 rows x 4 columns]"
      ]
     },
     "execution_count": 104,
     "metadata": {},
     "output_type": "execute_result"
    }
   ],
   "source": [
    "all_df_models_and_behavioral"
   ]
  },
  {
   "cell_type": "code",
   "execution_count": null,
   "metadata": {},
   "outputs": [],
   "source": []
  },
  {
   "cell_type": "code",
   "execution_count": null,
   "metadata": {},
   "outputs": [],
   "source": []
  }
 ],
 "metadata": {
  "kernelspec": {
   "display_name": "Python 3.9.10 64-bit",
   "language": "python",
   "name": "python3"
  },
  "language_info": {
   "codemirror_mode": {
    "name": "ipython",
    "version": 3
   },
   "file_extension": ".py",
   "mimetype": "text/x-python",
   "name": "python",
   "nbconvert_exporter": "python",
   "pygments_lexer": "ipython3",
   "version": "3.9.10"
  },
  "orig_nbformat": 4,
  "vscode": {
   "interpreter": {
    "hash": "b0fa6594d8f4cbf19f97940f81e996739fb7646882a419484c72d19e05852a7e"
   }
  }
 },
 "nbformat": 4,
 "nbformat_minor": 2
}
