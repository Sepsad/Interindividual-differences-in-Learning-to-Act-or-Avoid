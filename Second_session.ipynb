{
 "cells": [
  {
   "cell_type": "code",
   "execution_count": 2,
   "metadata": {},
   "outputs": [
    {
     "name": "stderr",
     "output_type": "stream",
     "text": [
      "/opt/homebrew/lib/python3.9/site-packages/statsmodels/tools/_testing.py:19: FutureWarning: pandas.util.testing is deprecated. Use the functions in the public API at pandas.testing instead.\n",
      "  import pandas.util.testing as tm\n"
     ]
    }
   ],
   "source": [
    "import matplotlib.pyplot as plt\n",
    "import pandas as pd\n",
    "pd.set_option(\"display.max_columns\", None)\n",
    "pd.set_option(\"display.max_rows\", 150)\n",
    "import seaborn as sns\n",
    "custom_params = {\"axes.spines.right\": False, \"axes.spines.top\": False}\n",
    "sns.set_theme(style=\"ticks\", rc=custom_params)\n",
    "from scipy import stats\n",
    "import statsmodels.api as sm\n",
    "import numpy as np\n",
    "import json\n",
    "from tqdm import tqdm_notebook \n",
    "import statsmodels.formula.api as smf"
   ]
  },
  {
   "cell_type": "markdown",
   "metadata": {},
   "source": [
    "## Read the Data"
   ]
  },
  {
   "cell_type": "code",
   "execution_count": 3,
   "metadata": {},
   "outputs": [
    {
     "name": "stderr",
     "output_type": "stream",
     "text": [
      "/opt/homebrew/lib/python3.9/site-packages/IPython/core/interactiveshell.py:3441: DtypeWarning: Columns (63,65) have mixed types.Specify dtype option on import or set low_memory=False.\n",
      "  exec(code_obj, self.user_global_ns, self.user_ns)\n"
     ]
    }
   ],
   "source": [
    "second_session_raw_data = pd.read_csv('Data/gono-go-game-second-round.csv', index_col=0).reset_index()\n",
    "# second_session_raw_data = second_session_raw_data[second_session_raw_data.recorded_at > '2022-01-18']\n",
    "# second_session_raw_data = second_session_raw_data[second_session_raw_data.mturkID != 'nan' ]\n",
    "\n",
    "num_all_experimenters = len(second_session_raw_data.mturkID.unique())\n",
    "num_excluded_experimenters = 0\n",
    "\n",
    "second_session_raw_data['correct'] = second_session_raw_data.correct == 'true'\n",
    "\n",
    "# second_session_raw_data.head()"
   ]
  },
  {
   "cell_type": "code",
   "execution_count": 4,
   "metadata": {},
   "outputs": [
    {
     "data": {
      "text/plain": [
       "135"
      ]
     },
     "execution_count": 4,
     "metadata": {},
     "output_type": "execute_result"
    }
   ],
   "source": [
    "len(second_session_raw_data.mturkID.value_counts())"
   ]
  },
  {
   "cell_type": "code",
   "execution_count": 5,
   "metadata": {},
   "outputs": [],
   "source": [
    "# raw_demographic_data = second_session_clean_data[second_session_clean_data.trial_type == 'survey-html-form'][['mturkID', 'response']]\n",
    "raw_demographic_data = second_session_raw_data[(second_session_raw_data.response != \"\") & (second_session_raw_data.trial_type == 'survey-html-form')][['mturkID', 'response']].drop_duplicates(subset=['mturkID'], keep='last')\n",
    "\n",
    "raw_demographic_data['gender'] = raw_demographic_data.response.apply(lambda x: x.split('\"')[3])\n",
    "raw_demographic_data['age'] = raw_demographic_data.response.apply(lambda x: x.split('\"')[7])\n",
    "raw_demographic_data['education_level'] = raw_demographic_data.response.apply(lambda x: x.split('\"')[11])\n",
    "raw_demographic_data['comments'] = raw_demographic_data.response.apply(lambda x: x.split('\"')[15])\n",
    "raw_demographic_data = raw_demographic_data.drop(['response'], axis=1)\n",
    "# raw_demographic_data.shape"
   ]
  },
  {
   "cell_type": "code",
   "execution_count": 6,
   "metadata": {},
   "outputs": [
    {
     "data": {
      "text/plain": [
       "male      77\n",
       "female    50\n",
       "other      4\n",
       "Name: gender, dtype: int64"
      ]
     },
     "execution_count": 6,
     "metadata": {},
     "output_type": "execute_result"
    }
   ],
   "source": [
    "raw_demographic_data.gender.value_counts()"
   ]
  },
  {
   "cell_type": "markdown",
   "metadata": {},
   "source": [
    "# Apply exclusion criteria"
   ]
  },
  {
   "cell_type": "markdown",
   "metadata": {},
   "source": [
    "1. Fail the quiz of instructions more than twice.\n",
    "2. Change the tab or window of the experiment."
   ]
  },
  {
   "cell_type": "code",
   "execution_count": 7,
   "metadata": {},
   "outputs": [
    {
     "name": "stdout",
     "output_type": "stream",
     "text": [
      "Number of participants excluded by this criterias: 4\n"
     ]
    }
   ],
   "source": [
    "experimenter_status = second_session_raw_data[second_session_raw_data.trial_type == 'survey-html-form'][['run_id','mturkID', 'exp_final_status']]\n",
    "IDs_for_inclusion_by_completed = experimenter_status[experimenter_status.exp_final_status == 'fully_completed'].mturkID\n",
    "\n",
    "run_IDs_for_exclusion_by_changing_tabs = second_session_raw_data[second_session_raw_data.exp_final_status == 'not_completed_by_changing_tab'].run_id\n",
    "run_IDs_for_exclusion_by_failing_quiz = second_session_raw_data[second_session_raw_data.exp_final_status == 'not_completed_by_failing_quiz'].run_id\n",
    "\n",
    "second_session_clean_data = second_session_raw_data[second_session_raw_data.run_id.isin(run_IDs_for_exclusion_by_changing_tabs) == False]\n",
    "second_session_clean_data = second_session_clean_data[second_session_clean_data.run_id.isin(run_IDs_for_exclusion_by_failing_quiz) == False]\n",
    "\n",
    "\n",
    "\n",
    "num_excluded_experimenters = len(second_session_raw_data.mturkID.unique()) - len(second_session_clean_data.mturkID.unique())\n",
    "\n",
    "print(\"Number of participants excluded by this criterias:\", num_excluded_experimenters)"
   ]
  },
  {
   "cell_type": "code",
   "execution_count": 8,
   "metadata": {},
   "outputs": [],
   "source": [
    "# exclude the first try of a turker\n",
    "second_session_clean_data = second_session_clean_data[second_session_clean_data.run_id != 204 ]\n",
    "second_session_clean_data = second_session_clean_data[second_session_clean_data.run_id != 14]\n",
    "second_session_clean_data.mturkID.replace({\"A2TLN8489YGY81_agaign\": \"A2TLN8489YGY81\"}, inplace=True)\n"
   ]
  },
  {
   "cell_type": "code",
   "execution_count": 9,
   "metadata": {},
   "outputs": [
    {
     "data": {
      "text/plain": [
       "0"
      ]
     },
     "execution_count": 9,
     "metadata": {},
     "output_type": "execute_result"
    }
   ],
   "source": [
    "second_session_clean_data.mturkID.isna().sum()"
   ]
  },
  {
   "cell_type": "markdown",
   "metadata": {},
   "source": [
    "3. Respond randomly, always go or never go.\n",
    "\n",
    "    * Note: We exclude who repond randomly, always go or nogo in each 3 block"
   ]
  },
  {
   "cell_type": "code",
   "execution_count": 10,
   "metadata": {},
   "outputs": [],
   "source": [
    "susp = second_session_clean_data[second_session_clean_data.suspicious == 'true'][['mturkID', 'suspicious_type','num_gos', 'block']]"
   ]
  },
  {
   "cell_type": "code",
   "execution_count": 11,
   "metadata": {},
   "outputs": [
    {
     "name": "stdout",
     "output_type": "stream",
     "text": [
      "Number of participants excluded by this criterias: 5\n"
     ]
    }
   ],
   "source": [
    "IDs_for_exclusion_by_random_response = list(susp.mturkID.value_counts()[ (susp.mturkID.value_counts() == 3) | (susp.mturkID.value_counts() == 2) ].index)\n",
    "\n",
    "num_excluded_experimenters += len(IDs_for_exclusion_by_random_response)\n",
    "\n",
    "second_session_clean_data = second_session_clean_data[second_session_clean_data.mturkID.isin(IDs_for_exclusion_by_random_response) == False]\n",
    "\n",
    "print(\"Number of participants excluded by this criterias:\", len(IDs_for_exclusion_by_random_response))\n"
   ]
  },
  {
   "cell_type": "code",
   "execution_count": 12,
   "metadata": {},
   "outputs": [
    {
     "data": {
      "text/plain": [
       "0"
      ]
     },
     "execution_count": 12,
     "metadata": {},
     "output_type": "execute_result"
    }
   ],
   "source": [
    "second_session_clean_data.mturkID.isna().sum()"
   ]
  },
  {
   "cell_type": "code",
   "execution_count": 13,
   "metadata": {},
   "outputs": [
    {
     "data": {
      "text/plain": [
       "(125,)"
      ]
     },
     "execution_count": 13,
     "metadata": {},
     "output_type": "execute_result"
    }
   ],
   "source": [
    "second_session_clean_data.mturkID.unique().shape"
   ]
  },
  {
   "cell_type": "markdown",
   "metadata": {},
   "source": [
    "4. Their rate of the correct response to detection of circle side task is less than 55%."
   ]
  },
  {
   "cell_type": "code",
   "execution_count": 14,
   "metadata": {},
   "outputs": [],
   "source": [
    "circle_side_correctness = second_session_clean_data[second_session_clean_data.choice == 'go'][['mturkID','side', 'response']]\n",
    "circle_side_correctness['is_correct_circle_side'] =  (circle_side_correctness.side == circle_side_correctness.response)\n",
    "accuracy_data = circle_side_correctness.groupby('mturkID').mean().reset_index()\n",
    "accuracy_data.columns = ['mturkID', 'rate']\n",
    "accuracy_data['is_below_55'] = accuracy_data.rate < 0.55\n",
    "\n",
    "# accuracy_data.head()\n"
   ]
  },
  {
   "cell_type": "code",
   "execution_count": 15,
   "metadata": {},
   "outputs": [
    {
     "name": "stdout",
     "output_type": "stream",
     "text": [
      "Number of participants excluded by this criterias: 11\n"
     ]
    }
   ],
   "source": [
    "non_accurate_IDs = list(accuracy_data[accuracy_data.is_below_55 == True].mturkID)\n",
    "\n",
    "num_excluded_experimenters += len(non_accurate_IDs)\n",
    "\n",
    "second_session_clean_data = second_session_clean_data[second_session_clean_data.mturkID.isin(list(non_accurate_IDs)) == False]\n",
    "print(\"Number of participants excluded by this criterias:\", len(non_accurate_IDs))\n",
    "\n"
   ]
  },
  {
   "cell_type": "code",
   "execution_count": 16,
   "metadata": {},
   "outputs": [
    {
     "data": {
      "text/plain": [
       "0"
      ]
     },
     "execution_count": 16,
     "metadata": {},
     "output_type": "execute_result"
    }
   ],
   "source": [
    "second_session_clean_data.mturkID.isna().sum()"
   ]
  },
  {
   "cell_type": "code",
   "execution_count": 17,
   "metadata": {},
   "outputs": [
    {
     "data": {
      "text/plain": [
       "array([], dtype=int64)"
      ]
     },
     "execution_count": 17,
     "metadata": {},
     "output_type": "execute_result"
    }
   ],
   "source": [
    "second_session_clean_data[second_session_clean_data.mturkID.isna()].run_id.unique()"
   ]
  },
  {
   "cell_type": "code",
   "execution_count": 18,
   "metadata": {},
   "outputs": [
    {
     "data": {
      "text/plain": [
       "(114,)"
      ]
     },
     "execution_count": 18,
     "metadata": {},
     "output_type": "execute_result"
    }
   ],
   "source": [
    "second_session_clean_data.mturkID.unique().shape"
   ]
  },
  {
   "cell_type": "markdown",
   "metadata": {},
   "source": [
    "# Plot Perforance per conditions"
   ]
  },
  {
   "cell_type": "code",
   "execution_count": 25,
   "metadata": {},
   "outputs": [
    {
     "name": "stderr",
     "output_type": "stream",
     "text": [
      "/var/folders/5p/j5wvkpqj2_n5r5h100pdscbr0000gn/T/ipykernel_17274/337833352.py:5: SettingWithCopyWarning: \n",
      "A value is trying to be set on a copy of a slice from a DataFrame.\n",
      "Try using .loc[row_indexer,col_indexer] = value instead\n",
      "\n",
      "See the caveats in the documentation: https://pandas.pydata.org/pandas-docs/stable/user_guide/indexing.html#returning-a-view-versus-a-copy\n",
      "  circle_task_logs['correct_action'] = (circle_task_logs.choice == circle_task_logs.cond_action)\n"
     ]
    },
    {
     "data": {
      "image/png": "[encoded data removed]",
      "text/plain": [
       "<Figure size 360x360 with 1 Axes>"
      ]
     },
     "metadata": {},
     "output_type": "display_data"
    }
   ],
   "source": [
    "mapping = {'1': 'G2W', '2': 'NG2W', '3': 'G2AP', '4' : 'NG2AP'} \n",
    "\n",
    "circle_task_logs = second_session_clean_data[second_session_clean_data.exp_stage == 'main_target_detection']\n",
    "\n",
    "circle_task_logs['correct_action'] = (circle_task_logs.choice == circle_task_logs.cond_action)\n",
    "performance_per_condition = circle_task_logs.groupby(['mturkID','cond']).mean().reset_index()\n",
    "performance_per_condition.cond = performance_per_condition.cond.map(mapping)\n",
    "\n",
    "\n",
    "ax = sns.catplot(x=\"cond\", y=\"correct\", data=performance_per_condition, \n",
    "                    order= ['G2W','NG2W' ,'G2AP', 'NG2AP'], alpha = 1,\n",
    "                    palette= [\"#DD409C\",\"#538DDF\",\"#0C52D4\",\"#FFADE5\"]\n",
    "                    );\n",
    "ax = sns.boxplot(x=\"cond\", y=\"correct\", data= performance_per_condition , \n",
    "                    boxprops=dict(alpha=.3), notch =True, \n",
    "                    order= ['G2W','NG2W' ,'G2AP', 'NG2AP'],\n",
    "                    palette= [\"#DD409C\",\"#538DDF\",\"#0C52D4\",\"#FFADE5\"]\n",
    "                    );\n",
    "\n",
    "ax.yaxis.set_major_locator(plt.MaxNLocator(5))\n",
    "ax.set(xlabel=\"\", ylabel = \"\", title = 'Follow-Up Session')\n",
    "ax.set_ylabel('Overall Accuracy', fontsize=17)\n",
    "ax.set_title('Follow-up', fontsize = 20)\n",
    "\n",
    "plt.show()\n"
   ]
  },
  {
   "cell_type": "code",
   "execution_count": null,
   "metadata": {},
   "outputs": [],
   "source": []
  },
  {
   "cell_type": "code",
   "execution_count": 19,
   "metadata": {},
   "outputs": [],
   "source": [
    "def extract_action(x):\n",
    "    if('nogo2avoidPun' in x):\n",
    "        return 'nogo'\n",
    "    elif('nogo2win' in x):\n",
    "        return 'nogo'\n",
    "    elif( 'go2avoidPun' in x):\n",
    "        return 'go'\n",
    "    elif( 'go2win' in x):\n",
    "        return 'go'\n",
    "    else:\n",
    "        return 'error'\n",
    "\n",
    "def extract_outcome(x):\n",
    "    if('nogo2avoidPun' in x):\n",
    "        return 'avoidPun'\n",
    "    elif('nogo2win' in x):\n",
    "        return 'win'\n",
    "    elif( 'go2avoidPun' in x):\n",
    "        return 'avoidPun'\n",
    "    elif( 'go2win' in x):\n",
    "        return 'win'\n",
    "    else:\n",
    "        return 'error'\n",
    "\n",
    "\n",
    "performance_for_anova = pd.DataFrame()\n",
    "performance_for_anova['action'] = performance_per_condition.cond.apply(lambda x: extract_action(x))\n",
    "performance_for_anova['outcome'] = performance_per_condition.cond.apply(lambda x: extract_outcome(x))\n",
    "performance_for_anova['performance'] = performance_per_condition.correct"
   ]
  },
  {
   "cell_type": "code",
   "execution_count": 20,
   "metadata": {},
   "outputs": [
    {
     "data": {
      "text/html": [
       "<div>\n",
       "<style scoped>\n",
       "    .dataframe tbody tr th:only-of-type {\n",
       "        vertical-align: middle;\n",
       "    }\n",
       "\n",
       "    .dataframe tbody tr th {\n",
       "        vertical-align: top;\n",
       "    }\n",
       "\n",
       "    .dataframe thead th {\n",
       "        text-align: right;\n",
       "    }\n",
       "</style>\n",
       "<table border=\"1\" class=\"dataframe\">\n",
       "  <thead>\n",
       "    <tr style=\"text-align: right;\">\n",
       "      <th></th>\n",
       "      <th>df</th>\n",
       "      <th>sum_sq</th>\n",
       "      <th>mean_sq</th>\n",
       "      <th>F</th>\n",
       "      <th>PR(&gt;F)</th>\n",
       "    </tr>\n",
       "  </thead>\n",
       "  <tbody>\n",
       "    <tr>\n",
       "      <th>C(outcome)</th>\n",
       "      <td>1.0</td>\n",
       "      <td>0.050526</td>\n",
       "      <td>0.050526</td>\n",
       "      <td>0.670846</td>\n",
       "      <td>4.131884e-01</td>\n",
       "    </tr>\n",
       "    <tr>\n",
       "      <th>C(action)</th>\n",
       "      <td>1.0</td>\n",
       "      <td>0.930614</td>\n",
       "      <td>0.930614</td>\n",
       "      <td>12.355916</td>\n",
       "      <td>4.839266e-04</td>\n",
       "    </tr>\n",
       "    <tr>\n",
       "      <th>C(outcome):C(action)</th>\n",
       "      <td>1.0</td>\n",
       "      <td>3.244922</td>\n",
       "      <td>3.244922</td>\n",
       "      <td>43.083366</td>\n",
       "      <td>1.441392e-10</td>\n",
       "    </tr>\n",
       "    <tr>\n",
       "      <th>Residual</th>\n",
       "      <td>452.0</td>\n",
       "      <td>34.043411</td>\n",
       "      <td>0.075317</td>\n",
       "      <td>NaN</td>\n",
       "      <td>NaN</td>\n",
       "    </tr>\n",
       "  </tbody>\n",
       "</table>\n",
       "</div>"
      ],
      "text/plain": [
       "                         df     sum_sq   mean_sq          F        PR(>F)\n",
       "C(outcome)              1.0   0.050526  0.050526   0.670846  4.131884e-01\n",
       "C(action)               1.0   0.930614  0.930614  12.355916  4.839266e-04\n",
       "C(outcome):C(action)    1.0   3.244922  3.244922  43.083366  1.441392e-10\n",
       "Residual              452.0  34.043411  0.075317        NaN           NaN"
      ]
     },
     "execution_count": 20,
     "metadata": {},
     "output_type": "execute_result"
    }
   ],
   "source": [
    "model = smf.ols('performance ~ C(outcome) + C(action) +\\\n",
    "C(outcome):C(action)',\n",
    "            data=performance_for_anova).fit()\n",
    "result = sm.stats.anova_lm(model, type=2)\n",
    "  \n",
    "# Print the result\n",
    "(result)"
   ]
  },
  {
   "cell_type": "code",
   "execution_count": 21,
   "metadata": {},
   "outputs": [
    {
     "name": "stdout",
     "output_type": "stream",
     "text": [
      "                   sum_sq     df          F        PR(>F)\n",
      "outcome          0.050526    1.0   0.670846  4.131884e-01\n",
      "action           0.930614    1.0  12.355916  4.839266e-04\n",
      "outcome:action   3.244922    1.0  43.083366  1.441392e-10\n",
      "Residual        34.043411  452.0        NaN           NaN\n"
     ]
    }
   ],
   "source": [
    "my_model_fit = smf.ols(\"performance ~ outcome * action \", performance_for_anova).fit()\n",
    "# print summary of linear regression\n",
    "# print(my_model_fit.summary())\n",
    "# show anova table\n",
    "print(sm.stats.anova_lm(my_model_fit, typ=2))"
   ]
  },
  {
   "cell_type": "markdown",
   "metadata": {},
   "source": [
    "# Extract Demographic datas"
   ]
  },
  {
   "cell_type": "code",
   "execution_count": 22,
   "metadata": {},
   "outputs": [
    {
     "data": {
      "text/plain": [
       "131"
      ]
     },
     "execution_count": 22,
     "metadata": {},
     "output_type": "execute_result"
    }
   ],
   "source": [
    "len(raw_demographic_data.mturkID.unique())"
   ]
  },
  {
   "cell_type": "code",
   "execution_count": 23,
   "metadata": {},
   "outputs": [
    {
     "name": "stderr",
     "output_type": "stream",
     "text": [
      "/var/folders/5p/j5wvkpqj2_n5r5h100pdscbr0000gn/T/ipykernel_20331/3402330953.py:2: UserWarning: Boolean Series key will be reindexed to match DataFrame index.\n",
      "  raw_demographic_data = second_session_clean_data[(second_session_clean_data.response != \"\") & (second_session_raw_data.trial_type == 'survey-html-form')][['mturkID', 'response']].drop_duplicates(subset=['mturkID'], keep='last')\n"
     ]
    }
   ],
   "source": [
    "# raw_demographic_data = second_session_clean_data[second_session_clean_data.trial_type == 'survey-html-form'][['mturkID', 'response']]\n",
    "raw_demographic_data = second_session_clean_data[(second_session_clean_data.response != \"\") & (second_session_raw_data.trial_type == 'survey-html-form')][['mturkID', 'response']].drop_duplicates(subset=['mturkID'], keep='last')\n",
    "\n",
    "raw_demographic_data['gender'] = raw_demographic_data.response.apply(lambda x: x.split('\"')[3])\n",
    "raw_demographic_data['age'] = raw_demographic_data.response.apply(lambda x: x.split('\"')[7])\n",
    "raw_demographic_data['education_level'] = raw_demographic_data.response.apply(lambda x: x.split('\"')[11])\n",
    "raw_demographic_data['comments'] = raw_demographic_data.response.apply(lambda x: x.split('\"')[15])\n",
    "raw_demographic_data = raw_demographic_data.drop(['response'], axis=1)\n",
    "# raw_demographic_data.shape"
   ]
  },
  {
   "cell_type": "code",
   "execution_count": 24,
   "metadata": {},
   "outputs": [
    {
     "data": {
      "text/plain": [
       "46.0"
      ]
     },
     "execution_count": 24,
     "metadata": {},
     "output_type": "execute_result"
    }
   ],
   "source": [
    "raw_demographic_data.age.apply(int).quantile(0.75)"
   ]
  },
  {
   "cell_type": "code",
   "execution_count": 25,
   "metadata": {},
   "outputs": [
    {
     "data": {
      "text/plain": [
       "Bachelor     60\n",
       "High         26\n",
       "Associate    20\n",
       "Master        6\n",
       "lessHigh      2\n",
       "Name: education_level, dtype: int64"
      ]
     },
     "execution_count": 25,
     "metadata": {},
     "output_type": "execute_result"
    }
   ],
   "source": [
    "raw_demographic_data.education_level.value_counts()"
   ]
  },
  {
   "cell_type": "code",
   "execution_count": 26,
   "metadata": {},
   "outputs": [
    {
     "name": "stderr",
     "output_type": "stream",
     "text": [
      "/var/folders/5p/j5wvkpqj2_n5r5h100pdscbr0000gn/T/ipykernel_20331/4121152230.py:1: SettingWithCopyWarning: \n",
      "A value is trying to be set on a copy of a slice from a DataFrame.\n",
      "Try using .loc[row_indexer,col_indexer] = value instead\n",
      "\n",
      "See the caveats in the documentation: https://pandas.pydata.org/pandas-docs/stable/user_guide/indexing.html#returning-a-view-versus-a-copy\n",
      "  circle_task_logs['cond'] = circle_task_logs.cond_action + '2' + circle_task_logs.cond_outcome\n"
     ]
    }
   ],
   "source": [
    "circle_task_logs['cond'] = circle_task_logs.cond_action + '2' + circle_task_logs.cond_outcome \n",
    "GOs = (circle_task_logs[circle_task_logs.choice == 'go'].groupby(['mturkID']).count()['run_id'].rename('second_num_GOs'))\n",
    "noGos = (circle_task_logs[circle_task_logs.choice == 'nogo'].groupby(['mturkID']).count()['run_id'].rename('second_num_noGos'))\n",
    "go2win_Gos = (circle_task_logs[(circle_task_logs.choice == 'go') & (circle_task_logs.cond == 'go2win')].groupby(['mturkID']).count()['run_id'].rename('second_num_go2win_Gos'))\n",
    "nogo2avoidpun_noGos = (circle_task_logs[(circle_task_logs.choice == 'nogo') & (circle_task_logs.cond == 'nogo2avoidPun')].groupby(['mturkID']).count()['run_id'].rename('second_num_nogo2avoidPun_noGos'))\n",
    "new_pav_metric_df = pd.concat([GOs, noGos, go2win_Gos, nogo2avoidpun_noGos], axis=1)\n"
   ]
  },
  {
   "cell_type": "code",
   "execution_count": 27,
   "metadata": {
    "scrolled": false
   },
   "outputs": [
    {
     "data": {
      "image/png": "[encoded data removed]",
      "text/plain": [
       "<Figure size 720x576 with 1 Axes>"
      ]
     },
     "metadata": {},
     "output_type": "display_data"
    }
   ],
   "source": [
    "plt.figure(figsize=(10,8))\n",
    "plt.ylabel(\"Percent\")\n",
    "gender_percent = (raw_demographic_data.gender.value_counts(normalize=True))*100\n",
    "gender_percent[0]\n",
    "ax = sns.barplot(y = gender_percent,x = gender_percent.index)\n",
    "ax.set_yticks(np.arange(0, 100, 10));\n",
    "ax.set_ylabel(\"Percent\");\n",
    "\n",
    "for bar in ax.patches:\n",
    "   \n",
    "  # Using Matplotlib's annotate function and\n",
    "  # passing the coordinates where the annotation shall be done\n",
    "  # x-coordinate: bar.get_x() + bar.get_width() / 2\n",
    "  # y-coordinate: bar.get_height()\n",
    "  # free space to be left to make graph pleasing: (0, 8)\n",
    "  # ha and va stand for the horizontal and vertical alignment\n",
    "    ax.annotate(format(bar.get_height(), '.2f'),\n",
    "                   (bar.get_x() + bar.get_width() / 2,\n",
    "                    bar.get_height()), ha='center', va='center',\n",
    "                   size=15, xytext=(0, 8),\n",
    "                   textcoords='offset points')\n",
    "    \n",
    "plt.show()\n"
   ]
  },
  {
   "cell_type": "code",
   "execution_count": 28,
   "metadata": {},
   "outputs": [
    {
     "data": {
      "text/plain": [
       "39.24561403508772"
      ]
     },
     "execution_count": 28,
     "metadata": {},
     "output_type": "execute_result"
    }
   ],
   "source": [
    "sum_age = []\n",
    "for i in (raw_demographic_data.age):\n",
    "    try:\n",
    "        sum_age.append(int(i))\n",
    "    except:\n",
    "        print(\"ERRRR\")\n",
    "np.mean(sum_age)"
   ]
  },
  {
   "cell_type": "markdown",
   "metadata": {},
   "source": [
    "# Create final data to analyze"
   ]
  },
  {
   "cell_type": "code",
   "execution_count": null,
   "metadata": {},
   "outputs": [],
   "source": []
  },
  {
   "cell_type": "code",
   "execution_count": 29,
   "metadata": {},
   "outputs": [
    {
     "data": {
      "text/html": [
       "<div>\n",
       "<style scoped>\n",
       "    .dataframe tbody tr th:only-of-type {\n",
       "        vertical-align: middle;\n",
       "    }\n",
       "\n",
       "    .dataframe tbody tr th {\n",
       "        vertical-align: top;\n",
       "    }\n",
       "\n",
       "    .dataframe thead th {\n",
       "        text-align: right;\n",
       "    }\n",
       "</style>\n",
       "<table border=\"1\" class=\"dataframe\">\n",
       "  <thead>\n",
       "    <tr style=\"text-align: right;\">\n",
       "      <th></th>\n",
       "      <th>mturkID</th>\n",
       "      <th>go2avoidPun_second_session</th>\n",
       "      <th>go2win_second_session</th>\n",
       "      <th>nogo2avoidPun_second_session</th>\n",
       "      <th>nogo2win_second_session</th>\n",
       "      <th>circle_side_performance_second_session</th>\n",
       "      <th>is_below_55_second_session</th>\n",
       "      <th>gender_second_session</th>\n",
       "      <th>age_second_session</th>\n",
       "      <th>education_level_second_session</th>\n",
       "      <th>comments_second_session</th>\n",
       "      <th>overall_performance</th>\n",
       "      <th>second_num_GOs</th>\n",
       "      <th>second_num_noGos</th>\n",
       "      <th>second_num_go2win_Gos</th>\n",
       "      <th>second_num_nogo2avoidPun_noGos</th>\n",
       "    </tr>\n",
       "  </thead>\n",
       "  <tbody>\n",
       "    <tr>\n",
       "      <th>0</th>\n",
       "      <td>A10BH9PYCYUKDJ</td>\n",
       "      <td>0.500000</td>\n",
       "      <td>0.8</td>\n",
       "      <td>0.600000</td>\n",
       "      <td>0.266667</td>\n",
       "      <td>1.000000</td>\n",
       "      <td>False</td>\n",
       "      <td>female</td>\n",
       "      <td>41</td>\n",
       "      <td>Associate</td>\n",
       "      <td>}</td>\n",
       "      <td>0.541667</td>\n",
       "      <td>73</td>\n",
       "      <td>47</td>\n",
       "      <td>24.0</td>\n",
       "      <td>18</td>\n",
       "    </tr>\n",
       "    <tr>\n",
       "      <th>1</th>\n",
       "      <td>A10JXOU89D5RXR</td>\n",
       "      <td>0.900000</td>\n",
       "      <td>1.0</td>\n",
       "      <td>0.900000</td>\n",
       "      <td>0.700000</td>\n",
       "      <td>0.986667</td>\n",
       "      <td>False</td>\n",
       "      <td>female</td>\n",
       "      <td>60</td>\n",
       "      <td>Bachelor</td>\n",
       "      <td>}</td>\n",
       "      <td>0.875000</td>\n",
       "      <td>69</td>\n",
       "      <td>51</td>\n",
       "      <td>30.0</td>\n",
       "      <td>27</td>\n",
       "    </tr>\n",
       "    <tr>\n",
       "      <th>2</th>\n",
       "      <td>A11S8IAAVDXCUS</td>\n",
       "      <td>0.200000</td>\n",
       "      <td>1.0</td>\n",
       "      <td>0.633333</td>\n",
       "      <td>0.133333</td>\n",
       "      <td>1.000000</td>\n",
       "      <td>False</td>\n",
       "      <td>female</td>\n",
       "      <td>31</td>\n",
       "      <td>Associate</td>\n",
       "      <td>}</td>\n",
       "      <td>0.491667</td>\n",
       "      <td>73</td>\n",
       "      <td>47</td>\n",
       "      <td>30.0</td>\n",
       "      <td>19</td>\n",
       "    </tr>\n",
       "    <tr>\n",
       "      <th>3</th>\n",
       "      <td>A12FTSX85NQ8N9</td>\n",
       "      <td>0.866667</td>\n",
       "      <td>1.0</td>\n",
       "      <td>0.966667</td>\n",
       "      <td>0.866667</td>\n",
       "      <td>1.000000</td>\n",
       "      <td>False</td>\n",
       "      <td>male</td>\n",
       "      <td>29</td>\n",
       "      <td>Bachelor</td>\n",
       "      <td>}</td>\n",
       "      <td>0.925000</td>\n",
       "      <td>61</td>\n",
       "      <td>59</td>\n",
       "      <td>30.0</td>\n",
       "      <td>29</td>\n",
       "    </tr>\n",
       "    <tr>\n",
       "      <th>4</th>\n",
       "      <td>A12HZGOZQD5YK7</td>\n",
       "      <td>0.966667</td>\n",
       "      <td>1.0</td>\n",
       "      <td>0.966667</td>\n",
       "      <td>0.800000</td>\n",
       "      <td>1.000000</td>\n",
       "      <td>False</td>\n",
       "      <td>female</td>\n",
       "      <td>41</td>\n",
       "      <td>Associate</td>\n",
       "      <td>}</td>\n",
       "      <td>0.933333</td>\n",
       "      <td>66</td>\n",
       "      <td>54</td>\n",
       "      <td>30.0</td>\n",
       "      <td>29</td>\n",
       "    </tr>\n",
       "  </tbody>\n",
       "</table>\n",
       "</div>"
      ],
      "text/plain": [
       "          mturkID  go2avoidPun_second_session  go2win_second_session  \\\n",
       "0  A10BH9PYCYUKDJ                    0.500000                    0.8   \n",
       "1  A10JXOU89D5RXR                    0.900000                    1.0   \n",
       "2  A11S8IAAVDXCUS                    0.200000                    1.0   \n",
       "3  A12FTSX85NQ8N9                    0.866667                    1.0   \n",
       "4  A12HZGOZQD5YK7                    0.966667                    1.0   \n",
       "\n",
       "   nogo2avoidPun_second_session  nogo2win_second_session  \\\n",
       "0                      0.600000                 0.266667   \n",
       "1                      0.900000                 0.700000   \n",
       "2                      0.633333                 0.133333   \n",
       "3                      0.966667                 0.866667   \n",
       "4                      0.966667                 0.800000   \n",
       "\n",
       "   circle_side_performance_second_session  is_below_55_second_session  \\\n",
       "0                                1.000000                       False   \n",
       "1                                0.986667                       False   \n",
       "2                                1.000000                       False   \n",
       "3                                1.000000                       False   \n",
       "4                                1.000000                       False   \n",
       "\n",
       "  gender_second_session age_second_session education_level_second_session  \\\n",
       "0                female                 41                      Associate   \n",
       "1                female                 60                       Bachelor   \n",
       "2                female                 31                      Associate   \n",
       "3                  male                 29                       Bachelor   \n",
       "4                female                 41                      Associate   \n",
       "\n",
       "  comments_second_session  overall_performance  second_num_GOs  \\\n",
       "0                       }             0.541667              73   \n",
       "1                       }             0.875000              69   \n",
       "2                       }             0.491667              73   \n",
       "3                       }             0.925000              61   \n",
       "4                       }             0.933333              66   \n",
       "\n",
       "   second_num_noGos  second_num_go2win_Gos  second_num_nogo2avoidPun_noGos  \n",
       "0                47                   24.0                              18  \n",
       "1                51                   30.0                              27  \n",
       "2                47                   30.0                              19  \n",
       "3                59                   30.0                              29  \n",
       "4                54                   30.0                              29  "
      ]
     },
     "execution_count": 29,
     "metadata": {},
     "output_type": "execute_result"
    }
   ],
   "source": [
    "final_performace_data = performance_per_condition.pivot(index='mturkID', columns='cond', values='correct').reset_index()\n",
    "\n",
    "\n",
    "final_performace_data = pd.merge(final_performace_data, accuracy_data, on='mturkID')\n",
    "final_performace_data = pd.merge(final_performace_data, raw_demographic_data, on='mturkID')\n",
    "final_performace_data.columns = ['mturkID', 'go2avoidPun_second_session', 'go2win_second_session', 'nogo2avoidPun_second_session', 'nogo2win_second_session', 'circle_side_performance_second_session',\\\n",
    "       'is_below_55_second_session', 'gender_second_session', 'age_second_session', 'education_level_second_session', 'comments_second_session']\n",
    "overall_performance =  final_performace_data['nogo2win_second_session'] + \\\n",
    "                        final_performace_data['go2win_second_session'] + \\\n",
    "                        final_performace_data['nogo2avoidPun_second_session'] + \\\n",
    "                        final_performace_data['go2avoidPun_second_session']\n",
    "final_performace_data['overall_performance'] = overall_performance/4\n",
    "\n",
    "final_performace_data = final_performace_data.merge(new_pav_metric_df, on='mturkID', how='left')\n",
    "\n",
    "final_performace_data.head()"
   ]
  },
  {
   "cell_type": "code",
   "execution_count": 30,
   "metadata": {},
   "outputs": [
    {
     "data": {
      "text/plain": [
       "(114, 16)"
      ]
     },
     "execution_count": 30,
     "metadata": {},
     "output_type": "execute_result"
    }
   ],
   "source": [
    "final_performace_data.shape"
   ]
  },
  {
   "cell_type": "code",
   "execution_count": 31,
   "metadata": {},
   "outputs": [],
   "source": [
    "final_performace_data.drop_duplicates().to_csv('Data/second_round_final_performance.csv')"
   ]
  },
  {
   "cell_type": "markdown",
   "metadata": {},
   "source": [
    "# Pav axis"
   ]
  },
  {
   "cell_type": "code",
   "execution_count": 32,
   "metadata": {},
   "outputs": [
    {
     "data": {
      "text/plain": [
       "(0.0, 1.0)"
      ]
     },
     "execution_count": 32,
     "metadata": {},
     "output_type": "execute_result"
    },
    {
     "data": {
      "image/png": "[encoded data removed]",
      "text/plain": [
       "<Figure size 720x720 with 4 Axes>"
      ]
     },
     "metadata": {},
     "output_type": "display_data"
    }
   ],
   "source": [
    "fig, axs = plt.subplots(ncols=2, nrows = 2, figsize=(10,10))\n",
    "plt.ylim(0, 1)\n",
    "\n",
    "final_performace_data['is_learned'] = final_performace_data.overall_performance > 0.65\n",
    "\n",
    "sns.barplot(x=\"is_learned\", y=\"nogo2win_second_session\", \n",
    " data=final_performace_data,\n",
    " palette=\"muted\", ax = axs[(1,1)]).set_title('Nogo2Win')\n",
    "\n",
    "axs[1,1].set_ylim(0,1)\n",
    "\n",
    "sns.barplot(x=\"is_learned\", y=\"go2win_second_session\", \n",
    " data=final_performace_data,\n",
    " palette=\"muted\", ax = axs[(0,1)]).set_title('go2Win')\n",
    "axs[0,1].set_ylim(0,1)\n",
    "\n",
    "\n",
    "\n",
    "sns.barplot(x=\"is_learned\", y=\"go2avoidPun_second_session\", \n",
    " data=final_performace_data,\n",
    " palette=\"muted\", ax = axs[(0,0)]).set_title('go2avoidPun')\n",
    "axs[0,0].set_ylim(0,1)\n",
    "\n",
    "\n",
    "\n",
    "sns.barplot(x=\"is_learned\", y=\"nogo2avoidPun_second_session\", \n",
    " data=final_performace_data,\n",
    " palette=\"muted\", ax = axs[(1,0)]).set_title('nogo2avoidPun')\n",
    "axs[1,0].set_ylim(0,1)\n",
    "\n",
    "\n"
   ]
  },
  {
   "cell_type": "markdown",
   "metadata": {},
   "source": [
    "# modelling"
   ]
  },
  {
   "cell_type": "code",
   "execution_count": 33,
   "metadata": {},
   "outputs": [],
   "source": [
    "result_of_trials = circle_task_logs[['mturkID', 'internal_node_id', 'response', 'side', 'choice', 'cond_action', 'cond_outcome','correct_action', 'outcome', 'feedback_points', 'block']].copy()\n",
    "\n",
    "result_of_trials['stimulus'] = result_of_trials['cond_action'] + '2' + result_of_trials['cond_outcome']\n",
    "result_of_trials['is_go'] = result_of_trials.choice == 'go'\n",
    "result_of_trials['is_go'].replace({True: 1, False: 0}, inplace=True)\n"
   ]
  },
  {
   "cell_type": "code",
   "execution_count": 34,
   "metadata": {},
   "outputs": [],
   "source": [
    "result_of_trials[['mturkID','choice', 'feedback_points', 'stimulus']].to_csv('data_for_modeling_matlab_second_session.csv')"
   ]
  },
  {
   "cell_type": "code",
   "execution_count": 35,
   "metadata": {},
   "outputs": [],
   "source": [
    "result_of_trials.to_csv('Data/second_round_result_of_trials.csv')"
   ]
  },
  {
   "cell_type": "code",
   "execution_count": 36,
   "metadata": {},
   "outputs": [
    {
     "name": "stderr",
     "output_type": "stream",
     "text": [
      "/var/folders/5p/j5wvkpqj2_n5r5h100pdscbr0000gn/T/ipykernel_20331/3190507868.py:22: PerformanceWarning: DataFrame is highly fragmented.  This is usually the result of calling `frame.insert` many times, which has poor performance.  Consider using pd.concat instead.  To get a de-fragmented frame, use `newframe = frame.copy()`\n",
      "  go2win_prob_df[mID] = go_of_every_subject_in_s.is_go.copy()\n",
      "/var/folders/5p/j5wvkpqj2_n5r5h100pdscbr0000gn/T/ipykernel_20331/3190507868.py:25: PerformanceWarning: DataFrame is highly fragmented.  This is usually the result of calling `frame.insert` many times, which has poor performance.  Consider using pd.concat instead.  To get a de-fragmented frame, use `newframe = frame.copy()`\n",
      "  nogo2win_prob_df[mID] = go_of_every_subject_in_s.is_go.copy()\n",
      "/var/folders/5p/j5wvkpqj2_n5r5h100pdscbr0000gn/T/ipykernel_20331/3190507868.py:28: PerformanceWarning: DataFrame is highly fragmented.  This is usually the result of calling `frame.insert` many times, which has poor performance.  Consider using pd.concat instead.  To get a de-fragmented frame, use `newframe = frame.copy()`\n",
      "  go2avoidPun_prob_df[mID] = go_of_every_subject_in_s.is_go.copy()\n",
      "/var/folders/5p/j5wvkpqj2_n5r5h100pdscbr0000gn/T/ipykernel_20331/3190507868.py:31: PerformanceWarning: DataFrame is highly fragmented.  This is usually the result of calling `frame.insert` many times, which has poor performance.  Consider using pd.concat instead.  To get a de-fragmented frame, use `newframe = frame.copy()`\n",
      "  nogo2avoidPun_prob_df[mID] = go_of_every_subject_in_s.is_go.copy()\n"
     ]
    }
   ],
   "source": [
    "go2win_go_prob = pd.Series(np.zeros(30))\n",
    "go2win_prob_df = pd.DataFrame()\n",
    "\n",
    "nogo2win_go_prob = pd.Series(np.zeros(30))\n",
    "nogo2win_prob_df = pd.DataFrame()\n",
    "\n",
    "go2avoidPun_go_prob = pd.Series(np.zeros(30))\n",
    "go2avoidPun_prob_df = pd.DataFrame()\n",
    "\n",
    "nogo2avoidPun_go_prob = pd.Series(np.zeros(30))\n",
    "nogo2avoidPun_prob_df = pd.DataFrame()\n",
    "\n",
    "\n",
    "\n",
    "\n",
    "for mID in result_of_trials.mturkID.dropna().unique():\n",
    "    go_of_every_subject = result_of_trials[result_of_trials['mturkID']== mID][['is_go','stimulus']].reset_index(drop=True)\n",
    "    for s in ['go2win','nogo2win','go2avoidPun', 'nogo2avoidPun']:\n",
    "        go_of_every_subject_in_s = go_of_every_subject[go_of_every_subject.stimulus == s].reset_index(drop=True)\n",
    "        if( s == 'go2win'):\n",
    "            go2win_go_prob += go_of_every_subject_in_s.is_go/len(result_of_trials.mturkID.dropna().unique())\n",
    "            go2win_prob_df[mID] = go_of_every_subject_in_s.is_go.copy()\n",
    "        elif (s == 'nogo2win'):\n",
    "            nogo2win_go_prob += go_of_every_subject_in_s.is_go/len(result_of_trials.mturkID.dropna().unique())\n",
    "            nogo2win_prob_df[mID] = go_of_every_subject_in_s.is_go.copy()\n",
    "        elif (s == 'go2avoidPun'):\n",
    "            go2avoidPun_go_prob += go_of_every_subject_in_s.is_go/len(result_of_trials.mturkID.dropna().unique())\n",
    "            go2avoidPun_prob_df[mID] = go_of_every_subject_in_s.is_go.copy()\n",
    "        elif (s == 'nogo2avoidPun'):\n",
    "            nogo2avoidPun_go_prob += go_of_every_subject_in_s.is_go/len(result_of_trials.mturkID.dropna().unique())\n",
    "            nogo2avoidPun_prob_df[mID] = go_of_every_subject_in_s.is_go.copy()\n"
   ]
  },
  {
   "cell_type": "code",
   "execution_count": 37,
   "metadata": {},
   "outputs": [
    {
     "data": {
      "text/plain": [
       "(0.0, 1.0)"
      ]
     },
     "execution_count": 37,
     "metadata": {},
     "output_type": "execute_result"
    },
    {
     "data": {
      "image/png": "[encoded data removed]",
      "text/plain": [
       "<Figure size 720x432 with 1 Axes>"
      ]
     },
     "metadata": {},
     "output_type": "display_data"
    }
   ],
   "source": [
    "go_prob_df = pd.DataFrame({'go2win': go2win_go_prob, \n",
    "                            'nogo2win': nogo2win_go_prob,\n",
    "                            'go2avoidPun': go2avoidPun_go_prob,\\\n",
    "                            'nogo2avoidPun': nogo2avoidPun_go_prob})\n",
    "\n",
    "# go_prob_df['idx'] = go_prob_df.index\n",
    "\n",
    "go_prob_df = go_prob_df.melt().rename(columns={'variable': 'stimulus', 'value': 'go_prob'})\n",
    "go_prob_df.loc[go_prob_df.stimulus == 'go2win', 'idx'] = range(0,30) \n",
    "go_prob_df.loc[go_prob_df.stimulus == 'nogo2win', 'idx'] = range(0,30) \n",
    "go_prob_df.loc[go_prob_df.stimulus == 'go2avoidPun', 'idx'] = range(0,30) \n",
    "go_prob_df.loc[go_prob_df.stimulus == 'nogo2avoidPun', 'idx'] = range(0,30)\n",
    "\n",
    "plt.figure(figsize=(10,6))\n",
    "ax = sns.lineplot(x=\"idx\", y=\"go_prob\",\n",
    "             hue=\"stimulus\", \n",
    "             data=go_prob_df)\n",
    "plt.title(\"mean of go probability in every trial\")\n",
    "plt.ylim(0,1)\n",
    "\n",
    " "
   ]
  },
  {
   "cell_type": "code",
   "execution_count": 38,
   "metadata": {},
   "outputs": [],
   "source": [
    "from sys import path\n",
    "from dotenv import load_dotenv\n",
    "import os\n",
    "load_dotenv();\n",
    "\n",
    "path.append(os.environ.get(\"MODELING_PATH\"))\n",
    "\n",
    "from fitting import ML"
   ]
  },
  {
   "cell_type": "code",
   "execution_count": 39,
   "metadata": {},
   "outputs": [],
   "source": [
    "np.random.seed(30)\n",
    "modeling_result_df = {}\n",
    "modeling_result_df['mturkID'] = []\n",
    "\n",
    "modeling_result_df['alpha'] = []\n",
    "modeling_result_df['beta'] = []\n",
    "modeling_result_df['noise'] = []\n",
    "modeling_result_df['go_bias'] = []\n",
    "modeling_result_df['pav_bias'] = []\n",
    "\n",
    "\n",
    "def fit_subject_with_id(subject_id):\n",
    "    df = result_of_trials[result_of_trials.mturkID == subject_id]\n",
    "    df = df[['choice','stimulus','feedback_points']].rename(columns={'choice':'action', 'feedback_points':'reward'}).reset_index(drop=True)\n",
    "    df['reward'] = pd.to_numeric(df.reward)\n",
    "\n",
    "    max_likelihood = ML(df, optimization_method='Nelder-Mead', model_type='RW+noise+bias+Pav', initial_guess=np.random.normal(0,1,1)[0]*np.array([0.1,0.1,0.1,0.1,0.1]), without_bound=True)\n",
    "    res = max_likelihood.fit_model()\n",
    "    return res\n",
    "\n"
   ]
  },
  {
   "cell_type": "code",
   "execution_count": 40,
   "metadata": {},
   "outputs": [],
   "source": [
    "# for subject in tqdm_notebook(result_of_trials.mturkID.unique()):\n",
    "#     res = fit_subject_with_id(subject)\n",
    "\n",
    "#     modeling_result_df['mturkID'].append(subject)\n",
    "#     modeling_result_df['alpha'].append(1 / (1+ np.exp(-res.x[0])))\n",
    "#     modeling_result_df['beta'].append(np.exp(res.x[1]))\n",
    "#     modeling_result_df['noise'].append(1 / (1+ np.exp(-res.x[2])))\n",
    "#     modeling_result_df['go_bias'].append(res.x[3])\n",
    "#     modeling_result_df['pav_bias'].append(np.exp(res.x[4]))\n",
    "\n",
    "\n"
   ]
  },
  {
   "cell_type": "code",
   "execution_count": 41,
   "metadata": {},
   "outputs": [],
   "source": [
    "# mr_df = pd.DataFrame(modeling_result_df)\n",
    "# mr_df['pav_bias_log'] = np.log(mr_df.pav_bias)"
   ]
  },
  {
   "cell_type": "code",
   "execution_count": 42,
   "metadata": {},
   "outputs": [],
   "source": [
    "# mr_df.to_csv('./Data/modeling_result_second_session.csv')\n",
    "mr_df = pd.read_csv(\"result_of_modeling_matlab_second_session.csv\")\n"
   ]
  },
  {
   "cell_type": "code",
   "execution_count": 43,
   "metadata": {},
   "outputs": [
    {
     "data": {
      "text/html": [
       "<div>\n",
       "<style scoped>\n",
       "    .dataframe tbody tr th:only-of-type {\n",
       "        vertical-align: middle;\n",
       "    }\n",
       "\n",
       "    .dataframe tbody tr th {\n",
       "        vertical-align: top;\n",
       "    }\n",
       "\n",
       "    .dataframe thead th {\n",
       "        text-align: right;\n",
       "    }\n",
       "</style>\n",
       "<table border=\"1\" class=\"dataframe\">\n",
       "  <thead>\n",
       "    <tr style=\"text-align: right;\">\n",
       "      <th></th>\n",
       "      <th>mturkID</th>\n",
       "      <th>alpha</th>\n",
       "      <th>beta_rew</th>\n",
       "      <th>beta_pun</th>\n",
       "      <th>noise</th>\n",
       "      <th>bias</th>\n",
       "      <th>pav</th>\n",
       "    </tr>\n",
       "  </thead>\n",
       "  <tbody>\n",
       "    <tr>\n",
       "      <th>0</th>\n",
       "      <td>A10BH9PYCYUKDJ</td>\n",
       "      <td>0.551227</td>\n",
       "      <td>1.870221</td>\n",
       "      <td>1.053401</td>\n",
       "      <td>0.959794</td>\n",
       "      <td>0.662219</td>\n",
       "      <td>0.779801</td>\n",
       "    </tr>\n",
       "    <tr>\n",
       "      <th>1</th>\n",
       "      <td>A10JXOU89D5RXR</td>\n",
       "      <td>0.412565</td>\n",
       "      <td>15.178943</td>\n",
       "      <td>6.129252</td>\n",
       "      <td>0.980676</td>\n",
       "      <td>0.090129</td>\n",
       "      <td>1.296948</td>\n",
       "    </tr>\n",
       "    <tr>\n",
       "      <th>2</th>\n",
       "      <td>A11S8IAAVDXCUS</td>\n",
       "      <td>0.071892</td>\n",
       "      <td>8.704185</td>\n",
       "      <td>0.768169</td>\n",
       "      <td>0.967854</td>\n",
       "      <td>0.682982</td>\n",
       "      <td>1.808994</td>\n",
       "    </tr>\n",
       "    <tr>\n",
       "      <th>3</th>\n",
       "      <td>A12FTSX85NQ8N9</td>\n",
       "      <td>0.425205</td>\n",
       "      <td>30.349657</td>\n",
       "      <td>8.326456</td>\n",
       "      <td>0.981851</td>\n",
       "      <td>1.226812</td>\n",
       "      <td>3.517293</td>\n",
       "    </tr>\n",
       "    <tr>\n",
       "      <th>4</th>\n",
       "      <td>A12HZGOZQD5YK7</td>\n",
       "      <td>0.833290</td>\n",
       "      <td>6.096610</td>\n",
       "      <td>5.602220</td>\n",
       "      <td>0.979218</td>\n",
       "      <td>1.444383</td>\n",
       "      <td>0.868345</td>\n",
       "    </tr>\n",
       "    <tr>\n",
       "      <th>5</th>\n",
       "      <td>A12X8RUSITV7RU</td>\n",
       "      <td>0.463235</td>\n",
       "      <td>14.876242</td>\n",
       "      <td>7.001601</td>\n",
       "      <td>0.980821</td>\n",
       "      <td>0.022230</td>\n",
       "      <td>1.384434</td>\n",
       "    </tr>\n",
       "    <tr>\n",
       "      <th>6</th>\n",
       "      <td>A136K4YZY2OFTV</td>\n",
       "      <td>0.392600</td>\n",
       "      <td>27.995251</td>\n",
       "      <td>11.275108</td>\n",
       "      <td>0.983656</td>\n",
       "      <td>1.281831</td>\n",
       "      <td>1.117288</td>\n",
       "    </tr>\n",
       "    <tr>\n",
       "      <th>7</th>\n",
       "      <td>A14W0AXTJ3R19V</td>\n",
       "      <td>0.214122</td>\n",
       "      <td>5.947264</td>\n",
       "      <td>7.198534</td>\n",
       "      <td>0.973615</td>\n",
       "      <td>1.261445</td>\n",
       "      <td>0.595965</td>\n",
       "    </tr>\n",
       "    <tr>\n",
       "      <th>8</th>\n",
       "      <td>A173MXK429XAZQ</td>\n",
       "      <td>0.236580</td>\n",
       "      <td>56.197834</td>\n",
       "      <td>10.682136</td>\n",
       "      <td>0.938888</td>\n",
       "      <td>1.318079</td>\n",
       "      <td>1.619207</td>\n",
       "    </tr>\n",
       "    <tr>\n",
       "      <th>9</th>\n",
       "      <td>A1AF25FCVKC87X</td>\n",
       "      <td>0.320824</td>\n",
       "      <td>5.546058</td>\n",
       "      <td>4.153229</td>\n",
       "      <td>0.973035</td>\n",
       "      <td>0.984347</td>\n",
       "      <td>1.032505</td>\n",
       "    </tr>\n",
       "    <tr>\n",
       "      <th>10</th>\n",
       "      <td>A1BM57TUNAQIXM</td>\n",
       "      <td>0.148605</td>\n",
       "      <td>5.086063</td>\n",
       "      <td>4.057389</td>\n",
       "      <td>0.952492</td>\n",
       "      <td>0.723212</td>\n",
       "      <td>1.166141</td>\n",
       "    </tr>\n",
       "    <tr>\n",
       "      <th>11</th>\n",
       "      <td>A1CY7IOJ9YH136</td>\n",
       "      <td>0.208781</td>\n",
       "      <td>7.885806</td>\n",
       "      <td>9.365729</td>\n",
       "      <td>0.949219</td>\n",
       "      <td>-0.531885</td>\n",
       "      <td>0.550468</td>\n",
       "    </tr>\n",
       "    <tr>\n",
       "      <th>12</th>\n",
       "      <td>A1DKVUTOBPQH11</td>\n",
       "      <td>0.187503</td>\n",
       "      <td>56.621254</td>\n",
       "      <td>6.284243</td>\n",
       "      <td>0.966605</td>\n",
       "      <td>1.381774</td>\n",
       "      <td>0.388301</td>\n",
       "    </tr>\n",
       "    <tr>\n",
       "      <th>13</th>\n",
       "      <td>A1DZMZTXWOM9MR</td>\n",
       "      <td>0.389733</td>\n",
       "      <td>25.538269</td>\n",
       "      <td>8.983778</td>\n",
       "      <td>0.982451</td>\n",
       "      <td>0.566737</td>\n",
       "      <td>2.091237</td>\n",
       "    </tr>\n",
       "    <tr>\n",
       "      <th>14</th>\n",
       "      <td>A1F1BIPJR11LSR</td>\n",
       "      <td>0.234489</td>\n",
       "      <td>17.661900</td>\n",
       "      <td>4.108898</td>\n",
       "      <td>0.964430</td>\n",
       "      <td>1.230171</td>\n",
       "      <td>0.407736</td>\n",
       "    </tr>\n",
       "    <tr>\n",
       "      <th>15</th>\n",
       "      <td>A1F2APQMJSQVFK</td>\n",
       "      <td>0.483206</td>\n",
       "      <td>6.398456</td>\n",
       "      <td>1.807129</td>\n",
       "      <td>0.818253</td>\n",
       "      <td>1.589924</td>\n",
       "      <td>0.499707</td>\n",
       "    </tr>\n",
       "    <tr>\n",
       "      <th>16</th>\n",
       "      <td>A1FVXS8IM5QYO8</td>\n",
       "      <td>0.358499</td>\n",
       "      <td>6.480064</td>\n",
       "      <td>1.747837</td>\n",
       "      <td>0.899565</td>\n",
       "      <td>1.582818</td>\n",
       "      <td>1.211767</td>\n",
       "    </tr>\n",
       "    <tr>\n",
       "      <th>17</th>\n",
       "      <td>A1FYWSPNO7KN1O</td>\n",
       "      <td>0.242993</td>\n",
       "      <td>12.178297</td>\n",
       "      <td>13.541495</td>\n",
       "      <td>0.982774</td>\n",
       "      <td>1.166617</td>\n",
       "      <td>0.613707</td>\n",
       "    </tr>\n",
       "    <tr>\n",
       "      <th>18</th>\n",
       "      <td>A1IFIK8J49WBER</td>\n",
       "      <td>0.263632</td>\n",
       "      <td>10.873532</td>\n",
       "      <td>2.674259</td>\n",
       "      <td>0.984598</td>\n",
       "      <td>0.876314</td>\n",
       "      <td>7.737942</td>\n",
       "    </tr>\n",
       "    <tr>\n",
       "      <th>19</th>\n",
       "      <td>A1JJYY622DGE5L</td>\n",
       "      <td>0.046032</td>\n",
       "      <td>9.200272</td>\n",
       "      <td>1.442100</td>\n",
       "      <td>0.971038</td>\n",
       "      <td>-1.312778</td>\n",
       "      <td>0.357383</td>\n",
       "    </tr>\n",
       "    <tr>\n",
       "      <th>20</th>\n",
       "      <td>A1MJVTR0PCKBWW</td>\n",
       "      <td>0.105393</td>\n",
       "      <td>10.863403</td>\n",
       "      <td>1.129603</td>\n",
       "      <td>0.895249</td>\n",
       "      <td>1.651447</td>\n",
       "      <td>1.863082</td>\n",
       "    </tr>\n",
       "    <tr>\n",
       "      <th>21</th>\n",
       "      <td>A1NLJ1L4VCQYV2</td>\n",
       "      <td>0.175337</td>\n",
       "      <td>21.972110</td>\n",
       "      <td>1.726530</td>\n",
       "      <td>0.978842</td>\n",
       "      <td>0.589679</td>\n",
       "      <td>1.379188</td>\n",
       "    </tr>\n",
       "    <tr>\n",
       "      <th>22</th>\n",
       "      <td>A1PHDT66U6IK4Q</td>\n",
       "      <td>0.282654</td>\n",
       "      <td>14.007515</td>\n",
       "      <td>1.328935</td>\n",
       "      <td>0.884302</td>\n",
       "      <td>0.322040</td>\n",
       "      <td>1.021844</td>\n",
       "    </tr>\n",
       "    <tr>\n",
       "      <th>23</th>\n",
       "      <td>A1R0689JPSQ3OF</td>\n",
       "      <td>0.335043</td>\n",
       "      <td>7.054472</td>\n",
       "      <td>8.159271</td>\n",
       "      <td>0.957290</td>\n",
       "      <td>0.441567</td>\n",
       "      <td>0.952335</td>\n",
       "    </tr>\n",
       "    <tr>\n",
       "      <th>24</th>\n",
       "      <td>A1R8A8BK2VN7RH</td>\n",
       "      <td>0.528738</td>\n",
       "      <td>20.587382</td>\n",
       "      <td>5.353453</td>\n",
       "      <td>0.969818</td>\n",
       "      <td>0.599013</td>\n",
       "      <td>1.843417</td>\n",
       "    </tr>\n",
       "    <tr>\n",
       "      <th>25</th>\n",
       "      <td>A1TW2BZRRS874Z</td>\n",
       "      <td>0.210952</td>\n",
       "      <td>12.066224</td>\n",
       "      <td>3.851821</td>\n",
       "      <td>0.955722</td>\n",
       "      <td>1.166261</td>\n",
       "      <td>4.909720</td>\n",
       "    </tr>\n",
       "    <tr>\n",
       "      <th>26</th>\n",
       "      <td>A1UDOSYE75OYYI</td>\n",
       "      <td>0.210779</td>\n",
       "      <td>6.731383</td>\n",
       "      <td>3.718097</td>\n",
       "      <td>0.974761</td>\n",
       "      <td>0.281631</td>\n",
       "      <td>1.207589</td>\n",
       "    </tr>\n",
       "    <tr>\n",
       "      <th>27</th>\n",
       "      <td>A1W7I6FN183I8F</td>\n",
       "      <td>0.360940</td>\n",
       "      <td>21.471268</td>\n",
       "      <td>10.888527</td>\n",
       "      <td>0.972954</td>\n",
       "      <td>0.745173</td>\n",
       "      <td>2.831988</td>\n",
       "    </tr>\n",
       "    <tr>\n",
       "      <th>28</th>\n",
       "      <td>A1WZY0K6IE3ASG</td>\n",
       "      <td>0.310881</td>\n",
       "      <td>34.211998</td>\n",
       "      <td>11.631823</td>\n",
       "      <td>0.970426</td>\n",
       "      <td>1.476968</td>\n",
       "      <td>0.455892</td>\n",
       "    </tr>\n",
       "    <tr>\n",
       "      <th>29</th>\n",
       "      <td>A20X6V1AAXZGNZ</td>\n",
       "      <td>0.255102</td>\n",
       "      <td>19.071791</td>\n",
       "      <td>2.460193</td>\n",
       "      <td>0.979788</td>\n",
       "      <td>2.037855</td>\n",
       "      <td>0.437231</td>\n",
       "    </tr>\n",
       "    <tr>\n",
       "      <th>30</th>\n",
       "      <td>A2196WCNDZULFS</td>\n",
       "      <td>0.249639</td>\n",
       "      <td>8.169803</td>\n",
       "      <td>11.523944</td>\n",
       "      <td>0.977275</td>\n",
       "      <td>0.737511</td>\n",
       "      <td>0.291483</td>\n",
       "    </tr>\n",
       "    <tr>\n",
       "      <th>31</th>\n",
       "      <td>A21ZYTE6WOKUA</td>\n",
       "      <td>0.063353</td>\n",
       "      <td>4.865360</td>\n",
       "      <td>0.861135</td>\n",
       "      <td>0.930289</td>\n",
       "      <td>2.138370</td>\n",
       "      <td>0.453200</td>\n",
       "    </tr>\n",
       "    <tr>\n",
       "      <th>32</th>\n",
       "      <td>A23KAJRDVCVGOE</td>\n",
       "      <td>0.604371</td>\n",
       "      <td>24.047654</td>\n",
       "      <td>1.143433</td>\n",
       "      <td>0.900469</td>\n",
       "      <td>2.845248</td>\n",
       "      <td>0.390714</td>\n",
       "    </tr>\n",
       "    <tr>\n",
       "      <th>33</th>\n",
       "      <td>A24CG5BTB8KQ39</td>\n",
       "      <td>0.066397</td>\n",
       "      <td>3.143081</td>\n",
       "      <td>1.958330</td>\n",
       "      <td>0.931548</td>\n",
       "      <td>1.483461</td>\n",
       "      <td>0.448199</td>\n",
       "    </tr>\n",
       "    <tr>\n",
       "      <th>34</th>\n",
       "      <td>A24Z9RP5YZZ2TY</td>\n",
       "      <td>0.399911</td>\n",
       "      <td>15.460085</td>\n",
       "      <td>7.371110</td>\n",
       "      <td>0.957261</td>\n",
       "      <td>1.857406</td>\n",
       "      <td>0.854474</td>\n",
       "    </tr>\n",
       "    <tr>\n",
       "      <th>35</th>\n",
       "      <td>A25PFSORDO3SWQ</td>\n",
       "      <td>0.607375</td>\n",
       "      <td>34.268422</td>\n",
       "      <td>8.027432</td>\n",
       "      <td>0.983515</td>\n",
       "      <td>0.211853</td>\n",
       "      <td>1.069198</td>\n",
       "    </tr>\n",
       "    <tr>\n",
       "      <th>36</th>\n",
       "      <td>A2615YW1YERQBO</td>\n",
       "      <td>0.245686</td>\n",
       "      <td>18.159730</td>\n",
       "      <td>6.070465</td>\n",
       "      <td>0.966913</td>\n",
       "      <td>1.019680</td>\n",
       "      <td>1.016234</td>\n",
       "    </tr>\n",
       "    <tr>\n",
       "      <th>37</th>\n",
       "      <td>A26LOVXF4QZZCO</td>\n",
       "      <td>0.233770</td>\n",
       "      <td>7.147174</td>\n",
       "      <td>7.549354</td>\n",
       "      <td>0.975658</td>\n",
       "      <td>-0.808373</td>\n",
       "      <td>0.679356</td>\n",
       "    </tr>\n",
       "    <tr>\n",
       "      <th>38</th>\n",
       "      <td>A272X64FOZFYLB</td>\n",
       "      <td>0.268288</td>\n",
       "      <td>23.923616</td>\n",
       "      <td>10.689859</td>\n",
       "      <td>0.982162</td>\n",
       "      <td>0.420373</td>\n",
       "      <td>3.823593</td>\n",
       "    </tr>\n",
       "    <tr>\n",
       "      <th>39</th>\n",
       "      <td>A29AF16RLMI0ES</td>\n",
       "      <td>0.115325</td>\n",
       "      <td>3.451558</td>\n",
       "      <td>0.783692</td>\n",
       "      <td>0.963494</td>\n",
       "      <td>-1.352619</td>\n",
       "      <td>0.709238</td>\n",
       "    </tr>\n",
       "    <tr>\n",
       "      <th>40</th>\n",
       "      <td>A2BRZKFG6WAVER</td>\n",
       "      <td>0.290244</td>\n",
       "      <td>17.236396</td>\n",
       "      <td>3.741107</td>\n",
       "      <td>0.963730</td>\n",
       "      <td>1.765426</td>\n",
       "      <td>0.588153</td>\n",
       "    </tr>\n",
       "    <tr>\n",
       "      <th>41</th>\n",
       "      <td>A2DVV59R1CQU6T</td>\n",
       "      <td>0.212395</td>\n",
       "      <td>22.766047</td>\n",
       "      <td>0.983637</td>\n",
       "      <td>0.962112</td>\n",
       "      <td>1.178005</td>\n",
       "      <td>0.452194</td>\n",
       "    </tr>\n",
       "    <tr>\n",
       "      <th>42</th>\n",
       "      <td>A2FGKKWP33DFWS</td>\n",
       "      <td>0.129625</td>\n",
       "      <td>2.843191</td>\n",
       "      <td>1.641624</td>\n",
       "      <td>0.967894</td>\n",
       "      <td>-1.660483</td>\n",
       "      <td>1.101718</td>\n",
       "    </tr>\n",
       "    <tr>\n",
       "      <th>43</th>\n",
       "      <td>A2FYFCD16Z3PCC</td>\n",
       "      <td>0.330060</td>\n",
       "      <td>38.723548</td>\n",
       "      <td>17.824756</td>\n",
       "      <td>0.949568</td>\n",
       "      <td>0.929484</td>\n",
       "      <td>0.527698</td>\n",
       "    </tr>\n",
       "    <tr>\n",
       "      <th>44</th>\n",
       "      <td>A2I960JYUZ8KAV</td>\n",
       "      <td>0.229579</td>\n",
       "      <td>12.955254</td>\n",
       "      <td>3.909473</td>\n",
       "      <td>0.966437</td>\n",
       "      <td>1.484792</td>\n",
       "      <td>1.330345</td>\n",
       "    </tr>\n",
       "    <tr>\n",
       "      <th>45</th>\n",
       "      <td>A2IP3ZAFYGV8M9</td>\n",
       "      <td>0.275005</td>\n",
       "      <td>8.646560</td>\n",
       "      <td>5.139969</td>\n",
       "      <td>0.966798</td>\n",
       "      <td>2.156025</td>\n",
       "      <td>0.568612</td>\n",
       "    </tr>\n",
       "    <tr>\n",
       "      <th>46</th>\n",
       "      <td>A2IYR9HF66R029</td>\n",
       "      <td>0.186140</td>\n",
       "      <td>6.683256</td>\n",
       "      <td>3.084408</td>\n",
       "      <td>0.853780</td>\n",
       "      <td>1.537201</td>\n",
       "      <td>1.720137</td>\n",
       "    </tr>\n",
       "    <tr>\n",
       "      <th>47</th>\n",
       "      <td>A2KED6T6BO622W</td>\n",
       "      <td>0.273053</td>\n",
       "      <td>5.795227</td>\n",
       "      <td>9.893597</td>\n",
       "      <td>0.972767</td>\n",
       "      <td>0.640315</td>\n",
       "      <td>1.341924</td>\n",
       "    </tr>\n",
       "    <tr>\n",
       "      <th>48</th>\n",
       "      <td>A2KLJKDG90K1PP</td>\n",
       "      <td>0.221232</td>\n",
       "      <td>15.167452</td>\n",
       "      <td>5.012062</td>\n",
       "      <td>0.975227</td>\n",
       "      <td>0.659591</td>\n",
       "      <td>0.506890</td>\n",
       "    </tr>\n",
       "    <tr>\n",
       "      <th>49</th>\n",
       "      <td>A2ML0070M8FDK1</td>\n",
       "      <td>0.134547</td>\n",
       "      <td>17.712898</td>\n",
       "      <td>2.578182</td>\n",
       "      <td>0.937302</td>\n",
       "      <td>1.435922</td>\n",
       "      <td>0.733977</td>\n",
       "    </tr>\n",
       "    <tr>\n",
       "      <th>50</th>\n",
       "      <td>A2NAKIXS3DVGAA</td>\n",
       "      <td>0.526596</td>\n",
       "      <td>43.435904</td>\n",
       "      <td>6.358250</td>\n",
       "      <td>0.964929</td>\n",
       "      <td>0.929165</td>\n",
       "      <td>0.968675</td>\n",
       "    </tr>\n",
       "    <tr>\n",
       "      <th>51</th>\n",
       "      <td>A2ND52KJ1AIYEK</td>\n",
       "      <td>0.306539</td>\n",
       "      <td>8.317248</td>\n",
       "      <td>1.507353</td>\n",
       "      <td>0.920210</td>\n",
       "      <td>1.082141</td>\n",
       "      <td>0.327798</td>\n",
       "    </tr>\n",
       "    <tr>\n",
       "      <th>52</th>\n",
       "      <td>A2NQR8NLH5P3IH</td>\n",
       "      <td>0.312878</td>\n",
       "      <td>11.856352</td>\n",
       "      <td>2.930614</td>\n",
       "      <td>0.984965</td>\n",
       "      <td>1.578132</td>\n",
       "      <td>7.922069</td>\n",
       "    </tr>\n",
       "    <tr>\n",
       "      <th>53</th>\n",
       "      <td>A2ONILC0LZKG6Y</td>\n",
       "      <td>0.368369</td>\n",
       "      <td>16.048959</td>\n",
       "      <td>7.802782</td>\n",
       "      <td>0.981557</td>\n",
       "      <td>1.703910</td>\n",
       "      <td>0.503847</td>\n",
       "    </tr>\n",
       "    <tr>\n",
       "      <th>54</th>\n",
       "      <td>A2PI6RY9USPIRS</td>\n",
       "      <td>0.315529</td>\n",
       "      <td>11.851220</td>\n",
       "      <td>2.862349</td>\n",
       "      <td>0.984953</td>\n",
       "      <td>1.755450</td>\n",
       "      <td>8.146552</td>\n",
       "    </tr>\n",
       "    <tr>\n",
       "      <th>55</th>\n",
       "      <td>A2PTABUVOUYAH5</td>\n",
       "      <td>0.323010</td>\n",
       "      <td>17.363098</td>\n",
       "      <td>2.787686</td>\n",
       "      <td>0.809876</td>\n",
       "      <td>0.465631</td>\n",
       "      <td>2.668190</td>\n",
       "    </tr>\n",
       "    <tr>\n",
       "      <th>56</th>\n",
       "      <td>A2TLN8489YGY81</td>\n",
       "      <td>0.465645</td>\n",
       "      <td>22.903790</td>\n",
       "      <td>9.518989</td>\n",
       "      <td>0.968214</td>\n",
       "      <td>1.097463</td>\n",
       "      <td>0.501152</td>\n",
       "    </tr>\n",
       "    <tr>\n",
       "      <th>57</th>\n",
       "      <td>A2UGM73EHLK6XI</td>\n",
       "      <td>0.594602</td>\n",
       "      <td>17.847877</td>\n",
       "      <td>3.667375</td>\n",
       "      <td>0.967621</td>\n",
       "      <td>1.827648</td>\n",
       "      <td>0.455610</td>\n",
       "    </tr>\n",
       "    <tr>\n",
       "      <th>58</th>\n",
       "      <td>A2V27A9GZA1NR2</td>\n",
       "      <td>0.247260</td>\n",
       "      <td>12.755870</td>\n",
       "      <td>18.972225</td>\n",
       "      <td>0.932083</td>\n",
       "      <td>0.881718</td>\n",
       "      <td>1.830194</td>\n",
       "    </tr>\n",
       "    <tr>\n",
       "      <th>59</th>\n",
       "      <td>A2VA0NCPWJ8XZG</td>\n",
       "      <td>0.354332</td>\n",
       "      <td>31.661731</td>\n",
       "      <td>6.965629</td>\n",
       "      <td>0.938803</td>\n",
       "      <td>0.642272</td>\n",
       "      <td>1.643747</td>\n",
       "    </tr>\n",
       "    <tr>\n",
       "      <th>60</th>\n",
       "      <td>A2WPKP73S4MBLK</td>\n",
       "      <td>0.264643</td>\n",
       "      <td>17.035168</td>\n",
       "      <td>5.096530</td>\n",
       "      <td>0.964041</td>\n",
       "      <td>0.926308</td>\n",
       "      <td>0.909463</td>\n",
       "    </tr>\n",
       "    <tr>\n",
       "      <th>61</th>\n",
       "      <td>A2XS49LRNX8PD4</td>\n",
       "      <td>0.698325</td>\n",
       "      <td>25.819052</td>\n",
       "      <td>5.297068</td>\n",
       "      <td>0.979325</td>\n",
       "      <td>-0.822346</td>\n",
       "      <td>0.747725</td>\n",
       "    </tr>\n",
       "    <tr>\n",
       "      <th>62</th>\n",
       "      <td>A2YTO4EY3MNYAJ</td>\n",
       "      <td>0.032139</td>\n",
       "      <td>2.900240</td>\n",
       "      <td>1.201647</td>\n",
       "      <td>0.953939</td>\n",
       "      <td>0.503595</td>\n",
       "      <td>0.325549</td>\n",
       "    </tr>\n",
       "    <tr>\n",
       "      <th>63</th>\n",
       "      <td>A34YDGVZKRJ0LZ</td>\n",
       "      <td>0.526871</td>\n",
       "      <td>3.040926</td>\n",
       "      <td>0.707186</td>\n",
       "      <td>0.964954</td>\n",
       "      <td>1.269728</td>\n",
       "      <td>0.788162</td>\n",
       "    </tr>\n",
       "    <tr>\n",
       "      <th>64</th>\n",
       "      <td>A353XKDTUX10NC</td>\n",
       "      <td>0.536957</td>\n",
       "      <td>20.796838</td>\n",
       "      <td>4.221841</td>\n",
       "      <td>0.964142</td>\n",
       "      <td>1.278998</td>\n",
       "      <td>0.823591</td>\n",
       "    </tr>\n",
       "    <tr>\n",
       "      <th>65</th>\n",
       "      <td>A358YR7MWC6LRH</td>\n",
       "      <td>0.198229</td>\n",
       "      <td>11.412118</td>\n",
       "      <td>13.126673</td>\n",
       "      <td>0.964394</td>\n",
       "      <td>1.809095</td>\n",
       "      <td>4.669004</td>\n",
       "    </tr>\n",
       "    <tr>\n",
       "      <th>66</th>\n",
       "      <td>A35TUIBF05DKM4</td>\n",
       "      <td>0.274862</td>\n",
       "      <td>11.117686</td>\n",
       "      <td>3.038328</td>\n",
       "      <td>0.633758</td>\n",
       "      <td>0.506097</td>\n",
       "      <td>1.961547</td>\n",
       "    </tr>\n",
       "    <tr>\n",
       "      <th>67</th>\n",
       "      <td>A36GU3OHGLDS8R</td>\n",
       "      <td>0.287491</td>\n",
       "      <td>23.675668</td>\n",
       "      <td>2.447329</td>\n",
       "      <td>0.874654</td>\n",
       "      <td>1.400368</td>\n",
       "      <td>1.050650</td>\n",
       "    </tr>\n",
       "    <tr>\n",
       "      <th>68</th>\n",
       "      <td>A36SNKUPZRJMHX</td>\n",
       "      <td>0.428452</td>\n",
       "      <td>1.523166</td>\n",
       "      <td>1.234556</td>\n",
       "      <td>0.953491</td>\n",
       "      <td>0.601395</td>\n",
       "      <td>1.187750</td>\n",
       "    </tr>\n",
       "    <tr>\n",
       "      <th>69</th>\n",
       "      <td>A37JC45Y9GLSA7</td>\n",
       "      <td>0.082838</td>\n",
       "      <td>3.200319</td>\n",
       "      <td>2.058651</td>\n",
       "      <td>0.538273</td>\n",
       "      <td>2.033573</td>\n",
       "      <td>0.746209</td>\n",
       "    </tr>\n",
       "    <tr>\n",
       "      <th>70</th>\n",
       "      <td>A3C59PV8Q2TV8A</td>\n",
       "      <td>0.118648</td>\n",
       "      <td>11.736957</td>\n",
       "      <td>5.157108</td>\n",
       "      <td>0.975857</td>\n",
       "      <td>1.487004</td>\n",
       "      <td>0.868368</td>\n",
       "    </tr>\n",
       "    <tr>\n",
       "      <th>71</th>\n",
       "      <td>A3CGQOJC28OVGN</td>\n",
       "      <td>0.142015</td>\n",
       "      <td>34.406922</td>\n",
       "      <td>14.202094</td>\n",
       "      <td>0.967267</td>\n",
       "      <td>0.323967</td>\n",
       "      <td>5.379045</td>\n",
       "    </tr>\n",
       "    <tr>\n",
       "      <th>72</th>\n",
       "      <td>A3D2U4QF7821ZW</td>\n",
       "      <td>0.126205</td>\n",
       "      <td>106.649624</td>\n",
       "      <td>0.951686</td>\n",
       "      <td>0.923607</td>\n",
       "      <td>2.495787</td>\n",
       "      <td>0.364019</td>\n",
       "    </tr>\n",
       "    <tr>\n",
       "      <th>73</th>\n",
       "      <td>A3E8SXH0BAYG85</td>\n",
       "      <td>0.473906</td>\n",
       "      <td>21.527537</td>\n",
       "      <td>3.589750</td>\n",
       "      <td>0.980583</td>\n",
       "      <td>1.331494</td>\n",
       "      <td>0.385694</td>\n",
       "    </tr>\n",
       "    <tr>\n",
       "      <th>74</th>\n",
       "      <td>A3FOKP72T5I4FR</td>\n",
       "      <td>0.206763</td>\n",
       "      <td>6.483525</td>\n",
       "      <td>5.904161</td>\n",
       "      <td>0.965225</td>\n",
       "      <td>1.607957</td>\n",
       "      <td>1.634887</td>\n",
       "    </tr>\n",
       "    <tr>\n",
       "      <th>75</th>\n",
       "      <td>A3GVUYY3TWRPZT</td>\n",
       "      <td>0.605280</td>\n",
       "      <td>20.696390</td>\n",
       "      <td>1.076057</td>\n",
       "      <td>0.955954</td>\n",
       "      <td>1.128255</td>\n",
       "      <td>1.032694</td>\n",
       "    </tr>\n",
       "    <tr>\n",
       "      <th>76</th>\n",
       "      <td>A3HQXCWOIQKT4F</td>\n",
       "      <td>0.742750</td>\n",
       "      <td>21.964022</td>\n",
       "      <td>5.061005</td>\n",
       "      <td>0.968102</td>\n",
       "      <td>0.793624</td>\n",
       "      <td>1.038719</td>\n",
       "    </tr>\n",
       "    <tr>\n",
       "      <th>77</th>\n",
       "      <td>A3K9GTQBOI7O5A</td>\n",
       "      <td>0.373693</td>\n",
       "      <td>5.673304</td>\n",
       "      <td>1.989512</td>\n",
       "      <td>0.947432</td>\n",
       "      <td>0.093977</td>\n",
       "      <td>5.847960</td>\n",
       "    </tr>\n",
       "    <tr>\n",
       "      <th>78</th>\n",
       "      <td>A3M8O363B3IAKE</td>\n",
       "      <td>0.365185</td>\n",
       "      <td>10.268166</td>\n",
       "      <td>2.837158</td>\n",
       "      <td>0.978032</td>\n",
       "      <td>0.577745</td>\n",
       "      <td>0.433318</td>\n",
       "    </tr>\n",
       "    <tr>\n",
       "      <th>79</th>\n",
       "      <td>A3MUW3RCHP2BBJ</td>\n",
       "      <td>0.445210</td>\n",
       "      <td>14.527505</td>\n",
       "      <td>1.134620</td>\n",
       "      <td>0.975325</td>\n",
       "      <td>1.419728</td>\n",
       "      <td>0.478735</td>\n",
       "    </tr>\n",
       "    <tr>\n",
       "      <th>80</th>\n",
       "      <td>A3NXT3OVGL7QNR</td>\n",
       "      <td>0.214866</td>\n",
       "      <td>25.688850</td>\n",
       "      <td>5.947945</td>\n",
       "      <td>0.964864</td>\n",
       "      <td>0.869573</td>\n",
       "      <td>1.331539</td>\n",
       "    </tr>\n",
       "    <tr>\n",
       "      <th>81</th>\n",
       "      <td>A3OYUJ6E6BJS4H</td>\n",
       "      <td>0.170370</td>\n",
       "      <td>5.714043</td>\n",
       "      <td>6.875825</td>\n",
       "      <td>0.974224</td>\n",
       "      <td>1.784623</td>\n",
       "      <td>0.435460</td>\n",
       "    </tr>\n",
       "    <tr>\n",
       "      <th>82</th>\n",
       "      <td>A3R5OJR60C6004</td>\n",
       "      <td>0.246351</td>\n",
       "      <td>6.558618</td>\n",
       "      <td>7.463324</td>\n",
       "      <td>0.976407</td>\n",
       "      <td>1.418255</td>\n",
       "      <td>4.037258</td>\n",
       "    </tr>\n",
       "    <tr>\n",
       "      <th>83</th>\n",
       "      <td>A3UDUHUVFKD833</td>\n",
       "      <td>0.418633</td>\n",
       "      <td>13.769001</td>\n",
       "      <td>9.617508</td>\n",
       "      <td>0.968882</td>\n",
       "      <td>1.746379</td>\n",
       "      <td>1.654558</td>\n",
       "    </tr>\n",
       "    <tr>\n",
       "      <th>84</th>\n",
       "      <td>A4W9APAHFWVLO</td>\n",
       "      <td>0.598498</td>\n",
       "      <td>66.131298</td>\n",
       "      <td>3.315800</td>\n",
       "      <td>0.905159</td>\n",
       "      <td>1.478682</td>\n",
       "      <td>0.433053</td>\n",
       "    </tr>\n",
       "    <tr>\n",
       "      <th>85</th>\n",
       "      <td>A50K26F2IS94U</td>\n",
       "      <td>0.404164</td>\n",
       "      <td>16.992193</td>\n",
       "      <td>4.038566</td>\n",
       "      <td>0.976999</td>\n",
       "      <td>1.301228</td>\n",
       "      <td>2.174584</td>\n",
       "    </tr>\n",
       "    <tr>\n",
       "      <th>86</th>\n",
       "      <td>A748N8WFG2HR4</td>\n",
       "      <td>0.356759</td>\n",
       "      <td>2.114063</td>\n",
       "      <td>5.555650</td>\n",
       "      <td>0.886930</td>\n",
       "      <td>1.057109</td>\n",
       "      <td>1.378737</td>\n",
       "    </tr>\n",
       "    <tr>\n",
       "      <th>87</th>\n",
       "      <td>A98E8M4QLI9RS</td>\n",
       "      <td>0.273643</td>\n",
       "      <td>14.981004</td>\n",
       "      <td>4.168469</td>\n",
       "      <td>0.980576</td>\n",
       "      <td>0.871518</td>\n",
       "      <td>1.939880</td>\n",
       "    </tr>\n",
       "    <tr>\n",
       "      <th>88</th>\n",
       "      <td>ABW8U1U74P8MI</td>\n",
       "      <td>0.050865</td>\n",
       "      <td>1.637080</td>\n",
       "      <td>1.700575</td>\n",
       "      <td>0.951335</td>\n",
       "      <td>0.341416</td>\n",
       "      <td>0.318005</td>\n",
       "    </tr>\n",
       "    <tr>\n",
       "      <th>89</th>\n",
       "      <td>AEOVYZ83Q3GX4</td>\n",
       "      <td>0.187160</td>\n",
       "      <td>10.585498</td>\n",
       "      <td>13.274373</td>\n",
       "      <td>0.981042</td>\n",
       "      <td>0.332395</td>\n",
       "      <td>1.853259</td>\n",
       "    </tr>\n",
       "    <tr>\n",
       "      <th>90</th>\n",
       "      <td>AEQ8K4HBO323D</td>\n",
       "      <td>0.205572</td>\n",
       "      <td>8.588558</td>\n",
       "      <td>7.246257</td>\n",
       "      <td>0.976682</td>\n",
       "      <td>1.026053</td>\n",
       "      <td>0.651527</td>\n",
       "    </tr>\n",
       "    <tr>\n",
       "      <th>91</th>\n",
       "      <td>AFFXVHHBUWW4D</td>\n",
       "      <td>0.149578</td>\n",
       "      <td>65.514097</td>\n",
       "      <td>1.377485</td>\n",
       "      <td>0.942643</td>\n",
       "      <td>-0.238336</td>\n",
       "      <td>2.053444</td>\n",
       "    </tr>\n",
       "    <tr>\n",
       "      <th>92</th>\n",
       "      <td>AFM65NU0UXIGP</td>\n",
       "      <td>0.203329</td>\n",
       "      <td>5.784354</td>\n",
       "      <td>9.213954</td>\n",
       "      <td>0.976298</td>\n",
       "      <td>1.695400</td>\n",
       "      <td>2.470042</td>\n",
       "    </tr>\n",
       "    <tr>\n",
       "      <th>93</th>\n",
       "      <td>AFRJKS3Z3H4CA</td>\n",
       "      <td>0.362766</td>\n",
       "      <td>15.352505</td>\n",
       "      <td>8.868666</td>\n",
       "      <td>0.969100</td>\n",
       "      <td>1.626340</td>\n",
       "      <td>0.723216</td>\n",
       "    </tr>\n",
       "    <tr>\n",
       "      <th>94</th>\n",
       "      <td>AGILQEFEPEK7N</td>\n",
       "      <td>0.443530</td>\n",
       "      <td>2.193326</td>\n",
       "      <td>0.806673</td>\n",
       "      <td>0.943936</td>\n",
       "      <td>0.344408</td>\n",
       "      <td>0.348748</td>\n",
       "    </tr>\n",
       "    <tr>\n",
       "      <th>95</th>\n",
       "      <td>AHYTT3T8W9Y9Y</td>\n",
       "      <td>0.572020</td>\n",
       "      <td>18.169604</td>\n",
       "      <td>1.960945</td>\n",
       "      <td>0.967658</td>\n",
       "      <td>1.852542</td>\n",
       "      <td>1.760453</td>\n",
       "    </tr>\n",
       "    <tr>\n",
       "      <th>96</th>\n",
       "      <td>AI4AO0O0WIJF7</td>\n",
       "      <td>0.340312</td>\n",
       "      <td>7.490419</td>\n",
       "      <td>12.458360</td>\n",
       "      <td>0.974498</td>\n",
       "      <td>1.156892</td>\n",
       "      <td>0.554298</td>\n",
       "    </tr>\n",
       "    <tr>\n",
       "      <th>97</th>\n",
       "      <td>AJDXSXAWDDAEO</td>\n",
       "      <td>0.529504</td>\n",
       "      <td>12.345126</td>\n",
       "      <td>6.457614</td>\n",
       "      <td>0.977126</td>\n",
       "      <td>2.613457</td>\n",
       "      <td>1.018496</td>\n",
       "    </tr>\n",
       "    <tr>\n",
       "      <th>98</th>\n",
       "      <td>AKNYT1NTK2UFK</td>\n",
       "      <td>0.239031</td>\n",
       "      <td>22.894939</td>\n",
       "      <td>2.631025</td>\n",
       "      <td>0.918813</td>\n",
       "      <td>0.343167</td>\n",
       "      <td>2.266224</td>\n",
       "    </tr>\n",
       "    <tr>\n",
       "      <th>99</th>\n",
       "      <td>AKVDK30EEV08C</td>\n",
       "      <td>0.292670</td>\n",
       "      <td>12.041255</td>\n",
       "      <td>4.713151</td>\n",
       "      <td>0.835822</td>\n",
       "      <td>2.124304</td>\n",
       "      <td>2.480597</td>\n",
       "    </tr>\n",
       "    <tr>\n",
       "      <th>100</th>\n",
       "      <td>ALYR5CI2SM2JC</td>\n",
       "      <td>0.369144</td>\n",
       "      <td>17.832116</td>\n",
       "      <td>4.831408</td>\n",
       "      <td>0.978990</td>\n",
       "      <td>0.791144</td>\n",
       "      <td>2.486903</td>\n",
       "    </tr>\n",
       "    <tr>\n",
       "      <th>101</th>\n",
       "      <td>AMHUDJ44HF1ZH</td>\n",
       "      <td>0.221971</td>\n",
       "      <td>4.547781</td>\n",
       "      <td>7.526809</td>\n",
       "      <td>0.958973</td>\n",
       "      <td>1.751597</td>\n",
       "      <td>1.172327</td>\n",
       "    </tr>\n",
       "    <tr>\n",
       "      <th>102</th>\n",
       "      <td>AMTTB8JUWRRM7</td>\n",
       "      <td>0.271959</td>\n",
       "      <td>7.789981</td>\n",
       "      <td>4.346115</td>\n",
       "      <td>0.956324</td>\n",
       "      <td>2.751598</td>\n",
       "      <td>0.869203</td>\n",
       "    </tr>\n",
       "    <tr>\n",
       "      <th>103</th>\n",
       "      <td>ANFWGSQ8BQRZ</td>\n",
       "      <td>0.458829</td>\n",
       "      <td>16.330166</td>\n",
       "      <td>7.719096</td>\n",
       "      <td>0.968310</td>\n",
       "      <td>-1.456870</td>\n",
       "      <td>0.500859</td>\n",
       "    </tr>\n",
       "    <tr>\n",
       "      <th>104</th>\n",
       "      <td>APGX2WZ59OWDN</td>\n",
       "      <td>0.709311</td>\n",
       "      <td>29.084561</td>\n",
       "      <td>3.600602</td>\n",
       "      <td>0.947116</td>\n",
       "      <td>1.972592</td>\n",
       "      <td>0.705088</td>\n",
       "    </tr>\n",
       "    <tr>\n",
       "      <th>105</th>\n",
       "      <td>AR8O1107OAW4V</td>\n",
       "      <td>0.167304</td>\n",
       "      <td>2.850099</td>\n",
       "      <td>3.442086</td>\n",
       "      <td>0.955173</td>\n",
       "      <td>0.223139</td>\n",
       "      <td>0.593019</td>\n",
       "    </tr>\n",
       "    <tr>\n",
       "      <th>106</th>\n",
       "      <td>ARWF605I7RWM7</td>\n",
       "      <td>0.384056</td>\n",
       "      <td>8.785767</td>\n",
       "      <td>10.516179</td>\n",
       "      <td>0.978722</td>\n",
       "      <td>0.982780</td>\n",
       "      <td>2.082169</td>\n",
       "    </tr>\n",
       "    <tr>\n",
       "      <th>107</th>\n",
       "      <td>AUZNL6ARA1UEC</td>\n",
       "      <td>0.664479</td>\n",
       "      <td>19.397779</td>\n",
       "      <td>6.869294</td>\n",
       "      <td>0.977142</td>\n",
       "      <td>0.521619</td>\n",
       "      <td>0.623767</td>\n",
       "    </tr>\n",
       "    <tr>\n",
       "      <th>108</th>\n",
       "      <td>AVFMTS8A5R4XK</td>\n",
       "      <td>0.024362</td>\n",
       "      <td>2.237959</td>\n",
       "      <td>1.308950</td>\n",
       "      <td>0.953727</td>\n",
       "      <td>-0.434095</td>\n",
       "      <td>0.171902</td>\n",
       "    </tr>\n",
       "    <tr>\n",
       "      <th>109</th>\n",
       "      <td>AW5O1RK3W60FC</td>\n",
       "      <td>0.333267</td>\n",
       "      <td>19.178600</td>\n",
       "      <td>6.855369</td>\n",
       "      <td>0.981522</td>\n",
       "      <td>1.480555</td>\n",
       "      <td>0.583670</td>\n",
       "    </tr>\n",
       "    <tr>\n",
       "      <th>110</th>\n",
       "      <td>AXAO7UJYYEFCO</td>\n",
       "      <td>0.167669</td>\n",
       "      <td>9.603904</td>\n",
       "      <td>4.880263</td>\n",
       "      <td>0.969226</td>\n",
       "      <td>1.671987</td>\n",
       "      <td>0.593788</td>\n",
       "    </tr>\n",
       "    <tr>\n",
       "      <th>111</th>\n",
       "      <td>AYW62R027PUT1</td>\n",
       "      <td>0.134034</td>\n",
       "      <td>33.334565</td>\n",
       "      <td>25.143381</td>\n",
       "      <td>0.975449</td>\n",
       "      <td>-0.256151</td>\n",
       "      <td>1.592163</td>\n",
       "    </tr>\n",
       "    <tr>\n",
       "      <th>112</th>\n",
       "      <td>AZ69TBTDH7AZS</td>\n",
       "      <td>0.333225</td>\n",
       "      <td>4.235351</td>\n",
       "      <td>8.812157</td>\n",
       "      <td>0.977040</td>\n",
       "      <td>1.537158</td>\n",
       "      <td>2.483518</td>\n",
       "    </tr>\n",
       "    <tr>\n",
       "      <th>113</th>\n",
       "      <td>AZCGSVDT79E6X</td>\n",
       "      <td>0.365141</td>\n",
       "      <td>13.151191</td>\n",
       "      <td>10.072762</td>\n",
       "      <td>0.983168</td>\n",
       "      <td>2.379474</td>\n",
       "      <td>0.807879</td>\n",
       "    </tr>\n",
       "  </tbody>\n",
       "</table>\n",
       "</div>"
      ],
      "text/plain": [
       "            mturkID     alpha    beta_rew   beta_pun     noise      bias  \\\n",
       "0    A10BH9PYCYUKDJ  0.551227    1.870221   1.053401  0.959794  0.662219   \n",
       "1    A10JXOU89D5RXR  0.412565   15.178943   6.129252  0.980676  0.090129   \n",
       "2    A11S8IAAVDXCUS  0.071892    8.704185   0.768169  0.967854  0.682982   \n",
       "3    A12FTSX85NQ8N9  0.425205   30.349657   8.326456  0.981851  1.226812   \n",
       "4    A12HZGOZQD5YK7  0.833290    6.096610   5.602220  0.979218  1.444383   \n",
       "5    A12X8RUSITV7RU  0.463235   14.876242   7.001601  0.980821  0.022230   \n",
       "6    A136K4YZY2OFTV  0.392600   27.995251  11.275108  0.983656  1.281831   \n",
       "7    A14W0AXTJ3R19V  0.214122    5.947264   7.198534  0.973615  1.261445   \n",
       "8    A173MXK429XAZQ  0.236580   56.197834  10.682136  0.938888  1.318079   \n",
       "9    A1AF25FCVKC87X  0.320824    5.546058   4.153229  0.973035  0.984347   \n",
       "10   A1BM57TUNAQIXM  0.148605    5.086063   4.057389  0.952492  0.723212   \n",
       "11   A1CY7IOJ9YH136  0.208781    7.885806   9.365729  0.949219 -0.531885   \n",
       "12   A1DKVUTOBPQH11  0.187503   56.621254   6.284243  0.966605  1.381774   \n",
       "13   A1DZMZTXWOM9MR  0.389733   25.538269   8.983778  0.982451  0.566737   \n",
       "14   A1F1BIPJR11LSR  0.234489   17.661900   4.108898  0.964430  1.230171   \n",
       "15   A1F2APQMJSQVFK  0.483206    6.398456   1.807129  0.818253  1.589924   \n",
       "16   A1FVXS8IM5QYO8  0.358499    6.480064   1.747837  0.899565  1.582818   \n",
       "17   A1FYWSPNO7KN1O  0.242993   12.178297  13.541495  0.982774  1.166617   \n",
       "18   A1IFIK8J49WBER  0.263632   10.873532   2.674259  0.984598  0.876314   \n",
       "19   A1JJYY622DGE5L  0.046032    9.200272   1.442100  0.971038 -1.312778   \n",
       "20   A1MJVTR0PCKBWW  0.105393   10.863403   1.129603  0.895249  1.651447   \n",
       "21   A1NLJ1L4VCQYV2  0.175337   21.972110   1.726530  0.978842  0.589679   \n",
       "22   A1PHDT66U6IK4Q  0.282654   14.007515   1.328935  0.884302  0.322040   \n",
       "23   A1R0689JPSQ3OF  0.335043    7.054472   8.159271  0.957290  0.441567   \n",
       "24   A1R8A8BK2VN7RH  0.528738   20.587382   5.353453  0.969818  0.599013   \n",
       "25   A1TW2BZRRS874Z  0.210952   12.066224   3.851821  0.955722  1.166261   \n",
       "26   A1UDOSYE75OYYI  0.210779    6.731383   3.718097  0.974761  0.281631   \n",
       "27   A1W7I6FN183I8F  0.360940   21.471268  10.888527  0.972954  0.745173   \n",
       "28   A1WZY0K6IE3ASG  0.310881   34.211998  11.631823  0.970426  1.476968   \n",
       "29   A20X6V1AAXZGNZ  0.255102   19.071791   2.460193  0.979788  2.037855   \n",
       "30   A2196WCNDZULFS  0.249639    8.169803  11.523944  0.977275  0.737511   \n",
       "31    A21ZYTE6WOKUA  0.063353    4.865360   0.861135  0.930289  2.138370   \n",
       "32   A23KAJRDVCVGOE  0.604371   24.047654   1.143433  0.900469  2.845248   \n",
       "33   A24CG5BTB8KQ39  0.066397    3.143081   1.958330  0.931548  1.483461   \n",
       "34   A24Z9RP5YZZ2TY  0.399911   15.460085   7.371110  0.957261  1.857406   \n",
       "35   A25PFSORDO3SWQ  0.607375   34.268422   8.027432  0.983515  0.211853   \n",
       "36   A2615YW1YERQBO  0.245686   18.159730   6.070465  0.966913  1.019680   \n",
       "37   A26LOVXF4QZZCO  0.233770    7.147174   7.549354  0.975658 -0.808373   \n",
       "38   A272X64FOZFYLB  0.268288   23.923616  10.689859  0.982162  0.420373   \n",
       "39   A29AF16RLMI0ES  0.115325    3.451558   0.783692  0.963494 -1.352619   \n",
       "40   A2BRZKFG6WAVER  0.290244   17.236396   3.741107  0.963730  1.765426   \n",
       "41   A2DVV59R1CQU6T  0.212395   22.766047   0.983637  0.962112  1.178005   \n",
       "42   A2FGKKWP33DFWS  0.129625    2.843191   1.641624  0.967894 -1.660483   \n",
       "43   A2FYFCD16Z3PCC  0.330060   38.723548  17.824756  0.949568  0.929484   \n",
       "44   A2I960JYUZ8KAV  0.229579   12.955254   3.909473  0.966437  1.484792   \n",
       "45   A2IP3ZAFYGV8M9  0.275005    8.646560   5.139969  0.966798  2.156025   \n",
       "46   A2IYR9HF66R029  0.186140    6.683256   3.084408  0.853780  1.537201   \n",
       "47   A2KED6T6BO622W  0.273053    5.795227   9.893597  0.972767  0.640315   \n",
       "48   A2KLJKDG90K1PP  0.221232   15.167452   5.012062  0.975227  0.659591   \n",
       "49   A2ML0070M8FDK1  0.134547   17.712898   2.578182  0.937302  1.435922   \n",
       "50   A2NAKIXS3DVGAA  0.526596   43.435904   6.358250  0.964929  0.929165   \n",
       "51   A2ND52KJ1AIYEK  0.306539    8.317248   1.507353  0.920210  1.082141   \n",
       "52   A2NQR8NLH5P3IH  0.312878   11.856352   2.930614  0.984965  1.578132   \n",
       "53   A2ONILC0LZKG6Y  0.368369   16.048959   7.802782  0.981557  1.703910   \n",
       "54   A2PI6RY9USPIRS  0.315529   11.851220   2.862349  0.984953  1.755450   \n",
       "55   A2PTABUVOUYAH5  0.323010   17.363098   2.787686  0.809876  0.465631   \n",
       "56   A2TLN8489YGY81  0.465645   22.903790   9.518989  0.968214  1.097463   \n",
       "57   A2UGM73EHLK6XI  0.594602   17.847877   3.667375  0.967621  1.827648   \n",
       "58   A2V27A9GZA1NR2  0.247260   12.755870  18.972225  0.932083  0.881718   \n",
       "59   A2VA0NCPWJ8XZG  0.354332   31.661731   6.965629  0.938803  0.642272   \n",
       "60   A2WPKP73S4MBLK  0.264643   17.035168   5.096530  0.964041  0.926308   \n",
       "61   A2XS49LRNX8PD4  0.698325   25.819052   5.297068  0.979325 -0.822346   \n",
       "62   A2YTO4EY3MNYAJ  0.032139    2.900240   1.201647  0.953939  0.503595   \n",
       "63   A34YDGVZKRJ0LZ  0.526871    3.040926   0.707186  0.964954  1.269728   \n",
       "64   A353XKDTUX10NC  0.536957   20.796838   4.221841  0.964142  1.278998   \n",
       "65   A358YR7MWC6LRH  0.198229   11.412118  13.126673  0.964394  1.809095   \n",
       "66   A35TUIBF05DKM4  0.274862   11.117686   3.038328  0.633758  0.506097   \n",
       "67   A36GU3OHGLDS8R  0.287491   23.675668   2.447329  0.874654  1.400368   \n",
       "68   A36SNKUPZRJMHX  0.428452    1.523166   1.234556  0.953491  0.601395   \n",
       "69   A37JC45Y9GLSA7  0.082838    3.200319   2.058651  0.538273  2.033573   \n",
       "70   A3C59PV8Q2TV8A  0.118648   11.736957   5.157108  0.975857  1.487004   \n",
       "71   A3CGQOJC28OVGN  0.142015   34.406922  14.202094  0.967267  0.323967   \n",
       "72   A3D2U4QF7821ZW  0.126205  106.649624   0.951686  0.923607  2.495787   \n",
       "73   A3E8SXH0BAYG85  0.473906   21.527537   3.589750  0.980583  1.331494   \n",
       "74   A3FOKP72T5I4FR  0.206763    6.483525   5.904161  0.965225  1.607957   \n",
       "75   A3GVUYY3TWRPZT  0.605280   20.696390   1.076057  0.955954  1.128255   \n",
       "76   A3HQXCWOIQKT4F  0.742750   21.964022   5.061005  0.968102  0.793624   \n",
       "77   A3K9GTQBOI7O5A  0.373693    5.673304   1.989512  0.947432  0.093977   \n",
       "78   A3M8O363B3IAKE  0.365185   10.268166   2.837158  0.978032  0.577745   \n",
       "79   A3MUW3RCHP2BBJ  0.445210   14.527505   1.134620  0.975325  1.419728   \n",
       "80   A3NXT3OVGL7QNR  0.214866   25.688850   5.947945  0.964864  0.869573   \n",
       "81   A3OYUJ6E6BJS4H  0.170370    5.714043   6.875825  0.974224  1.784623   \n",
       "82   A3R5OJR60C6004  0.246351    6.558618   7.463324  0.976407  1.418255   \n",
       "83   A3UDUHUVFKD833  0.418633   13.769001   9.617508  0.968882  1.746379   \n",
       "84    A4W9APAHFWVLO  0.598498   66.131298   3.315800  0.905159  1.478682   \n",
       "85    A50K26F2IS94U  0.404164   16.992193   4.038566  0.976999  1.301228   \n",
       "86    A748N8WFG2HR4  0.356759    2.114063   5.555650  0.886930  1.057109   \n",
       "87    A98E8M4QLI9RS  0.273643   14.981004   4.168469  0.980576  0.871518   \n",
       "88    ABW8U1U74P8MI  0.050865    1.637080   1.700575  0.951335  0.341416   \n",
       "89    AEOVYZ83Q3GX4  0.187160   10.585498  13.274373  0.981042  0.332395   \n",
       "90    AEQ8K4HBO323D  0.205572    8.588558   7.246257  0.976682  1.026053   \n",
       "91    AFFXVHHBUWW4D  0.149578   65.514097   1.377485  0.942643 -0.238336   \n",
       "92    AFM65NU0UXIGP  0.203329    5.784354   9.213954  0.976298  1.695400   \n",
       "93    AFRJKS3Z3H4CA  0.362766   15.352505   8.868666  0.969100  1.626340   \n",
       "94    AGILQEFEPEK7N  0.443530    2.193326   0.806673  0.943936  0.344408   \n",
       "95    AHYTT3T8W9Y9Y  0.572020   18.169604   1.960945  0.967658  1.852542   \n",
       "96    AI4AO0O0WIJF7  0.340312    7.490419  12.458360  0.974498  1.156892   \n",
       "97    AJDXSXAWDDAEO  0.529504   12.345126   6.457614  0.977126  2.613457   \n",
       "98    AKNYT1NTK2UFK  0.239031   22.894939   2.631025  0.918813  0.343167   \n",
       "99    AKVDK30EEV08C  0.292670   12.041255   4.713151  0.835822  2.124304   \n",
       "100   ALYR5CI2SM2JC  0.369144   17.832116   4.831408  0.978990  0.791144   \n",
       "101   AMHUDJ44HF1ZH  0.221971    4.547781   7.526809  0.958973  1.751597   \n",
       "102   AMTTB8JUWRRM7  0.271959    7.789981   4.346115  0.956324  2.751598   \n",
       "103    ANFWGSQ8BQRZ  0.458829   16.330166   7.719096  0.968310 -1.456870   \n",
       "104   APGX2WZ59OWDN  0.709311   29.084561   3.600602  0.947116  1.972592   \n",
       "105   AR8O1107OAW4V  0.167304    2.850099   3.442086  0.955173  0.223139   \n",
       "106   ARWF605I7RWM7  0.384056    8.785767  10.516179  0.978722  0.982780   \n",
       "107   AUZNL6ARA1UEC  0.664479   19.397779   6.869294  0.977142  0.521619   \n",
       "108   AVFMTS8A5R4XK  0.024362    2.237959   1.308950  0.953727 -0.434095   \n",
       "109   AW5O1RK3W60FC  0.333267   19.178600   6.855369  0.981522  1.480555   \n",
       "110   AXAO7UJYYEFCO  0.167669    9.603904   4.880263  0.969226  1.671987   \n",
       "111   AYW62R027PUT1  0.134034   33.334565  25.143381  0.975449 -0.256151   \n",
       "112   AZ69TBTDH7AZS  0.333225    4.235351   8.812157  0.977040  1.537158   \n",
       "113   AZCGSVDT79E6X  0.365141   13.151191  10.072762  0.983168  2.379474   \n",
       "\n",
       "          pav  \n",
       "0    0.779801  \n",
       "1    1.296948  \n",
       "2    1.808994  \n",
       "3    3.517293  \n",
       "4    0.868345  \n",
       "5    1.384434  \n",
       "6    1.117288  \n",
       "7    0.595965  \n",
       "8    1.619207  \n",
       "9    1.032505  \n",
       "10   1.166141  \n",
       "11   0.550468  \n",
       "12   0.388301  \n",
       "13   2.091237  \n",
       "14   0.407736  \n",
       "15   0.499707  \n",
       "16   1.211767  \n",
       "17   0.613707  \n",
       "18   7.737942  \n",
       "19   0.357383  \n",
       "20   1.863082  \n",
       "21   1.379188  \n",
       "22   1.021844  \n",
       "23   0.952335  \n",
       "24   1.843417  \n",
       "25   4.909720  \n",
       "26   1.207589  \n",
       "27   2.831988  \n",
       "28   0.455892  \n",
       "29   0.437231  \n",
       "30   0.291483  \n",
       "31   0.453200  \n",
       "32   0.390714  \n",
       "33   0.448199  \n",
       "34   0.854474  \n",
       "35   1.069198  \n",
       "36   1.016234  \n",
       "37   0.679356  \n",
       "38   3.823593  \n",
       "39   0.709238  \n",
       "40   0.588153  \n",
       "41   0.452194  \n",
       "42   1.101718  \n",
       "43   0.527698  \n",
       "44   1.330345  \n",
       "45   0.568612  \n",
       "46   1.720137  \n",
       "47   1.341924  \n",
       "48   0.506890  \n",
       "49   0.733977  \n",
       "50   0.968675  \n",
       "51   0.327798  \n",
       "52   7.922069  \n",
       "53   0.503847  \n",
       "54   8.146552  \n",
       "55   2.668190  \n",
       "56   0.501152  \n",
       "57   0.455610  \n",
       "58   1.830194  \n",
       "59   1.643747  \n",
       "60   0.909463  \n",
       "61   0.747725  \n",
       "62   0.325549  \n",
       "63   0.788162  \n",
       "64   0.823591  \n",
       "65   4.669004  \n",
       "66   1.961547  \n",
       "67   1.050650  \n",
       "68   1.187750  \n",
       "69   0.746209  \n",
       "70   0.868368  \n",
       "71   5.379045  \n",
       "72   0.364019  \n",
       "73   0.385694  \n",
       "74   1.634887  \n",
       "75   1.032694  \n",
       "76   1.038719  \n",
       "77   5.847960  \n",
       "78   0.433318  \n",
       "79   0.478735  \n",
       "80   1.331539  \n",
       "81   0.435460  \n",
       "82   4.037258  \n",
       "83   1.654558  \n",
       "84   0.433053  \n",
       "85   2.174584  \n",
       "86   1.378737  \n",
       "87   1.939880  \n",
       "88   0.318005  \n",
       "89   1.853259  \n",
       "90   0.651527  \n",
       "91   2.053444  \n",
       "92   2.470042  \n",
       "93   0.723216  \n",
       "94   0.348748  \n",
       "95   1.760453  \n",
       "96   0.554298  \n",
       "97   1.018496  \n",
       "98   2.266224  \n",
       "99   2.480597  \n",
       "100  2.486903  \n",
       "101  1.172327  \n",
       "102  0.869203  \n",
       "103  0.500859  \n",
       "104  0.705088  \n",
       "105  0.593019  \n",
       "106  2.082169  \n",
       "107  0.623767  \n",
       "108  0.171902  \n",
       "109  0.583670  \n",
       "110  0.593788  \n",
       "111  1.592163  \n",
       "112  2.483518  \n",
       "113  0.807879  "
      ]
     },
     "execution_count": 43,
     "metadata": {},
     "output_type": "execute_result"
    }
   ],
   "source": [
    "mr_df"
   ]
  },
  {
   "cell_type": "markdown",
   "metadata": {},
   "source": [
    "# dist of log(pav bias)"
   ]
  },
  {
   "cell_type": "code",
   "execution_count": 44,
   "metadata": {
    "scrolled": true
   },
   "outputs": [
    {
     "name": "stderr",
     "output_type": "stream",
     "text": [
      "/opt/homebrew/lib/python3.9/site-packages/seaborn/distributions.py:2619: FutureWarning: `distplot` is a deprecated function and will be removed in a future version. Please adapt your code to use either `displot` (a figure-level function with similar flexibility) or `histplot` (an axes-level function for histograms).\n",
      "  warnings.warn(msg, FutureWarning)\n"
     ]
    },
    {
     "data": {
      "text/plain": [
       "<AxesSubplot:xlabel='pav', ylabel='Density'>"
      ]
     },
     "execution_count": 44,
     "metadata": {},
     "output_type": "execute_result"
    },
    {
     "data": {
      "image/png": "[encoded data removed]",
      "text/plain": [
       "<Figure size 432x288 with 1 Axes>"
      ]
     },
     "metadata": {},
     "output_type": "display_data"
    }
   ],
   "source": [
    "sns.distplot(mr_df.pav )"
   ]
  },
  {
   "cell_type": "markdown",
   "metadata": {},
   "source": [
    "# dist of learning rate"
   ]
  },
  {
   "cell_type": "code",
   "execution_count": 45,
   "metadata": {},
   "outputs": [
    {
     "name": "stderr",
     "output_type": "stream",
     "text": [
      "/opt/homebrew/lib/python3.9/site-packages/seaborn/distributions.py:2619: FutureWarning: `distplot` is a deprecated function and will be removed in a future version. Please adapt your code to use either `displot` (a figure-level function with similar flexibility) or `histplot` (an axes-level function for histograms).\n",
      "  warnings.warn(msg, FutureWarning)\n"
     ]
    },
    {
     "data": {
      "text/plain": [
       "<AxesSubplot:xlabel='alpha', ylabel='Density'>"
      ]
     },
     "execution_count": 45,
     "metadata": {},
     "output_type": "execute_result"
    },
    {
     "data": {
      "image/png": "[encoded data removed]",
      "text/plain": [
       "<Figure size 432x288 with 1 Axes>"
      ]
     },
     "metadata": {},
     "output_type": "display_data"
    }
   ],
   "source": [
    "sns.distplot((mr_df.alpha), bins=10) "
   ]
  },
  {
   "cell_type": "markdown",
   "metadata": {},
   "source": [
    "# dist of go bias"
   ]
  },
  {
   "cell_type": "code",
   "execution_count": 46,
   "metadata": {},
   "outputs": [
    {
     "name": "stderr",
     "output_type": "stream",
     "text": [
      "/opt/homebrew/lib/python3.9/site-packages/seaborn/distributions.py:2619: FutureWarning: `distplot` is a deprecated function and will be removed in a future version. Please adapt your code to use either `displot` (a figure-level function with similar flexibility) or `histplot` (an axes-level function for histograms).\n",
      "  warnings.warn(msg, FutureWarning)\n"
     ]
    },
    {
     "data": {
      "text/plain": [
       "<AxesSubplot:xlabel='bias', ylabel='Density'>"
      ]
     },
     "execution_count": 46,
     "metadata": {},
     "output_type": "execute_result"
    },
    {
     "data": {
      "image/png": "[encoded data removed]",
      "text/plain": [
       "<Figure size 432x288 with 1 Axes>"
      ]
     },
     "metadata": {},
     "output_type": "display_data"
    }
   ],
   "source": [
    "sns.distplot((mr_df.bias), bins=20) "
   ]
  },
  {
   "cell_type": "markdown",
   "metadata": {},
   "source": [
    "# dist of log(sensitivity to reward)"
   ]
  },
  {
   "cell_type": "code",
   "execution_count": 47,
   "metadata": {},
   "outputs": [
    {
     "ename": "AttributeError",
     "evalue": "'DataFrame' object has no attribute 'beta'",
     "output_type": "error",
     "traceback": [
      "\u001b[0;31m---------------------------------------------------------------------------\u001b[0m",
      "\u001b[0;31mAttributeError\u001b[0m                            Traceback (most recent call last)",
      "\u001b[0;32m/var/folders/5p/j5wvkpqj2_n5r5h100pdscbr0000gn/T/ipykernel_2600/3595021130.py\u001b[0m in \u001b[0;36m<module>\u001b[0;34m\u001b[0m\n\u001b[0;32m----> 1\u001b[0;31m \u001b[0msns\u001b[0m\u001b[0;34m.\u001b[0m\u001b[0mdistplot\u001b[0m\u001b[0;34m(\u001b[0m\u001b[0;34m(\u001b[0m\u001b[0;34m(\u001b[0m\u001b[0mmr_df\u001b[0m\u001b[0;34m.\u001b[0m\u001b[0mbeta\u001b[0m\u001b[0;34m)\u001b[0m\u001b[0;34m)\u001b[0m\u001b[0;34m,\u001b[0m \u001b[0mbins\u001b[0m\u001b[0;34m=\u001b[0m\u001b[0;36m20\u001b[0m\u001b[0;34m)\u001b[0m\u001b[0;34m\u001b[0m\u001b[0;34m\u001b[0m\u001b[0m\n\u001b[0m",
      "\u001b[0;32m/opt/homebrew/lib/python3.9/site-packages/pandas/core/generic.py\u001b[0m in \u001b[0;36m__getattr__\u001b[0;34m(self, name)\u001b[0m\n\u001b[1;32m   5476\u001b[0m         ):\n\u001b[1;32m   5477\u001b[0m             \u001b[0;32mreturn\u001b[0m \u001b[0mself\u001b[0m\u001b[0;34m[\u001b[0m\u001b[0mname\u001b[0m\u001b[0;34m]\u001b[0m\u001b[0;34m\u001b[0m\u001b[0;34m\u001b[0m\u001b[0m\n\u001b[0;32m-> 5478\u001b[0;31m         \u001b[0;32mreturn\u001b[0m \u001b[0mobject\u001b[0m\u001b[0;34m.\u001b[0m\u001b[0m__getattribute__\u001b[0m\u001b[0;34m(\u001b[0m\u001b[0mself\u001b[0m\u001b[0;34m,\u001b[0m \u001b[0mname\u001b[0m\u001b[0;34m)\u001b[0m\u001b[0;34m\u001b[0m\u001b[0;34m\u001b[0m\u001b[0m\n\u001b[0m\u001b[1;32m   5479\u001b[0m \u001b[0;34m\u001b[0m\u001b[0m\n\u001b[1;32m   5480\u001b[0m     \u001b[0;32mdef\u001b[0m \u001b[0m__setattr__\u001b[0m\u001b[0;34m(\u001b[0m\u001b[0mself\u001b[0m\u001b[0;34m,\u001b[0m \u001b[0mname\u001b[0m\u001b[0;34m:\u001b[0m \u001b[0mstr\u001b[0m\u001b[0;34m,\u001b[0m \u001b[0mvalue\u001b[0m\u001b[0;34m)\u001b[0m \u001b[0;34m->\u001b[0m \u001b[0;32mNone\u001b[0m\u001b[0;34m:\u001b[0m\u001b[0;34m\u001b[0m\u001b[0;34m\u001b[0m\u001b[0m\n",
      "\u001b[0;31mAttributeError\u001b[0m: 'DataFrame' object has no attribute 'beta'"
     ]
    }
   ],
   "source": [
    "sns.distplot(((mr_df.beta)), bins=20) "
   ]
  },
  {
   "cell_type": "code",
   "execution_count": 48,
   "metadata": {},
   "outputs": [],
   "source": [
    "mr_perf = pd.merge(mr_df, final_performace_data, on='mturkID')\n",
    "mr_perf['gw_ngw'] = mr_perf.go2win_second_session - mr_perf.nogo2win_second_session\n",
    "\n",
    "mr_perf['non_par_pav'] = mr_perf.go2win_second_session + mr_perf.nogo2avoidPun_second_session - mr_perf.nogo2win_second_session - mr_perf.go2avoidPun_second_session\n",
    "\n",
    "mr_perf['non_par_go_bias']  = mr_perf.go2win_second_session + mr_perf.go2avoidPun_second_session - mr_perf.nogo2win_second_session - mr_perf.nogo2avoidPun_second_session\n"
   ]
  },
  {
   "cell_type": "code",
   "execution_count": 49,
   "metadata": {},
   "outputs": [
    {
     "data": {
      "text/plain": [
       "<AxesSubplot:xlabel='bias', ylabel='nogo2win_second_session'>"
      ]
     },
     "execution_count": 49,
     "metadata": {},
     "output_type": "execute_result"
    },
    {
     "data": {
      "image/png": "[encoded data removed]",
      "text/plain": [
       "<Figure size 432x288 with 1 Axes>"
      ]
     },
     "metadata": {},
     "output_type": "display_data"
    }
   ],
   "source": [
    "sns.regplot(x=('bias'), y='nogo2win_second_session', data = mr_perf)\n",
    "\n"
   ]
  },
  {
   "cell_type": "markdown",
   "metadata": {},
   "source": [
    "# log(pav bias) & (g2win - nogo2win) performance "
   ]
  },
  {
   "cell_type": "code",
   "execution_count": 50,
   "metadata": {},
   "outputs": [
    {
     "data": {
      "text/plain": [
       "<AxesSubplot:xlabel='pav', ylabel='non_par_pav'>"
      ]
     },
     "execution_count": 50,
     "metadata": {},
     "output_type": "execute_result"
    },
    {
     "data": {
      "image/png": "[encoded data removed]",
      "text/plain": [
       "<Figure size 432x288 with 1 Axes>"
      ]
     },
     "metadata": {},
     "output_type": "display_data"
    }
   ],
   "source": [
    "sns.regplot(y=('non_par_pav'), x='pav', data = mr_perf)"
   ]
  },
  {
   "cell_type": "code",
   "execution_count": 51,
   "metadata": {},
   "outputs": [
    {
     "data": {
      "text/plain": [
       "<AxesSubplot:xlabel='pav', ylabel='gw_ngw'>"
      ]
     },
     "execution_count": 51,
     "metadata": {},
     "output_type": "execute_result"
    },
    {
     "data": {
      "image/png": "[encoded data removed]",
      "text/plain": [
       "<Figure size 432x288 with 1 Axes>"
      ]
     },
     "metadata": {},
     "output_type": "display_data"
    }
   ],
   "source": [
    "sns.regplot(x=('pav'), y='gw_ngw', data = mr_perf)"
   ]
  },
  {
   "cell_type": "code",
   "execution_count": 52,
   "metadata": {},
   "outputs": [
    {
     "data": {
      "text/html": [
       "<table class=\"simpletable\">\n",
       "<caption>OLS Regression Results</caption>\n",
       "<tr>\n",
       "  <th>Dep. Variable:</th>       <td>non_par_pav</td>   <th>  R-squared:         </th> <td>   0.475</td>\n",
       "</tr>\n",
       "<tr>\n",
       "  <th>Model:</th>                   <td>OLS</td>       <th>  Adj. R-squared:    </th> <td>   0.470</td>\n",
       "</tr>\n",
       "<tr>\n",
       "  <th>Method:</th>             <td>Least Squares</td>  <th>  F-statistic:       </th> <td>   101.3</td>\n",
       "</tr>\n",
       "<tr>\n",
       "  <th>Date:</th>             <td>Mon, 19 Sep 2022</td> <th>  Prob (F-statistic):</th> <td>2.31e-17</td>\n",
       "</tr>\n",
       "<tr>\n",
       "  <th>Time:</th>                 <td>16:44:57</td>     <th>  Log-Likelihood:    </th> <td> -57.167</td>\n",
       "</tr>\n",
       "<tr>\n",
       "  <th>No. Observations:</th>      <td>   114</td>      <th>  AIC:               </th> <td>   118.3</td>\n",
       "</tr>\n",
       "<tr>\n",
       "  <th>Df Residuals:</th>          <td>   112</td>      <th>  BIC:               </th> <td>   123.8</td>\n",
       "</tr>\n",
       "<tr>\n",
       "  <th>Df Model:</th>              <td>     1</td>      <th>                     </th>     <td> </td>   \n",
       "</tr>\n",
       "<tr>\n",
       "  <th>Covariance Type:</th>      <td>nonrobust</td>    <th>                     </th>     <td> </td>   \n",
       "</tr>\n",
       "</table>\n",
       "<table class=\"simpletable\">\n",
       "<tr>\n",
       "      <td></td>         <th>coef</th>     <th>std err</th>      <th>t</th>      <th>P>|t|</th>  <th>[0.025</th>    <th>0.975]</th>  \n",
       "</tr>\n",
       "<tr>\n",
       "  <th>Intercept</th> <td>   -0.0279</td> <td>    0.052</td> <td>   -0.533</td> <td> 0.595</td> <td>   -0.132</td> <td>    0.076</td>\n",
       "</tr>\n",
       "<tr>\n",
       "  <th>pav</th>       <td>    0.2519</td> <td>    0.025</td> <td>   10.066</td> <td> 0.000</td> <td>    0.202</td> <td>    0.301</td>\n",
       "</tr>\n",
       "</table>\n",
       "<table class=\"simpletable\">\n",
       "<tr>\n",
       "  <th>Omnibus:</th>       <td>15.053</td> <th>  Durbin-Watson:     </th> <td>   1.533</td>\n",
       "</tr>\n",
       "<tr>\n",
       "  <th>Prob(Omnibus):</th> <td> 0.001</td> <th>  Jarque-Bera (JB):  </th> <td>  33.928</td>\n",
       "</tr>\n",
       "<tr>\n",
       "  <th>Skew:</th>          <td>-0.451</td> <th>  Prob(JB):          </th> <td>4.29e-08</td>\n",
       "</tr>\n",
       "<tr>\n",
       "  <th>Kurtosis:</th>      <td> 5.516</td> <th>  Cond. No.          </th> <td>    3.26</td>\n",
       "</tr>\n",
       "</table><br/><br/>Warnings:<br/>[1] Standard Errors assume that the covariance matrix of the errors is correctly specified."
      ],
      "text/plain": [
       "<class 'statsmodels.iolib.summary.Summary'>\n",
       "\"\"\"\n",
       "                            OLS Regression Results                            \n",
       "==============================================================================\n",
       "Dep. Variable:            non_par_pav   R-squared:                       0.475\n",
       "Model:                            OLS   Adj. R-squared:                  0.470\n",
       "Method:                 Least Squares   F-statistic:                     101.3\n",
       "Date:                Mon, 19 Sep 2022   Prob (F-statistic):           2.31e-17\n",
       "Time:                        16:44:57   Log-Likelihood:                -57.167\n",
       "No. Observations:                 114   AIC:                             118.3\n",
       "Df Residuals:                     112   BIC:                             123.8\n",
       "Df Model:                           1                                         \n",
       "Covariance Type:            nonrobust                                         \n",
       "==============================================================================\n",
       "                 coef    std err          t      P>|t|      [0.025      0.975]\n",
       "------------------------------------------------------------------------------\n",
       "Intercept     -0.0279      0.052     -0.533      0.595      -0.132       0.076\n",
       "pav            0.2519      0.025     10.066      0.000       0.202       0.301\n",
       "==============================================================================\n",
       "Omnibus:                       15.053   Durbin-Watson:                   1.533\n",
       "Prob(Omnibus):                  0.001   Jarque-Bera (JB):               33.928\n",
       "Skew:                          -0.451   Prob(JB):                     4.29e-08\n",
       "Kurtosis:                       5.516   Cond. No.                         3.26\n",
       "==============================================================================\n",
       "\n",
       "Warnings:\n",
       "[1] Standard Errors assume that the covariance matrix of the errors is correctly specified.\n",
       "\"\"\""
      ]
     },
     "execution_count": 52,
     "metadata": {},
     "output_type": "execute_result"
    }
   ],
   "source": [
    "smf.ols(formula = 'non_par_pav ~ pav', data = mr_perf).fit().summary()"
   ]
  },
  {
   "cell_type": "markdown",
   "metadata": {},
   "source": [
    "# learning rate & (g2win - nogo2win) performance "
   ]
  },
  {
   "cell_type": "code",
   "execution_count": 53,
   "metadata": {},
   "outputs": [
    {
     "data": {
      "text/plain": [
       "<AxesSubplot:xlabel='alpha', ylabel='gw_ngw'>"
      ]
     },
     "execution_count": 53,
     "metadata": {},
     "output_type": "execute_result"
    },
    {
     "data": {
      "image/png": "[encoded data removed]",
      "text/plain": [
       "<Figure size 432x288 with 1 Axes>"
      ]
     },
     "metadata": {},
     "output_type": "display_data"
    }
   ],
   "source": [
    "sns.regplot(x=(mr_perf['alpha']), y=mr_perf['gw_ngw'])"
   ]
  },
  {
   "cell_type": "code",
   "execution_count": 54,
   "metadata": {},
   "outputs": [
    {
     "data": {
      "text/html": [
       "<table class=\"simpletable\">\n",
       "<caption>OLS Regression Results</caption>\n",
       "<tr>\n",
       "  <th>Dep. Variable:</th>         <td>gw_ngw</td>      <th>  R-squared:         </th> <td>   0.010</td>\n",
       "</tr>\n",
       "<tr>\n",
       "  <th>Model:</th>                   <td>OLS</td>       <th>  Adj. R-squared:    </th> <td>   0.001</td>\n",
       "</tr>\n",
       "<tr>\n",
       "  <th>Method:</th>             <td>Least Squares</td>  <th>  F-statistic:       </th> <td>   1.132</td>\n",
       "</tr>\n",
       "<tr>\n",
       "  <th>Date:</th>             <td>Mon, 19 Sep 2022</td> <th>  Prob (F-statistic):</th>  <td> 0.290</td> \n",
       "</tr>\n",
       "<tr>\n",
       "  <th>Time:</th>                 <td>16:44:59</td>     <th>  Log-Likelihood:    </th> <td> -64.977</td>\n",
       "</tr>\n",
       "<tr>\n",
       "  <th>No. Observations:</th>      <td>   114</td>      <th>  AIC:               </th> <td>   134.0</td>\n",
       "</tr>\n",
       "<tr>\n",
       "  <th>Df Residuals:</th>          <td>   112</td>      <th>  BIC:               </th> <td>   139.4</td>\n",
       "</tr>\n",
       "<tr>\n",
       "  <th>Df Model:</th>              <td>     1</td>      <th>                     </th>     <td> </td>   \n",
       "</tr>\n",
       "<tr>\n",
       "  <th>Covariance Type:</th>      <td>nonrobust</td>    <th>                     </th>     <td> </td>   \n",
       "</tr>\n",
       "</table>\n",
       "<table class=\"simpletable\">\n",
       "<tr>\n",
       "      <td></td>         <th>coef</th>     <th>std err</th>      <th>t</th>      <th>P>|t|</th>  <th>[0.025</th>    <th>0.975]</th>  \n",
       "</tr>\n",
       "<tr>\n",
       "  <th>Intercept</th> <td>    0.1770</td> <td>    0.087</td> <td>    2.033</td> <td> 0.044</td> <td>    0.004</td> <td>    0.350</td>\n",
       "</tr>\n",
       "<tr>\n",
       "  <th>alpha</th>     <td>    0.2598</td> <td>    0.244</td> <td>    1.064</td> <td> 0.290</td> <td>   -0.224</td> <td>    0.744</td>\n",
       "</tr>\n",
       "</table>\n",
       "<table class=\"simpletable\">\n",
       "<tr>\n",
       "  <th>Omnibus:</th>       <td> 0.021</td> <th>  Durbin-Watson:     </th> <td>   1.815</td>\n",
       "</tr>\n",
       "<tr>\n",
       "  <th>Prob(Omnibus):</th> <td> 0.990</td> <th>  Jarque-Bera (JB):  </th> <td>   0.077</td>\n",
       "</tr>\n",
       "<tr>\n",
       "  <th>Skew:</th>          <td>-0.031</td> <th>  Prob(JB):          </th> <td>   0.962</td>\n",
       "</tr>\n",
       "<tr>\n",
       "  <th>Kurtosis:</th>      <td> 2.889</td> <th>  Cond. No.          </th> <td>    6.66</td>\n",
       "</tr>\n",
       "</table><br/><br/>Warnings:<br/>[1] Standard Errors assume that the covariance matrix of the errors is correctly specified."
      ],
      "text/plain": [
       "<class 'statsmodels.iolib.summary.Summary'>\n",
       "\"\"\"\n",
       "                            OLS Regression Results                            \n",
       "==============================================================================\n",
       "Dep. Variable:                 gw_ngw   R-squared:                       0.010\n",
       "Model:                            OLS   Adj. R-squared:                  0.001\n",
       "Method:                 Least Squares   F-statistic:                     1.132\n",
       "Date:                Mon, 19 Sep 2022   Prob (F-statistic):              0.290\n",
       "Time:                        16:44:59   Log-Likelihood:                -64.977\n",
       "No. Observations:                 114   AIC:                             134.0\n",
       "Df Residuals:                     112   BIC:                             139.4\n",
       "Df Model:                           1                                         \n",
       "Covariance Type:            nonrobust                                         \n",
       "==============================================================================\n",
       "                 coef    std err          t      P>|t|      [0.025      0.975]\n",
       "------------------------------------------------------------------------------\n",
       "Intercept      0.1770      0.087      2.033      0.044       0.004       0.350\n",
       "alpha          0.2598      0.244      1.064      0.290      -0.224       0.744\n",
       "==============================================================================\n",
       "Omnibus:                        0.021   Durbin-Watson:                   1.815\n",
       "Prob(Omnibus):                  0.990   Jarque-Bera (JB):                0.077\n",
       "Skew:                          -0.031   Prob(JB):                        0.962\n",
       "Kurtosis:                       2.889   Cond. No.                         6.66\n",
       "==============================================================================\n",
       "\n",
       "Warnings:\n",
       "[1] Standard Errors assume that the covariance matrix of the errors is correctly specified.\n",
       "\"\"\""
      ]
     },
     "execution_count": 54,
     "metadata": {},
     "output_type": "execute_result"
    }
   ],
   "source": [
    "smf.ols(formula = 'gw_ngw ~ alpha', data = mr_perf).fit().summary()"
   ]
  },
  {
   "cell_type": "code",
   "execution_count": 55,
   "metadata": {},
   "outputs": [],
   "source": [
    "go_bias_pun_data = second_session_clean_data[second_session_clean_data.exp_stage == 'main_target_detection'][['mturkID','side', 'choice', 'outcome','exp_stage']]"
   ]
  },
  {
   "cell_type": "code",
   "execution_count": 56,
   "metadata": {},
   "outputs": [],
   "source": [
    "def calc_go_prob(a):\n",
    "\n",
    "    return sum(a.choice == 'go') / a.shape[0]\n",
    "\n",
    "def stay_prob(a):\n",
    "    return sum(a.is_stayed == True) / a.shape[0]"
   ]
  },
  {
   "cell_type": "code",
   "execution_count": 57,
   "metadata": {},
   "outputs": [],
   "source": [
    "all_dfs = []\n",
    "all_stay_dfs = []\n",
    "all_act_out_dfs = []\n",
    "for n,gp in go_bias_pun_data.groupby('mturkID'):\n",
    "    df_subject = pd.DataFrame()\n",
    "    df_subject_stay = pd.DataFrame()\n",
    "    df_subject_act_out = pd.DataFrame()\n",
    "\n",
    "    a = (gp)\n",
    "    a['outcome_before'] = a.outcome.shift(1)\n",
    "    a['choice_before'] = a.choice.shift(1)\n",
    "\n",
    "    a['is_stayed'] = a.choice.shift(-1) == a.choice\n",
    "    \n",
    "    df_subject['go_prob'] = a.groupby('outcome_before').apply(calc_go_prob)\n",
    "    df_subject = df_subject.reset_index()\n",
    "    df_subject['mturkID'] = n\n",
    "\n",
    "    df_subject_act_out['go_prob'] = a.groupby(['outcome_before','choice_before']).apply(calc_go_prob)\n",
    "    df_subject_act_out = df_subject_act_out.reset_index()\n",
    "    df_subject_act_out['mturkID'] = n\n",
    "    \n",
    "\n",
    "    df_subject_stay['stay_prob'] = a.groupby('outcome').apply(stay_prob)\n",
    "    df_subject_stay = df_subject_stay.reset_index()\n",
    "    df_subject_stay['mturkID'] = n\n",
    "\n",
    "    all_dfs.append(df_subject)\n",
    "    all_stay_dfs.append(df_subject_stay)\n",
    "    all_act_out_dfs.append(df_subject_act_out)\n",
    "datafram_stay = pd.concat(all_stay_dfs)\n",
    "datafram_go_prob_pun = pd.concat(all_dfs)\n",
    "datafram_go_prob_act_out = pd.concat(all_act_out_dfs)\n",
    "\n",
    "datafram_go_prob_act_out['act_out']  = datafram_go_prob_act_out['choice_before'] + \"+\" + datafram_go_prob_act_out['outcome_before']"
   ]
  },
  {
   "cell_type": "code",
   "execution_count": null,
   "metadata": {},
   "outputs": [],
   "source": []
  },
  {
   "cell_type": "code",
   "execution_count": 58,
   "metadata": {},
   "outputs": [
    {
     "data": {
      "image/png": "[encoded data removed]",
      "text/plain": [
       "<Figure size 720x360 with 1 Axes>"
      ]
     },
     "metadata": {},
     "output_type": "display_data"
    }
   ],
   "source": [
    "ax = sns.catplot(x=\"act_out\", y=\"go_prob\", data=datafram_go_prob_act_out[datafram_go_prob_act_out.choice_before == 'go'],height=5, aspect=2);\n",
    "ax = sns.boxplot(x=\"act_out\", y=\"go_prob\", data= datafram_go_prob_act_out[datafram_go_prob_act_out.choice_before == 'go'] , boxprops=dict(alpha=.1));\n",
    "\n",
    "ax.set(xlabel=\"Action Outcome of t-1\", ylabel = \"Go probability in trial t\", title = \"Previous Action : 'GO'\")\n",
    "plt.show()"
   ]
  },
  {
   "cell_type": "code",
   "execution_count": 59,
   "metadata": {},
   "outputs": [
    {
     "data": {
      "image/png": "[encoded data removed]",
      "text/plain": [
       "<Figure size 720x360 with 1 Axes>"
      ]
     },
     "metadata": {},
     "output_type": "display_data"
    }
   ],
   "source": [
    "ax = sns.catplot(x=\"act_out\", y=\"go_prob\", data=datafram_go_prob_act_out[datafram_go_prob_act_out.choice_before == 'nogo'],height=5, aspect=2);\n",
    "ax = sns.boxplot(x=\"act_out\", y=\"go_prob\", data= datafram_go_prob_act_out[datafram_go_prob_act_out.choice_before == 'nogo'] , boxprops=dict(alpha=.1));\n",
    "\n",
    "ax.set(xlabel=\"Action Outcome of t-1\", ylabel = \"Go probability in trial t\", title = \"Previous Action : 'noGO'\")\n",
    "plt.show()"
   ]
  },
  {
   "cell_type": "code",
   "execution_count": 60,
   "metadata": {},
   "outputs": [
    {
     "data": {
      "image/png": "[encoded data removed]",
      "text/plain": [
       "<Figure size 360x360 with 1 Axes>"
      ]
     },
     "metadata": {},
     "output_type": "display_data"
    }
   ],
   "source": [
    "ax = sns.catplot(x=\"outcome_before\", y=\"go_prob\", data=datafram_go_prob_pun);\n",
    "ax = sns.boxplot(x=\"outcome_before\", y=\"go_prob\", data= datafram_go_prob_pun , boxprops=dict(alpha=.1));\n",
    "\n",
    "ax.set(xlabel=\"Outcome of t-1\", ylabel = \"Go probability in trial t\")\n",
    "plt.show()"
   ]
  },
  {
   "cell_type": "code",
   "execution_count": 77,
   "metadata": {},
   "outputs": [
    {
     "data": {
      "text/plain": [
       "[(0.45, 0.7)]"
      ]
     },
     "execution_count": 77,
     "metadata": {},
     "output_type": "execute_result"
    },
    {
     "data": {
      "image/png": "[encoded data removed]",
      "text/plain": [
       "<Figure size 432x288 with 1 Axes>"
      ]
     },
     "metadata": {},
     "output_type": "display_data"
    }
   ],
   "source": [
    "ax = sns.barplot(x=\"outcome_before\", y=\"go_prob\", data= datafram_go_prob_pun,\n",
    "#  errorbar=(\"pi\", 50), \n",
    "  ci=95,\n",
    "  capsize=.4, errcolor=\".5\",\n",
    "    linewidth=3, edgecolor=\".5\", facecolor=(1, 0, 0, 0.1),\n",
    ") \n",
    "\n",
    "ax.set(ylim=(0.45, 0.7))\n"
   ]
  },
  {
   "cell_type": "code",
   "execution_count": 63,
   "metadata": {},
   "outputs": [
    {
     "ename": "AttributeError",
     "evalue": "'Rectangle' object has no property 'errorbar'",
     "output_type": "error",
     "traceback": [
      "\u001b[0;31m---------------------------------------------------------------------------\u001b[0m",
      "\u001b[0;31mAttributeError\u001b[0m                            Traceback (most recent call last)",
      "\u001b[0;32m/var/folders/5p/j5wvkpqj2_n5r5h100pdscbr0000gn/T/ipykernel_2600/66234813.py\u001b[0m in \u001b[0;36m<module>\u001b[0;34m\u001b[0m\n\u001b[0;32m----> 1\u001b[0;31m \u001b[0max\u001b[0m \u001b[0;34m=\u001b[0m \u001b[0msns\u001b[0m\u001b[0;34m.\u001b[0m\u001b[0mbarplot\u001b[0m\u001b[0;34m(\u001b[0m\u001b[0mx\u001b[0m\u001b[0;34m=\u001b[0m\u001b[0;34m\"outcome_before\"\u001b[0m\u001b[0;34m,\u001b[0m \u001b[0my\u001b[0m\u001b[0;34m=\u001b[0m\u001b[0;34m\"go_prob\"\u001b[0m\u001b[0;34m,\u001b[0m \u001b[0mdata\u001b[0m\u001b[0;34m=\u001b[0m \u001b[0mdatafram_go_prob_pun\u001b[0m \u001b[0;34m,\u001b[0m \u001b[0merrorbar\u001b[0m\u001b[0;34m=\u001b[0m\u001b[0;34m\"sd\"\u001b[0m\u001b[0;34m)\u001b[0m\u001b[0;34m;\u001b[0m\u001b[0;34m\u001b[0m\u001b[0;34m\u001b[0m\u001b[0m\n\u001b[0m\u001b[1;32m      2\u001b[0m \u001b[0;34m\u001b[0m\u001b[0m\n\u001b[1;32m      3\u001b[0m \u001b[0;31m# ax.set(xlabel=\"Outcome of t-1\", ylabel = \"Go probability in trial t\")\u001b[0m\u001b[0;34m\u001b[0m\u001b[0;34m\u001b[0m\u001b[0m\n\u001b[1;32m      4\u001b[0m \u001b[0mplt\u001b[0m\u001b[0;34m.\u001b[0m\u001b[0mshow\u001b[0m\u001b[0;34m(\u001b[0m\u001b[0;34m)\u001b[0m\u001b[0;34m\u001b[0m\u001b[0;34m\u001b[0m\u001b[0m\n",
      "\u001b[0;32m/opt/homebrew/lib/python3.9/site-packages/seaborn/_decorators.py\u001b[0m in \u001b[0;36minner_f\u001b[0;34m(*args, **kwargs)\u001b[0m\n\u001b[1;32m     44\u001b[0m             )\n\u001b[1;32m     45\u001b[0m         \u001b[0mkwargs\u001b[0m\u001b[0;34m.\u001b[0m\u001b[0mupdate\u001b[0m\u001b[0;34m(\u001b[0m\u001b[0;34m{\u001b[0m\u001b[0mk\u001b[0m\u001b[0;34m:\u001b[0m \u001b[0marg\u001b[0m \u001b[0;32mfor\u001b[0m \u001b[0mk\u001b[0m\u001b[0;34m,\u001b[0m \u001b[0marg\u001b[0m \u001b[0;32min\u001b[0m \u001b[0mzip\u001b[0m\u001b[0;34m(\u001b[0m\u001b[0msig\u001b[0m\u001b[0;34m.\u001b[0m\u001b[0mparameters\u001b[0m\u001b[0;34m,\u001b[0m \u001b[0margs\u001b[0m\u001b[0;34m)\u001b[0m\u001b[0;34m}\u001b[0m\u001b[0;34m)\u001b[0m\u001b[0;34m\u001b[0m\u001b[0;34m\u001b[0m\u001b[0m\n\u001b[0;32m---> 46\u001b[0;31m         \u001b[0;32mreturn\u001b[0m \u001b[0mf\u001b[0m\u001b[0;34m(\u001b[0m\u001b[0;34m**\u001b[0m\u001b[0mkwargs\u001b[0m\u001b[0;34m)\u001b[0m\u001b[0;34m\u001b[0m\u001b[0;34m\u001b[0m\u001b[0m\n\u001b[0m\u001b[1;32m     47\u001b[0m     \u001b[0;32mreturn\u001b[0m \u001b[0minner_f\u001b[0m\u001b[0;34m\u001b[0m\u001b[0;34m\u001b[0m\u001b[0m\n\u001b[1;32m     48\u001b[0m \u001b[0;34m\u001b[0m\u001b[0m\n",
      "\u001b[0;32m/opt/homebrew/lib/python3.9/site-packages/seaborn/categorical.py\u001b[0m in \u001b[0;36mbarplot\u001b[0;34m(x, y, hue, data, order, hue_order, estimator, ci, n_boot, units, seed, orient, color, palette, saturation, errcolor, errwidth, capsize, dodge, ax, **kwargs)\u001b[0m\n\u001b[1;32m   3188\u001b[0m         \u001b[0max\u001b[0m \u001b[0;34m=\u001b[0m \u001b[0mplt\u001b[0m\u001b[0;34m.\u001b[0m\u001b[0mgca\u001b[0m\u001b[0;34m(\u001b[0m\u001b[0;34m)\u001b[0m\u001b[0;34m\u001b[0m\u001b[0;34m\u001b[0m\u001b[0m\n\u001b[1;32m   3189\u001b[0m \u001b[0;34m\u001b[0m\u001b[0m\n\u001b[0;32m-> 3190\u001b[0;31m     \u001b[0mplotter\u001b[0m\u001b[0;34m.\u001b[0m\u001b[0mplot\u001b[0m\u001b[0;34m(\u001b[0m\u001b[0max\u001b[0m\u001b[0;34m,\u001b[0m \u001b[0mkwargs\u001b[0m\u001b[0;34m)\u001b[0m\u001b[0;34m\u001b[0m\u001b[0;34m\u001b[0m\u001b[0m\n\u001b[0m\u001b[1;32m   3191\u001b[0m     \u001b[0;32mreturn\u001b[0m \u001b[0max\u001b[0m\u001b[0;34m\u001b[0m\u001b[0;34m\u001b[0m\u001b[0m\n\u001b[1;32m   3192\u001b[0m \u001b[0;34m\u001b[0m\u001b[0m\n",
      "\u001b[0;32m/opt/homebrew/lib/python3.9/site-packages/seaborn/categorical.py\u001b[0m in \u001b[0;36mplot\u001b[0;34m(self, ax, bar_kws)\u001b[0m\n\u001b[1;32m   1637\u001b[0m     \u001b[0;32mdef\u001b[0m \u001b[0mplot\u001b[0m\u001b[0;34m(\u001b[0m\u001b[0mself\u001b[0m\u001b[0;34m,\u001b[0m \u001b[0max\u001b[0m\u001b[0;34m,\u001b[0m \u001b[0mbar_kws\u001b[0m\u001b[0;34m)\u001b[0m\u001b[0;34m:\u001b[0m\u001b[0;34m\u001b[0m\u001b[0;34m\u001b[0m\u001b[0m\n\u001b[1;32m   1638\u001b[0m         \u001b[0;34m\"\"\"Make the plot.\"\"\"\u001b[0m\u001b[0;34m\u001b[0m\u001b[0;34m\u001b[0m\u001b[0m\n\u001b[0;32m-> 1639\u001b[0;31m         \u001b[0mself\u001b[0m\u001b[0;34m.\u001b[0m\u001b[0mdraw_bars\u001b[0m\u001b[0;34m(\u001b[0m\u001b[0max\u001b[0m\u001b[0;34m,\u001b[0m \u001b[0mbar_kws\u001b[0m\u001b[0;34m)\u001b[0m\u001b[0;34m\u001b[0m\u001b[0;34m\u001b[0m\u001b[0m\n\u001b[0m\u001b[1;32m   1640\u001b[0m         \u001b[0mself\u001b[0m\u001b[0;34m.\u001b[0m\u001b[0mannotate_axes\u001b[0m\u001b[0;34m(\u001b[0m\u001b[0max\u001b[0m\u001b[0;34m)\u001b[0m\u001b[0;34m\u001b[0m\u001b[0;34m\u001b[0m\u001b[0m\n\u001b[1;32m   1641\u001b[0m         \u001b[0;32mif\u001b[0m \u001b[0mself\u001b[0m\u001b[0;34m.\u001b[0m\u001b[0morient\u001b[0m \u001b[0;34m==\u001b[0m \u001b[0;34m\"h\"\u001b[0m\u001b[0;34m:\u001b[0m\u001b[0;34m\u001b[0m\u001b[0;34m\u001b[0m\u001b[0m\n",
      "\u001b[0;32m/opt/homebrew/lib/python3.9/site-packages/seaborn/categorical.py\u001b[0m in \u001b[0;36mdraw_bars\u001b[0;34m(self, ax, kws)\u001b[0m\n\u001b[1;32m   1602\u001b[0m \u001b[0;34m\u001b[0m\u001b[0m\n\u001b[1;32m   1603\u001b[0m             \u001b[0;31m# Draw the bars\u001b[0m\u001b[0;34m\u001b[0m\u001b[0;34m\u001b[0m\u001b[0m\n\u001b[0;32m-> 1604\u001b[0;31m             barfunc(barpos, self.statistic, self.width,\n\u001b[0m\u001b[1;32m   1605\u001b[0m                     color=self.colors, align=\"center\", **kws)\n\u001b[1;32m   1606\u001b[0m \u001b[0;34m\u001b[0m\u001b[0m\n",
      "\u001b[0;32m/opt/homebrew/lib/python3.9/site-packages/matplotlib/__init__.py\u001b[0m in \u001b[0;36minner\u001b[0;34m(ax, data, *args, **kwargs)\u001b[0m\n\u001b[1;32m   1407\u001b[0m     \u001b[0;32mdef\u001b[0m \u001b[0minner\u001b[0m\u001b[0;34m(\u001b[0m\u001b[0max\u001b[0m\u001b[0;34m,\u001b[0m \u001b[0;34m*\u001b[0m\u001b[0margs\u001b[0m\u001b[0;34m,\u001b[0m \u001b[0mdata\u001b[0m\u001b[0;34m=\u001b[0m\u001b[0;32mNone\u001b[0m\u001b[0;34m,\u001b[0m \u001b[0;34m**\u001b[0m\u001b[0mkwargs\u001b[0m\u001b[0;34m)\u001b[0m\u001b[0;34m:\u001b[0m\u001b[0;34m\u001b[0m\u001b[0;34m\u001b[0m\u001b[0m\n\u001b[1;32m   1408\u001b[0m         \u001b[0;32mif\u001b[0m \u001b[0mdata\u001b[0m \u001b[0;32mis\u001b[0m \u001b[0;32mNone\u001b[0m\u001b[0;34m:\u001b[0m\u001b[0;34m\u001b[0m\u001b[0;34m\u001b[0m\u001b[0m\n\u001b[0;32m-> 1409\u001b[0;31m             \u001b[0;32mreturn\u001b[0m \u001b[0mfunc\u001b[0m\u001b[0;34m(\u001b[0m\u001b[0max\u001b[0m\u001b[0;34m,\u001b[0m \u001b[0;34m*\u001b[0m\u001b[0mmap\u001b[0m\u001b[0;34m(\u001b[0m\u001b[0msanitize_sequence\u001b[0m\u001b[0;34m,\u001b[0m \u001b[0margs\u001b[0m\u001b[0;34m)\u001b[0m\u001b[0;34m,\u001b[0m \u001b[0;34m**\u001b[0m\u001b[0mkwargs\u001b[0m\u001b[0;34m)\u001b[0m\u001b[0;34m\u001b[0m\u001b[0;34m\u001b[0m\u001b[0m\n\u001b[0m\u001b[1;32m   1410\u001b[0m \u001b[0;34m\u001b[0m\u001b[0m\n\u001b[1;32m   1411\u001b[0m         \u001b[0mbound\u001b[0m \u001b[0;34m=\u001b[0m \u001b[0mnew_sig\u001b[0m\u001b[0;34m.\u001b[0m\u001b[0mbind\u001b[0m\u001b[0;34m(\u001b[0m\u001b[0max\u001b[0m\u001b[0;34m,\u001b[0m \u001b[0;34m*\u001b[0m\u001b[0margs\u001b[0m\u001b[0;34m,\u001b[0m \u001b[0;34m**\u001b[0m\u001b[0mkwargs\u001b[0m\u001b[0;34m)\u001b[0m\u001b[0;34m\u001b[0m\u001b[0;34m\u001b[0m\u001b[0m\n",
      "\u001b[0;32m/opt/homebrew/lib/python3.9/site-packages/matplotlib/axes/_axes.py\u001b[0m in \u001b[0;36mbar\u001b[0;34m(self, x, height, width, bottom, align, **kwargs)\u001b[0m\n\u001b[1;32m   2419\u001b[0m                 \u001b[0mhatch\u001b[0m\u001b[0;34m=\u001b[0m\u001b[0mhtch\u001b[0m\u001b[0;34m,\u001b[0m\u001b[0;34m\u001b[0m\u001b[0;34m\u001b[0m\u001b[0m\n\u001b[1;32m   2420\u001b[0m                 )\n\u001b[0;32m-> 2421\u001b[0;31m             \u001b[0mr\u001b[0m\u001b[0;34m.\u001b[0m\u001b[0mupdate\u001b[0m\u001b[0;34m(\u001b[0m\u001b[0mkwargs\u001b[0m\u001b[0;34m)\u001b[0m\u001b[0;34m\u001b[0m\u001b[0;34m\u001b[0m\u001b[0m\n\u001b[0m\u001b[1;32m   2422\u001b[0m             \u001b[0mr\u001b[0m\u001b[0;34m.\u001b[0m\u001b[0mget_path\u001b[0m\u001b[0;34m(\u001b[0m\u001b[0;34m)\u001b[0m\u001b[0;34m.\u001b[0m\u001b[0m_interpolation_steps\u001b[0m \u001b[0;34m=\u001b[0m \u001b[0;36m100\u001b[0m\u001b[0;34m\u001b[0m\u001b[0;34m\u001b[0m\u001b[0m\n\u001b[1;32m   2423\u001b[0m             \u001b[0;32mif\u001b[0m \u001b[0morientation\u001b[0m \u001b[0;34m==\u001b[0m \u001b[0;34m'vertical'\u001b[0m\u001b[0;34m:\u001b[0m\u001b[0;34m\u001b[0m\u001b[0;34m\u001b[0m\u001b[0m\n",
      "\u001b[0;32m/opt/homebrew/lib/python3.9/site-packages/matplotlib/artist.py\u001b[0m in \u001b[0;36mupdate\u001b[0;34m(self, props)\u001b[0m\n\u001b[1;32m   1058\u001b[0m                     \u001b[0mfunc\u001b[0m \u001b[0;34m=\u001b[0m \u001b[0mgetattr\u001b[0m\u001b[0;34m(\u001b[0m\u001b[0mself\u001b[0m\u001b[0;34m,\u001b[0m \u001b[0;34mf\"set_{k}\"\u001b[0m\u001b[0;34m,\u001b[0m \u001b[0;32mNone\u001b[0m\u001b[0;34m)\u001b[0m\u001b[0;34m\u001b[0m\u001b[0;34m\u001b[0m\u001b[0m\n\u001b[1;32m   1059\u001b[0m                     \u001b[0;32mif\u001b[0m \u001b[0;32mnot\u001b[0m \u001b[0mcallable\u001b[0m\u001b[0;34m(\u001b[0m\u001b[0mfunc\u001b[0m\u001b[0;34m)\u001b[0m\u001b[0;34m:\u001b[0m\u001b[0;34m\u001b[0m\u001b[0;34m\u001b[0m\u001b[0m\n\u001b[0;32m-> 1060\u001b[0;31m                         raise AttributeError(f\"{type(self).__name__!r} object \"\n\u001b[0m\u001b[1;32m   1061\u001b[0m                                              f\"has no property {k!r}\")\n\u001b[1;32m   1062\u001b[0m                     \u001b[0mret\u001b[0m\u001b[0;34m.\u001b[0m\u001b[0mappend\u001b[0m\u001b[0;34m(\u001b[0m\u001b[0mfunc\u001b[0m\u001b[0;34m(\u001b[0m\u001b[0mv\u001b[0m\u001b[0;34m)\u001b[0m\u001b[0;34m)\u001b[0m\u001b[0;34m\u001b[0m\u001b[0;34m\u001b[0m\u001b[0m\n",
      "\u001b[0;31mAttributeError\u001b[0m: 'Rectangle' object has no property 'errorbar'"
     ]
    },
    {
     "data": {
      "image/png": "[encoded data removed]",
      "text/plain": [
       "<Figure size 432x288 with 1 Axes>"
      ]
     },
     "metadata": {},
     "output_type": "display_data"
    }
   ],
   "source": [
    "ax = sns.barplot(x=\"outcome_before\", y=\"go_prob\", data= datafram_go_prob_pun , errorbar=\"sd\");\n",
    "\n",
    "# ax.set(xlabel=\"Outcome of t-1\", ylabel = \"Go probability in trial t\")\n",
    "plt.show()"
   ]
  },
  {
   "cell_type": "code",
   "execution_count": 61,
   "metadata": {},
   "outputs": [
    {
     "data": {
      "image/png": "[encoded data removed]",
      "text/plain": [
       "<Figure size 360x360 with 1 Axes>"
      ]
     },
     "metadata": {},
     "output_type": "display_data"
    }
   ],
   "source": [
    "ax = sns.catplot(x=\"outcome\", y=\"stay_prob\", data=datafram_stay);\n",
    "ax = sns.boxplot(x=\"outcome\", y=\"stay_prob\", data= datafram_stay , boxprops=dict(alpha=.1));\n",
    "\n",
    "ax.set(xlabel=\"Outcome\", ylabel = \"Stay probability\", title=\"Stay Probability vs. outcome\")\n",
    "plt.show()"
   ]
  },
  {
   "cell_type": "code",
   "execution_count": 32,
   "metadata": {},
   "outputs": [
    {
     "data": {
      "text/html": [
       "<div>\n",
       "<style scoped>\n",
       "    .dataframe tbody tr th:only-of-type {\n",
       "        vertical-align: middle;\n",
       "    }\n",
       "\n",
       "    .dataframe tbody tr th {\n",
       "        vertical-align: top;\n",
       "    }\n",
       "\n",
       "    .dataframe thead th {\n",
       "        text-align: right;\n",
       "    }\n",
       "</style>\n",
       "<table border=\"1\" class=\"dataframe\">\n",
       "  <thead>\n",
       "    <tr style=\"text-align: right;\">\n",
       "      <th></th>\n",
       "      <th>df</th>\n",
       "      <th>sum_sq</th>\n",
       "      <th>mean_sq</th>\n",
       "      <th>F</th>\n",
       "      <th>PR(&gt;F)</th>\n",
       "    </tr>\n",
       "  </thead>\n",
       "  <tbody>\n",
       "    <tr>\n",
       "      <th>C(outcome)</th>\n",
       "      <td>2.0</td>\n",
       "      <td>0.068000</td>\n",
       "      <td>0.034000</td>\n",
       "      <td>1.884837</td>\n",
       "      <td>0.153442</td>\n",
       "    </tr>\n",
       "    <tr>\n",
       "      <th>Residual</th>\n",
       "      <td>339.0</td>\n",
       "      <td>6.115116</td>\n",
       "      <td>0.018039</td>\n",
       "      <td>NaN</td>\n",
       "      <td>NaN</td>\n",
       "    </tr>\n",
       "  </tbody>\n",
       "</table>\n",
       "</div>"
      ],
      "text/plain": [
       "               df    sum_sq   mean_sq         F    PR(>F)\n",
       "C(outcome)    2.0  0.068000  0.034000  1.884837  0.153442\n",
       "Residual    339.0  6.115116  0.018039       NaN       NaN"
      ]
     },
     "execution_count": 32,
     "metadata": {},
     "output_type": "execute_result"
    }
   ],
   "source": [
    "model = smf.ols('stay_prob ~ C(outcome) ',\n",
    "            data=datafram_stay).fit()\n",
    "result = sm.stats.anova_lm(model, type=2)\n",
    "  \n",
    "# Print the result\n",
    "(result)"
   ]
  },
  {
   "cell_type": "code",
   "execution_count": 30,
   "metadata": {},
   "outputs": [
    {
     "data": {
      "text/html": [
       "<div>\n",
       "<style scoped>\n",
       "    .dataframe tbody tr th:only-of-type {\n",
       "        vertical-align: middle;\n",
       "    }\n",
       "\n",
       "    .dataframe tbody tr th {\n",
       "        vertical-align: top;\n",
       "    }\n",
       "\n",
       "    .dataframe thead th {\n",
       "        text-align: right;\n",
       "    }\n",
       "</style>\n",
       "<table border=\"1\" class=\"dataframe\">\n",
       "  <thead>\n",
       "    <tr style=\"text-align: right;\">\n",
       "      <th></th>\n",
       "      <th>df</th>\n",
       "      <th>sum_sq</th>\n",
       "      <th>mean_sq</th>\n",
       "      <th>F</th>\n",
       "      <th>PR(&gt;F)</th>\n",
       "    </tr>\n",
       "  </thead>\n",
       "  <tbody>\n",
       "    <tr>\n",
       "      <th>C(outcome_before)</th>\n",
       "      <td>2.0</td>\n",
       "      <td>0.277771</td>\n",
       "      <td>0.138885</td>\n",
       "      <td>6.120464</td>\n",
       "      <td>0.002448</td>\n",
       "    </tr>\n",
       "    <tr>\n",
       "      <th>Residual</th>\n",
       "      <td>339.0</td>\n",
       "      <td>7.692575</td>\n",
       "      <td>0.022692</td>\n",
       "      <td>NaN</td>\n",
       "      <td>NaN</td>\n",
       "    </tr>\n",
       "  </tbody>\n",
       "</table>\n",
       "</div>"
      ],
      "text/plain": [
       "                      df    sum_sq   mean_sq         F    PR(>F)\n",
       "C(outcome_before)    2.0  0.277771  0.138885  6.120464  0.002448\n",
       "Residual           339.0  7.692575  0.022692       NaN       NaN"
      ]
     },
     "execution_count": 30,
     "metadata": {},
     "output_type": "execute_result"
    }
   ],
   "source": [
    "model = smf.ols('go_prob ~ C(outcome_before) ',\n",
    "            data=datafram_go_prob_pun).fit()\n",
    "result = sm.stats.anova_lm(model, type=2)\n",
    "  \n",
    "# Print the result\n",
    "(result)"
   ]
  },
  {
   "cell_type": "code",
   "execution_count": null,
   "metadata": {},
   "outputs": [],
   "source": []
  }
 ],
 "metadata": {
  "interpreter": {
   "hash": "b0fa6594d8f4cbf19f97940f81e996739fb7646882a419484c72d19e05852a7e"
  },
  "kernelspec": {
   "display_name": "Python 3 (ipykernel)",
   "language": "python",
   "name": "python3"
  },
  "language_info": {
   "codemirror_mode": {
    "name": "ipython",
    "version": 3
   },
   "file_extension": ".py",
   "mimetype": "text/x-python",
   "name": "python",
   "nbconvert_exporter": "python",
   "pygments_lexer": "ipython3",
   "version": "3.9.10"
  }
 },
 "nbformat": 4,
 "nbformat_minor": 2
}
