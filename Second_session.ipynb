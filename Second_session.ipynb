{
 "cells": [
  {
   "cell_type": "code",
   "execution_count": 71,
   "metadata": {},
   "outputs": [],
   "source": [
    "import matplotlib.pyplot as plt\n",
    "import pandas as pd\n",
    "pd.set_option(\"display.max_columns\", None)\n",
    "pd.set_option(\"display.max_rows\", 150)\n",
    "import seaborn as sns\n",
    "sns.set_theme(color_codes=True)\n",
    "from scipy import stats\n",
    "import statsmodels.api as sm\n",
    "import numpy as np\n",
    "import json\n",
    "from tqdm import tqdm_notebook \n",
    "import statsmodels.formula.api as smf"
   ]
  },
  {
   "cell_type": "markdown",
   "metadata": {},
   "source": [
    "## Read the Data"
   ]
  },
  {
   "cell_type": "code",
   "execution_count": 7,
   "metadata": {},
   "outputs": [
    {
     "name": "stderr",
     "output_type": "stream",
     "text": [
      "/opt/homebrew/lib/python3.9/site-packages/IPython/core/interactiveshell.py:3441: DtypeWarning: Columns (63,65) have mixed types.Specify dtype option on import or set low_memory=False.\n",
      "  exec(code_obj, self.user_global_ns, self.user_ns)\n"
     ]
    }
   ],
   "source": [
    "second_session_raw_data = pd.read_csv('Data/gono-go-game-second-round.csv', index_col=0).reset_index()\n",
    "# second_session_raw_data = second_session_raw_data[second_session_raw_data.recorded_at > '2022-01-18']\n",
    "# second_session_raw_data = second_session_raw_data[second_session_raw_data.mturkID != 'nan' ]\n",
    "\n",
    "num_all_experimenters = len(second_session_raw_data.mturkID.unique())\n",
    "num_excluded_experimenters = 0\n",
    "\n",
    "second_session_raw_data['correct'] = second_session_raw_data.correct == 'true'\n",
    "\n",
    "# second_session_raw_data.head()"
   ]
  },
  {
   "cell_type": "markdown",
   "metadata": {},
   "source": [
    "# Apply exclusion criteria"
   ]
  },
  {
   "cell_type": "markdown",
   "metadata": {},
   "source": [
    "1. Fail the quiz of instructions more than twice.\n",
    "2. Change the tab or window of the experiment."
   ]
  },
  {
   "cell_type": "code",
   "execution_count": 8,
   "metadata": {},
   "outputs": [
    {
     "name": "stdout",
     "output_type": "stream",
     "text": [
      "Number of participants excluded by this criterias: 4\n"
     ]
    }
   ],
   "source": [
    "experimenter_status = second_session_raw_data[second_session_raw_data.trial_type == 'survey-html-form'][['run_id','mturkID', 'exp_final_status']]\n",
    "IDs_for_inclusion_by_completed = experimenter_status[experimenter_status.exp_final_status == 'fully_completed'].mturkID\n",
    "\n",
    "run_IDs_for_exclusion_by_changing_tabs = second_session_raw_data[second_session_raw_data.exp_final_status == 'not_completed_by_changing_tab'].run_id\n",
    "run_IDs_for_exclusion_by_failing_quiz = second_session_raw_data[second_session_raw_data.exp_final_status == 'not_completed_by_failing_quiz'].run_id\n",
    "\n",
    "second_session_clean_data = second_session_raw_data[second_session_raw_data.run_id.isin(run_IDs_for_exclusion_by_changing_tabs) == False]\n",
    "second_session_clean_data = second_session_clean_data[second_session_clean_data.run_id.isin(run_IDs_for_exclusion_by_failing_quiz) == False]\n",
    "\n",
    "\n",
    "\n",
    "num_excluded_experimenters = len(second_session_raw_data.mturkID.unique()) - len(second_session_clean_data.mturkID.unique())\n",
    "\n",
    "print(\"Number of participants excluded by this criterias:\", num_excluded_experimenters)"
   ]
  },
  {
   "cell_type": "code",
   "execution_count": 9,
   "metadata": {},
   "outputs": [],
   "source": [
    "# exclude the first try of a turker\n",
    "second_session_clean_data = second_session_clean_data[second_session_clean_data.run_id != 204 ]\n",
    "second_session_clean_data = second_session_clean_data[second_session_clean_data.run_id != 14]\n",
    "second_session_clean_data.mturkID.replace({\"A2TLN8489YGY81_agaign\": \"A2TLN8489YGY81\"}, inplace=True)\n"
   ]
  },
  {
   "cell_type": "code",
   "execution_count": 10,
   "metadata": {},
   "outputs": [
    {
     "data": {
      "text/plain": [
       "0"
      ]
     },
     "execution_count": 10,
     "metadata": {},
     "output_type": "execute_result"
    }
   ],
   "source": [
    "second_session_clean_data.mturkID.isna().sum()"
   ]
  },
  {
   "cell_type": "markdown",
   "metadata": {},
   "source": [
    "3. Respond randomly, always go or never go.\n",
    "\n",
    "    * Note: We exclude who repond randomly, always go or nogo in each 3 block"
   ]
  },
  {
   "cell_type": "code",
   "execution_count": 11,
   "metadata": {},
   "outputs": [
    {
     "data": {
      "text/html": [
       "<div>\n",
       "<style scoped>\n",
       "    .dataframe tbody tr th:only-of-type {\n",
       "        vertical-align: middle;\n",
       "    }\n",
       "\n",
       "    .dataframe tbody tr th {\n",
       "        vertical-align: top;\n",
       "    }\n",
       "\n",
       "    .dataframe thead th {\n",
       "        text-align: right;\n",
       "    }\n",
       "</style>\n",
       "<table border=\"1\" class=\"dataframe\">\n",
       "  <thead>\n",
       "    <tr style=\"text-align: right;\">\n",
       "      <th></th>\n",
       "      <th>mturkID</th>\n",
       "      <th>suspicious_type</th>\n",
       "      <th>num_gos</th>\n",
       "      <th>block</th>\n",
       "    </tr>\n",
       "  </thead>\n",
       "  <tbody>\n",
       "    <tr>\n",
       "      <th>12819</th>\n",
       "      <td>A3Q1EZDNIUK41P</td>\n",
       "      <td>error_rate</td>\n",
       "      <td>36</td>\n",
       "      <td>block_3</td>\n",
       "    </tr>\n",
       "    <tr>\n",
       "      <th>24539</th>\n",
       "      <td>A3EYRDEQ7CXUMN</td>\n",
       "      <td>all_one</td>\n",
       "      <td>40</td>\n",
       "      <td>block_1</td>\n",
       "    </tr>\n",
       "    <tr>\n",
       "      <th>24780</th>\n",
       "      <td>A3EYRDEQ7CXUMN</td>\n",
       "      <td>all_one</td>\n",
       "      <td>40</td>\n",
       "      <td>block_2</td>\n",
       "    </tr>\n",
       "    <tr>\n",
       "      <th>25021</th>\n",
       "      <td>A3EYRDEQ7CXUMN</td>\n",
       "      <td>all_one</td>\n",
       "      <td>40</td>\n",
       "      <td>block_3</td>\n",
       "    </tr>\n",
       "    <tr>\n",
       "      <th>25346</th>\n",
       "      <td>A10M63DSIGIEDI</td>\n",
       "      <td>all_one</td>\n",
       "      <td>40</td>\n",
       "      <td>block_1</td>\n",
       "    </tr>\n",
       "    <tr>\n",
       "      <th>25828</th>\n",
       "      <td>A10M63DSIGIEDI</td>\n",
       "      <td>all_one</td>\n",
       "      <td>40</td>\n",
       "      <td>block_3</td>\n",
       "    </tr>\n",
       "    <tr>\n",
       "      <th>33447</th>\n",
       "      <td>A7P3R1AIA4TVV</td>\n",
       "      <td>all_one</td>\n",
       "      <td>40</td>\n",
       "      <td>block_1</td>\n",
       "    </tr>\n",
       "    <tr>\n",
       "      <th>33688</th>\n",
       "      <td>A7P3R1AIA4TVV</td>\n",
       "      <td>all_one</td>\n",
       "      <td>40</td>\n",
       "      <td>block_2</td>\n",
       "    </tr>\n",
       "    <tr>\n",
       "      <th>33929</th>\n",
       "      <td>A7P3R1AIA4TVV</td>\n",
       "      <td>all_one</td>\n",
       "      <td>40</td>\n",
       "      <td>block_3</td>\n",
       "    </tr>\n",
       "    <tr>\n",
       "      <th>34254</th>\n",
       "      <td>A1Q56N80RJLQ7S</td>\n",
       "      <td>all_one</td>\n",
       "      <td>40</td>\n",
       "      <td>block_1</td>\n",
       "    </tr>\n",
       "    <tr>\n",
       "      <th>34495</th>\n",
       "      <td>A1Q56N80RJLQ7S</td>\n",
       "      <td>all_one</td>\n",
       "      <td>40</td>\n",
       "      <td>block_2</td>\n",
       "    </tr>\n",
       "    <tr>\n",
       "      <th>34736</th>\n",
       "      <td>A1Q56N80RJLQ7S</td>\n",
       "      <td>all_one</td>\n",
       "      <td>40</td>\n",
       "      <td>block_3</td>\n",
       "    </tr>\n",
       "    <tr>\n",
       "      <th>97521</th>\n",
       "      <td>ACJ6NSCIWMUZI</td>\n",
       "      <td>error_rate</td>\n",
       "      <td>22</td>\n",
       "      <td>block_2</td>\n",
       "    </tr>\n",
       "    <tr>\n",
       "      <th>99987</th>\n",
       "      <td>AD1WGUMVD6KED</td>\n",
       "      <td>all_one</td>\n",
       "      <td>40</td>\n",
       "      <td>block_2</td>\n",
       "    </tr>\n",
       "    <tr>\n",
       "      <th>100228</th>\n",
       "      <td>AD1WGUMVD6KED</td>\n",
       "      <td>all_one</td>\n",
       "      <td>40</td>\n",
       "      <td>block_3</td>\n",
       "    </tr>\n",
       "  </tbody>\n",
       "</table>\n",
       "</div>"
      ],
      "text/plain": [
       "               mturkID suspicious_type num_gos    block\n",
       "12819   A3Q1EZDNIUK41P      error_rate      36  block_3\n",
       "24539   A3EYRDEQ7CXUMN         all_one      40  block_1\n",
       "24780   A3EYRDEQ7CXUMN         all_one      40  block_2\n",
       "25021   A3EYRDEQ7CXUMN         all_one      40  block_3\n",
       "25346   A10M63DSIGIEDI         all_one      40  block_1\n",
       "25828   A10M63DSIGIEDI         all_one      40  block_3\n",
       "33447    A7P3R1AIA4TVV         all_one      40  block_1\n",
       "33688    A7P3R1AIA4TVV         all_one      40  block_2\n",
       "33929    A7P3R1AIA4TVV         all_one      40  block_3\n",
       "34254   A1Q56N80RJLQ7S         all_one      40  block_1\n",
       "34495   A1Q56N80RJLQ7S         all_one      40  block_2\n",
       "34736   A1Q56N80RJLQ7S         all_one      40  block_3\n",
       "97521    ACJ6NSCIWMUZI      error_rate      22  block_2\n",
       "99987    AD1WGUMVD6KED         all_one      40  block_2\n",
       "100228   AD1WGUMVD6KED         all_one      40  block_3"
      ]
     },
     "execution_count": 11,
     "metadata": {},
     "output_type": "execute_result"
    }
   ],
   "source": [
    "second_session_clean_data[second_session_clean_data.suspicious == 'true'][['mturkID', 'suspicious_type','num_gos', 'block']]"
   ]
  },
  {
   "cell_type": "code",
   "execution_count": 12,
   "metadata": {},
   "outputs": [],
   "source": [
    "susp = second_session_clean_data[second_session_clean_data.suspicious == 'true'][['mturkID', 'suspicious_type','num_gos', 'block']]"
   ]
  },
  {
   "cell_type": "code",
   "execution_count": 13,
   "metadata": {},
   "outputs": [
    {
     "name": "stdout",
     "output_type": "stream",
     "text": [
      "Number of participants excluded by this criterias: 5\n"
     ]
    }
   ],
   "source": [
    "IDs_for_exclusion_by_random_response = list(susp.mturkID.value_counts()[ (susp.mturkID.value_counts() == 3) | (susp.mturkID.value_counts() == 2) ].index)\n",
    "\n",
    "num_excluded_experimenters += len(IDs_for_exclusion_by_random_response)\n",
    "\n",
    "second_session_clean_data = second_session_clean_data[second_session_clean_data.mturkID.isin(IDs_for_exclusion_by_random_response) == False]\n",
    "\n",
    "print(\"Number of participants excluded by this criterias:\", len(IDs_for_exclusion_by_random_response))\n"
   ]
  },
  {
   "cell_type": "code",
   "execution_count": 14,
   "metadata": {},
   "outputs": [
    {
     "data": {
      "text/plain": [
       "0"
      ]
     },
     "execution_count": 14,
     "metadata": {},
     "output_type": "execute_result"
    }
   ],
   "source": [
    "second_session_clean_data.mturkID.isna().sum()"
   ]
  },
  {
   "cell_type": "code",
   "execution_count": 15,
   "metadata": {},
   "outputs": [
    {
     "data": {
      "text/plain": [
       "(125,)"
      ]
     },
     "execution_count": 15,
     "metadata": {},
     "output_type": "execute_result"
    }
   ],
   "source": [
    "second_session_clean_data.mturkID.unique().shape"
   ]
  },
  {
   "cell_type": "markdown",
   "metadata": {},
   "source": [
    "4. Their rate of the correct response to detection of circle side task is less than 55%."
   ]
  },
  {
   "cell_type": "code",
   "execution_count": 16,
   "metadata": {},
   "outputs": [
    {
     "data": {
      "text/html": [
       "<div>\n",
       "<style scoped>\n",
       "    .dataframe tbody tr th:only-of-type {\n",
       "        vertical-align: middle;\n",
       "    }\n",
       "\n",
       "    .dataframe tbody tr th {\n",
       "        vertical-align: top;\n",
       "    }\n",
       "\n",
       "    .dataframe thead th {\n",
       "        text-align: right;\n",
       "    }\n",
       "</style>\n",
       "<table border=\"1\" class=\"dataframe\">\n",
       "  <thead>\n",
       "    <tr style=\"text-align: right;\">\n",
       "      <th></th>\n",
       "      <th>mturkID</th>\n",
       "      <th>rate</th>\n",
       "      <th>is_below_55</th>\n",
       "    </tr>\n",
       "  </thead>\n",
       "  <tbody>\n",
       "    <tr>\n",
       "      <th>0</th>\n",
       "      <td>A10BH9PYCYUKDJ</td>\n",
       "      <td>1.000000</td>\n",
       "      <td>False</td>\n",
       "    </tr>\n",
       "    <tr>\n",
       "      <th>1</th>\n",
       "      <td>A10JXOU89D5RXR</td>\n",
       "      <td>0.986667</td>\n",
       "      <td>False</td>\n",
       "    </tr>\n",
       "    <tr>\n",
       "      <th>2</th>\n",
       "      <td>A11S8IAAVDXCUS</td>\n",
       "      <td>1.000000</td>\n",
       "      <td>False</td>\n",
       "    </tr>\n",
       "    <tr>\n",
       "      <th>3</th>\n",
       "      <td>A12FTSX85NQ8N9</td>\n",
       "      <td>1.000000</td>\n",
       "      <td>False</td>\n",
       "    </tr>\n",
       "    <tr>\n",
       "      <th>4</th>\n",
       "      <td>A12HZGOZQD5YK7</td>\n",
       "      <td>1.000000</td>\n",
       "      <td>False</td>\n",
       "    </tr>\n",
       "  </tbody>\n",
       "</table>\n",
       "</div>"
      ],
      "text/plain": [
       "          mturkID      rate  is_below_55\n",
       "0  A10BH9PYCYUKDJ  1.000000        False\n",
       "1  A10JXOU89D5RXR  0.986667        False\n",
       "2  A11S8IAAVDXCUS  1.000000        False\n",
       "3  A12FTSX85NQ8N9  1.000000        False\n",
       "4  A12HZGOZQD5YK7  1.000000        False"
      ]
     },
     "execution_count": 16,
     "metadata": {},
     "output_type": "execute_result"
    }
   ],
   "source": [
    "circle_side_correctness = second_session_clean_data[second_session_clean_data.choice == 'go'][['mturkID','side', 'response']]\n",
    "circle_side_correctness['is_correct_circle_side'] =  (circle_side_correctness.side == circle_side_correctness.response)\n",
    "accuracy_data = circle_side_correctness.groupby('mturkID').mean().reset_index()\n",
    "accuracy_data.columns = ['mturkID', 'rate']\n",
    "accuracy_data['is_below_55'] = accuracy_data.rate < 0.55\n",
    "\n",
    "accuracy_data.head()\n"
   ]
  },
  {
   "cell_type": "code",
   "execution_count": 17,
   "metadata": {},
   "outputs": [
    {
     "name": "stdout",
     "output_type": "stream",
     "text": [
      "Number of participants excluded by this criterias: 11\n"
     ]
    }
   ],
   "source": [
    "non_accurate_IDs = list(accuracy_data[accuracy_data.is_below_55 == True].mturkID)\n",
    "\n",
    "num_excluded_experimenters += len(non_accurate_IDs)\n",
    "\n",
    "second_session_clean_data = second_session_clean_data[second_session_clean_data.mturkID.isin(list(non_accurate_IDs)) == False]\n",
    "print(\"Number of participants excluded by this criterias:\", len(non_accurate_IDs))\n",
    "\n"
   ]
  },
  {
   "cell_type": "code",
   "execution_count": 18,
   "metadata": {},
   "outputs": [
    {
     "data": {
      "text/plain": [
       "0"
      ]
     },
     "execution_count": 18,
     "metadata": {},
     "output_type": "execute_result"
    }
   ],
   "source": [
    "second_session_clean_data.mturkID.isna().sum()"
   ]
  },
  {
   "cell_type": "code",
   "execution_count": 19,
   "metadata": {},
   "outputs": [
    {
     "data": {
      "text/plain": [
       "array([], dtype=int64)"
      ]
     },
     "execution_count": 19,
     "metadata": {},
     "output_type": "execute_result"
    }
   ],
   "source": [
    "second_session_clean_data[second_session_clean_data.mturkID.isna()].run_id.unique()"
   ]
  },
  {
   "cell_type": "code",
   "execution_count": 20,
   "metadata": {},
   "outputs": [
    {
     "data": {
      "text/plain": [
       "(114,)"
      ]
     },
     "execution_count": 20,
     "metadata": {},
     "output_type": "execute_result"
    }
   ],
   "source": [
    "second_session_clean_data.mturkID.unique().shape"
   ]
  },
  {
   "cell_type": "markdown",
   "metadata": {},
   "source": [
    "# Plot Perforance per conditions"
   ]
  },
  {
   "cell_type": "code",
   "execution_count": 21,
   "metadata": {},
   "outputs": [
    {
     "name": "stderr",
     "output_type": "stream",
     "text": [
      "/var/folders/5p/j5wvkpqj2_n5r5h100pdscbr0000gn/T/ipykernel_35910/3639457505.py:5: SettingWithCopyWarning: \n",
      "A value is trying to be set on a copy of a slice from a DataFrame.\n",
      "Try using .loc[row_indexer,col_indexer] = value instead\n",
      "\n",
      "See the caveats in the documentation: https://pandas.pydata.org/pandas-docs/stable/user_guide/indexing.html#returning-a-view-versus-a-copy\n",
      "  circle_task_logs['correct_action'] = (circle_task_logs.choice == circle_task_logs.cond_action)\n"
     ]
    },
    {
     "data": {
      "image/png": "[encoded data removed]",
      "text/plain": [
       "<Figure size 360x360 with 1 Axes>"
      ]
     },
     "metadata": {},
     "output_type": "display_data"
    }
   ],
   "source": [
    "mapping = {'1': 'go2win', '2': 'nogo2win', '3': 'go2avoidPun', '4' : 'nogo2avoidPun'} \n",
    "\n",
    "circle_task_logs = second_session_clean_data[second_session_clean_data.exp_stage == 'main_target_detection']\n",
    "\n",
    "circle_task_logs['correct_action'] = (circle_task_logs.choice == circle_task_logs.cond_action)\n",
    "performance_per_condition = circle_task_logs.groupby(['mturkID','cond']).mean().reset_index()\n",
    "performance_per_condition.cond = performance_per_condition.cond.map(mapping)\n",
    "\n",
    "\n",
    "ax = sns.catplot(x=\"cond\", y=\"correct\", data=performance_per_condition, order= ['go2win','go2avoidPun' ,'nogo2win', 'nogo2avoidPun']);\n",
    "ax = sns.boxplot(x=\"cond\", y=\"correct\", data= performance_per_condition, boxprops=dict(alpha=.1), order= ['go2win','go2avoidPun' ,'nogo2win', 'nogo2avoidPun']);\n",
    "\n",
    "ax.set(xlabel=\"Condition\", ylabel = \"Overall Accuracy\", title = 'Total Performance per Condition')\n",
    "plt.show()\n"
   ]
  },
  {
   "cell_type": "markdown",
   "metadata": {},
   "source": [
    "# Extract Demographic datas"
   ]
  },
  {
   "cell_type": "code",
   "execution_count": 22,
   "metadata": {},
   "outputs": [
    {
     "data": {
      "text/plain": [
       "(114, 5)"
      ]
     },
     "execution_count": 22,
     "metadata": {},
     "output_type": "execute_result"
    }
   ],
   "source": [
    "raw_demographic_data = second_session_clean_data[second_session_clean_data.trial_type == 'survey-html-form'][['mturkID', 'response']]\n",
    "raw_demographic_data['gender'] = raw_demographic_data.response.apply(lambda x: x.split('\"')[3])\n",
    "raw_demographic_data['age'] = raw_demographic_data.response.apply(lambda x: x.split('\"')[7])\n",
    "raw_demographic_data['education_level'] = raw_demographic_data.response.apply(lambda x: x.split('\"')[11])\n",
    "raw_demographic_data['comments'] = raw_demographic_data.response.apply(lambda x: x.split('\"')[15])\n",
    "raw_demographic_data = raw_demographic_data.drop(['response'], axis=1)\n",
    "raw_demographic_data.shape"
   ]
  },
  {
   "cell_type": "markdown",
   "metadata": {},
   "source": [
    "# Create final data to analyze"
   ]
  },
  {
   "cell_type": "code",
   "execution_count": 23,
   "metadata": {},
   "outputs": [
    {
     "data": {
      "text/html": [
       "<div>\n",
       "<style scoped>\n",
       "    .dataframe tbody tr th:only-of-type {\n",
       "        vertical-align: middle;\n",
       "    }\n",
       "\n",
       "    .dataframe tbody tr th {\n",
       "        vertical-align: top;\n",
       "    }\n",
       "\n",
       "    .dataframe thead th {\n",
       "        text-align: right;\n",
       "    }\n",
       "</style>\n",
       "<table border=\"1\" class=\"dataframe\">\n",
       "  <thead>\n",
       "    <tr style=\"text-align: right;\">\n",
       "      <th></th>\n",
       "      <th>mturkID</th>\n",
       "      <th>go2avoidPun_second_session</th>\n",
       "      <th>go2win_second_session</th>\n",
       "      <th>nogo2avoidPun_second_session</th>\n",
       "      <th>nogo2win_second_session</th>\n",
       "      <th>circle_side_performance_second_session</th>\n",
       "      <th>is_below_55_second_session</th>\n",
       "      <th>gender_second_session</th>\n",
       "      <th>age_second_session</th>\n",
       "      <th>education_level_second_session</th>\n",
       "      <th>comments_second_session</th>\n",
       "      <th>overall_performance</th>\n",
       "    </tr>\n",
       "  </thead>\n",
       "  <tbody>\n",
       "    <tr>\n",
       "      <th>0</th>\n",
       "      <td>A10BH9PYCYUKDJ</td>\n",
       "      <td>0.500000</td>\n",
       "      <td>0.8</td>\n",
       "      <td>0.600000</td>\n",
       "      <td>0.266667</td>\n",
       "      <td>1.000000</td>\n",
       "      <td>False</td>\n",
       "      <td>female</td>\n",
       "      <td>41</td>\n",
       "      <td>Associate</td>\n",
       "      <td>}</td>\n",
       "      <td>0.541667</td>\n",
       "    </tr>\n",
       "    <tr>\n",
       "      <th>1</th>\n",
       "      <td>A10JXOU89D5RXR</td>\n",
       "      <td>0.900000</td>\n",
       "      <td>1.0</td>\n",
       "      <td>0.900000</td>\n",
       "      <td>0.700000</td>\n",
       "      <td>0.986667</td>\n",
       "      <td>False</td>\n",
       "      <td>female</td>\n",
       "      <td>60</td>\n",
       "      <td>Bachelor</td>\n",
       "      <td>}</td>\n",
       "      <td>0.875000</td>\n",
       "    </tr>\n",
       "    <tr>\n",
       "      <th>2</th>\n",
       "      <td>A11S8IAAVDXCUS</td>\n",
       "      <td>0.200000</td>\n",
       "      <td>1.0</td>\n",
       "      <td>0.633333</td>\n",
       "      <td>0.133333</td>\n",
       "      <td>1.000000</td>\n",
       "      <td>False</td>\n",
       "      <td>female</td>\n",
       "      <td>31</td>\n",
       "      <td>Associate</td>\n",
       "      <td>}</td>\n",
       "      <td>0.491667</td>\n",
       "    </tr>\n",
       "    <tr>\n",
       "      <th>3</th>\n",
       "      <td>A12FTSX85NQ8N9</td>\n",
       "      <td>0.866667</td>\n",
       "      <td>1.0</td>\n",
       "      <td>0.966667</td>\n",
       "      <td>0.866667</td>\n",
       "      <td>1.000000</td>\n",
       "      <td>False</td>\n",
       "      <td>male</td>\n",
       "      <td>29</td>\n",
       "      <td>Bachelor</td>\n",
       "      <td>}</td>\n",
       "      <td>0.925000</td>\n",
       "    </tr>\n",
       "    <tr>\n",
       "      <th>4</th>\n",
       "      <td>A12HZGOZQD5YK7</td>\n",
       "      <td>0.966667</td>\n",
       "      <td>1.0</td>\n",
       "      <td>0.966667</td>\n",
       "      <td>0.800000</td>\n",
       "      <td>1.000000</td>\n",
       "      <td>False</td>\n",
       "      <td>female</td>\n",
       "      <td>41</td>\n",
       "      <td>Associate</td>\n",
       "      <td>}</td>\n",
       "      <td>0.933333</td>\n",
       "    </tr>\n",
       "  </tbody>\n",
       "</table>\n",
       "</div>"
      ],
      "text/plain": [
       "          mturkID  go2avoidPun_second_session  go2win_second_session  \\\n",
       "0  A10BH9PYCYUKDJ                    0.500000                    0.8   \n",
       "1  A10JXOU89D5RXR                    0.900000                    1.0   \n",
       "2  A11S8IAAVDXCUS                    0.200000                    1.0   \n",
       "3  A12FTSX85NQ8N9                    0.866667                    1.0   \n",
       "4  A12HZGOZQD5YK7                    0.966667                    1.0   \n",
       "\n",
       "   nogo2avoidPun_second_session  nogo2win_second_session  \\\n",
       "0                      0.600000                 0.266667   \n",
       "1                      0.900000                 0.700000   \n",
       "2                      0.633333                 0.133333   \n",
       "3                      0.966667                 0.866667   \n",
       "4                      0.966667                 0.800000   \n",
       "\n",
       "   circle_side_performance_second_session  is_below_55_second_session  \\\n",
       "0                                1.000000                       False   \n",
       "1                                0.986667                       False   \n",
       "2                                1.000000                       False   \n",
       "3                                1.000000                       False   \n",
       "4                                1.000000                       False   \n",
       "\n",
       "  gender_second_session age_second_session education_level_second_session  \\\n",
       "0                female                 41                      Associate   \n",
       "1                female                 60                       Bachelor   \n",
       "2                female                 31                      Associate   \n",
       "3                  male                 29                       Bachelor   \n",
       "4                female                 41                      Associate   \n",
       "\n",
       "  comments_second_session  overall_performance  \n",
       "0                       }             0.541667  \n",
       "1                       }             0.875000  \n",
       "2                       }             0.491667  \n",
       "3                       }             0.925000  \n",
       "4                       }             0.933333  "
      ]
     },
     "execution_count": 23,
     "metadata": {},
     "output_type": "execute_result"
    }
   ],
   "source": [
    "final_performace_data = performance_per_condition.pivot(index='mturkID', columns='cond', values='correct').reset_index()\n",
    "\n",
    "\n",
    "final_performace_data = pd.merge(final_performace_data, accuracy_data, on='mturkID')\n",
    "final_performace_data = pd.merge(final_performace_data, raw_demographic_data, on='mturkID')\n",
    "final_performace_data.columns = ['mturkID', 'go2avoidPun_second_session', 'go2win_second_session', 'nogo2avoidPun_second_session', 'nogo2win_second_session', 'circle_side_performance_second_session',\\\n",
    "       'is_below_55_second_session', 'gender_second_session', 'age_second_session', 'education_level_second_session', 'comments_second_session']\n",
    "overall_performance =  final_performace_data['nogo2win_second_session'] + \\\n",
    "                        final_performace_data['go2win_second_session'] + \\\n",
    "                        final_performace_data['nogo2avoidPun_second_session'] + \\\n",
    "                        final_performace_data['go2avoidPun_second_session']\n",
    "final_performace_data['overall_performance'] = overall_performance/4\n",
    "\n",
    "final_performace_data.head()"
   ]
  },
  {
   "cell_type": "code",
   "execution_count": 24,
   "metadata": {},
   "outputs": [
    {
     "data": {
      "text/plain": [
       "(114, 12)"
      ]
     },
     "execution_count": 24,
     "metadata": {},
     "output_type": "execute_result"
    }
   ],
   "source": [
    "final_performace_data.shape"
   ]
  },
  {
   "cell_type": "code",
   "execution_count": 25,
   "metadata": {},
   "outputs": [],
   "source": [
    "final_performace_data.drop_duplicates().to_csv('Data/second_round_final_performance.csv')"
   ]
  },
  {
   "cell_type": "markdown",
   "metadata": {},
   "source": [
    "# Pav axis"
   ]
  },
  {
   "cell_type": "code",
   "execution_count": 26,
   "metadata": {},
   "outputs": [
    {
     "data": {
      "text/plain": [
       "(0.0, 1.0)"
      ]
     },
     "execution_count": 26,
     "metadata": {},
     "output_type": "execute_result"
    },
    {
     "data": {
      "image/png": "[encoded data removed]",
      "text/plain": [
       "<Figure size 720x720 with 4 Axes>"
      ]
     },
     "metadata": {},
     "output_type": "display_data"
    }
   ],
   "source": [
    "fig, axs = plt.subplots(ncols=2, nrows = 2, figsize=(10,10))\n",
    "plt.ylim(0, 1)\n",
    "\n",
    "final_performace_data['is_learned'] = final_performace_data.overall_performance > 0.65\n",
    "\n",
    "sns.barplot(x=\"is_learned\", y=\"nogo2win_second_session\", \n",
    " data=final_performace_data,\n",
    " palette=\"muted\", ax = axs[(1,1)]).set_title('Nogo2Win')\n",
    "\n",
    "axs[1,1].set_ylim(0,1)\n",
    "\n",
    "sns.barplot(x=\"is_learned\", y=\"go2win_second_session\", \n",
    " data=final_performace_data,\n",
    " palette=\"muted\", ax = axs[(0,1)]).set_title('go2Win')\n",
    "axs[0,1].set_ylim(0,1)\n",
    "\n",
    "\n",
    "\n",
    "sns.barplot(x=\"is_learned\", y=\"go2avoidPun_second_session\", \n",
    " data=final_performace_data,\n",
    " palette=\"muted\", ax = axs[(0,0)]).set_title('go2avoidPun')\n",
    "axs[0,0].set_ylim(0,1)\n",
    "\n",
    "\n",
    "\n",
    "sns.barplot(x=\"is_learned\", y=\"nogo2avoidPun_second_session\", \n",
    " data=final_performace_data,\n",
    " palette=\"muted\", ax = axs[(1,0)]).set_title('nogo2avoidPun')\n",
    "axs[1,0].set_ylim(0,1)\n",
    "\n",
    "\n"
   ]
  },
  {
   "cell_type": "markdown",
   "metadata": {},
   "source": [
    "# modelling"
   ]
  },
  {
   "cell_type": "code",
   "execution_count": 27,
   "metadata": {},
   "outputs": [],
   "source": [
    "result_of_trials = circle_task_logs[['mturkID', 'internal_node_id', 'response', 'side', 'choice', 'cond_action', 'cond_outcome','correct_action', 'outcome', 'feedback_points', 'block']].copy()\n",
    "\n",
    "result_of_trials['stimulus'] = result_of_trials['cond_action'] + '2' + result_of_trials['cond_outcome']\n",
    "result_of_trials['is_go'] = result_of_trials.choice == 'go'\n",
    "result_of_trials['is_go'].replace({True: 1, False: 0}, inplace=True)\n"
   ]
  },
  {
   "cell_type": "code",
   "execution_count": 28,
   "metadata": {},
   "outputs": [
    {
     "name": "stderr",
     "output_type": "stream",
     "text": [
      "/var/folders/5p/j5wvkpqj2_n5r5h100pdscbr0000gn/T/ipykernel_35910/3190507868.py:22: PerformanceWarning: DataFrame is highly fragmented.  This is usually the result of calling `frame.insert` many times, which has poor performance.  Consider using pd.concat instead.  To get a de-fragmented frame, use `newframe = frame.copy()`\n",
      "  go2win_prob_df[mID] = go_of_every_subject_in_s.is_go.copy()\n",
      "/var/folders/5p/j5wvkpqj2_n5r5h100pdscbr0000gn/T/ipykernel_35910/3190507868.py:25: PerformanceWarning: DataFrame is highly fragmented.  This is usually the result of calling `frame.insert` many times, which has poor performance.  Consider using pd.concat instead.  To get a de-fragmented frame, use `newframe = frame.copy()`\n",
      "  nogo2win_prob_df[mID] = go_of_every_subject_in_s.is_go.copy()\n",
      "/var/folders/5p/j5wvkpqj2_n5r5h100pdscbr0000gn/T/ipykernel_35910/3190507868.py:28: PerformanceWarning: DataFrame is highly fragmented.  This is usually the result of calling `frame.insert` many times, which has poor performance.  Consider using pd.concat instead.  To get a de-fragmented frame, use `newframe = frame.copy()`\n",
      "  go2avoidPun_prob_df[mID] = go_of_every_subject_in_s.is_go.copy()\n",
      "/var/folders/5p/j5wvkpqj2_n5r5h100pdscbr0000gn/T/ipykernel_35910/3190507868.py:31: PerformanceWarning: DataFrame is highly fragmented.  This is usually the result of calling `frame.insert` many times, which has poor performance.  Consider using pd.concat instead.  To get a de-fragmented frame, use `newframe = frame.copy()`\n",
      "  nogo2avoidPun_prob_df[mID] = go_of_every_subject_in_s.is_go.copy()\n"
     ]
    }
   ],
   "source": [
    "go2win_go_prob = pd.Series(np.zeros(30))\n",
    "go2win_prob_df = pd.DataFrame()\n",
    "\n",
    "nogo2win_go_prob = pd.Series(np.zeros(30))\n",
    "nogo2win_prob_df = pd.DataFrame()\n",
    "\n",
    "go2avoidPun_go_prob = pd.Series(np.zeros(30))\n",
    "go2avoidPun_prob_df = pd.DataFrame()\n",
    "\n",
    "nogo2avoidPun_go_prob = pd.Series(np.zeros(30))\n",
    "nogo2avoidPun_prob_df = pd.DataFrame()\n",
    "\n",
    "\n",
    "\n",
    "\n",
    "for mID in result_of_trials.mturkID.dropna().unique():\n",
    "    go_of_every_subject = result_of_trials[result_of_trials['mturkID']== mID][['is_go','stimulus']].reset_index(drop=True)\n",
    "    for s in ['go2win','nogo2win','go2avoidPun', 'nogo2avoidPun']:\n",
    "        go_of_every_subject_in_s = go_of_every_subject[go_of_every_subject.stimulus == s].reset_index(drop=True)\n",
    "        if( s == 'go2win'):\n",
    "            go2win_go_prob += go_of_every_subject_in_s.is_go/len(result_of_trials.mturkID.dropna().unique())\n",
    "            go2win_prob_df[mID] = go_of_every_subject_in_s.is_go.copy()\n",
    "        elif (s == 'nogo2win'):\n",
    "            nogo2win_go_prob += go_of_every_subject_in_s.is_go/len(result_of_trials.mturkID.dropna().unique())\n",
    "            nogo2win_prob_df[mID] = go_of_every_subject_in_s.is_go.copy()\n",
    "        elif (s == 'go2avoidPun'):\n",
    "            go2avoidPun_go_prob += go_of_every_subject_in_s.is_go/len(result_of_trials.mturkID.dropna().unique())\n",
    "            go2avoidPun_prob_df[mID] = go_of_every_subject_in_s.is_go.copy()\n",
    "        elif (s == 'nogo2avoidPun'):\n",
    "            nogo2avoidPun_go_prob += go_of_every_subject_in_s.is_go/len(result_of_trials.mturkID.dropna().unique())\n",
    "            nogo2avoidPun_prob_df[mID] = go_of_every_subject_in_s.is_go.copy()\n"
   ]
  },
  {
   "cell_type": "code",
   "execution_count": 29,
   "metadata": {},
   "outputs": [
    {
     "data": {
      "text/plain": [
       "(0.0, 1.0)"
      ]
     },
     "execution_count": 29,
     "metadata": {},
     "output_type": "execute_result"
    },
    {
     "data": {
      "image/png": "[encoded data removed]",
      "text/plain": [
       "<Figure size 720x432 with 1 Axes>"
      ]
     },
     "metadata": {},
     "output_type": "display_data"
    }
   ],
   "source": [
    "go_prob_df = pd.DataFrame({'go2win': go2win_go_prob, \n",
    "                            'nogo2win': nogo2win_go_prob,\n",
    "                            'go2avoidPun': go2avoidPun_go_prob,\\\n",
    "                            'nogo2avoidPun': nogo2avoidPun_go_prob})\n",
    "\n",
    "# go_prob_df['idx'] = go_prob_df.index\n",
    "\n",
    "go_prob_df = go_prob_df.melt().rename(columns={'variable': 'stimulus', 'value': 'go_prob'})\n",
    "go_prob_df.loc[go_prob_df.stimulus == 'go2win', 'idx'] = range(0,30) \n",
    "go_prob_df.loc[go_prob_df.stimulus == 'nogo2win', 'idx'] = range(0,30) \n",
    "go_prob_df.loc[go_prob_df.stimulus == 'go2avoidPun', 'idx'] = range(0,30) \n",
    "go_prob_df.loc[go_prob_df.stimulus == 'nogo2avoidPun', 'idx'] = range(0,30)\n",
    "\n",
    "plt.figure(figsize=(10,6))\n",
    "ax = sns.lineplot(x=\"idx\", y=\"go_prob\",\n",
    "             hue=\"stimulus\", \n",
    "             data=go_prob_df)\n",
    "plt.title(\"mean of go probability in every trial\")\n",
    "plt.ylim(0,1)\n",
    "\n",
    " "
   ]
  },
  {
   "cell_type": "code",
   "execution_count": 30,
   "metadata": {},
   "outputs": [],
   "source": [
    "from sys import path\n",
    "from dotenv import load_dotenv\n",
    "import os\n",
    "load_dotenv();\n",
    "\n",
    "path.append(os.environ.get(\"MODELING_PATH\"))\n",
    "\n",
    "from fitting import ML"
   ]
  },
  {
   "cell_type": "code",
   "execution_count": 31,
   "metadata": {},
   "outputs": [],
   "source": [
    "np.random.seed(30)\n",
    "modeling_result_df = {}\n",
    "modeling_result_df['mturkID'] = []\n",
    "\n",
    "modeling_result_df['alpha'] = []\n",
    "modeling_result_df['beta'] = []\n",
    "modeling_result_df['noise'] = []\n",
    "modeling_result_df['go_bias'] = []\n",
    "modeling_result_df['pav_bias'] = []\n",
    "\n",
    "\n",
    "def fit_subject_with_id(subject_id):\n",
    "    df = result_of_trials[result_of_trials.mturkID == subject_id]\n",
    "    df = df[['choice','stimulus','feedback_points']].rename(columns={'choice':'action', 'feedback_points':'reward'}).reset_index(drop=True)\n",
    "    df['reward'] = pd.to_numeric(df.reward)\n",
    "\n",
    "    max_likelihood = ML(df, optimization_method='Nelder-Mead', model_type='RW+noise+bias+Pav', initial_guess=np.random.normal(0,1,1)[0]*np.array([0.1,0.1,0.1,0.1,0.1]), without_bound=True)\n",
    "    res = max_likelihood.fit_model()\n",
    "    return res\n",
    "\n"
   ]
  },
  {
   "cell_type": "code",
   "execution_count": 32,
   "metadata": {},
   "outputs": [
    {
     "name": "stderr",
     "output_type": "stream",
     "text": [
      "/var/folders/5p/j5wvkpqj2_n5r5h100pdscbr0000gn/T/ipykernel_35910/2031160086.py:1: TqdmDeprecationWarning: This function will be removed in tqdm==5.0.0\n",
      "Please use `tqdm.notebook.tqdm` instead of `tqdm.tqdm_notebook`\n",
      "  for subject in tqdm_notebook(result_of_trials.mturkID.unique()):\n"
     ]
    },
    {
     "data": {
      "application/vnd.jupyter.widget-view+json": {
       "model_id": "31b0c681831f4945a8b5325f09457c13",
       "version_major": 2,
       "version_minor": 0
      },
      "text/plain": [
       "  0%|          | 0/114 [00:00<?, ?it/s]"
      ]
     },
     "metadata": {},
     "output_type": "display_data"
    },
    {
     "name": "stderr",
     "output_type": "stream",
     "text": [
      "/Users/sepsad/Desktop/Stuffs/Research/goNoGo/Modelling/modelling_gng/fitting.py:34: RuntimeWarning: overflow encountered in exp\n",
      "  beta = np.exp(params[1])  # sensitivity to reward\n",
      "/Users/sepsad/Desktop/Stuffs/Research/goNoGo/Modelling/modelling_gng/fitting.py:75: RuntimeWarning: invalid value encountered in double_scalars\n",
      "  error_Q = beta*reward - Q[stimulus][action]\n",
      "/Users/sepsad/Desktop/Stuffs/Research/goNoGo/Modelling/modelling_gng/fitting.py:76: RuntimeWarning: invalid value encountered in double_scalars\n",
      "  error_V = beta*reward - V[stimulus]\n",
      "/Users/sepsad/Desktop/Stuffs/Research/goNoGo/Modelling/modelling_gng/fitting.py:82: RuntimeWarning: divide by zero encountered in log\n",
      "  la = (q - q_max) - np.log(np.sum(np.exp(q - q_max)))\n",
      "/Users/sepsad/Desktop/Stuffs/Research/goNoGo/Modelling/modelling_gng/fitting.py:79: RuntimeWarning: overflow encountered in double_scalars\n",
      "  q['go'] = q['go'] + bias + pav * V[stimulus]\n"
     ]
    }
   ],
   "source": [
    "for subject in tqdm_notebook(result_of_trials.mturkID.unique()):\n",
    "    res = fit_subject_with_id(subject)\n",
    "\n",
    "    modeling_result_df['mturkID'].append(subject)\n",
    "    modeling_result_df['alpha'].append(1 / (1+ np.exp(-res.x[0])))\n",
    "    modeling_result_df['beta'].append(np.exp(res.x[1]))\n",
    "    modeling_result_df['noise'].append(1 / (1+ np.exp(-res.x[2])))\n",
    "    modeling_result_df['go_bias'].append(res.x[3])\n",
    "    modeling_result_df['pav_bias'].append(np.exp(res.x[4]))\n",
    "\n",
    "\n"
   ]
  },
  {
   "cell_type": "code",
   "execution_count": 33,
   "metadata": {},
   "outputs": [
    {
     "name": "stderr",
     "output_type": "stream",
     "text": [
      "/opt/homebrew/lib/python3.9/site-packages/pandas/core/arraylike.py:364: RuntimeWarning: divide by zero encountered in log\n",
      "  result = getattr(ufunc, method)(*inputs, **kwargs)\n"
     ]
    }
   ],
   "source": [
    "mr_df = pd.DataFrame(modeling_result_df)\n",
    "mr_df['pav_bias_log'] = np.log(mr_df.pav_bias)"
   ]
  },
  {
   "cell_type": "code",
   "execution_count": 59,
   "metadata": {},
   "outputs": [],
   "source": [
    "mr_df.to_csv('./Data/modeling_result_second_session.csv')"
   ]
  },
  {
   "cell_type": "markdown",
   "metadata": {},
   "source": [
    "# dist of log(pav bias)"
   ]
  },
  {
   "cell_type": "code",
   "execution_count": 66,
   "metadata": {},
   "outputs": [
    {
     "name": "stderr",
     "output_type": "stream",
     "text": [
      "/opt/homebrew/lib/python3.9/site-packages/pandas/core/arraylike.py:364: RuntimeWarning: invalid value encountered in log\n",
      "  result = getattr(ufunc, method)(*inputs, **kwargs)\n",
      "/opt/homebrew/lib/python3.9/site-packages/seaborn/distributions.py:2619: FutureWarning: `distplot` is a deprecated function and will be removed in a future version. Please adapt your code to use either `displot` (a figure-level function with similar flexibility) or `histplot` (an axes-level function for histograms).\n",
      "  warnings.warn(msg, FutureWarning)\n"
     ]
    },
    {
     "data": {
      "text/plain": [
       "<AxesSubplot:xlabel='pav_bias_log', ylabel='Density'>"
      ]
     },
     "execution_count": 66,
     "metadata": {},
     "output_type": "execute_result"
    },
    {
     "data": {
      "image/png": "[encoded data removed]",
      "text/plain": [
       "<Figure size 432x288 with 1 Axes>"
      ]
     },
     "metadata": {},
     "output_type": "display_data"
    }
   ],
   "source": [
    "sns.distplot(np.log(mr_df.pav_bias_log) )"
   ]
  },
  {
   "cell_type": "markdown",
   "metadata": {},
   "source": [
    "# dist of learning rate"
   ]
  },
  {
   "cell_type": "code",
   "execution_count": 60,
   "metadata": {},
   "outputs": [
    {
     "name": "stderr",
     "output_type": "stream",
     "text": [
      "/opt/homebrew/lib/python3.9/site-packages/seaborn/distributions.py:2619: FutureWarning: `distplot` is a deprecated function and will be removed in a future version. Please adapt your code to use either `displot` (a figure-level function with similar flexibility) or `histplot` (an axes-level function for histograms).\n",
      "  warnings.warn(msg, FutureWarning)\n"
     ]
    },
    {
     "data": {
      "text/plain": [
       "<AxesSubplot:xlabel='alpha', ylabel='Density'>"
      ]
     },
     "execution_count": 60,
     "metadata": {},
     "output_type": "execute_result"
    },
    {
     "data": {
      "image/png": "[encoded data removed]",
      "text/plain": [
       "<Figure size 432x288 with 1 Axes>"
      ]
     },
     "metadata": {},
     "output_type": "display_data"
    }
   ],
   "source": [
    "sns.distplot((mr_df.alpha), bins=10) "
   ]
  },
  {
   "cell_type": "markdown",
   "metadata": {},
   "source": [
    "# dist of go bias"
   ]
  },
  {
   "cell_type": "code",
   "execution_count": 61,
   "metadata": {},
   "outputs": [
    {
     "name": "stderr",
     "output_type": "stream",
     "text": [
      "/opt/homebrew/lib/python3.9/site-packages/seaborn/distributions.py:2619: FutureWarning: `distplot` is a deprecated function and will be removed in a future version. Please adapt your code to use either `displot` (a figure-level function with similar flexibility) or `histplot` (an axes-level function for histograms).\n",
      "  warnings.warn(msg, FutureWarning)\n"
     ]
    },
    {
     "data": {
      "text/plain": [
       "<AxesSubplot:xlabel='go_bias', ylabel='Density'>"
      ]
     },
     "execution_count": 61,
     "metadata": {},
     "output_type": "execute_result"
    },
    {
     "data": {
      "image/png": "[encoded data removed]",
      "text/plain": [
       "<Figure size 432x288 with 1 Axes>"
      ]
     },
     "metadata": {},
     "output_type": "display_data"
    }
   ],
   "source": [
    "sns.distplot((mr_df.go_bias[mr_df.go_bias < 50]), bins=20) "
   ]
  },
  {
   "cell_type": "markdown",
   "metadata": {},
   "source": [
    "# dist of log(sensitivity to reward)"
   ]
  },
  {
   "cell_type": "code",
   "execution_count": 67,
   "metadata": {},
   "outputs": [
    {
     "name": "stderr",
     "output_type": "stream",
     "text": [
      "/opt/homebrew/lib/python3.9/site-packages/seaborn/distributions.py:2619: FutureWarning: `distplot` is a deprecated function and will be removed in a future version. Please adapt your code to use either `displot` (a figure-level function with similar flexibility) or `histplot` (an axes-level function for histograms).\n",
      "  warnings.warn(msg, FutureWarning)\n"
     ]
    },
    {
     "data": {
      "text/plain": [
       "<AxesSubplot:xlabel='beta', ylabel='Density'>"
      ]
     },
     "execution_count": 67,
     "metadata": {},
     "output_type": "execute_result"
    },
    {
     "data": {
      "image/png": "[encoded data removed]",
      "text/plain": [
       "<Figure size 432x288 with 1 Axes>"
      ]
     },
     "metadata": {},
     "output_type": "display_data"
    }
   ],
   "source": [
    "sns.distplot((np.log(mr_df.beta)), bins=20) "
   ]
  },
  {
   "cell_type": "code",
   "execution_count": 68,
   "metadata": {},
   "outputs": [],
   "source": [
    "mr_perf = pd.merge(mr_df, final_performace_data, on='mturkID')\n",
    "mr_perf['gw_ngw'] = mr_perf.go2win_second_session - mr_perf.nogo2win_second_session\n"
   ]
  },
  {
   "cell_type": "markdown",
   "metadata": {},
   "source": [
    "# log(pav bias) & (g2win - nogo2win) performance "
   ]
  },
  {
   "cell_type": "code",
   "execution_count": 69,
   "metadata": {},
   "outputs": [
    {
     "data": {
      "text/plain": [
       "<AxesSubplot:xlabel='pav_bias_log', ylabel='gw_ngw'>"
      ]
     },
     "execution_count": 69,
     "metadata": {},
     "output_type": "execute_result"
    },
    {
     "data": {
      "image/png": "[encoded data removed]",
      "text/plain": [
       "<Figure size 432x288 with 1 Axes>"
      ]
     },
     "metadata": {},
     "output_type": "display_data"
    }
   ],
   "source": [
    "sns.regplot(x=('pav_bias_log'), y='gw_ngw', data = mr_perf[(mr_perf.pav_bias_log < 10) & (mr_perf.pav_bias_log > -10)])"
   ]
  },
  {
   "cell_type": "code",
   "execution_count": 72,
   "metadata": {},
   "outputs": [
    {
     "data": {
      "text/html": [
       "<table class=\"simpletable\">\n",
       "<caption>OLS Regression Results</caption>\n",
       "<tr>\n",
       "  <th>Dep. Variable:</th>         <td>gw_ngw</td>      <th>  R-squared:         </th> <td>   0.068</td>\n",
       "</tr>\n",
       "<tr>\n",
       "  <th>Model:</th>                   <td>OLS</td>       <th>  Adj. R-squared:    </th> <td>   0.057</td>\n",
       "</tr>\n",
       "<tr>\n",
       "  <th>Method:</th>             <td>Least Squares</td>  <th>  F-statistic:       </th> <td>   6.079</td>\n",
       "</tr>\n",
       "<tr>\n",
       "  <th>Date:</th>             <td>Fri, 11 Feb 2022</td> <th>  Prob (F-statistic):</th>  <td>0.0157</td> \n",
       "</tr>\n",
       "<tr>\n",
       "  <th>Time:</th>                 <td>12:53:34</td>     <th>  Log-Likelihood:    </th> <td> -44.306</td>\n",
       "</tr>\n",
       "<tr>\n",
       "  <th>No. Observations:</th>      <td>    85</td>      <th>  AIC:               </th> <td>   92.61</td>\n",
       "</tr>\n",
       "<tr>\n",
       "  <th>Df Residuals:</th>          <td>    83</td>      <th>  BIC:               </th> <td>   97.50</td>\n",
       "</tr>\n",
       "<tr>\n",
       "  <th>Df Model:</th>              <td>     1</td>      <th>                     </th>     <td> </td>   \n",
       "</tr>\n",
       "<tr>\n",
       "  <th>Covariance Type:</th>      <td>nonrobust</td>    <th>                     </th>     <td> </td>   \n",
       "</tr>\n",
       "</table>\n",
       "<table class=\"simpletable\">\n",
       "<tr>\n",
       "        <td></td>          <th>coef</th>     <th>std err</th>      <th>t</th>      <th>P>|t|</th>  <th>[0.025</th>    <th>0.975]</th>  \n",
       "</tr>\n",
       "<tr>\n",
       "  <th>Intercept</th>    <td>    0.3430</td> <td>    0.047</td> <td>    7.244</td> <td> 0.000</td> <td>    0.249</td> <td>    0.437</td>\n",
       "</tr>\n",
       "<tr>\n",
       "  <th>pav_bias_log</th> <td>    0.0388</td> <td>    0.016</td> <td>    2.466</td> <td> 0.016</td> <td>    0.007</td> <td>    0.070</td>\n",
       "</tr>\n",
       "</table>\n",
       "<table class=\"simpletable\">\n",
       "<tr>\n",
       "  <th>Omnibus:</th>       <td> 4.605</td> <th>  Durbin-Watson:     </th> <td>   2.015</td>\n",
       "</tr>\n",
       "<tr>\n",
       "  <th>Prob(Omnibus):</th> <td> 0.100</td> <th>  Jarque-Bera (JB):  </th> <td>   3.842</td>\n",
       "</tr>\n",
       "<tr>\n",
       "  <th>Skew:</th>          <td>-0.471</td> <th>  Prob(JB):          </th> <td>   0.146</td>\n",
       "</tr>\n",
       "<tr>\n",
       "  <th>Kurtosis:</th>      <td> 3.444</td> <th>  Cond. No.          </th> <td>    3.23</td>\n",
       "</tr>\n",
       "</table><br/><br/>Warnings:<br/>[1] Standard Errors assume that the covariance matrix of the errors is correctly specified."
      ],
      "text/plain": [
       "<class 'statsmodels.iolib.summary.Summary'>\n",
       "\"\"\"\n",
       "                            OLS Regression Results                            \n",
       "==============================================================================\n",
       "Dep. Variable:                 gw_ngw   R-squared:                       0.068\n",
       "Model:                            OLS   Adj. R-squared:                  0.057\n",
       "Method:                 Least Squares   F-statistic:                     6.079\n",
       "Date:                Fri, 11 Feb 2022   Prob (F-statistic):             0.0157\n",
       "Time:                        12:53:34   Log-Likelihood:                -44.306\n",
       "No. Observations:                  85   AIC:                             92.61\n",
       "Df Residuals:                      83   BIC:                             97.50\n",
       "Df Model:                           1                                         \n",
       "Covariance Type:            nonrobust                                         \n",
       "================================================================================\n",
       "                   coef    std err          t      P>|t|      [0.025      0.975]\n",
       "--------------------------------------------------------------------------------\n",
       "Intercept        0.3430      0.047      7.244      0.000       0.249       0.437\n",
       "pav_bias_log     0.0388      0.016      2.466      0.016       0.007       0.070\n",
       "==============================================================================\n",
       "Omnibus:                        4.605   Durbin-Watson:                   2.015\n",
       "Prob(Omnibus):                  0.100   Jarque-Bera (JB):                3.842\n",
       "Skew:                          -0.471   Prob(JB):                        0.146\n",
       "Kurtosis:                       3.444   Cond. No.                         3.23\n",
       "==============================================================================\n",
       "\n",
       "Warnings:\n",
       "[1] Standard Errors assume that the covariance matrix of the errors is correctly specified.\n",
       "\"\"\""
      ]
     },
     "execution_count": 72,
     "metadata": {},
     "output_type": "execute_result"
    }
   ],
   "source": [
    "smf.ols(formula = 'gw_ngw ~ pav_bias_log', data = mr_perf[(mr_perf.pav_bias_log < 10) & (mr_perf.pav_bias_log > -10)]).fit().summary()"
   ]
  },
  {
   "cell_type": "markdown",
   "metadata": {},
   "source": [
    "# learning rate & (g2win - nogo2win) performance "
   ]
  },
  {
   "cell_type": "code",
   "execution_count": 73,
   "metadata": {},
   "outputs": [
    {
     "data": {
      "text/plain": [
       "<AxesSubplot:xlabel='alpha', ylabel='gw_ngw'>"
      ]
     },
     "execution_count": 73,
     "metadata": {},
     "output_type": "execute_result"
    },
    {
     "data": {
      "image/png": "[encoded data removed]",
      "text/plain": [
       "<Figure size 432x288 with 1 Axes>"
      ]
     },
     "metadata": {},
     "output_type": "display_data"
    }
   ],
   "source": [
    "sns.regplot(x=(mr_perf['alpha']), y=mr_perf['gw_ngw'])"
   ]
  },
  {
   "cell_type": "code",
   "execution_count": 74,
   "metadata": {},
   "outputs": [
    {
     "data": {
      "text/html": [
       "<table class=\"simpletable\">\n",
       "<caption>OLS Regression Results</caption>\n",
       "<tr>\n",
       "  <th>Dep. Variable:</th>         <td>gw_ngw</td>      <th>  R-squared:         </th> <td>   0.050</td>\n",
       "</tr>\n",
       "<tr>\n",
       "  <th>Model:</th>                   <td>OLS</td>       <th>  Adj. R-squared:    </th> <td>   0.041</td>\n",
       "</tr>\n",
       "<tr>\n",
       "  <th>Method:</th>             <td>Least Squares</td>  <th>  F-statistic:       </th> <td>   5.843</td>\n",
       "</tr>\n",
       "<tr>\n",
       "  <th>Date:</th>             <td>Fri, 11 Feb 2022</td> <th>  Prob (F-statistic):</th>  <td>0.0173</td> \n",
       "</tr>\n",
       "<tr>\n",
       "  <th>Time:</th>                 <td>12:54:02</td>     <th>  Log-Likelihood:    </th> <td> -62.652</td>\n",
       "</tr>\n",
       "<tr>\n",
       "  <th>No. Observations:</th>      <td>   114</td>      <th>  AIC:               </th> <td>   129.3</td>\n",
       "</tr>\n",
       "<tr>\n",
       "  <th>Df Residuals:</th>          <td>   112</td>      <th>  BIC:               </th> <td>   134.8</td>\n",
       "</tr>\n",
       "<tr>\n",
       "  <th>Df Model:</th>              <td>     1</td>      <th>                     </th>     <td> </td>   \n",
       "</tr>\n",
       "<tr>\n",
       "  <th>Covariance Type:</th>      <td>nonrobust</td>    <th>                     </th>     <td> </td>   \n",
       "</tr>\n",
       "</table>\n",
       "<table class=\"simpletable\">\n",
       "<tr>\n",
       "      <td></td>         <th>coef</th>     <th>std err</th>      <th>t</th>      <th>P>|t|</th>  <th>[0.025</th>    <th>0.975]</th>  \n",
       "</tr>\n",
       "<tr>\n",
       "  <th>Intercept</th> <td>    0.3854</td> <td>    0.066</td> <td>    5.877</td> <td> 0.000</td> <td>    0.255</td> <td>    0.515</td>\n",
       "</tr>\n",
       "<tr>\n",
       "  <th>alpha</th>     <td>   -0.2756</td> <td>    0.114</td> <td>   -2.417</td> <td> 0.017</td> <td>   -0.501</td> <td>   -0.050</td>\n",
       "</tr>\n",
       "</table>\n",
       "<table class=\"simpletable\">\n",
       "<tr>\n",
       "  <th>Omnibus:</th>       <td> 1.255</td> <th>  Durbin-Watson:     </th> <td>   2.043</td>\n",
       "</tr>\n",
       "<tr>\n",
       "  <th>Prob(Omnibus):</th> <td> 0.534</td> <th>  Jarque-Bera (JB):  </th> <td>   0.885</td>\n",
       "</tr>\n",
       "<tr>\n",
       "  <th>Skew:</th>          <td>-0.203</td> <th>  Prob(JB):          </th> <td>   0.643</td>\n",
       "</tr>\n",
       "<tr>\n",
       "  <th>Kurtosis:</th>      <td> 3.147</td> <th>  Cond. No.          </th> <td>    3.55</td>\n",
       "</tr>\n",
       "</table><br/><br/>Warnings:<br/>[1] Standard Errors assume that the covariance matrix of the errors is correctly specified."
      ],
      "text/plain": [
       "<class 'statsmodels.iolib.summary.Summary'>\n",
       "\"\"\"\n",
       "                            OLS Regression Results                            \n",
       "==============================================================================\n",
       "Dep. Variable:                 gw_ngw   R-squared:                       0.050\n",
       "Model:                            OLS   Adj. R-squared:                  0.041\n",
       "Method:                 Least Squares   F-statistic:                     5.843\n",
       "Date:                Fri, 11 Feb 2022   Prob (F-statistic):             0.0173\n",
       "Time:                        12:54:02   Log-Likelihood:                -62.652\n",
       "No. Observations:                 114   AIC:                             129.3\n",
       "Df Residuals:                     112   BIC:                             134.8\n",
       "Df Model:                           1                                         \n",
       "Covariance Type:            nonrobust                                         \n",
       "==============================================================================\n",
       "                 coef    std err          t      P>|t|      [0.025      0.975]\n",
       "------------------------------------------------------------------------------\n",
       "Intercept      0.3854      0.066      5.877      0.000       0.255       0.515\n",
       "alpha         -0.2756      0.114     -2.417      0.017      -0.501      -0.050\n",
       "==============================================================================\n",
       "Omnibus:                        1.255   Durbin-Watson:                   2.043\n",
       "Prob(Omnibus):                  0.534   Jarque-Bera (JB):                0.885\n",
       "Skew:                          -0.203   Prob(JB):                        0.643\n",
       "Kurtosis:                       3.147   Cond. No.                         3.55\n",
       "==============================================================================\n",
       "\n",
       "Warnings:\n",
       "[1] Standard Errors assume that the covariance matrix of the errors is correctly specified.\n",
       "\"\"\""
      ]
     },
     "execution_count": 74,
     "metadata": {},
     "output_type": "execute_result"
    }
   ],
   "source": [
    "smf.ols(formula = 'gw_ngw ~ alpha', data = mr_perf).fit().summary()"
   ]
  },
  {
   "cell_type": "code",
   "execution_count": null,
   "metadata": {},
   "outputs": [],
   "source": []
  }
 ],
 "metadata": {
  "interpreter": {
   "hash": "b0fa6594d8f4cbf19f97940f81e996739fb7646882a419484c72d19e05852a7e"
  },
  "kernelspec": {
   "display_name": "Python 3.9.6 64-bit",
   "language": "python",
   "name": "python3"
  },
  "language_info": {
   "codemirror_mode": {
    "name": "ipython",
    "version": 3
   },
   "file_extension": ".py",
   "mimetype": "text/x-python",
   "name": "python",
   "nbconvert_exporter": "python",
   "pygments_lexer": "ipython3",
   "version": "3.9.10"
  },
  "orig_nbformat": 4
 },
 "nbformat": 4,
 "nbformat_minor": 2
}
