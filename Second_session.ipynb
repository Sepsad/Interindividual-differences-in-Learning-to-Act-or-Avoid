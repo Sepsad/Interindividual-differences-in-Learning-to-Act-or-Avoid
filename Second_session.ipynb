{
 "cells": [
  {
   "cell_type": "code",
   "execution_count": 2,
   "metadata": {},
   "outputs": [
    {
     "name": "stderr",
     "output_type": "stream",
     "text": [
      "/opt/homebrew/lib/python3.9/site-packages/statsmodels/tools/_testing.py:19: FutureWarning: pandas.util.testing is deprecated. Use the functions in the public API at pandas.testing instead.\n",
      "  import pandas.util.testing as tm\n"
     ]
    }
   ],
   "source": [
    "import matplotlib.pyplot as plt\n",
    "import pandas as pd\n",
    "pd.set_option(\"display.max_columns\", None)\n",
    "pd.set_option(\"display.max_rows\", 150)\n",
    "import seaborn as sns\n",
    "sns.set_theme(color_codes=True)\n",
    "from scipy import stats\n",
    "import statsmodels.api as sm\n",
    "import numpy as np\n",
    "import json\n",
    "from tqdm import tqdm_notebook \n",
    "import statsmodels.formula.api as smf"
   ]
  },
  {
   "cell_type": "markdown",
   "metadata": {},
   "source": [
    "## Read the Data"
   ]
  },
  {
   "cell_type": "code",
   "execution_count": 3,
   "metadata": {},
   "outputs": [
    {
     "name": "stderr",
     "output_type": "stream",
     "text": [
      "/opt/homebrew/lib/python3.9/site-packages/IPython/core/interactiveshell.py:3441: DtypeWarning: Columns (63,65) have mixed types.Specify dtype option on import or set low_memory=False.\n",
      "  exec(code_obj, self.user_global_ns, self.user_ns)\n"
     ]
    }
   ],
   "source": [
    "second_session_raw_data = pd.read_csv('Data/gono-go-game-second-round.csv', index_col=0).reset_index()\n",
    "# second_session_raw_data = second_session_raw_data[second_session_raw_data.recorded_at > '2022-01-18']\n",
    "# second_session_raw_data = second_session_raw_data[second_session_raw_data.mturkID != 'nan' ]\n",
    "\n",
    "num_all_experimenters = len(second_session_raw_data.mturkID.unique())\n",
    "num_excluded_experimenters = 0\n",
    "\n",
    "second_session_raw_data['correct'] = second_session_raw_data.correct == 'true'\n",
    "\n",
    "# second_session_raw_data.head()"
   ]
  },
  {
   "cell_type": "code",
   "execution_count": 4,
   "metadata": {},
   "outputs": [
    {
     "data": {
      "text/plain": [
       "135"
      ]
     },
     "execution_count": 4,
     "metadata": {},
     "output_type": "execute_result"
    }
   ],
   "source": [
    "len(second_session_raw_data.mturkID.value_counts())"
   ]
  },
  {
   "cell_type": "markdown",
   "metadata": {},
   "source": [
    "# Apply exclusion criteria"
   ]
  },
  {
   "cell_type": "markdown",
   "metadata": {},
   "source": [
    "1. Fail the quiz of instructions more than twice.\n",
    "2. Change the tab or window of the experiment."
   ]
  },
  {
   "cell_type": "code",
   "execution_count": 5,
   "metadata": {},
   "outputs": [
    {
     "name": "stdout",
     "output_type": "stream",
     "text": [
      "Number of participants excluded by this criterias: 4\n"
     ]
    }
   ],
   "source": [
    "experimenter_status = second_session_raw_data[second_session_raw_data.trial_type == 'survey-html-form'][['run_id','mturkID', 'exp_final_status']]\n",
    "IDs_for_inclusion_by_completed = experimenter_status[experimenter_status.exp_final_status == 'fully_completed'].mturkID\n",
    "\n",
    "run_IDs_for_exclusion_by_changing_tabs = second_session_raw_data[second_session_raw_data.exp_final_status == 'not_completed_by_changing_tab'].run_id\n",
    "run_IDs_for_exclusion_by_failing_quiz = second_session_raw_data[second_session_raw_data.exp_final_status == 'not_completed_by_failing_quiz'].run_id\n",
    "\n",
    "second_session_clean_data = second_session_raw_data[second_session_raw_data.run_id.isin(run_IDs_for_exclusion_by_changing_tabs) == False]\n",
    "second_session_clean_data = second_session_clean_data[second_session_clean_data.run_id.isin(run_IDs_for_exclusion_by_failing_quiz) == False]\n",
    "\n",
    "\n",
    "\n",
    "num_excluded_experimenters = len(second_session_raw_data.mturkID.unique()) - len(second_session_clean_data.mturkID.unique())\n",
    "\n",
    "print(\"Number of participants excluded by this criterias:\", num_excluded_experimenters)"
   ]
  },
  {
   "cell_type": "code",
   "execution_count": 6,
   "metadata": {},
   "outputs": [],
   "source": [
    "# exclude the first try of a turker\n",
    "second_session_clean_data = second_session_clean_data[second_session_clean_data.run_id != 204 ]\n",
    "second_session_clean_data = second_session_clean_data[second_session_clean_data.run_id != 14]\n",
    "second_session_clean_data.mturkID.replace({\"A2TLN8489YGY81_agaign\": \"A2TLN8489YGY81\"}, inplace=True)\n"
   ]
  },
  {
   "cell_type": "code",
   "execution_count": 7,
   "metadata": {},
   "outputs": [
    {
     "data": {
      "text/plain": [
       "0"
      ]
     },
     "execution_count": 7,
     "metadata": {},
     "output_type": "execute_result"
    }
   ],
   "source": [
    "second_session_clean_data.mturkID.isna().sum()"
   ]
  },
  {
   "cell_type": "markdown",
   "metadata": {},
   "source": [
    "3. Respond randomly, always go or never go.\n",
    "\n",
    "    * Note: We exclude who repond randomly, always go or nogo in each 3 block"
   ]
  },
  {
   "cell_type": "code",
   "execution_count": 8,
   "metadata": {},
   "outputs": [],
   "source": [
    "susp = second_session_clean_data[second_session_clean_data.suspicious == 'true'][['mturkID', 'suspicious_type','num_gos', 'block']]"
   ]
  },
  {
   "cell_type": "code",
   "execution_count": 9,
   "metadata": {},
   "outputs": [
    {
     "name": "stdout",
     "output_type": "stream",
     "text": [
      "Number of participants excluded by this criterias: 5\n"
     ]
    }
   ],
   "source": [
    "IDs_for_exclusion_by_random_response = list(susp.mturkID.value_counts()[ (susp.mturkID.value_counts() == 3) | (susp.mturkID.value_counts() == 2) ].index)\n",
    "\n",
    "num_excluded_experimenters += len(IDs_for_exclusion_by_random_response)\n",
    "\n",
    "second_session_clean_data = second_session_clean_data[second_session_clean_data.mturkID.isin(IDs_for_exclusion_by_random_response) == False]\n",
    "\n",
    "print(\"Number of participants excluded by this criterias:\", len(IDs_for_exclusion_by_random_response))\n"
   ]
  },
  {
   "cell_type": "code",
   "execution_count": 10,
   "metadata": {},
   "outputs": [
    {
     "data": {
      "text/plain": [
       "0"
      ]
     },
     "execution_count": 10,
     "metadata": {},
     "output_type": "execute_result"
    }
   ],
   "source": [
    "second_session_clean_data.mturkID.isna().sum()"
   ]
  },
  {
   "cell_type": "code",
   "execution_count": 11,
   "metadata": {},
   "outputs": [
    {
     "data": {
      "text/plain": [
       "(125,)"
      ]
     },
     "execution_count": 11,
     "metadata": {},
     "output_type": "execute_result"
    }
   ],
   "source": [
    "second_session_clean_data.mturkID.unique().shape"
   ]
  },
  {
   "cell_type": "markdown",
   "metadata": {},
   "source": [
    "4. Their rate of the correct response to detection of circle side task is less than 55%."
   ]
  },
  {
   "cell_type": "code",
   "execution_count": 12,
   "metadata": {},
   "outputs": [],
   "source": [
    "circle_side_correctness = second_session_clean_data[second_session_clean_data.choice == 'go'][['mturkID','side', 'response']]\n",
    "circle_side_correctness['is_correct_circle_side'] =  (circle_side_correctness.side == circle_side_correctness.response)\n",
    "accuracy_data = circle_side_correctness.groupby('mturkID').mean().reset_index()\n",
    "accuracy_data.columns = ['mturkID', 'rate']\n",
    "accuracy_data['is_below_55'] = accuracy_data.rate < 0.55\n",
    "\n",
    "# accuracy_data.head()\n"
   ]
  },
  {
   "cell_type": "code",
   "execution_count": 13,
   "metadata": {},
   "outputs": [
    {
     "name": "stdout",
     "output_type": "stream",
     "text": [
      "Number of participants excluded by this criterias: 11\n"
     ]
    }
   ],
   "source": [
    "non_accurate_IDs = list(accuracy_data[accuracy_data.is_below_55 == True].mturkID)\n",
    "\n",
    "num_excluded_experimenters += len(non_accurate_IDs)\n",
    "\n",
    "second_session_clean_data = second_session_clean_data[second_session_clean_data.mturkID.isin(list(non_accurate_IDs)) == False]\n",
    "print(\"Number of participants excluded by this criterias:\", len(non_accurate_IDs))\n",
    "\n"
   ]
  },
  {
   "cell_type": "code",
   "execution_count": 14,
   "metadata": {},
   "outputs": [
    {
     "data": {
      "text/plain": [
       "0"
      ]
     },
     "execution_count": 14,
     "metadata": {},
     "output_type": "execute_result"
    }
   ],
   "source": [
    "second_session_clean_data.mturkID.isna().sum()"
   ]
  },
  {
   "cell_type": "code",
   "execution_count": 15,
   "metadata": {},
   "outputs": [
    {
     "data": {
      "text/plain": [
       "array([], dtype=int64)"
      ]
     },
     "execution_count": 15,
     "metadata": {},
     "output_type": "execute_result"
    }
   ],
   "source": [
    "second_session_clean_data[second_session_clean_data.mturkID.isna()].run_id.unique()"
   ]
  },
  {
   "cell_type": "code",
   "execution_count": 16,
   "metadata": {},
   "outputs": [
    {
     "data": {
      "text/plain": [
       "(114,)"
      ]
     },
     "execution_count": 16,
     "metadata": {},
     "output_type": "execute_result"
    }
   ],
   "source": [
    "second_session_clean_data.mturkID.unique().shape"
   ]
  },
  {
   "cell_type": "markdown",
   "metadata": {},
   "source": [
    "# Plot Perforance per conditions"
   ]
  },
  {
   "cell_type": "code",
   "execution_count": 17,
   "metadata": {},
   "outputs": [
    {
     "name": "stderr",
     "output_type": "stream",
     "text": [
      "/var/folders/5p/j5wvkpqj2_n5r5h100pdscbr0000gn/T/ipykernel_6641/2126368423.py:5: SettingWithCopyWarning: \n",
      "A value is trying to be set on a copy of a slice from a DataFrame.\n",
      "Try using .loc[row_indexer,col_indexer] = value instead\n",
      "\n",
      "See the caveats in the documentation: https://pandas.pydata.org/pandas-docs/stable/user_guide/indexing.html#returning-a-view-versus-a-copy\n",
      "  circle_task_logs['correct_action'] = (circle_task_logs.choice == circle_task_logs.cond_action)\n"
     ]
    },
    {
     "data": {
      "image/png": "[encoded data removed]",
      "text/plain": [
       "<Figure size 360x360 with 1 Axes>"
      ]
     },
     "metadata": {},
     "output_type": "display_data"
    }
   ],
   "source": [
    "mapping = {'1': 'go2win', '2': 'nogo2win', '3': 'go2avoidPun', '4' : 'nogo2avoidPun'} \n",
    "\n",
    "circle_task_logs = second_session_clean_data[second_session_clean_data.exp_stage == 'main_target_detection']\n",
    "\n",
    "circle_task_logs['correct_action'] = (circle_task_logs.choice == circle_task_logs.cond_action)\n",
    "performance_per_condition = circle_task_logs.groupby(['mturkID','cond']).mean().reset_index()\n",
    "performance_per_condition.cond = performance_per_condition.cond.map(mapping)\n",
    "\n",
    "\n",
    "ax = sns.catplot(x=\"cond\", y=\"correct\", data=performance_per_condition, order= ['go2win','go2avoidPun' ,'nogo2win', 'nogo2avoidPun']);\n",
    "ax = sns.boxplot(x=\"cond\", y=\"correct\", data= performance_per_condition, boxprops=dict(alpha=.1), order= ['go2win','go2avoidPun' ,'nogo2win', 'nogo2avoidPun']);\n",
    "\n",
    "ax.set(xlabel=\"Condition\", ylabel = \"Overall Accuracy\", title = 'Second Session Total Performance per Condition')\n",
    "plt.show()\n"
   ]
  },
  {
   "cell_type": "code",
   "execution_count": 18,
   "metadata": {},
   "outputs": [
    {
     "data": {
      "text/plain": [
       "114"
      ]
     },
     "execution_count": 18,
     "metadata": {},
     "output_type": "execute_result"
    }
   ],
   "source": [
    "len(second_session_clean_data.mturkID.unique())"
   ]
  },
  {
   "cell_type": "markdown",
   "metadata": {},
   "source": [
    "# Extract Demographic datas"
   ]
  },
  {
   "cell_type": "code",
   "execution_count": 62,
   "metadata": {},
   "outputs": [
    {
     "data": {
      "text/plain": [
       "114"
      ]
     },
     "execution_count": 62,
     "metadata": {},
     "output_type": "execute_result"
    }
   ],
   "source": [
    "len(raw_demographic_data.mturkID.unique())"
   ]
  },
  {
   "cell_type": "code",
   "execution_count": 63,
   "metadata": {},
   "outputs": [
    {
     "name": "stderr",
     "output_type": "stream",
     "text": [
      "/var/folders/5p/j5wvkpqj2_n5r5h100pdscbr0000gn/T/ipykernel_71884/3402330953.py:2: UserWarning: Boolean Series key will be reindexed to match DataFrame index.\n",
      "  raw_demographic_data = second_session_clean_data[(second_session_clean_data.response != \"\") & (second_session_raw_data.trial_type == 'survey-html-form')][['mturkID', 'response']].drop_duplicates(subset=['mturkID'], keep='last')\n"
     ]
    }
   ],
   "source": [
    "# raw_demographic_data = second_session_clean_data[second_session_clean_data.trial_type == 'survey-html-form'][['mturkID', 'response']]\n",
    "raw_demographic_data = second_session_clean_data[(second_session_clean_data.response != \"\") & (second_session_raw_data.trial_type == 'survey-html-form')][['mturkID', 'response']].drop_duplicates(subset=['mturkID'], keep='last')\n",
    "\n",
    "raw_demographic_data['gender'] = raw_demographic_data.response.apply(lambda x: x.split('\"')[3])\n",
    "raw_demographic_data['age'] = raw_demographic_data.response.apply(lambda x: x.split('\"')[7])\n",
    "raw_demographic_data['education_level'] = raw_demographic_data.response.apply(lambda x: x.split('\"')[11])\n",
    "raw_demographic_data['comments'] = raw_demographic_data.response.apply(lambda x: x.split('\"')[15])\n",
    "raw_demographic_data = raw_demographic_data.drop(['response'], axis=1)\n",
    "# raw_demographic_data.shape"
   ]
  },
  {
   "cell_type": "code",
   "execution_count": 64,
   "metadata": {},
   "outputs": [
    {
     "name": "stderr",
     "output_type": "stream",
     "text": [
      "/var/folders/5p/j5wvkpqj2_n5r5h100pdscbr0000gn/T/ipykernel_71884/4121152230.py:1: SettingWithCopyWarning: \n",
      "A value is trying to be set on a copy of a slice from a DataFrame.\n",
      "Try using .loc[row_indexer,col_indexer] = value instead\n",
      "\n",
      "See the caveats in the documentation: https://pandas.pydata.org/pandas-docs/stable/user_guide/indexing.html#returning-a-view-versus-a-copy\n",
      "  circle_task_logs['cond'] = circle_task_logs.cond_action + '2' + circle_task_logs.cond_outcome\n"
     ]
    }
   ],
   "source": [
    "circle_task_logs['cond'] = circle_task_logs.cond_action + '2' + circle_task_logs.cond_outcome \n",
    "GOs = (circle_task_logs[circle_task_logs.choice == 'go'].groupby(['mturkID']).count()['run_id'].rename('second_num_GOs'))\n",
    "noGos = (circle_task_logs[circle_task_logs.choice == 'nogo'].groupby(['mturkID']).count()['run_id'].rename('second_num_noGos'))\n",
    "go2win_Gos = (circle_task_logs[(circle_task_logs.choice == 'go') & (circle_task_logs.cond == 'go2win')].groupby(['mturkID']).count()['run_id'].rename('second_num_go2win_Gos'))\n",
    "nogo2avoidpun_noGos = (circle_task_logs[(circle_task_logs.choice == 'nogo') & (circle_task_logs.cond == 'nogo2avoidPun')].groupby(['mturkID']).count()['run_id'].rename('second_num_nogo2avoidPun_noGos'))\n",
    "new_pav_metric_df = pd.concat([GOs, noGos, go2win_Gos, nogo2avoidpun_noGos], axis=1)\n"
   ]
  },
  {
   "cell_type": "code",
   "execution_count": 65,
   "metadata": {
    "scrolled": false
   },
   "outputs": [
    {
     "data": {
      "image/png": "[encoded data removed]",
      "text/plain": [
       "<Figure size 720x576 with 1 Axes>"
      ]
     },
     "metadata": {},
     "output_type": "display_data"
    }
   ],
   "source": [
    "plt.figure(figsize=(10,8))\n",
    "plt.ylabel(\"Percent\")\n",
    "gender_percent = (raw_demographic_data.gender.value_counts(normalize=True))*100\n",
    "gender_percent[0]\n",
    "ax = sns.barplot(y = gender_percent,x = gender_percent.index)\n",
    "ax.set_yticks(np.arange(0, 100, 10));\n",
    "ax.set_ylabel(\"Percent\");\n",
    "\n",
    "for bar in ax.patches:\n",
    "   \n",
    "  # Using Matplotlib's annotate function and\n",
    "  # passing the coordinates where the annotation shall be done\n",
    "  # x-coordinate: bar.get_x() + bar.get_width() / 2\n",
    "  # y-coordinate: bar.get_height()\n",
    "  # free space to be left to make graph pleasing: (0, 8)\n",
    "  # ha and va stand for the horizontal and vertical alignment\n",
    "    ax.annotate(format(bar.get_height(), '.2f'),\n",
    "                   (bar.get_x() + bar.get_width() / 2,\n",
    "                    bar.get_height()), ha='center', va='center',\n",
    "                   size=15, xytext=(0, 8),\n",
    "                   textcoords='offset points')\n",
    "    \n",
    "plt.show()\n"
   ]
  },
  {
   "cell_type": "code",
   "execution_count": 67,
   "metadata": {},
   "outputs": [
    {
     "data": {
      "text/plain": [
       "39.24561403508772"
      ]
     },
     "execution_count": 67,
     "metadata": {},
     "output_type": "execute_result"
    }
   ],
   "source": [
    "sum_age = []\n",
    "for i in (raw_demographic_data.age):\n",
    "    try:\n",
    "        sum_age.append(int(i))\n",
    "    except:\n",
    "        print(\"ERRRR\")\n",
    "np.mean(sum_age)"
   ]
  },
  {
   "cell_type": "markdown",
   "metadata": {},
   "source": [
    "# Create final data to analyze"
   ]
  },
  {
   "cell_type": "code",
   "execution_count": null,
   "metadata": {},
   "outputs": [],
   "source": []
  },
  {
   "cell_type": "code",
   "execution_count": 63,
   "metadata": {},
   "outputs": [
    {
     "data": {
      "text/html": [
       "<div>\n",
       "<style scoped>\n",
       "    .dataframe tbody tr th:only-of-type {\n",
       "        vertical-align: middle;\n",
       "    }\n",
       "\n",
       "    .dataframe tbody tr th {\n",
       "        vertical-align: top;\n",
       "    }\n",
       "\n",
       "    .dataframe thead th {\n",
       "        text-align: right;\n",
       "    }\n",
       "</style>\n",
       "<table border=\"1\" class=\"dataframe\">\n",
       "  <thead>\n",
       "    <tr style=\"text-align: right;\">\n",
       "      <th></th>\n",
       "      <th>mturkID</th>\n",
       "      <th>go2avoidPun_second_session</th>\n",
       "      <th>go2win_second_session</th>\n",
       "      <th>nogo2avoidPun_second_session</th>\n",
       "      <th>nogo2win_second_session</th>\n",
       "      <th>circle_side_performance_second_session</th>\n",
       "      <th>is_below_55_second_session</th>\n",
       "      <th>gender_second_session</th>\n",
       "      <th>age_second_session</th>\n",
       "      <th>education_level_second_session</th>\n",
       "      <th>comments_second_session</th>\n",
       "      <th>overall_performance</th>\n",
       "      <th>second_num_GOs</th>\n",
       "      <th>second_num_noGos</th>\n",
       "      <th>second_num_go2win_Gos</th>\n",
       "      <th>second_num_nogo2avoidPun_noGos</th>\n",
       "    </tr>\n",
       "  </thead>\n",
       "  <tbody>\n",
       "    <tr>\n",
       "      <th>0</th>\n",
       "      <td>A10BH9PYCYUKDJ</td>\n",
       "      <td>0.500000</td>\n",
       "      <td>0.8</td>\n",
       "      <td>0.600000</td>\n",
       "      <td>0.266667</td>\n",
       "      <td>1.000000</td>\n",
       "      <td>False</td>\n",
       "      <td>female</td>\n",
       "      <td>41</td>\n",
       "      <td>Associate</td>\n",
       "      <td>}</td>\n",
       "      <td>0.541667</td>\n",
       "      <td>73</td>\n",
       "      <td>47</td>\n",
       "      <td>24.0</td>\n",
       "      <td>18</td>\n",
       "    </tr>\n",
       "    <tr>\n",
       "      <th>1</th>\n",
       "      <td>A10JXOU89D5RXR</td>\n",
       "      <td>0.900000</td>\n",
       "      <td>1.0</td>\n",
       "      <td>0.900000</td>\n",
       "      <td>0.700000</td>\n",
       "      <td>0.986667</td>\n",
       "      <td>False</td>\n",
       "      <td>female</td>\n",
       "      <td>60</td>\n",
       "      <td>Bachelor</td>\n",
       "      <td>}</td>\n",
       "      <td>0.875000</td>\n",
       "      <td>69</td>\n",
       "      <td>51</td>\n",
       "      <td>30.0</td>\n",
       "      <td>27</td>\n",
       "    </tr>\n",
       "    <tr>\n",
       "      <th>2</th>\n",
       "      <td>A11S8IAAVDXCUS</td>\n",
       "      <td>0.200000</td>\n",
       "      <td>1.0</td>\n",
       "      <td>0.633333</td>\n",
       "      <td>0.133333</td>\n",
       "      <td>1.000000</td>\n",
       "      <td>False</td>\n",
       "      <td>female</td>\n",
       "      <td>31</td>\n",
       "      <td>Associate</td>\n",
       "      <td>}</td>\n",
       "      <td>0.491667</td>\n",
       "      <td>73</td>\n",
       "      <td>47</td>\n",
       "      <td>30.0</td>\n",
       "      <td>19</td>\n",
       "    </tr>\n",
       "    <tr>\n",
       "      <th>3</th>\n",
       "      <td>A12FTSX85NQ8N9</td>\n",
       "      <td>0.866667</td>\n",
       "      <td>1.0</td>\n",
       "      <td>0.966667</td>\n",
       "      <td>0.866667</td>\n",
       "      <td>1.000000</td>\n",
       "      <td>False</td>\n",
       "      <td>male</td>\n",
       "      <td>29</td>\n",
       "      <td>Bachelor</td>\n",
       "      <td>}</td>\n",
       "      <td>0.925000</td>\n",
       "      <td>61</td>\n",
       "      <td>59</td>\n",
       "      <td>30.0</td>\n",
       "      <td>29</td>\n",
       "    </tr>\n",
       "    <tr>\n",
       "      <th>4</th>\n",
       "      <td>A12HZGOZQD5YK7</td>\n",
       "      <td>0.966667</td>\n",
       "      <td>1.0</td>\n",
       "      <td>0.966667</td>\n",
       "      <td>0.800000</td>\n",
       "      <td>1.000000</td>\n",
       "      <td>False</td>\n",
       "      <td>female</td>\n",
       "      <td>41</td>\n",
       "      <td>Associate</td>\n",
       "      <td>}</td>\n",
       "      <td>0.933333</td>\n",
       "      <td>66</td>\n",
       "      <td>54</td>\n",
       "      <td>30.0</td>\n",
       "      <td>29</td>\n",
       "    </tr>\n",
       "  </tbody>\n",
       "</table>\n",
       "</div>"
      ],
      "text/plain": [
       "          mturkID  go2avoidPun_second_session  go2win_second_session  \\\n",
       "0  A10BH9PYCYUKDJ                    0.500000                    0.8   \n",
       "1  A10JXOU89D5RXR                    0.900000                    1.0   \n",
       "2  A11S8IAAVDXCUS                    0.200000                    1.0   \n",
       "3  A12FTSX85NQ8N9                    0.866667                    1.0   \n",
       "4  A12HZGOZQD5YK7                    0.966667                    1.0   \n",
       "\n",
       "   nogo2avoidPun_second_session  nogo2win_second_session  \\\n",
       "0                      0.600000                 0.266667   \n",
       "1                      0.900000                 0.700000   \n",
       "2                      0.633333                 0.133333   \n",
       "3                      0.966667                 0.866667   \n",
       "4                      0.966667                 0.800000   \n",
       "\n",
       "   circle_side_performance_second_session  is_below_55_second_session  \\\n",
       "0                                1.000000                       False   \n",
       "1                                0.986667                       False   \n",
       "2                                1.000000                       False   \n",
       "3                                1.000000                       False   \n",
       "4                                1.000000                       False   \n",
       "\n",
       "  gender_second_session age_second_session education_level_second_session  \\\n",
       "0                female                 41                      Associate   \n",
       "1                female                 60                       Bachelor   \n",
       "2                female                 31                      Associate   \n",
       "3                  male                 29                       Bachelor   \n",
       "4                female                 41                      Associate   \n",
       "\n",
       "  comments_second_session  overall_performance  second_num_GOs  \\\n",
       "0                       }             0.541667              73   \n",
       "1                       }             0.875000              69   \n",
       "2                       }             0.491667              73   \n",
       "3                       }             0.925000              61   \n",
       "4                       }             0.933333              66   \n",
       "\n",
       "   second_num_noGos  second_num_go2win_Gos  second_num_nogo2avoidPun_noGos  \n",
       "0                47                   24.0                              18  \n",
       "1                51                   30.0                              27  \n",
       "2                47                   30.0                              19  \n",
       "3                59                   30.0                              29  \n",
       "4                54                   30.0                              29  "
      ]
     },
     "execution_count": 63,
     "metadata": {},
     "output_type": "execute_result"
    }
   ],
   "source": [
    "final_performace_data = performance_per_condition.pivot(index='mturkID', columns='cond', values='correct').reset_index()\n",
    "\n",
    "\n",
    "final_performace_data = pd.merge(final_performace_data, accuracy_data, on='mturkID')\n",
    "final_performace_data = pd.merge(final_performace_data, raw_demographic_data, on='mturkID')\n",
    "final_performace_data.columns = ['mturkID', 'go2avoidPun_second_session', 'go2win_second_session', 'nogo2avoidPun_second_session', 'nogo2win_second_session', 'circle_side_performance_second_session',\\\n",
    "       'is_below_55_second_session', 'gender_second_session', 'age_second_session', 'education_level_second_session', 'comments_second_session']\n",
    "overall_performance =  final_performace_data['nogo2win_second_session'] + \\\n",
    "                        final_performace_data['go2win_second_session'] + \\\n",
    "                        final_performace_data['nogo2avoidPun_second_session'] + \\\n",
    "                        final_performace_data['go2avoidPun_second_session']\n",
    "final_performace_data['overall_performance'] = overall_performance/4\n",
    "\n",
    "final_performace_data = final_performace_data.merge(new_pav_metric_df, on='mturkID', how='left')\n",
    "\n",
    "final_performace_data.head()"
   ]
  },
  {
   "cell_type": "code",
   "execution_count": 64,
   "metadata": {},
   "outputs": [
    {
     "data": {
      "text/plain": [
       "(114, 16)"
      ]
     },
     "execution_count": 64,
     "metadata": {},
     "output_type": "execute_result"
    }
   ],
   "source": [
    "final_performace_data.shape"
   ]
  },
  {
   "cell_type": "code",
   "execution_count": 65,
   "metadata": {},
   "outputs": [],
   "source": [
    "final_performace_data.drop_duplicates().to_csv('Data/second_round_final_performance.csv')"
   ]
  },
  {
   "cell_type": "markdown",
   "metadata": {},
   "source": [
    "# Pav axis"
   ]
  },
  {
   "cell_type": "code",
   "execution_count": 66,
   "metadata": {},
   "outputs": [
    {
     "data": {
      "text/plain": [
       "(0.0, 1.0)"
      ]
     },
     "execution_count": 66,
     "metadata": {},
     "output_type": "execute_result"
    },
    {
     "data": {
      "image/png": "[encoded data removed]",
      "text/plain": [
       "<Figure size 720x720 with 4 Axes>"
      ]
     },
     "metadata": {},
     "output_type": "display_data"
    }
   ],
   "source": [
    "fig, axs = plt.subplots(ncols=2, nrows = 2, figsize=(10,10))\n",
    "plt.ylim(0, 1)\n",
    "\n",
    "final_performace_data['is_learned'] = final_performace_data.overall_performance > 0.65\n",
    "\n",
    "sns.barplot(x=\"is_learned\", y=\"nogo2win_second_session\", \n",
    " data=final_performace_data,\n",
    " palette=\"muted\", ax = axs[(1,1)]).set_title('Nogo2Win')\n",
    "\n",
    "axs[1,1].set_ylim(0,1)\n",
    "\n",
    "sns.barplot(x=\"is_learned\", y=\"go2win_second_session\", \n",
    " data=final_performace_data,\n",
    " palette=\"muted\", ax = axs[(0,1)]).set_title('go2Win')\n",
    "axs[0,1].set_ylim(0,1)\n",
    "\n",
    "\n",
    "\n",
    "sns.barplot(x=\"is_learned\", y=\"go2avoidPun_second_session\", \n",
    " data=final_performace_data,\n",
    " palette=\"muted\", ax = axs[(0,0)]).set_title('go2avoidPun')\n",
    "axs[0,0].set_ylim(0,1)\n",
    "\n",
    "\n",
    "\n",
    "sns.barplot(x=\"is_learned\", y=\"nogo2avoidPun_second_session\", \n",
    " data=final_performace_data,\n",
    " palette=\"muted\", ax = axs[(1,0)]).set_title('nogo2avoidPun')\n",
    "axs[1,0].set_ylim(0,1)\n",
    "\n",
    "\n"
   ]
  },
  {
   "cell_type": "markdown",
   "metadata": {},
   "source": [
    "# modelling"
   ]
  },
  {
   "cell_type": "code",
   "execution_count": 67,
   "metadata": {},
   "outputs": [],
   "source": [
    "result_of_trials = circle_task_logs[['mturkID', 'internal_node_id', 'response', 'side', 'choice', 'cond_action', 'cond_outcome','correct_action', 'outcome', 'feedback_points', 'block']].copy()\n",
    "\n",
    "result_of_trials['stimulus'] = result_of_trials['cond_action'] + '2' + result_of_trials['cond_outcome']\n",
    "result_of_trials['is_go'] = result_of_trials.choice == 'go'\n",
    "result_of_trials['is_go'].replace({True: 1, False: 0}, inplace=True)\n"
   ]
  },
  {
   "cell_type": "code",
   "execution_count": 69,
   "metadata": {},
   "outputs": [],
   "source": [
    "result_of_trials[['mturkID','choice', 'feedback_points', 'stimulus']].to_csv('data_for_modeling_matlab_second_session.csv')"
   ]
  },
  {
   "cell_type": "code",
   "execution_count": 25,
   "metadata": {},
   "outputs": [],
   "source": [
    "result_of_trials.to_csv('Data/second_round_result_of_trials.csv')"
   ]
  },
  {
   "cell_type": "code",
   "execution_count": 26,
   "metadata": {},
   "outputs": [
    {
     "name": "stderr",
     "output_type": "stream",
     "text": [
      "/var/folders/5p/j5wvkpqj2_n5r5h100pdscbr0000gn/T/ipykernel_2364/3190507868.py:22: PerformanceWarning: DataFrame is highly fragmented.  This is usually the result of calling `frame.insert` many times, which has poor performance.  Consider using pd.concat instead.  To get a de-fragmented frame, use `newframe = frame.copy()`\n",
      "  go2win_prob_df[mID] = go_of_every_subject_in_s.is_go.copy()\n",
      "/var/folders/5p/j5wvkpqj2_n5r5h100pdscbr0000gn/T/ipykernel_2364/3190507868.py:25: PerformanceWarning: DataFrame is highly fragmented.  This is usually the result of calling `frame.insert` many times, which has poor performance.  Consider using pd.concat instead.  To get a de-fragmented frame, use `newframe = frame.copy()`\n",
      "  nogo2win_prob_df[mID] = go_of_every_subject_in_s.is_go.copy()\n",
      "/var/folders/5p/j5wvkpqj2_n5r5h100pdscbr0000gn/T/ipykernel_2364/3190507868.py:28: PerformanceWarning: DataFrame is highly fragmented.  This is usually the result of calling `frame.insert` many times, which has poor performance.  Consider using pd.concat instead.  To get a de-fragmented frame, use `newframe = frame.copy()`\n",
      "  go2avoidPun_prob_df[mID] = go_of_every_subject_in_s.is_go.copy()\n",
      "/var/folders/5p/j5wvkpqj2_n5r5h100pdscbr0000gn/T/ipykernel_2364/3190507868.py:31: PerformanceWarning: DataFrame is highly fragmented.  This is usually the result of calling `frame.insert` many times, which has poor performance.  Consider using pd.concat instead.  To get a de-fragmented frame, use `newframe = frame.copy()`\n",
      "  nogo2avoidPun_prob_df[mID] = go_of_every_subject_in_s.is_go.copy()\n"
     ]
    }
   ],
   "source": [
    "go2win_go_prob = pd.Series(np.zeros(30))\n",
    "go2win_prob_df = pd.DataFrame()\n",
    "\n",
    "nogo2win_go_prob = pd.Series(np.zeros(30))\n",
    "nogo2win_prob_df = pd.DataFrame()\n",
    "\n",
    "go2avoidPun_go_prob = pd.Series(np.zeros(30))\n",
    "go2avoidPun_prob_df = pd.DataFrame()\n",
    "\n",
    "nogo2avoidPun_go_prob = pd.Series(np.zeros(30))\n",
    "nogo2avoidPun_prob_df = pd.DataFrame()\n",
    "\n",
    "\n",
    "\n",
    "\n",
    "for mID in result_of_trials.mturkID.dropna().unique():\n",
    "    go_of_every_subject = result_of_trials[result_of_trials['mturkID']== mID][['is_go','stimulus']].reset_index(drop=True)\n",
    "    for s in ['go2win','nogo2win','go2avoidPun', 'nogo2avoidPun']:\n",
    "        go_of_every_subject_in_s = go_of_every_subject[go_of_every_subject.stimulus == s].reset_index(drop=True)\n",
    "        if( s == 'go2win'):\n",
    "            go2win_go_prob += go_of_every_subject_in_s.is_go/len(result_of_trials.mturkID.dropna().unique())\n",
    "            go2win_prob_df[mID] = go_of_every_subject_in_s.is_go.copy()\n",
    "        elif (s == 'nogo2win'):\n",
    "            nogo2win_go_prob += go_of_every_subject_in_s.is_go/len(result_of_trials.mturkID.dropna().unique())\n",
    "            nogo2win_prob_df[mID] = go_of_every_subject_in_s.is_go.copy()\n",
    "        elif (s == 'go2avoidPun'):\n",
    "            go2avoidPun_go_prob += go_of_every_subject_in_s.is_go/len(result_of_trials.mturkID.dropna().unique())\n",
    "            go2avoidPun_prob_df[mID] = go_of_every_subject_in_s.is_go.copy()\n",
    "        elif (s == 'nogo2avoidPun'):\n",
    "            nogo2avoidPun_go_prob += go_of_every_subject_in_s.is_go/len(result_of_trials.mturkID.dropna().unique())\n",
    "            nogo2avoidPun_prob_df[mID] = go_of_every_subject_in_s.is_go.copy()\n"
   ]
  },
  {
   "cell_type": "code",
   "execution_count": 27,
   "metadata": {},
   "outputs": [
    {
     "data": {
      "text/plain": [
       "(0.0, 1.0)"
      ]
     },
     "execution_count": 27,
     "metadata": {},
     "output_type": "execute_result"
    },
    {
     "data": {
      "image/png": "[encoded data removed]",
      "text/plain": [
       "<Figure size 720x432 with 1 Axes>"
      ]
     },
     "metadata": {},
     "output_type": "display_data"
    }
   ],
   "source": [
    "go_prob_df = pd.DataFrame({'go2win': go2win_go_prob, \n",
    "                            'nogo2win': nogo2win_go_prob,\n",
    "                            'go2avoidPun': go2avoidPun_go_prob,\\\n",
    "                            'nogo2avoidPun': nogo2avoidPun_go_prob})\n",
    "\n",
    "# go_prob_df['idx'] = go_prob_df.index\n",
    "\n",
    "go_prob_df = go_prob_df.melt().rename(columns={'variable': 'stimulus', 'value': 'go_prob'})\n",
    "go_prob_df.loc[go_prob_df.stimulus == 'go2win', 'idx'] = range(0,30) \n",
    "go_prob_df.loc[go_prob_df.stimulus == 'nogo2win', 'idx'] = range(0,30) \n",
    "go_prob_df.loc[go_prob_df.stimulus == 'go2avoidPun', 'idx'] = range(0,30) \n",
    "go_prob_df.loc[go_prob_df.stimulus == 'nogo2avoidPun', 'idx'] = range(0,30)\n",
    "\n",
    "plt.figure(figsize=(10,6))\n",
    "ax = sns.lineplot(x=\"idx\", y=\"go_prob\",\n",
    "             hue=\"stimulus\", \n",
    "             data=go_prob_df)\n",
    "plt.title(\"mean of go probability in every trial\")\n",
    "plt.ylim(0,1)\n",
    "\n",
    " "
   ]
  },
  {
   "cell_type": "code",
   "execution_count": 28,
   "metadata": {},
   "outputs": [],
   "source": [
    "from sys import path\n",
    "from dotenv import load_dotenv\n",
    "import os\n",
    "load_dotenv();\n",
    "\n",
    "path.append(os.environ.get(\"MODELING_PATH\"))\n",
    "\n",
    "from fitting import ML"
   ]
  },
  {
   "cell_type": "code",
   "execution_count": 28,
   "metadata": {},
   "outputs": [],
   "source": [
    "np.random.seed(30)\n",
    "modeling_result_df = {}\n",
    "modeling_result_df['mturkID'] = []\n",
    "\n",
    "modeling_result_df['alpha'] = []\n",
    "modeling_result_df['beta'] = []\n",
    "modeling_result_df['noise'] = []\n",
    "modeling_result_df['go_bias'] = []\n",
    "modeling_result_df['pav_bias'] = []\n",
    "\n",
    "\n",
    "def fit_subject_with_id(subject_id):\n",
    "    df = result_of_trials[result_of_trials.mturkID == subject_id]\n",
    "    df = df[['choice','stimulus','feedback_points']].rename(columns={'choice':'action', 'feedback_points':'reward'}).reset_index(drop=True)\n",
    "    df['reward'] = pd.to_numeric(df.reward)\n",
    "\n",
    "    max_likelihood = ML(df, optimization_method='Nelder-Mead', model_type='RW+noise+bias+Pav', initial_guess=np.random.normal(0,1,1)[0]*np.array([0.1,0.1,0.1,0.1,0.1]), without_bound=True)\n",
    "    res = max_likelihood.fit_model()\n",
    "    return res\n",
    "\n"
   ]
  },
  {
   "cell_type": "code",
   "execution_count": 29,
   "metadata": {},
   "outputs": [],
   "source": [
    "# for subject in tqdm_notebook(result_of_trials.mturkID.unique()):\n",
    "#     res = fit_subject_with_id(subject)\n",
    "\n",
    "#     modeling_result_df['mturkID'].append(subject)\n",
    "#     modeling_result_df['alpha'].append(1 / (1+ np.exp(-res.x[0])))\n",
    "#     modeling_result_df['beta'].append(np.exp(res.x[1]))\n",
    "#     modeling_result_df['noise'].append(1 / (1+ np.exp(-res.x[2])))\n",
    "#     modeling_result_df['go_bias'].append(res.x[3])\n",
    "#     modeling_result_df['pav_bias'].append(np.exp(res.x[4]))\n",
    "\n",
    "\n"
   ]
  },
  {
   "cell_type": "code",
   "execution_count": 30,
   "metadata": {},
   "outputs": [],
   "source": [
    "# mr_df = pd.DataFrame(modeling_result_df)\n",
    "# mr_df['pav_bias_log'] = np.log(mr_df.pav_bias)"
   ]
  },
  {
   "cell_type": "code",
   "execution_count": 75,
   "metadata": {},
   "outputs": [],
   "source": [
    "# mr_df.to_csv('./Data/modeling_result_second_session.csv')\n",
    "mr_df = pd.read_csv(\"result_of_modeling_matlab_second_session.csv\")\n"
   ]
  },
  {
   "cell_type": "code",
   "execution_count": 76,
   "metadata": {},
   "outputs": [
    {
     "data": {
      "text/html": [
       "<div>\n",
       "<style scoped>\n",
       "    .dataframe tbody tr th:only-of-type {\n",
       "        vertical-align: middle;\n",
       "    }\n",
       "\n",
       "    .dataframe tbody tr th {\n",
       "        vertical-align: top;\n",
       "    }\n",
       "\n",
       "    .dataframe thead th {\n",
       "        text-align: right;\n",
       "    }\n",
       "</style>\n",
       "<table border=\"1\" class=\"dataframe\">\n",
       "  <thead>\n",
       "    <tr style=\"text-align: right;\">\n",
       "      <th></th>\n",
       "      <th>mturkID</th>\n",
       "      <th>alpha</th>\n",
       "      <th>beta</th>\n",
       "      <th>noise</th>\n",
       "      <th>bias</th>\n",
       "      <th>pav</th>\n",
       "    </tr>\n",
       "  </thead>\n",
       "  <tbody>\n",
       "    <tr>\n",
       "      <th>0</th>\n",
       "      <td>A10BH9PYCYUKDJ</td>\n",
       "      <td>0.417260</td>\n",
       "      <td>1.278276</td>\n",
       "      <td>0.973897</td>\n",
       "      <td>0.633984</td>\n",
       "      <td>0.856317</td>\n",
       "    </tr>\n",
       "    <tr>\n",
       "      <th>1</th>\n",
       "      <td>A10JXOU89D5RXR</td>\n",
       "      <td>0.351415</td>\n",
       "      <td>9.182360</td>\n",
       "      <td>0.977700</td>\n",
       "      <td>-0.051141</td>\n",
       "      <td>0.296479</td>\n",
       "    </tr>\n",
       "    <tr>\n",
       "      <th>2</th>\n",
       "      <td>A11S8IAAVDXCUS</td>\n",
       "      <td>0.046502</td>\n",
       "      <td>2.737302</td>\n",
       "      <td>0.979895</td>\n",
       "      <td>1.012645</td>\n",
       "      <td>3.032539</td>\n",
       "    </tr>\n",
       "    <tr>\n",
       "      <th>3</th>\n",
       "      <td>A12FTSX85NQ8N9</td>\n",
       "      <td>0.477884</td>\n",
       "      <td>20.573321</td>\n",
       "      <td>0.974275</td>\n",
       "      <td>1.018938</td>\n",
       "      <td>0.456361</td>\n",
       "    </tr>\n",
       "    <tr>\n",
       "      <th>4</th>\n",
       "      <td>A12HZGOZQD5YK7</td>\n",
       "      <td>0.831383</td>\n",
       "      <td>5.926205</td>\n",
       "      <td>0.983101</td>\n",
       "      <td>1.356952</td>\n",
       "      <td>0.133423</td>\n",
       "    </tr>\n",
       "    <tr>\n",
       "      <th>5</th>\n",
       "      <td>A12X8RUSITV7RU</td>\n",
       "      <td>0.370050</td>\n",
       "      <td>10.569988</td>\n",
       "      <td>0.983998</td>\n",
       "      <td>-0.272723</td>\n",
       "      <td>0.324097</td>\n",
       "    </tr>\n",
       "    <tr>\n",
       "      <th>6</th>\n",
       "      <td>A136K4YZY2OFTV</td>\n",
       "      <td>0.339092</td>\n",
       "      <td>15.137805</td>\n",
       "      <td>0.986370</td>\n",
       "      <td>1.240029</td>\n",
       "      <td>0.150644</td>\n",
       "    </tr>\n",
       "    <tr>\n",
       "      <th>7</th>\n",
       "      <td>A14W0AXTJ3R19V</td>\n",
       "      <td>0.205979</td>\n",
       "      <td>6.024924</td>\n",
       "      <td>0.979438</td>\n",
       "      <td>1.202816</td>\n",
       "      <td>0.184088</td>\n",
       "    </tr>\n",
       "    <tr>\n",
       "      <th>8</th>\n",
       "      <td>A173MXK429XAZQ</td>\n",
       "      <td>0.212184</td>\n",
       "      <td>21.954545</td>\n",
       "      <td>0.935652</td>\n",
       "      <td>0.786419</td>\n",
       "      <td>0.108317</td>\n",
       "    </tr>\n",
       "    <tr>\n",
       "      <th>9</th>\n",
       "      <td>A1AF25FCVKC87X</td>\n",
       "      <td>0.283273</td>\n",
       "      <td>5.015019</td>\n",
       "      <td>0.981007</td>\n",
       "      <td>0.697521</td>\n",
       "      <td>0.351201</td>\n",
       "    </tr>\n",
       "    <tr>\n",
       "      <th>10</th>\n",
       "      <td>A1BM57TUNAQIXM</td>\n",
       "      <td>0.088091</td>\n",
       "      <td>7.032743</td>\n",
       "      <td>0.960957</td>\n",
       "      <td>0.649132</td>\n",
       "      <td>0.487374</td>\n",
       "    </tr>\n",
       "    <tr>\n",
       "      <th>11</th>\n",
       "      <td>A1CY7IOJ9YH136</td>\n",
       "      <td>0.205299</td>\n",
       "      <td>10.068327</td>\n",
       "      <td>0.949055</td>\n",
       "      <td>-0.524878</td>\n",
       "      <td>0.167740</td>\n",
       "    </tr>\n",
       "    <tr>\n",
       "      <th>12</th>\n",
       "      <td>A1DKVUTOBPQH11</td>\n",
       "      <td>0.208921</td>\n",
       "      <td>35.859104</td>\n",
       "      <td>0.875172</td>\n",
       "      <td>0.672990</td>\n",
       "      <td>0.057903</td>\n",
       "    </tr>\n",
       "    <tr>\n",
       "      <th>13</th>\n",
       "      <td>A1DZMZTXWOM9MR</td>\n",
       "      <td>0.486588</td>\n",
       "      <td>24.821628</td>\n",
       "      <td>0.967445</td>\n",
       "      <td>0.614314</td>\n",
       "      <td>0.308034</td>\n",
       "    </tr>\n",
       "    <tr>\n",
       "      <th>14</th>\n",
       "      <td>A1F1BIPJR11LSR</td>\n",
       "      <td>0.169091</td>\n",
       "      <td>6.086055</td>\n",
       "      <td>0.972427</td>\n",
       "      <td>0.891204</td>\n",
       "      <td>0.079141</td>\n",
       "    </tr>\n",
       "    <tr>\n",
       "      <th>15</th>\n",
       "      <td>A1F2APQMJSQVFK</td>\n",
       "      <td>0.522476</td>\n",
       "      <td>1.701825</td>\n",
       "      <td>0.972493</td>\n",
       "      <td>0.839525</td>\n",
       "      <td>0.156510</td>\n",
       "    </tr>\n",
       "    <tr>\n",
       "      <th>16</th>\n",
       "      <td>A1FVXS8IM5QYO8</td>\n",
       "      <td>0.189377</td>\n",
       "      <td>2.892151</td>\n",
       "      <td>0.968297</td>\n",
       "      <td>0.989426</td>\n",
       "      <td>0.183750</td>\n",
       "    </tr>\n",
       "    <tr>\n",
       "      <th>17</th>\n",
       "      <td>A1FYWSPNO7KN1O</td>\n",
       "      <td>0.242638</td>\n",
       "      <td>12.925713</td>\n",
       "      <td>0.985960</td>\n",
       "      <td>1.108444</td>\n",
       "      <td>0.111993</td>\n",
       "    </tr>\n",
       "    <tr>\n",
       "      <th>18</th>\n",
       "      <td>A1IFIK8J49WBER</td>\n",
       "      <td>0.129007</td>\n",
       "      <td>22.245704</td>\n",
       "      <td>0.987167</td>\n",
       "      <td>0.984773</td>\n",
       "      <td>3.136981</td>\n",
       "    </tr>\n",
       "    <tr>\n",
       "      <th>19</th>\n",
       "      <td>A1JJYY622DGE5L</td>\n",
       "      <td>0.123604</td>\n",
       "      <td>1.603807</td>\n",
       "      <td>0.976487</td>\n",
       "      <td>-1.527226</td>\n",
       "      <td>0.270691</td>\n",
       "    </tr>\n",
       "    <tr>\n",
       "      <th>20</th>\n",
       "      <td>A1MJVTR0PCKBWW</td>\n",
       "      <td>0.065881</td>\n",
       "      <td>2.136893</td>\n",
       "      <td>0.954094</td>\n",
       "      <td>1.264902</td>\n",
       "      <td>2.144385</td>\n",
       "    </tr>\n",
       "    <tr>\n",
       "      <th>21</th>\n",
       "      <td>A1NLJ1L4VCQYV2</td>\n",
       "      <td>0.032786</td>\n",
       "      <td>11.610052</td>\n",
       "      <td>0.982633</td>\n",
       "      <td>1.074907</td>\n",
       "      <td>1.040780</td>\n",
       "    </tr>\n",
       "    <tr>\n",
       "      <th>22</th>\n",
       "      <td>A1PHDT66U6IK4Q</td>\n",
       "      <td>0.157860</td>\n",
       "      <td>3.772413</td>\n",
       "      <td>0.967585</td>\n",
       "      <td>-0.171917</td>\n",
       "      <td>0.502124</td>\n",
       "    </tr>\n",
       "    <tr>\n",
       "      <th>23</th>\n",
       "      <td>A1R0689JPSQ3OF</td>\n",
       "      <td>0.339016</td>\n",
       "      <td>7.689280</td>\n",
       "      <td>0.964180</td>\n",
       "      <td>0.511490</td>\n",
       "      <td>0.236111</td>\n",
       "    </tr>\n",
       "    <tr>\n",
       "      <th>24</th>\n",
       "      <td>A1R8A8BK2VN7RH</td>\n",
       "      <td>0.507187</td>\n",
       "      <td>7.432309</td>\n",
       "      <td>0.965824</td>\n",
       "      <td>-0.088955</td>\n",
       "      <td>0.293364</td>\n",
       "    </tr>\n",
       "    <tr>\n",
       "      <th>25</th>\n",
       "      <td>A1TW2BZRRS874Z</td>\n",
       "      <td>0.194659</td>\n",
       "      <td>23.626023</td>\n",
       "      <td>0.903279</td>\n",
       "      <td>1.208031</td>\n",
       "      <td>1.750946</td>\n",
       "    </tr>\n",
       "    <tr>\n",
       "      <th>26</th>\n",
       "      <td>A1UDOSYE75OYYI</td>\n",
       "      <td>0.117838</td>\n",
       "      <td>11.314941</td>\n",
       "      <td>0.980529</td>\n",
       "      <td>0.494607</td>\n",
       "      <td>0.551403</td>\n",
       "    </tr>\n",
       "    <tr>\n",
       "      <th>27</th>\n",
       "      <td>A1W7I6FN183I8F</td>\n",
       "      <td>0.535627</td>\n",
       "      <td>27.542765</td>\n",
       "      <td>0.955635</td>\n",
       "      <td>0.816125</td>\n",
       "      <td>0.251993</td>\n",
       "    </tr>\n",
       "    <tr>\n",
       "      <th>28</th>\n",
       "      <td>A1WZY0K6IE3ASG</td>\n",
       "      <td>0.316622</td>\n",
       "      <td>12.653979</td>\n",
       "      <td>0.977822</td>\n",
       "      <td>1.188955</td>\n",
       "      <td>0.064279</td>\n",
       "    </tr>\n",
       "    <tr>\n",
       "      <th>29</th>\n",
       "      <td>A20X6V1AAXZGNZ</td>\n",
       "      <td>0.149508</td>\n",
       "      <td>4.748424</td>\n",
       "      <td>0.981017</td>\n",
       "      <td>1.737384</td>\n",
       "      <td>0.046643</td>\n",
       "    </tr>\n",
       "    <tr>\n",
       "      <th>30</th>\n",
       "      <td>A2196WCNDZULFS</td>\n",
       "      <td>0.264522</td>\n",
       "      <td>9.220198</td>\n",
       "      <td>0.981433</td>\n",
       "      <td>0.696847</td>\n",
       "      <td>0.090810</td>\n",
       "    </tr>\n",
       "    <tr>\n",
       "      <th>31</th>\n",
       "      <td>A21ZYTE6WOKUA</td>\n",
       "      <td>0.089152</td>\n",
       "      <td>0.832426</td>\n",
       "      <td>0.972982</td>\n",
       "      <td>1.885979</td>\n",
       "      <td>0.221916</td>\n",
       "    </tr>\n",
       "    <tr>\n",
       "      <th>32</th>\n",
       "      <td>A23KAJRDVCVGOE</td>\n",
       "      <td>0.133929</td>\n",
       "      <td>1.097972</td>\n",
       "      <td>0.972215</td>\n",
       "      <td>2.258587</td>\n",
       "      <td>0.183002</td>\n",
       "    </tr>\n",
       "    <tr>\n",
       "      <th>33</th>\n",
       "      <td>A24CG5BTB8KQ39</td>\n",
       "      <td>0.077281</td>\n",
       "      <td>1.841732</td>\n",
       "      <td>0.971614</td>\n",
       "      <td>1.359838</td>\n",
       "      <td>0.243415</td>\n",
       "    </tr>\n",
       "    <tr>\n",
       "      <th>34</th>\n",
       "      <td>A24Z9RP5YZZ2TY</td>\n",
       "      <td>0.333820</td>\n",
       "      <td>10.127100</td>\n",
       "      <td>0.965475</td>\n",
       "      <td>1.897042</td>\n",
       "      <td>0.181472</td>\n",
       "    </tr>\n",
       "    <tr>\n",
       "      <th>35</th>\n",
       "      <td>A25PFSORDO3SWQ</td>\n",
       "      <td>0.511150</td>\n",
       "      <td>12.044349</td>\n",
       "      <td>0.986086</td>\n",
       "      <td>0.130473</td>\n",
       "      <td>0.301769</td>\n",
       "    </tr>\n",
       "    <tr>\n",
       "      <th>36</th>\n",
       "      <td>A2615YW1YERQBO</td>\n",
       "      <td>0.195579</td>\n",
       "      <td>7.695850</td>\n",
       "      <td>0.981604</td>\n",
       "      <td>0.628169</td>\n",
       "      <td>0.213740</td>\n",
       "    </tr>\n",
       "    <tr>\n",
       "      <th>37</th>\n",
       "      <td>A26LOVXF4QZZCO</td>\n",
       "      <td>0.257118</td>\n",
       "      <td>7.263085</td>\n",
       "      <td>0.981655</td>\n",
       "      <td>-0.902521</td>\n",
       "      <td>0.267720</td>\n",
       "    </tr>\n",
       "    <tr>\n",
       "      <th>38</th>\n",
       "      <td>A272X64FOZFYLB</td>\n",
       "      <td>0.239810</td>\n",
       "      <td>11.534586</td>\n",
       "      <td>0.982921</td>\n",
       "      <td>-0.448503</td>\n",
       "      <td>0.631868</td>\n",
       "    </tr>\n",
       "    <tr>\n",
       "      <th>39</th>\n",
       "      <td>A29AF16RLMI0ES</td>\n",
       "      <td>0.354920</td>\n",
       "      <td>1.370906</td>\n",
       "      <td>0.975201</td>\n",
       "      <td>-1.484213</td>\n",
       "      <td>0.995435</td>\n",
       "    </tr>\n",
       "    <tr>\n",
       "      <th>40</th>\n",
       "      <td>A2BRZKFG6WAVER</td>\n",
       "      <td>0.224180</td>\n",
       "      <td>5.504510</td>\n",
       "      <td>0.979550</td>\n",
       "      <td>1.481733</td>\n",
       "      <td>0.084848</td>\n",
       "    </tr>\n",
       "    <tr>\n",
       "      <th>41</th>\n",
       "      <td>A2DVV59R1CQU6T</td>\n",
       "      <td>0.083742</td>\n",
       "      <td>4.435979</td>\n",
       "      <td>0.971410</td>\n",
       "      <td>1.031572</td>\n",
       "      <td>0.049984</td>\n",
       "    </tr>\n",
       "    <tr>\n",
       "      <th>42</th>\n",
       "      <td>A2FGKKWP33DFWS</td>\n",
       "      <td>0.152461</td>\n",
       "      <td>2.869285</td>\n",
       "      <td>0.977818</td>\n",
       "      <td>-1.759128</td>\n",
       "      <td>0.879927</td>\n",
       "    </tr>\n",
       "    <tr>\n",
       "      <th>43</th>\n",
       "      <td>A2FYFCD16Z3PCC</td>\n",
       "      <td>0.310613</td>\n",
       "      <td>22.061202</td>\n",
       "      <td>0.955032</td>\n",
       "      <td>0.735060</td>\n",
       "      <td>0.052038</td>\n",
       "    </tr>\n",
       "    <tr>\n",
       "      <th>44</th>\n",
       "      <td>A2I960JYUZ8KAV</td>\n",
       "      <td>0.109830</td>\n",
       "      <td>9.242434</td>\n",
       "      <td>0.982273</td>\n",
       "      <td>1.117671</td>\n",
       "      <td>0.229598</td>\n",
       "    </tr>\n",
       "    <tr>\n",
       "      <th>45</th>\n",
       "      <td>A2IP3ZAFYGV8M9</td>\n",
       "      <td>0.256188</td>\n",
       "      <td>6.156014</td>\n",
       "      <td>0.979845</td>\n",
       "      <td>1.946281</td>\n",
       "      <td>0.089562</td>\n",
       "    </tr>\n",
       "    <tr>\n",
       "      <th>46</th>\n",
       "      <td>A2IYR9HF66R029</td>\n",
       "      <td>0.202300</td>\n",
       "      <td>2.174502</td>\n",
       "      <td>0.966204</td>\n",
       "      <td>0.730345</td>\n",
       "      <td>0.606085</td>\n",
       "    </tr>\n",
       "    <tr>\n",
       "      <th>47</th>\n",
       "      <td>A2KED6T6BO622W</td>\n",
       "      <td>0.225317</td>\n",
       "      <td>8.249486</td>\n",
       "      <td>0.979286</td>\n",
       "      <td>0.651879</td>\n",
       "      <td>0.524554</td>\n",
       "    </tr>\n",
       "    <tr>\n",
       "      <th>48</th>\n",
       "      <td>A2KLJKDG90K1PP</td>\n",
       "      <td>0.160919</td>\n",
       "      <td>8.013197</td>\n",
       "      <td>0.977724</td>\n",
       "      <td>0.431306</td>\n",
       "      <td>0.088974</td>\n",
       "    </tr>\n",
       "    <tr>\n",
       "      <th>49</th>\n",
       "      <td>A2ML0070M8FDK1</td>\n",
       "      <td>0.113683</td>\n",
       "      <td>5.308390</td>\n",
       "      <td>0.967768</td>\n",
       "      <td>1.180949</td>\n",
       "      <td>0.082858</td>\n",
       "    </tr>\n",
       "    <tr>\n",
       "      <th>50</th>\n",
       "      <td>A2NAKIXS3DVGAA</td>\n",
       "      <td>0.541837</td>\n",
       "      <td>9.591768</td>\n",
       "      <td>0.957382</td>\n",
       "      <td>0.675169</td>\n",
       "      <td>0.141022</td>\n",
       "    </tr>\n",
       "    <tr>\n",
       "      <th>51</th>\n",
       "      <td>A2ND52KJ1AIYEK</td>\n",
       "      <td>0.151734</td>\n",
       "      <td>3.057785</td>\n",
       "      <td>0.975210</td>\n",
       "      <td>0.762928</td>\n",
       "      <td>0.064014</td>\n",
       "    </tr>\n",
       "    <tr>\n",
       "      <th>52</th>\n",
       "      <td>A2NQR8NLH5P3IH</td>\n",
       "      <td>0.251971</td>\n",
       "      <td>23.945928</td>\n",
       "      <td>0.987472</td>\n",
       "      <td>1.642595</td>\n",
       "      <td>1.132630</td>\n",
       "    </tr>\n",
       "    <tr>\n",
       "      <th>53</th>\n",
       "      <td>A2ONILC0LZKG6Y</td>\n",
       "      <td>0.262968</td>\n",
       "      <td>11.284848</td>\n",
       "      <td>0.985079</td>\n",
       "      <td>1.615189</td>\n",
       "      <td>0.128995</td>\n",
       "    </tr>\n",
       "    <tr>\n",
       "      <th>54</th>\n",
       "      <td>A2PI6RY9USPIRS</td>\n",
       "      <td>0.240976</td>\n",
       "      <td>28.912053</td>\n",
       "      <td>0.987449</td>\n",
       "      <td>2.198829</td>\n",
       "      <td>1.075710</td>\n",
       "    </tr>\n",
       "    <tr>\n",
       "      <th>55</th>\n",
       "      <td>A2PTABUVOUYAH5</td>\n",
       "      <td>0.272653</td>\n",
       "      <td>2.461302</td>\n",
       "      <td>0.974152</td>\n",
       "      <td>-0.853120</td>\n",
       "      <td>0.489049</td>\n",
       "    </tr>\n",
       "    <tr>\n",
       "      <th>56</th>\n",
       "      <td>A2TLN8489YGY81</td>\n",
       "      <td>0.382246</td>\n",
       "      <td>10.361350</td>\n",
       "      <td>0.982971</td>\n",
       "      <td>1.060423</td>\n",
       "      <td>0.148387</td>\n",
       "    </tr>\n",
       "    <tr>\n",
       "      <th>57</th>\n",
       "      <td>A2UGM73EHLK6XI</td>\n",
       "      <td>0.555551</td>\n",
       "      <td>4.864741</td>\n",
       "      <td>0.981999</td>\n",
       "      <td>1.552686</td>\n",
       "      <td>0.061019</td>\n",
       "    </tr>\n",
       "    <tr>\n",
       "      <th>58</th>\n",
       "      <td>A2V27A9GZA1NR2</td>\n",
       "      <td>0.181897</td>\n",
       "      <td>16.942435</td>\n",
       "      <td>0.945750</td>\n",
       "      <td>1.162254</td>\n",
       "      <td>0.455448</td>\n",
       "    </tr>\n",
       "    <tr>\n",
       "      <th>59</th>\n",
       "      <td>A2VA0NCPWJ8XZG</td>\n",
       "      <td>0.296244</td>\n",
       "      <td>7.283314</td>\n",
       "      <td>0.980659</td>\n",
       "      <td>-0.533991</td>\n",
       "      <td>0.170732</td>\n",
       "    </tr>\n",
       "    <tr>\n",
       "      <th>60</th>\n",
       "      <td>A2WPKP73S4MBLK</td>\n",
       "      <td>0.185620</td>\n",
       "      <td>7.733459</td>\n",
       "      <td>0.967108</td>\n",
       "      <td>0.444626</td>\n",
       "      <td>0.139262</td>\n",
       "    </tr>\n",
       "    <tr>\n",
       "      <th>61</th>\n",
       "      <td>A2XS49LRNX8PD4</td>\n",
       "      <td>0.641555</td>\n",
       "      <td>21.648432</td>\n",
       "      <td>0.948090</td>\n",
       "      <td>-1.788031</td>\n",
       "      <td>0.895230</td>\n",
       "    </tr>\n",
       "    <tr>\n",
       "      <th>62</th>\n",
       "      <td>A2YTO4EY3MNYAJ</td>\n",
       "      <td>0.048268</td>\n",
       "      <td>0.932432</td>\n",
       "      <td>0.972023</td>\n",
       "      <td>0.489133</td>\n",
       "      <td>0.328474</td>\n",
       "    </tr>\n",
       "    <tr>\n",
       "      <th>63</th>\n",
       "      <td>A34YDGVZKRJ0LZ</td>\n",
       "      <td>0.321349</td>\n",
       "      <td>1.000817</td>\n",
       "      <td>0.973884</td>\n",
       "      <td>1.098274</td>\n",
       "      <td>0.688920</td>\n",
       "    </tr>\n",
       "    <tr>\n",
       "      <th>64</th>\n",
       "      <td>A353XKDTUX10NC</td>\n",
       "      <td>0.272058</td>\n",
       "      <td>6.125224</td>\n",
       "      <td>0.979336</td>\n",
       "      <td>0.966118</td>\n",
       "      <td>0.157465</td>\n",
       "    </tr>\n",
       "    <tr>\n",
       "      <th>65</th>\n",
       "      <td>A358YR7MWC6LRH</td>\n",
       "      <td>0.106653</td>\n",
       "      <td>32.973491</td>\n",
       "      <td>0.976021</td>\n",
       "      <td>1.754065</td>\n",
       "      <td>0.535173</td>\n",
       "    </tr>\n",
       "    <tr>\n",
       "      <th>66</th>\n",
       "      <td>A35TUIBF05DKM4</td>\n",
       "      <td>0.357040</td>\n",
       "      <td>1.479739</td>\n",
       "      <td>0.973492</td>\n",
       "      <td>-0.453379</td>\n",
       "      <td>0.190843</td>\n",
       "    </tr>\n",
       "    <tr>\n",
       "      <th>67</th>\n",
       "      <td>A36GU3OHGLDS8R</td>\n",
       "      <td>0.169483</td>\n",
       "      <td>4.388171</td>\n",
       "      <td>0.977254</td>\n",
       "      <td>0.509869</td>\n",
       "      <td>0.104071</td>\n",
       "    </tr>\n",
       "    <tr>\n",
       "      <th>68</th>\n",
       "      <td>A36SNKUPZRJMHX</td>\n",
       "      <td>0.152908</td>\n",
       "      <td>1.486358</td>\n",
       "      <td>0.957136</td>\n",
       "      <td>0.445500</td>\n",
       "      <td>1.454907</td>\n",
       "    </tr>\n",
       "    <tr>\n",
       "      <th>69</th>\n",
       "      <td>A37JC45Y9GLSA7</td>\n",
       "      <td>0.060791</td>\n",
       "      <td>0.802029</td>\n",
       "      <td>0.971396</td>\n",
       "      <td>0.695274</td>\n",
       "      <td>0.229020</td>\n",
       "    </tr>\n",
       "    <tr>\n",
       "      <th>70</th>\n",
       "      <td>A3C59PV8Q2TV8A</td>\n",
       "      <td>0.088357</td>\n",
       "      <td>7.323177</td>\n",
       "      <td>0.981938</td>\n",
       "      <td>1.579271</td>\n",
       "      <td>0.382180</td>\n",
       "    </tr>\n",
       "    <tr>\n",
       "      <th>71</th>\n",
       "      <td>A3CGQOJC28OVGN</td>\n",
       "      <td>0.176727</td>\n",
       "      <td>6.294600</td>\n",
       "      <td>0.980618</td>\n",
       "      <td>-1.115984</td>\n",
       "      <td>0.594549</td>\n",
       "    </tr>\n",
       "    <tr>\n",
       "      <th>72</th>\n",
       "      <td>A3D2U4QF7821ZW</td>\n",
       "      <td>0.221200</td>\n",
       "      <td>0.860099</td>\n",
       "      <td>0.971863</td>\n",
       "      <td>0.295294</td>\n",
       "      <td>0.067746</td>\n",
       "    </tr>\n",
       "    <tr>\n",
       "      <th>73</th>\n",
       "      <td>A3E8SXH0BAYG85</td>\n",
       "      <td>0.316900</td>\n",
       "      <td>5.944899</td>\n",
       "      <td>0.980601</td>\n",
       "      <td>1.113957</td>\n",
       "      <td>0.067014</td>\n",
       "    </tr>\n",
       "    <tr>\n",
       "      <th>74</th>\n",
       "      <td>A3FOKP72T5I4FR</td>\n",
       "      <td>0.154488</td>\n",
       "      <td>7.481512</td>\n",
       "      <td>0.963598</td>\n",
       "      <td>1.633998</td>\n",
       "      <td>0.546772</td>\n",
       "    </tr>\n",
       "    <tr>\n",
       "      <th>75</th>\n",
       "      <td>A3GVUYY3TWRPZT</td>\n",
       "      <td>0.171030</td>\n",
       "      <td>1.912606</td>\n",
       "      <td>0.976220</td>\n",
       "      <td>0.723657</td>\n",
       "      <td>0.309596</td>\n",
       "    </tr>\n",
       "    <tr>\n",
       "      <th>76</th>\n",
       "      <td>A3HQXCWOIQKT4F</td>\n",
       "      <td>0.717524</td>\n",
       "      <td>6.207137</td>\n",
       "      <td>0.980044</td>\n",
       "      <td>0.293525</td>\n",
       "      <td>0.129204</td>\n",
       "    </tr>\n",
       "    <tr>\n",
       "      <th>77</th>\n",
       "      <td>A3K9GTQBOI7O5A</td>\n",
       "      <td>0.112449</td>\n",
       "      <td>15.055552</td>\n",
       "      <td>0.952141</td>\n",
       "      <td>-0.013877</td>\n",
       "      <td>2.111759</td>\n",
       "    </tr>\n",
       "    <tr>\n",
       "      <th>78</th>\n",
       "      <td>A3M8O363B3IAKE</td>\n",
       "      <td>0.179442</td>\n",
       "      <td>6.203831</td>\n",
       "      <td>0.981440</td>\n",
       "      <td>0.488134</td>\n",
       "      <td>0.118833</td>\n",
       "    </tr>\n",
       "    <tr>\n",
       "      <th>79</th>\n",
       "      <td>A3MUW3RCHP2BBJ</td>\n",
       "      <td>0.420479</td>\n",
       "      <td>1.549515</td>\n",
       "      <td>0.977999</td>\n",
       "      <td>1.566578</td>\n",
       "      <td>0.312382</td>\n",
       "    </tr>\n",
       "    <tr>\n",
       "      <th>80</th>\n",
       "      <td>A3NXT3OVGL7QNR</td>\n",
       "      <td>0.114550</td>\n",
       "      <td>12.054487</td>\n",
       "      <td>0.981880</td>\n",
       "      <td>0.327790</td>\n",
       "      <td>0.168689</td>\n",
       "    </tr>\n",
       "    <tr>\n",
       "      <th>81</th>\n",
       "      <td>A3OYUJ6E6BJS4H</td>\n",
       "      <td>0.157757</td>\n",
       "      <td>6.567205</td>\n",
       "      <td>0.980886</td>\n",
       "      <td>1.748353</td>\n",
       "      <td>0.195523</td>\n",
       "    </tr>\n",
       "    <tr>\n",
       "      <th>82</th>\n",
       "      <td>A3R5OJR60C6004</td>\n",
       "      <td>0.079750</td>\n",
       "      <td>13.813075</td>\n",
       "      <td>0.819275</td>\n",
       "      <td>1.921989</td>\n",
       "      <td>3.110309</td>\n",
       "    </tr>\n",
       "    <tr>\n",
       "      <th>83</th>\n",
       "      <td>A3UDUHUVFKD833</td>\n",
       "      <td>0.395699</td>\n",
       "      <td>12.902221</td>\n",
       "      <td>0.973703</td>\n",
       "      <td>2.132175</td>\n",
       "      <td>0.361777</td>\n",
       "    </tr>\n",
       "    <tr>\n",
       "      <th>84</th>\n",
       "      <td>A4W9APAHFWVLO</td>\n",
       "      <td>0.546099</td>\n",
       "      <td>3.374175</td>\n",
       "      <td>0.972827</td>\n",
       "      <td>0.898623</td>\n",
       "      <td>0.078012</td>\n",
       "    </tr>\n",
       "    <tr>\n",
       "      <th>85</th>\n",
       "      <td>A50K26F2IS94U</td>\n",
       "      <td>0.197745</td>\n",
       "      <td>10.525466</td>\n",
       "      <td>0.982897</td>\n",
       "      <td>0.568874</td>\n",
       "      <td>0.448105</td>\n",
       "    </tr>\n",
       "    <tr>\n",
       "      <th>86</th>\n",
       "      <td>A748N8WFG2HR4</td>\n",
       "      <td>0.224547</td>\n",
       "      <td>3.907410</td>\n",
       "      <td>0.897666</td>\n",
       "      <td>1.431698</td>\n",
       "      <td>0.973316</td>\n",
       "    </tr>\n",
       "    <tr>\n",
       "      <th>87</th>\n",
       "      <td>A98E8M4QLI9RS</td>\n",
       "      <td>0.082444</td>\n",
       "      <td>12.179760</td>\n",
       "      <td>0.982208</td>\n",
       "      <td>0.785551</td>\n",
       "      <td>0.743457</td>\n",
       "    </tr>\n",
       "    <tr>\n",
       "      <th>88</th>\n",
       "      <td>ABW8U1U74P8MI</td>\n",
       "      <td>0.126016</td>\n",
       "      <td>0.809623</td>\n",
       "      <td>0.971742</td>\n",
       "      <td>0.326315</td>\n",
       "      <td>0.375622</td>\n",
       "    </tr>\n",
       "    <tr>\n",
       "      <th>89</th>\n",
       "      <td>AEOVYZ83Q3GX4</td>\n",
       "      <td>0.149578</td>\n",
       "      <td>16.109497</td>\n",
       "      <td>0.983811</td>\n",
       "      <td>0.363875</td>\n",
       "      <td>0.569967</td>\n",
       "    </tr>\n",
       "    <tr>\n",
       "      <th>90</th>\n",
       "      <td>AEQ8K4HBO323D</td>\n",
       "      <td>0.163221</td>\n",
       "      <td>8.911033</td>\n",
       "      <td>0.982577</td>\n",
       "      <td>1.002132</td>\n",
       "      <td>0.204700</td>\n",
       "    </tr>\n",
       "    <tr>\n",
       "      <th>91</th>\n",
       "      <td>AFFXVHHBUWW4D</td>\n",
       "      <td>0.165311</td>\n",
       "      <td>1.780807</td>\n",
       "      <td>0.976512</td>\n",
       "      <td>-1.962736</td>\n",
       "      <td>0.329130</td>\n",
       "    </tr>\n",
       "    <tr>\n",
       "      <th>92</th>\n",
       "      <td>AFM65NU0UXIGP</td>\n",
       "      <td>0.136669</td>\n",
       "      <td>15.136947</td>\n",
       "      <td>0.982706</td>\n",
       "      <td>1.965160</td>\n",
       "      <td>0.627992</td>\n",
       "    </tr>\n",
       "    <tr>\n",
       "      <th>93</th>\n",
       "      <td>AFRJKS3Z3H4CA</td>\n",
       "      <td>0.350248</td>\n",
       "      <td>10.394918</td>\n",
       "      <td>0.970925</td>\n",
       "      <td>1.629871</td>\n",
       "      <td>0.094415</td>\n",
       "    </tr>\n",
       "    <tr>\n",
       "      <th>94</th>\n",
       "      <td>AGILQEFEPEK7N</td>\n",
       "      <td>0.392872</td>\n",
       "      <td>1.049816</td>\n",
       "      <td>0.971815</td>\n",
       "      <td>0.261486</td>\n",
       "      <td>0.170353</td>\n",
       "    </tr>\n",
       "    <tr>\n",
       "      <th>95</th>\n",
       "      <td>AHYTT3T8W9Y9Y</td>\n",
       "      <td>0.571570</td>\n",
       "      <td>3.759062</td>\n",
       "      <td>0.971663</td>\n",
       "      <td>1.009923</td>\n",
       "      <td>0.169692</td>\n",
       "    </tr>\n",
       "    <tr>\n",
       "      <th>96</th>\n",
       "      <td>AI4AO0O0WIJF7</td>\n",
       "      <td>0.331103</td>\n",
       "      <td>8.553405</td>\n",
       "      <td>0.981797</td>\n",
       "      <td>1.249748</td>\n",
       "      <td>0.169927</td>\n",
       "    </tr>\n",
       "    <tr>\n",
       "      <th>97</th>\n",
       "      <td>AJDXSXAWDDAEO</td>\n",
       "      <td>0.393019</td>\n",
       "      <td>8.151508</td>\n",
       "      <td>0.983837</td>\n",
       "      <td>2.827364</td>\n",
       "      <td>0.902982</td>\n",
       "    </tr>\n",
       "    <tr>\n",
       "      <th>98</th>\n",
       "      <td>AKNYT1NTK2UFK</td>\n",
       "      <td>0.149393</td>\n",
       "      <td>3.679918</td>\n",
       "      <td>0.978962</td>\n",
       "      <td>-1.008243</td>\n",
       "      <td>0.391631</td>\n",
       "    </tr>\n",
       "    <tr>\n",
       "      <th>99</th>\n",
       "      <td>AKVDK30EEV08C</td>\n",
       "      <td>0.218703</td>\n",
       "      <td>8.871491</td>\n",
       "      <td>0.842986</td>\n",
       "      <td>1.994325</td>\n",
       "      <td>0.558316</td>\n",
       "    </tr>\n",
       "    <tr>\n",
       "      <th>100</th>\n",
       "      <td>ALYR5CI2SM2JC</td>\n",
       "      <td>0.195086</td>\n",
       "      <td>11.997466</td>\n",
       "      <td>0.982942</td>\n",
       "      <td>0.399632</td>\n",
       "      <td>0.659734</td>\n",
       "    </tr>\n",
       "    <tr>\n",
       "      <th>101</th>\n",
       "      <td>AMHUDJ44HF1ZH</td>\n",
       "      <td>0.155447</td>\n",
       "      <td>8.483917</td>\n",
       "      <td>0.968439</td>\n",
       "      <td>1.876290</td>\n",
       "      <td>0.320854</td>\n",
       "    </tr>\n",
       "    <tr>\n",
       "      <th>102</th>\n",
       "      <td>AMTTB8JUWRRM7</td>\n",
       "      <td>0.239256</td>\n",
       "      <td>4.876566</td>\n",
       "      <td>0.965454</td>\n",
       "      <td>2.434593</td>\n",
       "      <td>0.223488</td>\n",
       "    </tr>\n",
       "    <tr>\n",
       "      <th>103</th>\n",
       "      <td>ANFWGSQ8BQRZ</td>\n",
       "      <td>0.384791</td>\n",
       "      <td>8.638924</td>\n",
       "      <td>0.975170</td>\n",
       "      <td>-1.483693</td>\n",
       "      <td>0.100602</td>\n",
       "    </tr>\n",
       "    <tr>\n",
       "      <th>104</th>\n",
       "      <td>APGX2WZ59OWDN</td>\n",
       "      <td>0.865346</td>\n",
       "      <td>12.979174</td>\n",
       "      <td>0.881172</td>\n",
       "      <td>2.076497</td>\n",
       "      <td>0.350580</td>\n",
       "    </tr>\n",
       "    <tr>\n",
       "      <th>105</th>\n",
       "      <td>AR8O1107OAW4V</td>\n",
       "      <td>0.065844</td>\n",
       "      <td>10.334611</td>\n",
       "      <td>0.875489</td>\n",
       "      <td>0.856891</td>\n",
       "      <td>0.520910</td>\n",
       "    </tr>\n",
       "    <tr>\n",
       "      <th>106</th>\n",
       "      <td>ARWF605I7RWM7</td>\n",
       "      <td>0.285004</td>\n",
       "      <td>12.158047</td>\n",
       "      <td>0.982702</td>\n",
       "      <td>0.811906</td>\n",
       "      <td>0.504148</td>\n",
       "    </tr>\n",
       "    <tr>\n",
       "      <th>107</th>\n",
       "      <td>AUZNL6ARA1UEC</td>\n",
       "      <td>0.706443</td>\n",
       "      <td>13.896136</td>\n",
       "      <td>0.975991</td>\n",
       "      <td>0.597550</td>\n",
       "      <td>0.098448</td>\n",
       "    </tr>\n",
       "    <tr>\n",
       "      <th>108</th>\n",
       "      <td>AVFMTS8A5R4XK</td>\n",
       "      <td>0.044157</td>\n",
       "      <td>0.750894</td>\n",
       "      <td>0.972263</td>\n",
       "      <td>-0.418386</td>\n",
       "      <td>0.229824</td>\n",
       "    </tr>\n",
       "    <tr>\n",
       "      <th>109</th>\n",
       "      <td>AW5O1RK3W60FC</td>\n",
       "      <td>0.275523</td>\n",
       "      <td>9.736490</td>\n",
       "      <td>0.984270</td>\n",
       "      <td>1.437241</td>\n",
       "      <td>0.082796</td>\n",
       "    </tr>\n",
       "    <tr>\n",
       "      <th>110</th>\n",
       "      <td>AXAO7UJYYEFCO</td>\n",
       "      <td>0.113241</td>\n",
       "      <td>7.304546</td>\n",
       "      <td>0.981281</td>\n",
       "      <td>1.280281</td>\n",
       "      <td>0.094524</td>\n",
       "    </tr>\n",
       "    <tr>\n",
       "      <th>111</th>\n",
       "      <td>AYW62R027PUT1</td>\n",
       "      <td>0.127248</td>\n",
       "      <td>30.527218</td>\n",
       "      <td>0.974542</td>\n",
       "      <td>-0.199293</td>\n",
       "      <td>0.243855</td>\n",
       "    </tr>\n",
       "    <tr>\n",
       "      <th>112</th>\n",
       "      <td>AZ69TBTDH7AZS</td>\n",
       "      <td>0.186374</td>\n",
       "      <td>12.794006</td>\n",
       "      <td>0.979771</td>\n",
       "      <td>1.837338</td>\n",
       "      <td>0.878908</td>\n",
       "    </tr>\n",
       "    <tr>\n",
       "      <th>113</th>\n",
       "      <td>AZCGSVDT79E6X</td>\n",
       "      <td>0.341002</td>\n",
       "      <td>11.538093</td>\n",
       "      <td>0.986403</td>\n",
       "      <td>2.573427</td>\n",
       "      <td>0.198725</td>\n",
       "    </tr>\n",
       "  </tbody>\n",
       "</table>\n",
       "</div>"
      ],
      "text/plain": [
       "            mturkID     alpha       beta     noise      bias       pav\n",
       "0    A10BH9PYCYUKDJ  0.417260   1.278276  0.973897  0.633984  0.856317\n",
       "1    A10JXOU89D5RXR  0.351415   9.182360  0.977700 -0.051141  0.296479\n",
       "2    A11S8IAAVDXCUS  0.046502   2.737302  0.979895  1.012645  3.032539\n",
       "3    A12FTSX85NQ8N9  0.477884  20.573321  0.974275  1.018938  0.456361\n",
       "4    A12HZGOZQD5YK7  0.831383   5.926205  0.983101  1.356952  0.133423\n",
       "5    A12X8RUSITV7RU  0.370050  10.569988  0.983998 -0.272723  0.324097\n",
       "6    A136K4YZY2OFTV  0.339092  15.137805  0.986370  1.240029  0.150644\n",
       "7    A14W0AXTJ3R19V  0.205979   6.024924  0.979438  1.202816  0.184088\n",
       "8    A173MXK429XAZQ  0.212184  21.954545  0.935652  0.786419  0.108317\n",
       "9    A1AF25FCVKC87X  0.283273   5.015019  0.981007  0.697521  0.351201\n",
       "10   A1BM57TUNAQIXM  0.088091   7.032743  0.960957  0.649132  0.487374\n",
       "11   A1CY7IOJ9YH136  0.205299  10.068327  0.949055 -0.524878  0.167740\n",
       "12   A1DKVUTOBPQH11  0.208921  35.859104  0.875172  0.672990  0.057903\n",
       "13   A1DZMZTXWOM9MR  0.486588  24.821628  0.967445  0.614314  0.308034\n",
       "14   A1F1BIPJR11LSR  0.169091   6.086055  0.972427  0.891204  0.079141\n",
       "15   A1F2APQMJSQVFK  0.522476   1.701825  0.972493  0.839525  0.156510\n",
       "16   A1FVXS8IM5QYO8  0.189377   2.892151  0.968297  0.989426  0.183750\n",
       "17   A1FYWSPNO7KN1O  0.242638  12.925713  0.985960  1.108444  0.111993\n",
       "18   A1IFIK8J49WBER  0.129007  22.245704  0.987167  0.984773  3.136981\n",
       "19   A1JJYY622DGE5L  0.123604   1.603807  0.976487 -1.527226  0.270691\n",
       "20   A1MJVTR0PCKBWW  0.065881   2.136893  0.954094  1.264902  2.144385\n",
       "21   A1NLJ1L4VCQYV2  0.032786  11.610052  0.982633  1.074907  1.040780\n",
       "22   A1PHDT66U6IK4Q  0.157860   3.772413  0.967585 -0.171917  0.502124\n",
       "23   A1R0689JPSQ3OF  0.339016   7.689280  0.964180  0.511490  0.236111\n",
       "24   A1R8A8BK2VN7RH  0.507187   7.432309  0.965824 -0.088955  0.293364\n",
       "25   A1TW2BZRRS874Z  0.194659  23.626023  0.903279  1.208031  1.750946\n",
       "26   A1UDOSYE75OYYI  0.117838  11.314941  0.980529  0.494607  0.551403\n",
       "27   A1W7I6FN183I8F  0.535627  27.542765  0.955635  0.816125  0.251993\n",
       "28   A1WZY0K6IE3ASG  0.316622  12.653979  0.977822  1.188955  0.064279\n",
       "29   A20X6V1AAXZGNZ  0.149508   4.748424  0.981017  1.737384  0.046643\n",
       "30   A2196WCNDZULFS  0.264522   9.220198  0.981433  0.696847  0.090810\n",
       "31    A21ZYTE6WOKUA  0.089152   0.832426  0.972982  1.885979  0.221916\n",
       "32   A23KAJRDVCVGOE  0.133929   1.097972  0.972215  2.258587  0.183002\n",
       "33   A24CG5BTB8KQ39  0.077281   1.841732  0.971614  1.359838  0.243415\n",
       "34   A24Z9RP5YZZ2TY  0.333820  10.127100  0.965475  1.897042  0.181472\n",
       "35   A25PFSORDO3SWQ  0.511150  12.044349  0.986086  0.130473  0.301769\n",
       "36   A2615YW1YERQBO  0.195579   7.695850  0.981604  0.628169  0.213740\n",
       "37   A26LOVXF4QZZCO  0.257118   7.263085  0.981655 -0.902521  0.267720\n",
       "38   A272X64FOZFYLB  0.239810  11.534586  0.982921 -0.448503  0.631868\n",
       "39   A29AF16RLMI0ES  0.354920   1.370906  0.975201 -1.484213  0.995435\n",
       "40   A2BRZKFG6WAVER  0.224180   5.504510  0.979550  1.481733  0.084848\n",
       "41   A2DVV59R1CQU6T  0.083742   4.435979  0.971410  1.031572  0.049984\n",
       "42   A2FGKKWP33DFWS  0.152461   2.869285  0.977818 -1.759128  0.879927\n",
       "43   A2FYFCD16Z3PCC  0.310613  22.061202  0.955032  0.735060  0.052038\n",
       "44   A2I960JYUZ8KAV  0.109830   9.242434  0.982273  1.117671  0.229598\n",
       "45   A2IP3ZAFYGV8M9  0.256188   6.156014  0.979845  1.946281  0.089562\n",
       "46   A2IYR9HF66R029  0.202300   2.174502  0.966204  0.730345  0.606085\n",
       "47   A2KED6T6BO622W  0.225317   8.249486  0.979286  0.651879  0.524554\n",
       "48   A2KLJKDG90K1PP  0.160919   8.013197  0.977724  0.431306  0.088974\n",
       "49   A2ML0070M8FDK1  0.113683   5.308390  0.967768  1.180949  0.082858\n",
       "50   A2NAKIXS3DVGAA  0.541837   9.591768  0.957382  0.675169  0.141022\n",
       "51   A2ND52KJ1AIYEK  0.151734   3.057785  0.975210  0.762928  0.064014\n",
       "52   A2NQR8NLH5P3IH  0.251971  23.945928  0.987472  1.642595  1.132630\n",
       "53   A2ONILC0LZKG6Y  0.262968  11.284848  0.985079  1.615189  0.128995\n",
       "54   A2PI6RY9USPIRS  0.240976  28.912053  0.987449  2.198829  1.075710\n",
       "55   A2PTABUVOUYAH5  0.272653   2.461302  0.974152 -0.853120  0.489049\n",
       "56   A2TLN8489YGY81  0.382246  10.361350  0.982971  1.060423  0.148387\n",
       "57   A2UGM73EHLK6XI  0.555551   4.864741  0.981999  1.552686  0.061019\n",
       "58   A2V27A9GZA1NR2  0.181897  16.942435  0.945750  1.162254  0.455448\n",
       "59   A2VA0NCPWJ8XZG  0.296244   7.283314  0.980659 -0.533991  0.170732\n",
       "60   A2WPKP73S4MBLK  0.185620   7.733459  0.967108  0.444626  0.139262\n",
       "61   A2XS49LRNX8PD4  0.641555  21.648432  0.948090 -1.788031  0.895230\n",
       "62   A2YTO4EY3MNYAJ  0.048268   0.932432  0.972023  0.489133  0.328474\n",
       "63   A34YDGVZKRJ0LZ  0.321349   1.000817  0.973884  1.098274  0.688920\n",
       "64   A353XKDTUX10NC  0.272058   6.125224  0.979336  0.966118  0.157465\n",
       "65   A358YR7MWC6LRH  0.106653  32.973491  0.976021  1.754065  0.535173\n",
       "66   A35TUIBF05DKM4  0.357040   1.479739  0.973492 -0.453379  0.190843\n",
       "67   A36GU3OHGLDS8R  0.169483   4.388171  0.977254  0.509869  0.104071\n",
       "68   A36SNKUPZRJMHX  0.152908   1.486358  0.957136  0.445500  1.454907\n",
       "69   A37JC45Y9GLSA7  0.060791   0.802029  0.971396  0.695274  0.229020\n",
       "70   A3C59PV8Q2TV8A  0.088357   7.323177  0.981938  1.579271  0.382180\n",
       "71   A3CGQOJC28OVGN  0.176727   6.294600  0.980618 -1.115984  0.594549\n",
       "72   A3D2U4QF7821ZW  0.221200   0.860099  0.971863  0.295294  0.067746\n",
       "73   A3E8SXH0BAYG85  0.316900   5.944899  0.980601  1.113957  0.067014\n",
       "74   A3FOKP72T5I4FR  0.154488   7.481512  0.963598  1.633998  0.546772\n",
       "75   A3GVUYY3TWRPZT  0.171030   1.912606  0.976220  0.723657  0.309596\n",
       "76   A3HQXCWOIQKT4F  0.717524   6.207137  0.980044  0.293525  0.129204\n",
       "77   A3K9GTQBOI7O5A  0.112449  15.055552  0.952141 -0.013877  2.111759\n",
       "78   A3M8O363B3IAKE  0.179442   6.203831  0.981440  0.488134  0.118833\n",
       "79   A3MUW3RCHP2BBJ  0.420479   1.549515  0.977999  1.566578  0.312382\n",
       "80   A3NXT3OVGL7QNR  0.114550  12.054487  0.981880  0.327790  0.168689\n",
       "81   A3OYUJ6E6BJS4H  0.157757   6.567205  0.980886  1.748353  0.195523\n",
       "82   A3R5OJR60C6004  0.079750  13.813075  0.819275  1.921989  3.110309\n",
       "83   A3UDUHUVFKD833  0.395699  12.902221  0.973703  2.132175  0.361777\n",
       "84    A4W9APAHFWVLO  0.546099   3.374175  0.972827  0.898623  0.078012\n",
       "85    A50K26F2IS94U  0.197745  10.525466  0.982897  0.568874  0.448105\n",
       "86    A748N8WFG2HR4  0.224547   3.907410  0.897666  1.431698  0.973316\n",
       "87    A98E8M4QLI9RS  0.082444  12.179760  0.982208  0.785551  0.743457\n",
       "88    ABW8U1U74P8MI  0.126016   0.809623  0.971742  0.326315  0.375622\n",
       "89    AEOVYZ83Q3GX4  0.149578  16.109497  0.983811  0.363875  0.569967\n",
       "90    AEQ8K4HBO323D  0.163221   8.911033  0.982577  1.002132  0.204700\n",
       "91    AFFXVHHBUWW4D  0.165311   1.780807  0.976512 -1.962736  0.329130\n",
       "92    AFM65NU0UXIGP  0.136669  15.136947  0.982706  1.965160  0.627992\n",
       "93    AFRJKS3Z3H4CA  0.350248  10.394918  0.970925  1.629871  0.094415\n",
       "94    AGILQEFEPEK7N  0.392872   1.049816  0.971815  0.261486  0.170353\n",
       "95    AHYTT3T8W9Y9Y  0.571570   3.759062  0.971663  1.009923  0.169692\n",
       "96    AI4AO0O0WIJF7  0.331103   8.553405  0.981797  1.249748  0.169927\n",
       "97    AJDXSXAWDDAEO  0.393019   8.151508  0.983837  2.827364  0.902982\n",
       "98    AKNYT1NTK2UFK  0.149393   3.679918  0.978962 -1.008243  0.391631\n",
       "99    AKVDK30EEV08C  0.218703   8.871491  0.842986  1.994325  0.558316\n",
       "100   ALYR5CI2SM2JC  0.195086  11.997466  0.982942  0.399632  0.659734\n",
       "101   AMHUDJ44HF1ZH  0.155447   8.483917  0.968439  1.876290  0.320854\n",
       "102   AMTTB8JUWRRM7  0.239256   4.876566  0.965454  2.434593  0.223488\n",
       "103    ANFWGSQ8BQRZ  0.384791   8.638924  0.975170 -1.483693  0.100602\n",
       "104   APGX2WZ59OWDN  0.865346  12.979174  0.881172  2.076497  0.350580\n",
       "105   AR8O1107OAW4V  0.065844  10.334611  0.875489  0.856891  0.520910\n",
       "106   ARWF605I7RWM7  0.285004  12.158047  0.982702  0.811906  0.504148\n",
       "107   AUZNL6ARA1UEC  0.706443  13.896136  0.975991  0.597550  0.098448\n",
       "108   AVFMTS8A5R4XK  0.044157   0.750894  0.972263 -0.418386  0.229824\n",
       "109   AW5O1RK3W60FC  0.275523   9.736490  0.984270  1.437241  0.082796\n",
       "110   AXAO7UJYYEFCO  0.113241   7.304546  0.981281  1.280281  0.094524\n",
       "111   AYW62R027PUT1  0.127248  30.527218  0.974542 -0.199293  0.243855\n",
       "112   AZ69TBTDH7AZS  0.186374  12.794006  0.979771  1.837338  0.878908\n",
       "113   AZCGSVDT79E6X  0.341002  11.538093  0.986403  2.573427  0.198725"
      ]
     },
     "execution_count": 76,
     "metadata": {},
     "output_type": "execute_result"
    }
   ],
   "source": [
    "mr_df"
   ]
  },
  {
   "cell_type": "markdown",
   "metadata": {},
   "source": [
    "# dist of log(pav bias)"
   ]
  },
  {
   "cell_type": "code",
   "execution_count": 77,
   "metadata": {
    "scrolled": true
   },
   "outputs": [
    {
     "name": "stderr",
     "output_type": "stream",
     "text": [
      "/opt/homebrew/lib/python3.9/site-packages/seaborn/distributions.py:2619: FutureWarning: `distplot` is a deprecated function and will be removed in a future version. Please adapt your code to use either `displot` (a figure-level function with similar flexibility) or `histplot` (an axes-level function for histograms).\n",
      "  warnings.warn(msg, FutureWarning)\n"
     ]
    },
    {
     "data": {
      "text/plain": [
       "<AxesSubplot:xlabel='pav', ylabel='Density'>"
      ]
     },
     "execution_count": 77,
     "metadata": {},
     "output_type": "execute_result"
    },
    {
     "data": {
      "image/png": "[encoded data removed]",
      "text/plain": [
       "<Figure size 432x288 with 1 Axes>"
      ]
     },
     "metadata": {},
     "output_type": "display_data"
    }
   ],
   "source": [
    "sns.distplot(mr_df.pav )"
   ]
  },
  {
   "cell_type": "markdown",
   "metadata": {},
   "source": [
    "# dist of learning rate"
   ]
  },
  {
   "cell_type": "code",
   "execution_count": 78,
   "metadata": {},
   "outputs": [
    {
     "name": "stderr",
     "output_type": "stream",
     "text": [
      "/opt/homebrew/lib/python3.9/site-packages/seaborn/distributions.py:2619: FutureWarning: `distplot` is a deprecated function and will be removed in a future version. Please adapt your code to use either `displot` (a figure-level function with similar flexibility) or `histplot` (an axes-level function for histograms).\n",
      "  warnings.warn(msg, FutureWarning)\n"
     ]
    },
    {
     "data": {
      "text/plain": [
       "<AxesSubplot:xlabel='alpha', ylabel='Density'>"
      ]
     },
     "execution_count": 78,
     "metadata": {},
     "output_type": "execute_result"
    },
    {
     "data": {
      "image/png": "[encoded data removed]",
      "text/plain": [
       "<Figure size 432x288 with 1 Axes>"
      ]
     },
     "metadata": {},
     "output_type": "display_data"
    }
   ],
   "source": [
    "sns.distplot((mr_df.alpha), bins=10) "
   ]
  },
  {
   "cell_type": "markdown",
   "metadata": {},
   "source": [
    "# dist of go bias"
   ]
  },
  {
   "cell_type": "code",
   "execution_count": 79,
   "metadata": {},
   "outputs": [
    {
     "name": "stderr",
     "output_type": "stream",
     "text": [
      "/opt/homebrew/lib/python3.9/site-packages/seaborn/distributions.py:2619: FutureWarning: `distplot` is a deprecated function and will be removed in a future version. Please adapt your code to use either `displot` (a figure-level function with similar flexibility) or `histplot` (an axes-level function for histograms).\n",
      "  warnings.warn(msg, FutureWarning)\n"
     ]
    },
    {
     "data": {
      "text/plain": [
       "<AxesSubplot:xlabel='bias', ylabel='Density'>"
      ]
     },
     "execution_count": 79,
     "metadata": {},
     "output_type": "execute_result"
    },
    {
     "data": {
      "image/png": "[encoded data removed]",
      "text/plain": [
       "<Figure size 432x288 with 1 Axes>"
      ]
     },
     "metadata": {},
     "output_type": "display_data"
    }
   ],
   "source": [
    "sns.distplot((mr_df.bias), bins=20) "
   ]
  },
  {
   "cell_type": "markdown",
   "metadata": {},
   "source": [
    "# dist of log(sensitivity to reward)"
   ]
  },
  {
   "cell_type": "code",
   "execution_count": 80,
   "metadata": {},
   "outputs": [
    {
     "name": "stderr",
     "output_type": "stream",
     "text": [
      "/opt/homebrew/lib/python3.9/site-packages/seaborn/distributions.py:2619: FutureWarning: `distplot` is a deprecated function and will be removed in a future version. Please adapt your code to use either `displot` (a figure-level function with similar flexibility) or `histplot` (an axes-level function for histograms).\n",
      "  warnings.warn(msg, FutureWarning)\n"
     ]
    },
    {
     "data": {
      "text/plain": [
       "<AxesSubplot:xlabel='beta', ylabel='Density'>"
      ]
     },
     "execution_count": 80,
     "metadata": {},
     "output_type": "execute_result"
    },
    {
     "data": {
      "image/png": "[encoded data removed]",
      "text/plain": [
       "<Figure size 432x288 with 1 Axes>"
      ]
     },
     "metadata": {},
     "output_type": "display_data"
    }
   ],
   "source": [
    "sns.distplot(((mr_df.beta)), bins=20) "
   ]
  },
  {
   "cell_type": "code",
   "execution_count": 82,
   "metadata": {},
   "outputs": [],
   "source": [
    "mr_perf = pd.merge(mr_df, final_performace_data, on='mturkID')\n",
    "mr_perf['gw_ngw'] = mr_perf.go2win_second_session - mr_perf.nogo2win_second_session\n",
    "\n",
    "mr_perf['non_par_pav'] = mr_perf.go2win_second_session + mr_perf.nogo2avoidPun_second_session - mr_perf.nogo2win_second_session - mr_perf.go2avoidPun_second_session\n",
    "\n",
    "mr_perf['non_par_go_bias']  = mr_perf.go2win_second_session + mr_perf.go2avoidPun_second_session - mr_perf.nogo2win_second_session - mr_perf.nogo2avoidPun_second_session\n"
   ]
  },
  {
   "cell_type": "code",
   "execution_count": 83,
   "metadata": {},
   "outputs": [
    {
     "data": {
      "text/plain": [
       "<AxesSubplot:xlabel='bias', ylabel='nogo2win_second_session'>"
      ]
     },
     "execution_count": 83,
     "metadata": {},
     "output_type": "execute_result"
    },
    {
     "data": {
      "image/png": "[encoded data removed]",
      "text/plain": [
       "<Figure size 432x288 with 1 Axes>"
      ]
     },
     "metadata": {},
     "output_type": "display_data"
    }
   ],
   "source": [
    "sns.regplot(x=('bias'), y='nogo2win_second_session', data = mr_perf)\n",
    "\n"
   ]
  },
  {
   "cell_type": "markdown",
   "metadata": {},
   "source": [
    "# log(pav bias) & (g2win - nogo2win) performance "
   ]
  },
  {
   "cell_type": "code",
   "execution_count": 84,
   "metadata": {},
   "outputs": [
    {
     "data": {
      "text/plain": [
       "<AxesSubplot:xlabel='pav', ylabel='non_par_pav'>"
      ]
     },
     "execution_count": 84,
     "metadata": {},
     "output_type": "execute_result"
    },
    {
     "data": {
      "image/png": "[encoded data removed]",
      "text/plain": [
       "<Figure size 432x288 with 1 Axes>"
      ]
     },
     "metadata": {},
     "output_type": "display_data"
    }
   ],
   "source": [
    "sns.regplot(y=('non_par_pav'), x='pav', data = mr_perf)"
   ]
  },
  {
   "cell_type": "code",
   "execution_count": 85,
   "metadata": {},
   "outputs": [
    {
     "data": {
      "text/plain": [
       "<AxesSubplot:xlabel='pav', ylabel='gw_ngw'>"
      ]
     },
     "execution_count": 85,
     "metadata": {},
     "output_type": "execute_result"
    },
    {
     "data": {
      "image/png": "[encoded data removed]",
      "text/plain": [
       "<Figure size 432x288 with 1 Axes>"
      ]
     },
     "metadata": {},
     "output_type": "display_data"
    }
   ],
   "source": [
    "sns.regplot(x=('pav'), y='gw_ngw', data = mr_perf)"
   ]
  },
  {
   "cell_type": "code",
   "execution_count": 86,
   "metadata": {},
   "outputs": [
    {
     "data": {
      "text/html": [
       "<table class=\"simpletable\">\n",
       "<caption>OLS Regression Results</caption>\n",
       "<tr>\n",
       "  <th>Dep. Variable:</th>       <td>non_par_pav</td>   <th>  R-squared:         </th> <td>   0.466</td>\n",
       "</tr>\n",
       "<tr>\n",
       "  <th>Model:</th>                   <td>OLS</td>       <th>  Adj. R-squared:    </th> <td>   0.461</td>\n",
       "</tr>\n",
       "<tr>\n",
       "  <th>Method:</th>             <td>Least Squares</td>  <th>  F-statistic:       </th> <td>   97.69</td>\n",
       "</tr>\n",
       "<tr>\n",
       "  <th>Date:</th>             <td>Mon, 28 Feb 2022</td> <th>  Prob (F-statistic):</th> <td>6.11e-17</td>\n",
       "</tr>\n",
       "<tr>\n",
       "  <th>Time:</th>                 <td>11:13:14</td>     <th>  Log-Likelihood:    </th> <td> -58.148</td>\n",
       "</tr>\n",
       "<tr>\n",
       "  <th>No. Observations:</th>      <td>   114</td>      <th>  AIC:               </th> <td>   120.3</td>\n",
       "</tr>\n",
       "<tr>\n",
       "  <th>Df Residuals:</th>          <td>   112</td>      <th>  BIC:               </th> <td>   125.8</td>\n",
       "</tr>\n",
       "<tr>\n",
       "  <th>Df Model:</th>              <td>     1</td>      <th>                     </th>     <td> </td>   \n",
       "</tr>\n",
       "<tr>\n",
       "  <th>Covariance Type:</th>      <td>nonrobust</td>    <th>                     </th>     <td> </td>   \n",
       "</tr>\n",
       "</table>\n",
       "<table class=\"simpletable\">\n",
       "<tr>\n",
       "      <td></td>         <th>coef</th>     <th>std err</th>      <th>t</th>      <th>P>|t|</th>  <th>[0.025</th>    <th>0.975]</th>  \n",
       "</tr>\n",
       "<tr>\n",
       "  <th>Intercept</th> <td>    0.0409</td> <td>    0.048</td> <td>    0.844</td> <td> 0.400</td> <td>   -0.055</td> <td>    0.137</td>\n",
       "</tr>\n",
       "<tr>\n",
       "  <th>pav</th>       <td>    0.6483</td> <td>    0.066</td> <td>    9.884</td> <td> 0.000</td> <td>    0.518</td> <td>    0.778</td>\n",
       "</tr>\n",
       "</table>\n",
       "<table class=\"simpletable\">\n",
       "<tr>\n",
       "  <th>Omnibus:</th>       <td>13.517</td> <th>  Durbin-Watson:     </th> <td>   1.869</td>\n",
       "</tr>\n",
       "<tr>\n",
       "  <th>Prob(Omnibus):</th> <td> 0.001</td> <th>  Jarque-Bera (JB):  </th> <td>  42.984</td>\n",
       "</tr>\n",
       "<tr>\n",
       "  <th>Skew:</th>          <td>-0.143</td> <th>  Prob(JB):          </th> <td>4.64e-10</td>\n",
       "</tr>\n",
       "<tr>\n",
       "  <th>Kurtosis:</th>      <td> 5.995</td> <th>  Cond. No.          </th> <td>    2.21</td>\n",
       "</tr>\n",
       "</table><br/><br/>Warnings:<br/>[1] Standard Errors assume that the covariance matrix of the errors is correctly specified."
      ],
      "text/plain": [
       "<class 'statsmodels.iolib.summary.Summary'>\n",
       "\"\"\"\n",
       "                            OLS Regression Results                            \n",
       "==============================================================================\n",
       "Dep. Variable:            non_par_pav   R-squared:                       0.466\n",
       "Model:                            OLS   Adj. R-squared:                  0.461\n",
       "Method:                 Least Squares   F-statistic:                     97.69\n",
       "Date:                Mon, 28 Feb 2022   Prob (F-statistic):           6.11e-17\n",
       "Time:                        11:13:14   Log-Likelihood:                -58.148\n",
       "No. Observations:                 114   AIC:                             120.3\n",
       "Df Residuals:                     112   BIC:                             125.8\n",
       "Df Model:                           1                                         \n",
       "Covariance Type:            nonrobust                                         \n",
       "==============================================================================\n",
       "                 coef    std err          t      P>|t|      [0.025      0.975]\n",
       "------------------------------------------------------------------------------\n",
       "Intercept      0.0409      0.048      0.844      0.400      -0.055       0.137\n",
       "pav            0.6483      0.066      9.884      0.000       0.518       0.778\n",
       "==============================================================================\n",
       "Omnibus:                       13.517   Durbin-Watson:                   1.869\n",
       "Prob(Omnibus):                  0.001   Jarque-Bera (JB):               42.984\n",
       "Skew:                          -0.143   Prob(JB):                     4.64e-10\n",
       "Kurtosis:                       5.995   Cond. No.                         2.21\n",
       "==============================================================================\n",
       "\n",
       "Warnings:\n",
       "[1] Standard Errors assume that the covariance matrix of the errors is correctly specified.\n",
       "\"\"\""
      ]
     },
     "execution_count": 86,
     "metadata": {},
     "output_type": "execute_result"
    }
   ],
   "source": [
    "smf.ols(formula = 'non_par_pav ~ pav', data = mr_perf).fit().summary()"
   ]
  },
  {
   "cell_type": "markdown",
   "metadata": {},
   "source": [
    "# learning rate & (g2win - nogo2win) performance "
   ]
  },
  {
   "cell_type": "code",
   "execution_count": 69,
   "metadata": {},
   "outputs": [
    {
     "data": {
      "text/plain": [
       "<AxesSubplot:xlabel='alpha', ylabel='gw_ngw'>"
      ]
     },
     "execution_count": 69,
     "metadata": {},
     "output_type": "execute_result"
    },
    {
     "data": {
      "image/png": "[encoded data removed]",
      "text/plain": [
       "<Figure size 432x288 with 1 Axes>"
      ]
     },
     "metadata": {},
     "output_type": "display_data"
    }
   ],
   "source": [
    "sns.regplot(x=(mr_perf['alpha']), y=mr_perf['gw_ngw'])"
   ]
  },
  {
   "cell_type": "code",
   "execution_count": 70,
   "metadata": {},
   "outputs": [
    {
     "data": {
      "text/html": [
       "<table class=\"simpletable\">\n",
       "<caption>OLS Regression Results</caption>\n",
       "<tr>\n",
       "  <th>Dep. Variable:</th>         <td>gw_ngw</td>      <th>  R-squared:         </th> <td>   0.018</td>\n",
       "</tr>\n",
       "<tr>\n",
       "  <th>Model:</th>                   <td>OLS</td>       <th>  Adj. R-squared:    </th> <td>   0.009</td>\n",
       "</tr>\n",
       "<tr>\n",
       "  <th>Method:</th>             <td>Least Squares</td>  <th>  F-statistic:       </th> <td>   2.066</td>\n",
       "</tr>\n",
       "<tr>\n",
       "  <th>Date:</th>             <td>Mon, 28 Feb 2022</td> <th>  Prob (F-statistic):</th>  <td> 0.153</td> \n",
       "</tr>\n",
       "<tr>\n",
       "  <th>Time:</th>                 <td>08:47:09</td>     <th>  Log-Likelihood:    </th> <td> -64.509</td>\n",
       "</tr>\n",
       "<tr>\n",
       "  <th>No. Observations:</th>      <td>   114</td>      <th>  AIC:               </th> <td>   133.0</td>\n",
       "</tr>\n",
       "<tr>\n",
       "  <th>Df Residuals:</th>          <td>   112</td>      <th>  BIC:               </th> <td>   138.5</td>\n",
       "</tr>\n",
       "<tr>\n",
       "  <th>Df Model:</th>              <td>     1</td>      <th>                     </th>     <td> </td>   \n",
       "</tr>\n",
       "<tr>\n",
       "  <th>Covariance Type:</th>      <td>nonrobust</td>    <th>                     </th>     <td> </td>   \n",
       "</tr>\n",
       "</table>\n",
       "<table class=\"simpletable\">\n",
       "<tr>\n",
       "      <td></td>         <th>coef</th>     <th>std err</th>      <th>t</th>      <th>P>|t|</th>  <th>[0.025</th>    <th>0.975]</th>  \n",
       "</tr>\n",
       "<tr>\n",
       "  <th>Intercept</th> <td>    0.3493</td> <td>    0.075</td> <td>    4.683</td> <td> 0.000</td> <td>    0.202</td> <td>    0.497</td>\n",
       "</tr>\n",
       "<tr>\n",
       "  <th>alpha</th>     <td>   -0.3506</td> <td>    0.244</td> <td>   -1.437</td> <td> 0.153</td> <td>   -0.834</td> <td>    0.133</td>\n",
       "</tr>\n",
       "</table>\n",
       "<table class=\"simpletable\">\n",
       "<tr>\n",
       "  <th>Omnibus:</th>       <td> 2.631</td> <th>  Durbin-Watson:     </th> <td>   1.814</td>\n",
       "</tr>\n",
       "<tr>\n",
       "  <th>Prob(Omnibus):</th> <td> 0.268</td> <th>  Jarque-Bera (JB):  </th> <td>   2.077</td>\n",
       "</tr>\n",
       "<tr>\n",
       "  <th>Skew:</th>          <td>-0.301</td> <th>  Prob(JB):          </th> <td>   0.354</td>\n",
       "</tr>\n",
       "<tr>\n",
       "  <th>Kurtosis:</th>      <td> 3.276</td> <th>  Cond. No.          </th> <td>    6.47</td>\n",
       "</tr>\n",
       "</table><br/><br/>Warnings:<br/>[1] Standard Errors assume that the covariance matrix of the errors is correctly specified."
      ],
      "text/plain": [
       "<class 'statsmodels.iolib.summary.Summary'>\n",
       "\"\"\"\n",
       "                            OLS Regression Results                            \n",
       "==============================================================================\n",
       "Dep. Variable:                 gw_ngw   R-squared:                       0.018\n",
       "Model:                            OLS   Adj. R-squared:                  0.009\n",
       "Method:                 Least Squares   F-statistic:                     2.066\n",
       "Date:                Mon, 28 Feb 2022   Prob (F-statistic):              0.153\n",
       "Time:                        08:47:09   Log-Likelihood:                -64.509\n",
       "No. Observations:                 114   AIC:                             133.0\n",
       "Df Residuals:                     112   BIC:                             138.5\n",
       "Df Model:                           1                                         \n",
       "Covariance Type:            nonrobust                                         \n",
       "==============================================================================\n",
       "                 coef    std err          t      P>|t|      [0.025      0.975]\n",
       "------------------------------------------------------------------------------\n",
       "Intercept      0.3493      0.075      4.683      0.000       0.202       0.497\n",
       "alpha         -0.3506      0.244     -1.437      0.153      -0.834       0.133\n",
       "==============================================================================\n",
       "Omnibus:                        2.631   Durbin-Watson:                   1.814\n",
       "Prob(Omnibus):                  0.268   Jarque-Bera (JB):                2.077\n",
       "Skew:                          -0.301   Prob(JB):                        0.354\n",
       "Kurtosis:                       3.276   Cond. No.                         6.47\n",
       "==============================================================================\n",
       "\n",
       "Warnings:\n",
       "[1] Standard Errors assume that the covariance matrix of the errors is correctly specified.\n",
       "\"\"\""
      ]
     },
     "execution_count": 70,
     "metadata": {},
     "output_type": "execute_result"
    }
   ],
   "source": [
    "smf.ols(formula = 'gw_ngw ~ alpha', data = mr_perf).fit().summary()"
   ]
  },
  {
   "cell_type": "code",
   "execution_count": null,
   "metadata": {},
   "outputs": [],
   "source": []
  }
 ],
 "metadata": {
  "interpreter": {
   "hash": "b0fa6594d8f4cbf19f97940f81e996739fb7646882a419484c72d19e05852a7e"
  },
  "kernelspec": {
   "display_name": "Python 3 (ipykernel)",
   "language": "python",
   "name": "python3"
  },
  "language_info": {
   "codemirror_mode": {
    "name": "ipython",
    "version": 3
   },
   "file_extension": ".py",
   "mimetype": "text/x-python",
   "name": "python",
   "nbconvert_exporter": "python",
   "pygments_lexer": "ipython3",
   "version": "3.9.10"
  }
 },
 "nbformat": 4,
 "nbformat_minor": 2
}
