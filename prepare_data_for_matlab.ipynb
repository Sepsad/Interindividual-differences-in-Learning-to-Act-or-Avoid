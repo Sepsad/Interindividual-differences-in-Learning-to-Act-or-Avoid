{
 "cells": [
  {
   "cell_type": "code",
   "execution_count": 8,
   "metadata": {},
   "outputs": [],
   "source": [
    "import pandas as pd\n",
    "import numpy as np\n",
    "import scipy.io "
   ]
  },
  {
   "cell_type": "code",
   "execution_count": null,
   "metadata": {},
   "outputs": [],
   "source": []
  },
  {
   "cell_type": "code",
   "execution_count": 22,
   "metadata": {},
   "outputs": [],
   "source": [
    "modeling_data = pd.read_csv(\"data_for_modeling_matlab_first_session.csv\", index_col=0)"
   ]
  },
  {
   "cell_type": "code",
   "execution_count": 23,
   "metadata": {},
   "outputs": [
    {
     "data": {
      "text/plain": [
       "146"
      ]
     },
     "execution_count": 23,
     "metadata": {},
     "output_type": "execute_result"
    }
   ],
   "source": [
    "len(modeling_data.mturkID.unique())"
   ]
  },
  {
   "cell_type": "code",
   "execution_count": 21,
   "metadata": {},
   "outputs": [
    {
     "ename": "NameError",
     "evalue": "name 'modeling_data' is not defined",
     "output_type": "error",
     "traceback": [
      "\u001b[0;31m---------------------------------------------------------------------------\u001b[0m",
      "\u001b[0;31mNameError\u001b[0m                                 Traceback (most recent call last)",
      "\u001b[0;32m/var/folders/5p/j5wvkpqj2_n5r5h100pdscbr0000gn/T/ipykernel_10173/991013586.py\u001b[0m in \u001b[0;36m<module>\u001b[0;34m\u001b[0m\n\u001b[0;32m----> 1\u001b[0;31m \u001b[0;32mfor\u001b[0m \u001b[0mn\u001b[0m\u001b[0;34m,\u001b[0m \u001b[0mgp\u001b[0m \u001b[0;32min\u001b[0m \u001b[0mmodeling_data\u001b[0m\u001b[0;34m.\u001b[0m\u001b[0mgroupby\u001b[0m\u001b[0;34m(\u001b[0m\u001b[0;34m'mturkID'\u001b[0m\u001b[0;34m)\u001b[0m\u001b[0;34m:\u001b[0m\u001b[0;34m\u001b[0m\u001b[0;34m\u001b[0m\u001b[0m\n\u001b[0m\u001b[1;32m      2\u001b[0m     \u001b[0mprint\u001b[0m\u001b[0;34m(\u001b[0m\u001b[0mn\u001b[0m\u001b[0;34m)\u001b[0m\u001b[0;34m\u001b[0m\u001b[0;34m\u001b[0m\u001b[0m\n\u001b[1;32m      3\u001b[0m     \u001b[0mdf_to_save\u001b[0m \u001b[0;34m=\u001b[0m\u001b[0;34m(\u001b[0m\u001b[0mgp\u001b[0m\u001b[0;34m.\u001b[0m\u001b[0mreset_index\u001b[0m\u001b[0;34m(\u001b[0m\u001b[0mdrop\u001b[0m\u001b[0;34m=\u001b[0m\u001b[0;32mTrue\u001b[0m\u001b[0;34m)\u001b[0m\u001b[0;34m)\u001b[0m\u001b[0;34m.\u001b[0m\u001b[0mdrop\u001b[0m\u001b[0;34m(\u001b[0m\u001b[0;34m[\u001b[0m\u001b[0;34m'mturkID'\u001b[0m\u001b[0;34m]\u001b[0m\u001b[0;34m,\u001b[0m \u001b[0maxis\u001b[0m\u001b[0;34m=\u001b[0m\u001b[0;36m1\u001b[0m\u001b[0;34m)\u001b[0m\u001b[0;34m\u001b[0m\u001b[0;34m\u001b[0m\u001b[0m\n\u001b[1;32m      4\u001b[0m     \u001b[0mdf_to_save\u001b[0m\u001b[0;34m[\u001b[0m\u001b[0;34m'choice'\u001b[0m\u001b[0;34m]\u001b[0m \u001b[0;34m=\u001b[0m \u001b[0mdf_to_save\u001b[0m\u001b[0;34m[\u001b[0m\u001b[0;34m'choice'\u001b[0m\u001b[0;34m]\u001b[0m\u001b[0;34m.\u001b[0m\u001b[0mmap\u001b[0m\u001b[0;34m(\u001b[0m\u001b[0;34m{\u001b[0m\u001b[0;34m'nogo'\u001b[0m\u001b[0;34m:\u001b[0m \u001b[0;36m2\u001b[0m\u001b[0;34m,\u001b[0m \u001b[0;34m'go'\u001b[0m\u001b[0;34m:\u001b[0m \u001b[0;36m1\u001b[0m\u001b[0;34m}\u001b[0m\u001b[0;34m)\u001b[0m\u001b[0;34m\u001b[0m\u001b[0;34m\u001b[0m\u001b[0m\n\u001b[1;32m      5\u001b[0m     \u001b[0mdf_to_save\u001b[0m\u001b[0;34m[\u001b[0m\u001b[0;34m'stimulus'\u001b[0m\u001b[0;34m]\u001b[0m \u001b[0;34m=\u001b[0m \u001b[0mdf_to_save\u001b[0m\u001b[0;34m[\u001b[0m\u001b[0;34m'stimulus'\u001b[0m\u001b[0;34m]\u001b[0m\u001b[0;34m.\u001b[0m\u001b[0mmap\u001b[0m\u001b[0;34m(\u001b[0m\u001b[0;34m{\u001b[0m\u001b[0;34m'go2win'\u001b[0m\u001b[0;34m:\u001b[0m \u001b[0;36m1\u001b[0m\u001b[0;34m,\u001b[0m \u001b[0;34m'go2avoidPun'\u001b[0m\u001b[0;34m:\u001b[0m \u001b[0;36m2\u001b[0m\u001b[0;34m,\u001b[0m \u001b[0;34m'nogo2avoidPun'\u001b[0m\u001b[0;34m:\u001b[0m \u001b[0;36m3\u001b[0m\u001b[0;34m,\u001b[0m \u001b[0;34m'nogo2win'\u001b[0m\u001b[0;34m:\u001b[0m \u001b[0;36m4\u001b[0m\u001b[0;34m}\u001b[0m\u001b[0;34m)\u001b[0m\u001b[0;34m\u001b[0m\u001b[0;34m\u001b[0m\u001b[0m\n",
      "\u001b[0;31mNameError\u001b[0m: name 'modeling_data' is not defined"
     ]
    }
   ],
   "source": [
    "for n, gp in modeling_data.groupby('mturkID'):\n",
    "    print(n)\n",
    "    df_to_save =(gp.reset_index(drop=True)).drop(['mturkID'], axis=1)\n",
    "    df_to_save['choice'] = df_to_save['choice'].map({'nogo': 2, 'go': 1})\n",
    "    df_to_save['stimulus'] = df_to_save['stimulus'].map({'go2win': 1, 'go2avoidPun': 2, 'nogo2avoidPun': 3, 'nogo2win': 4})\n",
    "    df_to_save.to_csv( 'data_for_modeling_first_session/'+ f\"{n}.csv\", index=False)\n"
   ]
  },
  {
   "cell_type": "code",
   "execution_count": 5,
   "metadata": {},
   "outputs": [
    {
     "data": {
      "text/html": [
       "<div>\n",
       "<style scoped>\n",
       "    .dataframe tbody tr th:only-of-type {\n",
       "        vertical-align: middle;\n",
       "    }\n",
       "\n",
       "    .dataframe tbody tr th {\n",
       "        vertical-align: top;\n",
       "    }\n",
       "\n",
       "    .dataframe thead th {\n",
       "        text-align: right;\n",
       "    }\n",
       "</style>\n",
       "<table border=\"1\" class=\"dataframe\">\n",
       "  <thead>\n",
       "    <tr style=\"text-align: right;\">\n",
       "      <th></th>\n",
       "      <th>mturkID</th>\n",
       "      <th>choice</th>\n",
       "      <th>feedback_points</th>\n",
       "      <th>stimulus</th>\n",
       "    </tr>\n",
       "  </thead>\n",
       "  <tbody>\n",
       "    <tr>\n",
       "      <th>1049</th>\n",
       "      <td>A353XKDTUX10NC</td>\n",
       "      <td>nogo</td>\n",
       "      <td>0</td>\n",
       "      <td>go2avoidPun</td>\n",
       "    </tr>\n",
       "    <tr>\n",
       "      <th>1055</th>\n",
       "      <td>A353XKDTUX10NC</td>\n",
       "      <td>go</td>\n",
       "      <td>1</td>\n",
       "      <td>go2win</td>\n",
       "    </tr>\n",
       "    <tr>\n",
       "      <th>1061</th>\n",
       "      <td>A353XKDTUX10NC</td>\n",
       "      <td>go</td>\n",
       "      <td>-1</td>\n",
       "      <td>nogo2avoidPun</td>\n",
       "    </tr>\n",
       "    <tr>\n",
       "      <th>1067</th>\n",
       "      <td>A353XKDTUX10NC</td>\n",
       "      <td>go</td>\n",
       "      <td>0</td>\n",
       "      <td>nogo2win</td>\n",
       "    </tr>\n",
       "    <tr>\n",
       "      <th>1073</th>\n",
       "      <td>A353XKDTUX10NC</td>\n",
       "      <td>nogo</td>\n",
       "      <td>-1</td>\n",
       "      <td>go2avoidPun</td>\n",
       "    </tr>\n",
       "    <tr>\n",
       "      <th>...</th>\n",
       "      <td>...</td>\n",
       "      <td>...</td>\n",
       "      <td>...</td>\n",
       "      <td>...</td>\n",
       "    </tr>\n",
       "    <tr>\n",
       "      <th>166883</th>\n",
       "      <td>A1MJVTR0PCKBWW</td>\n",
       "      <td>nogo</td>\n",
       "      <td>0</td>\n",
       "      <td>go2win</td>\n",
       "    </tr>\n",
       "    <tr>\n",
       "      <th>166889</th>\n",
       "      <td>A1MJVTR0PCKBWW</td>\n",
       "      <td>nogo</td>\n",
       "      <td>1</td>\n",
       "      <td>nogo2win</td>\n",
       "    </tr>\n",
       "    <tr>\n",
       "      <th>166895</th>\n",
       "      <td>A1MJVTR0PCKBWW</td>\n",
       "      <td>nogo</td>\n",
       "      <td>-1</td>\n",
       "      <td>go2avoidPun</td>\n",
       "    </tr>\n",
       "    <tr>\n",
       "      <th>166901</th>\n",
       "      <td>A1MJVTR0PCKBWW</td>\n",
       "      <td>go</td>\n",
       "      <td>-1</td>\n",
       "      <td>nogo2avoidPun</td>\n",
       "    </tr>\n",
       "    <tr>\n",
       "      <th>166907</th>\n",
       "      <td>A1MJVTR0PCKBWW</td>\n",
       "      <td>go</td>\n",
       "      <td>0</td>\n",
       "      <td>go2win</td>\n",
       "    </tr>\n",
       "  </tbody>\n",
       "</table>\n",
       "<p>17520 rows × 4 columns</p>\n",
       "</div>"
      ],
      "text/plain": [
       "               mturkID choice  feedback_points       stimulus\n",
       "1049    A353XKDTUX10NC   nogo                0    go2avoidPun\n",
       "1055    A353XKDTUX10NC     go                1         go2win\n",
       "1061    A353XKDTUX10NC     go               -1  nogo2avoidPun\n",
       "1067    A353XKDTUX10NC     go                0       nogo2win\n",
       "1073    A353XKDTUX10NC   nogo               -1    go2avoidPun\n",
       "...                ...    ...              ...            ...\n",
       "166883  A1MJVTR0PCKBWW   nogo                0         go2win\n",
       "166889  A1MJVTR0PCKBWW   nogo                1       nogo2win\n",
       "166895  A1MJVTR0PCKBWW   nogo               -1    go2avoidPun\n",
       "166901  A1MJVTR0PCKBWW     go               -1  nogo2avoidPun\n",
       "166907  A1MJVTR0PCKBWW     go                0         go2win\n",
       "\n",
       "[17520 rows x 4 columns]"
      ]
     },
     "execution_count": 5,
     "metadata": {},
     "output_type": "execute_result"
    }
   ],
   "source": [
    "modeling_data"
   ]
  },
  {
   "cell_type": "code",
   "execution_count": 6,
   "metadata": {},
   "outputs": [],
   "source": [
    "import scipy.io \n",
    "\n",
    "def read_first_session_data(filename = 'modelling_data_second_session/second210228_EM_-llbaepxb_modified_1-ite2.mat'):\n",
    "    # model_data_second = scipy.io.loadmat('modelling_data_second_session/second210228_EM_-llbaepxb_modified-ite8.mat')\n",
    "    # model_data_second = scipy.io.loadmat('modelling_data_second_session/second210228_EM_-llbaepxb_modified_0-ite2.mat')\n",
    "    model_data_second = scipy.io.loadmat(filename)\n",
    "    participant_data_second = scipy.io.loadmat('modelling_data_second_session/gonogo_data_second_session.mat')\n",
    "    model_result_df_second = {}\n",
    "    model_result_df_second['mturkID'] = []\n",
    "    for i in range(114):\n",
    "\n",
    "        model_result_df_second['mturkID'].append((participant_data_second['subject_ids'][0][i][0]))\n",
    "    model_result_df_second['alpha'] = 1/(1+np.exp(-model_data_second['E'][1]))\n",
    "    model_result_df_second['beta'] = np.exp(model_data_second['E'][0])\n",
    "    model_result_df_second['noise'] = 1/(1+np.exp(-model_data_second['E'][3]))\n",
    "    model_result_df_second['bias'] = model_data_second['E'][4]\n",
    "    model_result_df_second['pav'] = np.exp(model_data_second['E'][2])\n",
    "    pd.DataFrame(model_result_df_second).to_csv(\"result_of_modeling_matlab_second_session.csv\", index=False)\n",
    "\n"
   ]
  },
  {
   "cell_type": "code",
   "execution_count": 7,
   "metadata": {},
   "outputs": [
    {
     "name": "stdout",
     "output_type": "stream",
     "text": [
      "BIC result/second210228_EM_-llbax-ite5_meanerror.mat\n",
      "BIC result/second210228_EM_-ll2baxb-ite4_meanerror.mat\n",
      "BIC result/second210228_EM_-llbaxb-ite2_meanerror.mat\n",
      "BIC result/second210228_EM_-llbaepxb-ite4_meanerror.mat\n",
      "BIC result/second210228_EM_-llba-ite4_meanerror.mat\n",
      "BIC result/second210228_EM_-ll2baepcxb-ite4_meanerror.mat\n",
      "BIC result/second210228_EM_-ll2baepxb-ite5_meanerror.mat\n"
     ]
    }
   ],
   "source": [
    "import glob\n",
    "\n",
    "model_result_first_bci = {}\n",
    "model_result_first_bci['BIC'] = []\n",
    "model_result_first_bci['Model'] = []\n",
    "model_result_second_bci = {}\n",
    "model_result_second_bci['BIC'] = []\n",
    "model_result_second_bci['Model'] = []\n",
    "\n",
    "for file in glob.glob(\"BIC result/*\"):\n",
    "    if(file.split('/')[-1][0] == 'f'):\n",
    "        model_data = scipy.io.loadmat(file)\n",
    "        model_result_first_bci['BIC'].append(model_data['bici'][0][0])\n",
    "        model_result_first_bci['Model'].append((file.split('-')[1]))\n",
    "    else:\n",
    "        model_data = scipy.io.loadmat(file)\n",
    "        print(file)\n",
    "\n",
    "        model_result_second_bci['BIC'].append(model_data['bici'][0][0])\n",
    "        model_result_second_bci['Model'].append((file.split('-')[1]))\n",
    "        \n"
   ]
  },
  {
   "cell_type": "code",
   "execution_count": 8,
   "metadata": {},
   "outputs": [],
   "source": [
    "model_dict = {\n",
    "    \"llba\":\"RW\",\n",
    "    \"llbax\": \"RW + noise\",\n",
    "    \"llbaxb\": \"RW + noise + bias\",\n",
    "    \"llbaepxb\": \"RW + noise + bias + Pav\",\n",
    "    \"ll2baxb\":\"RW(rew/pun) + noise + bias\",\n",
    "    \"ll2baepxb\":\"RW(rew/pun) + noise + bias + Pav\",\n",
    "    \"ll2baepcxb\" : \"RW(rew/pun) + noise + bias + Pav(const)\",\n",
    "}\n",
    "\n",
    "\n",
    "first_bic_df = pd.DataFrame(model_result_first_bci)\n",
    "first_bic_df['Model'] = first_bic_df.Model.map(model_dict)\n",
    "first_bic_df = first_bic_df.sort_values(by='Model', ascending=True)\n",
    "\n",
    "second_bic_df = pd.DataFrame(model_result_second_bci)\n",
    "second_bic_df['Model'] = second_bic_df.Model.map(model_dict)\n",
    "second_bic_df = second_bic_df.sort_values(by='Model', ascending=True)"
   ]
  },
  {
   "cell_type": "code",
   "execution_count": 9,
   "metadata": {},
   "outputs": [
    {
     "data": {
      "text/plain": [
       "[(13800.0, 18500.0), Text(0.5, 1.0, 'First Session Modeling BIC')]"
      ]
     },
     "execution_count": 9,
     "metadata": {},
     "output_type": "execute_result"
    },
    {
     "data": {
      "image/png": "[encoded data removed]",
      "text/plain": [
       "<Figure size 432x288 with 1 Axes>"
      ]
     },
     "metadata": {},
     "output_type": "display_data"
    }
   ],
   "source": [
    "import seaborn as sns\n",
    "sns.set_theme(style=\"whitegrid\")\n",
    "ax = sns.barplot(x=\"BIC\", y=\"Model\", data=first_bic_df)\n",
    "ax.set(xlim=(13800, 18500), title=\"First Session Modeling BIC\")"
   ]
  },
  {
   "cell_type": "code",
   "execution_count": 13,
   "metadata": {},
   "outputs": [
    {
     "data": {
      "text/plain": [
       "-53.20291699618065"
      ]
     },
     "execution_count": 13,
     "metadata": {},
     "output_type": "execute_result"
    }
   ],
   "source": [
    "first_bic_df.BIC[1] - first_bic_df.BIC[5]"
   ]
  },
  {
   "cell_type": "code",
   "execution_count": 14,
   "metadata": {},
   "outputs": [
    {
     "data": {
      "text/plain": [
       "[(9900.0, 12700.0), Text(0.5, 1.0, 'Second Session Modeling BIC')]"
      ]
     },
     "execution_count": 14,
     "metadata": {},
     "output_type": "execute_result"
    },
    {
     "data": {
      "image/png": "[encoded data removed]",
      "text/plain": [
       "<Figure size 432x288 with 1 Axes>"
      ]
     },
     "metadata": {},
     "output_type": "display_data"
    }
   ],
   "source": [
    "import seaborn as sns\n",
    "sns.set_theme(style=\"whitegrid\")\n",
    "ax = sns.barplot(x=\"BIC\", y=\"Model\", data=second_bic_df)\n",
    "ax.set(xlim=(9900, 12700), title=\"Second Session Modeling BIC\")"
   ]
  },
  {
   "cell_type": "code",
   "execution_count": 16,
   "metadata": {},
   "outputs": [
    {
     "data": {
      "text/plain": [
       "131.70188165960644"
      ]
     },
     "execution_count": 16,
     "metadata": {},
     "output_type": "execute_result"
    }
   ],
   "source": [
    "second_bic_df.BIC[6] - second_bic_df.BIC[5] "
   ]
  },
  {
   "cell_type": "code",
   "execution_count": 1,
   "metadata": {},
   "outputs": [
    {
     "ename": "NameError",
     "evalue": "name 'np' is not defined",
     "output_type": "error",
     "traceback": [
      "\u001b[0;31m---------------------------------------------------------------------------\u001b[0m",
      "\u001b[0;31mNameError\u001b[0m                                 Traceback (most recent call last)",
      "\u001b[0;32m/var/folders/5p/j5wvkpqj2_n5r5h100pdscbr0000gn/T/ipykernel_10173/54601528.py\u001b[0m in \u001b[0;36m<module>\u001b[0;34m\u001b[0m\n\u001b[1;32m      7\u001b[0m \u001b[0;34m\u001b[0m\u001b[0m\n\u001b[1;32m      8\u001b[0m     \u001b[0mmodel_result_df_first\u001b[0m\u001b[0;34m[\u001b[0m\u001b[0;34m'mturkID'\u001b[0m\u001b[0;34m]\u001b[0m\u001b[0;34m.\u001b[0m\u001b[0mappend\u001b[0m\u001b[0;34m(\u001b[0m\u001b[0;34m(\u001b[0m\u001b[0mparticipant_data_first\u001b[0m\u001b[0;34m[\u001b[0m\u001b[0;34m'subject_ids'\u001b[0m\u001b[0;34m]\u001b[0m\u001b[0;34m[\u001b[0m\u001b[0;36m0\u001b[0m\u001b[0;34m]\u001b[0m\u001b[0;34m[\u001b[0m\u001b[0mi\u001b[0m\u001b[0;34m]\u001b[0m\u001b[0;34m[\u001b[0m\u001b[0;36m0\u001b[0m\u001b[0;34m]\u001b[0m\u001b[0;34m)\u001b[0m\u001b[0;34m)\u001b[0m\u001b[0;34m\u001b[0m\u001b[0;34m\u001b[0m\u001b[0m\n\u001b[0;32m----> 9\u001b[0;31m \u001b[0mmodel_result_df_first\u001b[0m\u001b[0;34m[\u001b[0m\u001b[0;34m'alpha'\u001b[0m\u001b[0;34m]\u001b[0m \u001b[0;34m=\u001b[0m \u001b[0;36m1\u001b[0m\u001b[0;34m/\u001b[0m\u001b[0;34m(\u001b[0m\u001b[0;36m1\u001b[0m\u001b[0;34m+\u001b[0m\u001b[0mnp\u001b[0m\u001b[0;34m.\u001b[0m\u001b[0mexp\u001b[0m\u001b[0;34m(\u001b[0m\u001b[0;34m-\u001b[0m\u001b[0mmodel_data_first\u001b[0m\u001b[0;34m[\u001b[0m\u001b[0;34m'E'\u001b[0m\u001b[0;34m]\u001b[0m\u001b[0;34m[\u001b[0m\u001b[0;36m2\u001b[0m\u001b[0;34m]\u001b[0m\u001b[0;34m)\u001b[0m\u001b[0;34m)\u001b[0m\u001b[0;34m\u001b[0m\u001b[0;34m\u001b[0m\u001b[0m\n\u001b[0m\u001b[1;32m     10\u001b[0m \u001b[0mmodel_result_df_first\u001b[0m\u001b[0;34m[\u001b[0m\u001b[0;34m'beta_rew'\u001b[0m\u001b[0;34m]\u001b[0m \u001b[0;34m=\u001b[0m \u001b[0mnp\u001b[0m\u001b[0;34m.\u001b[0m\u001b[0mexp\u001b[0m\u001b[0;34m(\u001b[0m\u001b[0mmodel_data_first\u001b[0m\u001b[0;34m[\u001b[0m\u001b[0;34m'E'\u001b[0m\u001b[0;34m]\u001b[0m\u001b[0;34m[\u001b[0m\u001b[0;36m0\u001b[0m\u001b[0;34m]\u001b[0m\u001b[0;34m)\u001b[0m\u001b[0;34m\u001b[0m\u001b[0;34m\u001b[0m\u001b[0m\n\u001b[1;32m     11\u001b[0m \u001b[0mmodel_result_df_first\u001b[0m\u001b[0;34m[\u001b[0m\u001b[0;34m'beta_pun'\u001b[0m\u001b[0;34m]\u001b[0m \u001b[0;34m=\u001b[0m \u001b[0mnp\u001b[0m\u001b[0;34m.\u001b[0m\u001b[0mexp\u001b[0m\u001b[0;34m(\u001b[0m\u001b[0mmodel_data_first\u001b[0m\u001b[0;34m[\u001b[0m\u001b[0;34m'E'\u001b[0m\u001b[0;34m]\u001b[0m\u001b[0;34m[\u001b[0m\u001b[0;36m1\u001b[0m\u001b[0;34m]\u001b[0m\u001b[0;34m)\u001b[0m\u001b[0;34m\u001b[0m\u001b[0;34m\u001b[0m\u001b[0m\n",
      "\u001b[0;31mNameError\u001b[0m: name 'np' is not defined"
     ]
    }
   ],
   "source": [
    "import scipy.io \n",
    "model_data_first = scipy.io.loadmat('BIC result/first210228_EM_-ll2baepcxb-ite3_meanerror.mat')\n",
    "participant_data_first = scipy.io.loadmat('modelling_data_first_session/gonogo_data_first_session.mat')\n",
    "model_result_df_first = {}\n",
    "model_result_df_first['mturkID'] = []\n",
    "for i in range(146):\n",
    "\n",
    "    model_result_df_first['mturkID'].append((participant_data_first['subject_ids'][0][i][0]))\n",
    "model_result_df_first['alpha'] = 1/(1+np.exp(-model_data_first['E'][2]))\n",
    "model_result_df_first['beta_rew'] = np.exp(model_data_first['E'][0])\n",
    "model_result_df_first['beta_pun'] = np.exp(model_data_first['E'][1])\n",
    "\n",
    "model_result_df_first['noise'] = 1/(1+np.exp(-model_data_first['E'][4]))\n",
    "model_result_df_first['bias'] = model_data_first['E'][5]\n",
    "model_result_df_first['pav'] = np.exp(model_data_first['E'][3])\n",
    "pd.DataFrame(model_result_df_first).to_csv(\"result_of_modeling_matlab_first_session.csv\", index=False)\n"
   ]
  },
  {
   "cell_type": "code",
   "execution_count": 83,
   "metadata": {},
   "outputs": [
    {
     "data": {
      "text/html": [
       "<div>\n",
       "<style scoped>\n",
       "    .dataframe tbody tr th:only-of-type {\n",
       "        vertical-align: middle;\n",
       "    }\n",
       "\n",
       "    .dataframe tbody tr th {\n",
       "        vertical-align: top;\n",
       "    }\n",
       "\n",
       "    .dataframe thead th {\n",
       "        text-align: right;\n",
       "    }\n",
       "</style>\n",
       "<table border=\"1\" class=\"dataframe\">\n",
       "  <thead>\n",
       "    <tr style=\"text-align: right;\">\n",
       "      <th></th>\n",
       "      <th>alpha</th>\n",
       "      <th>beta_rew</th>\n",
       "      <th>beta_pun</th>\n",
       "      <th>noise</th>\n",
       "      <th>bias</th>\n",
       "      <th>pav</th>\n",
       "    </tr>\n",
       "  </thead>\n",
       "  <tbody>\n",
       "    <tr>\n",
       "      <th>count</th>\n",
       "      <td>146.000000</td>\n",
       "      <td>146.000000</td>\n",
       "      <td>146.000000</td>\n",
       "      <td>146.000000</td>\n",
       "      <td>146.000000</td>\n",
       "      <td>146.000000</td>\n",
       "    </tr>\n",
       "    <tr>\n",
       "      <th>mean</th>\n",
       "      <td>0.334432</td>\n",
       "      <td>9.712342</td>\n",
       "      <td>4.021571</td>\n",
       "      <td>0.926076</td>\n",
       "      <td>1.307784</td>\n",
       "      <td>1.248126</td>\n",
       "    </tr>\n",
       "    <tr>\n",
       "      <th>std</th>\n",
       "      <td>0.157908</td>\n",
       "      <td>8.184933</td>\n",
       "      <td>3.318423</td>\n",
       "      <td>0.085762</td>\n",
       "      <td>1.013521</td>\n",
       "      <td>1.241718</td>\n",
       "    </tr>\n",
       "    <tr>\n",
       "      <th>min</th>\n",
       "      <td>0.053498</td>\n",
       "      <td>0.386163</td>\n",
       "      <td>0.500089</td>\n",
       "      <td>0.464027</td>\n",
       "      <td>-1.922730</td>\n",
       "      <td>0.107839</td>\n",
       "    </tr>\n",
       "    <tr>\n",
       "      <th>25%</th>\n",
       "      <td>0.214941</td>\n",
       "      <td>3.925609</td>\n",
       "      <td>1.264539</td>\n",
       "      <td>0.929770</td>\n",
       "      <td>0.716472</td>\n",
       "      <td>0.451461</td>\n",
       "    </tr>\n",
       "    <tr>\n",
       "      <th>50%</th>\n",
       "      <td>0.321726</td>\n",
       "      <td>7.678014</td>\n",
       "      <td>3.129930</td>\n",
       "      <td>0.959141</td>\n",
       "      <td>1.299511</td>\n",
       "      <td>0.765731</td>\n",
       "    </tr>\n",
       "    <tr>\n",
       "      <th>75%</th>\n",
       "      <td>0.424549</td>\n",
       "      <td>13.669334</td>\n",
       "      <td>5.726250</td>\n",
       "      <td>0.975530</td>\n",
       "      <td>2.002116</td>\n",
       "      <td>1.536917</td>\n",
       "    </tr>\n",
       "    <tr>\n",
       "      <th>max</th>\n",
       "      <td>0.834755</td>\n",
       "      <td>55.978085</td>\n",
       "      <td>15.886796</td>\n",
       "      <td>0.983176</td>\n",
       "      <td>4.112235</td>\n",
       "      <td>5.968860</td>\n",
       "    </tr>\n",
       "  </tbody>\n",
       "</table>\n",
       "</div>"
      ],
      "text/plain": [
       "            alpha    beta_rew    beta_pun       noise        bias         pav\n",
       "count  146.000000  146.000000  146.000000  146.000000  146.000000  146.000000\n",
       "mean     0.334432    9.712342    4.021571    0.926076    1.307784    1.248126\n",
       "std      0.157908    8.184933    3.318423    0.085762    1.013521    1.241718\n",
       "min      0.053498    0.386163    0.500089    0.464027   -1.922730    0.107839\n",
       "25%      0.214941    3.925609    1.264539    0.929770    0.716472    0.451461\n",
       "50%      0.321726    7.678014    3.129930    0.959141    1.299511    0.765731\n",
       "75%      0.424549   13.669334    5.726250    0.975530    2.002116    1.536917\n",
       "max      0.834755   55.978085   15.886796    0.983176    4.112235    5.968860"
      ]
     },
     "execution_count": 83,
     "metadata": {},
     "output_type": "execute_result"
    }
   ],
   "source": [
    "pd.DataFrame(model_result_df_first).describe()"
   ]
  },
  {
   "cell_type": "code",
   "execution_count": 15,
   "metadata": {},
   "outputs": [
    {
     "data": {
      "text/html": [
       "<div>\n",
       "<style scoped>\n",
       "    .dataframe tbody tr th:only-of-type {\n",
       "        vertical-align: middle;\n",
       "    }\n",
       "\n",
       "    .dataframe tbody tr th {\n",
       "        vertical-align: top;\n",
       "    }\n",
       "\n",
       "    .dataframe thead th {\n",
       "        text-align: right;\n",
       "    }\n",
       "</style>\n",
       "<table border=\"1\" class=\"dataframe\">\n",
       "  <thead>\n",
       "    <tr style=\"text-align: right;\">\n",
       "      <th></th>\n",
       "      <th>alpha</th>\n",
       "      <th>beta</th>\n",
       "      <th>noise</th>\n",
       "      <th>bias</th>\n",
       "      <th>pav</th>\n",
       "    </tr>\n",
       "  </thead>\n",
       "  <tbody>\n",
       "    <tr>\n",
       "      <th>count</th>\n",
       "      <td>146.000000</td>\n",
       "      <td>146.000000</td>\n",
       "      <td>146.000000</td>\n",
       "      <td>146.000000</td>\n",
       "      <td>146.000000</td>\n",
       "    </tr>\n",
       "    <tr>\n",
       "      <th>mean</th>\n",
       "      <td>0.217193</td>\n",
       "      <td>8.347092</td>\n",
       "      <td>0.942663</td>\n",
       "      <td>1.097293</td>\n",
       "      <td>0.245348</td>\n",
       "    </tr>\n",
       "    <tr>\n",
       "      <th>std</th>\n",
       "      <td>0.176819</td>\n",
       "      <td>7.388634</td>\n",
       "      <td>0.073412</td>\n",
       "      <td>1.095112</td>\n",
       "      <td>0.344972</td>\n",
       "    </tr>\n",
       "    <tr>\n",
       "      <th>min</th>\n",
       "      <td>0.020261</td>\n",
       "      <td>0.773464</td>\n",
       "      <td>0.572578</td>\n",
       "      <td>-2.787176</td>\n",
       "      <td>0.021351</td>\n",
       "    </tr>\n",
       "    <tr>\n",
       "      <th>25%</th>\n",
       "      <td>0.081970</td>\n",
       "      <td>2.727998</td>\n",
       "      <td>0.951965</td>\n",
       "      <td>0.451473</td>\n",
       "      <td>0.072528</td>\n",
       "    </tr>\n",
       "    <tr>\n",
       "      <th>50%</th>\n",
       "      <td>0.165423</td>\n",
       "      <td>6.873869</td>\n",
       "      <td>0.966848</td>\n",
       "      <td>1.146737</td>\n",
       "      <td>0.121969</td>\n",
       "    </tr>\n",
       "    <tr>\n",
       "      <th>75%</th>\n",
       "      <td>0.314700</td>\n",
       "      <td>10.570078</td>\n",
       "      <td>0.977164</td>\n",
       "      <td>1.766248</td>\n",
       "      <td>0.248819</td>\n",
       "    </tr>\n",
       "    <tr>\n",
       "      <th>max</th>\n",
       "      <td>0.841882</td>\n",
       "      <td>49.490301</td>\n",
       "      <td>0.984991</td>\n",
       "      <td>3.948413</td>\n",
       "      <td>2.131637</td>\n",
       "    </tr>\n",
       "  </tbody>\n",
       "</table>\n",
       "</div>"
      ],
      "text/plain": [
       "            alpha        beta       noise        bias         pav\n",
       "count  146.000000  146.000000  146.000000  146.000000  146.000000\n",
       "mean     0.217193    8.347092    0.942663    1.097293    0.245348\n",
       "std      0.176819    7.388634    0.073412    1.095112    0.344972\n",
       "min      0.020261    0.773464    0.572578   -2.787176    0.021351\n",
       "25%      0.081970    2.727998    0.951965    0.451473    0.072528\n",
       "50%      0.165423    6.873869    0.966848    1.146737    0.121969\n",
       "75%      0.314700   10.570078    0.977164    1.766248    0.248819\n",
       "max      0.841882   49.490301    0.984991    3.948413    2.131637"
      ]
     },
     "execution_count": 15,
     "metadata": {},
     "output_type": "execute_result"
    }
   ],
   "source": [
    "pd.DataFrame(model_result_df_first).describe()"
   ]
  },
  {
   "cell_type": "markdown",
   "metadata": {},
   "source": [
    "# ll2baepcxb"
   ]
  },
  {
   "cell_type": "code",
   "execution_count": 7,
   "metadata": {},
   "outputs": [],
   "source": [
    "model_data_second = scipy.io.loadmat('BIC result/first210228_EM_-ll2baepcxb-ite3_meanerror.mat')\n",
    "\n",
    "\n",
    "participant_data_second = scipy.io.loadmat('modelling_data_first_session/gonogo_data_first_session.mat')\n",
    "model_result_df_second = {}\n",
    "model_result_df_second['mturkID'] = []\n",
    "for i in range(146):\n",
    "\n",
    "    model_result_df_second['mturkID'].append((participant_data_second['subject_ids'][0][i][0]))\n",
    "model_result_df_second['alpha'] = 1/(1+np.exp(-model_data_second['E'][2]))\n",
    "model_result_df_second['beta_rew'] = np.exp(model_data_second['E'][0])\n",
    "model_result_df_second['beta_pun'] = np.exp(model_data_second['E'][1])\n",
    "model_result_df_second['noise'] = 1/(1+np.exp(-model_data_second['E'][4]))\n",
    "model_result_df_second['bias'] = model_data_second['E'][5]\n",
    "model_result_df_second['pav'] = np.exp(model_data_second['E'][3])\n",
    "pd.DataFrame(model_result_df_second).to_csv(\"Modeling results data/first_ll2baepcxb.csv\", index=False)\n",
    "\n"
   ]
  },
  {
   "cell_type": "markdown",
   "metadata": {},
   "source": [
    "# ll2baepxb"
   ]
  },
  {
   "cell_type": "code",
   "execution_count": 20,
   "metadata": {},
   "outputs": [],
   "source": [
    "model_data_second = scipy.io.loadmat('BIC result/first210228_EM_-ll2baepxb-ite5_meanerror.mat')\n",
    "\n",
    "\n",
    "participant_data_second = scipy.io.loadmat('modelling_data_first_session/gonogo_data_first_session.mat')\n",
    "model_result_df_second = {}\n",
    "model_result_df_second['mturkID'] = []\n",
    "for i in range(146):\n",
    "\n",
    "    model_result_df_second['mturkID'].append((participant_data_second['subject_ids'][0][i][0]))\n",
    "model_result_df_second['alpha'] = 1/(1+np.exp(-model_data_second['E'][2]))\n",
    "model_result_df_second['beta_rew'] = np.exp(model_data_second['E'][0])\n",
    "model_result_df_second['beta_pun'] = np.exp(model_data_second['E'][1])\n",
    "model_result_df_second['noise'] = 1/(1+np.exp(-model_data_second['E'][4]))\n",
    "model_result_df_second['bias'] = model_data_second['E'][5]\n",
    "model_result_df_second['pav'] = np.exp(model_data_second['E'][3])\n",
    "pd.DataFrame(model_result_df_second).to_csv(\"Modeling results data/first_ll2baepxb.csv\", index=False)\n",
    "\n"
   ]
  },
  {
   "cell_type": "markdown",
   "metadata": {},
   "source": [
    "# ll2baxb"
   ]
  },
  {
   "cell_type": "code",
   "execution_count": 19,
   "metadata": {},
   "outputs": [],
   "source": [
    "model_data_second = scipy.io.loadmat('BIC result/first210228_EM_-ll2baxb-ite1_meanerror.mat')\n",
    "\n",
    "\n",
    "participant_data_second = scipy.io.loadmat('modelling_data_first_session/gonogo_data_first_session.mat')\n",
    "model_result_df_second = {}\n",
    "model_result_df_second['mturkID'] = []\n",
    "for i in range(146):\n",
    "\n",
    "    model_result_df_second['mturkID'].append((participant_data_second['subject_ids'][0][i][0]))\n",
    "model_result_df_second['alpha'] = 1/(1+np.exp(-model_data_second['E'][2]))\n",
    "model_result_df_second['beta_rew'] = np.exp(model_data_second['E'][0])\n",
    "model_result_df_second['beta_pun'] = np.exp(model_data_second['E'][1])\n",
    "model_result_df_second['noise'] = 1/(1+np.exp(-model_data_second['E'][3]))\n",
    "model_result_df_second['bias'] = model_data_second['E'][4]\n",
    "# model_result_df_second['pav'] = np.exp(model_data_second['E'][3])\n",
    "pd.DataFrame(model_result_df_second).to_csv(\"Modeling results data/first_ll2baxb.csv\", index=False)"
   ]
  },
  {
   "cell_type": "markdown",
   "metadata": {},
   "source": [
    "# llbaepxb"
   ]
  },
  {
   "cell_type": "code",
   "execution_count": 18,
   "metadata": {},
   "outputs": [],
   "source": [
    "model_data_second = scipy.io.loadmat('BIC result/first210228_EM_-llbaepxb-ite1_meanerror.mat')\n",
    "\n",
    "\n",
    "participant_data_second = scipy.io.loadmat('modelling_data_first_session/gonogo_data_first_session.mat')\n",
    "model_result_df_second = {}\n",
    "model_result_df_second['mturkID'] = []\n",
    "for i in range(146):\n",
    "\n",
    "    model_result_df_second['mturkID'].append((participant_data_second['subject_ids'][0][i][0]))\n",
    "model_result_df_second['alpha'] = 1/(1+np.exp(-model_data_second['E'][1]))\n",
    "model_result_df_second['beta'] = np.exp(model_data_second['E'][0])\n",
    "model_result_df_second['noise'] = 1/(1+np.exp(-model_data_second['E'][3]))\n",
    "model_result_df_second['bias'] = model_data_second['E'][4]\n",
    "model_result_df_second['pav'] = np.exp(model_data_second['E'][2])\n",
    "pd.DataFrame(model_result_df_second).to_csv(\"Modeling results data/first_llbaepxb.csv\", index=False)"
   ]
  },
  {
   "cell_type": "markdown",
   "metadata": {},
   "source": [
    "# llbaxb"
   ]
  },
  {
   "cell_type": "code",
   "execution_count": 17,
   "metadata": {},
   "outputs": [],
   "source": [
    "model_data_second = scipy.io.loadmat('BIC result/first210228_EM_-llbaxb-ite4_meanerror.mat')\n",
    "\n",
    "\n",
    "participant_data_second = scipy.io.loadmat('modelling_data_first_session/gonogo_data_first_session.mat')\n",
    "model_result_df_second = {}\n",
    "model_result_df_second['mturkID'] = []\n",
    "for i in range(146):\n",
    "\n",
    "    model_result_df_second['mturkID'].append((participant_data_second['subject_ids'][0][i][0]))\n",
    "model_result_df_second['alpha'] = 1/(1+np.exp(-model_data_second['E'][1]))\n",
    "model_result_df_second['beta'] = np.exp(model_data_second['E'][0])\n",
    "# model_result_df_second['beta_pun'] = np.exp(model_data_second['E'][1])\n",
    "model_result_df_second['noise'] = 1/(1+np.exp(-model_data_second['E'][2]))\n",
    "model_result_df_second['bias'] = model_data_second['E'][3]\n",
    "# model_result_df_second['pav'] = np.exp(model_data_second['E'][3])\n",
    "pd.DataFrame(model_result_df_second).to_csv(\"Modeling results data/first_llbaxb.csv\", index=False)"
   ]
  },
  {
   "cell_type": "markdown",
   "metadata": {},
   "source": [
    "# llbax"
   ]
  },
  {
   "cell_type": "code",
   "execution_count": 15,
   "metadata": {},
   "outputs": [],
   "source": [
    "model_data_second = scipy.io.loadmat('BIC result/first210228_EM_-llbax-ite4_meanerror.mat')\n",
    "\n",
    "\n",
    "participant_data_second = scipy.io.loadmat('modelling_data_first_session/gonogo_data_first_session.mat')\n",
    "model_result_df_second = {}\n",
    "model_result_df_second['mturkID'] = []\n",
    "for i in range(146):\n",
    "\n",
    "    model_result_df_second['mturkID'].append((participant_data_second['subject_ids'][0][i][0]))\n",
    "model_result_df_second['alpha'] = 1/(1+np.exp(-model_data_second['E'][1]))\n",
    "model_result_df_second['beta'] = np.exp(model_data_second['E'][0])\n",
    "# model_result_df_second['beta_rew'] = np.exp(model_data_second['E'][0])\n",
    "# model_result_df_second['beta_pun'] = np.exp(model_data_second['E'][1])\n",
    "model_result_df_second['noise'] = 1/(1+np.exp(-model_data_second['E'][2]))\n",
    "# model_result_df_second['bias'] = model_data_second['E'][5]\n",
    "# model_result_df_second['pav'] = np.exp(model_data_second['E'][3])\n",
    "pd.DataFrame(model_result_df_second).to_csv(\"Modeling results data/first_llbax.csv\", index=False)"
   ]
  },
  {
   "cell_type": "markdown",
   "metadata": {},
   "source": [
    "# llba"
   ]
  },
  {
   "cell_type": "code",
   "execution_count": 14,
   "metadata": {},
   "outputs": [],
   "source": [
    "model_data_second = scipy.io.loadmat('BIC result/first210228_EM_-llba-ite3_meanerror.mat')\n",
    "\n",
    "\n",
    "participant_data_second = scipy.io.loadmat('modelling_data_first_session/gonogo_data_first_session.mat')\n",
    "model_result_df_second = {}\n",
    "model_result_df_second['mturkID'] = []\n",
    "for i in range(146):\n",
    "\n",
    "    model_result_df_second['mturkID'].append((participant_data_second['subject_ids'][0][i][0]))\n",
    "model_result_df_second['alpha'] = 1/(1+np.exp(-model_data_second['E'][1]))\n",
    "model_result_df_second['beta'] = np.exp(model_data_second['E'][0])\n",
    "# model_result_df_second['beta_pun'] = np.exp(model_data_second['E'][2])\n",
    "# model_result_df_second['noise'] = 1/(1+np.exp(-model_data_second['E'][4]))\n",
    "# model_result_df_second['bias'] = model_data_second['E'][5]\n",
    "# model_result_df_second['pav'] = np.exp(model_data_second['E'][3])\n",
    "pd.DataFrame(model_result_df_second).to_csv(\"Modeling results data/first_llba.csv\", index=False)"
   ]
  },
  {
   "cell_type": "code",
   "execution_count": null,
   "metadata": {},
   "outputs": [],
   "source": []
  },
  {
   "cell_type": "code",
   "execution_count": null,
   "metadata": {},
   "outputs": [],
   "source": []
  }
 ],
 "metadata": {
  "interpreter": {
   "hash": "b0fa6594d8f4cbf19f97940f81e996739fb7646882a419484c72d19e05852a7e"
  },
  "kernelspec": {
   "display_name": "Python 3 (ipykernel)",
   "language": "python",
   "name": "python3"
  },
  "language_info": {
   "codemirror_mode": {
    "name": "ipython",
    "version": 3
   },
   "file_extension": ".py",
   "mimetype": "text/x-python",
   "name": "python",
   "nbconvert_exporter": "python",
   "pygments_lexer": "ipython3",
   "version": "3.9.10"
  }
 },
 "nbformat": 4,
 "nbformat_minor": 2
}
