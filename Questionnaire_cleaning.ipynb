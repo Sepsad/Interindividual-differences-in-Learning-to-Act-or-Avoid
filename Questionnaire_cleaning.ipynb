{
 "cells": [
  {
   "cell_type": "code",
   "execution_count": 1,
   "metadata": {},
   "outputs": [
    {
     "name": "stderr",
     "output_type": "stream",
     "text": [
      "/opt/homebrew/lib/python3.9/site-packages/statsmodels/tools/_testing.py:19: FutureWarning: pandas.util.testing is deprecated. Use the functions in the public API at pandas.testing instead.\n",
      "  import pandas.util.testing as tm\n"
     ]
    }
   ],
   "source": [
    "import matplotlib.pyplot as plt\n",
    "import pandas as pd\n",
    "import os\n",
    "pd.set_option(\"display.max_columns\", None)\n",
    "pd.set_option(\"display.max_rows\", 150)\n",
    "import seaborn as sns\n",
    "sns.set_theme(color_codes=True)\n",
    "from scipy import stats\n",
    "import statsmodels.api as sm\n",
    "import numpy as np\n",
    "import json"
   ]
  },
  {
   "cell_type": "markdown",
   "metadata": {},
   "source": [
    "# Data cleaning"
   ]
  },
  {
   "cell_type": "code",
   "execution_count": 2,
   "metadata": {},
   "outputs": [],
   "source": [
    "df = pd.read_csv(\"./Data/ede-questionnaire-third-round.csv\")"
   ]
  },
  {
   "cell_type": "code",
   "execution_count": 3,
   "metadata": {},
   "outputs": [
    {
     "data": {
      "text/html": [
       "<div>\n",
       "<style scoped>\n",
       "    .dataframe tbody tr th:only-of-type {\n",
       "        vertical-align: middle;\n",
       "    }\n",
       "\n",
       "    .dataframe tbody tr th {\n",
       "        vertical-align: top;\n",
       "    }\n",
       "\n",
       "    .dataframe thead th {\n",
       "        text-align: right;\n",
       "    }\n",
       "</style>\n",
       "<table border=\"1\" class=\"dataframe\">\n",
       "  <thead>\n",
       "    <tr style=\"text-align: right;\">\n",
       "      <th></th>\n",
       "      <th>run_id</th>\n",
       "      <th>condition</th>\n",
       "      <th>rt</th>\n",
       "      <th>url</th>\n",
       "      <th>trial_type</th>\n",
       "      <th>trial_index</th>\n",
       "      <th>time_elapsed</th>\n",
       "      <th>internal_node_id</th>\n",
       "      <th>hitId</th>\n",
       "      <th>workerId</th>\n",
       "      <th>assignmentId</th>\n",
       "      <th>a</th>\n",
       "      <th>tp_a</th>\n",
       "      <th>b</th>\n",
       "      <th>tp_b</th>\n",
       "      <th>c</th>\n",
       "      <th>tp_c</th>\n",
       "      <th>experiment_id</th>\n",
       "      <th>assignmentID</th>\n",
       "      <th>mturkID</th>\n",
       "      <th>hitID</th>\n",
       "      <th>stimulus</th>\n",
       "      <th>response</th>\n",
       "      <th>exp_stage</th>\n",
       "      <th>view_history</th>\n",
       "      <th>exp_part</th>\n",
       "      <th>own_rows</th>\n",
       "      <th>responses</th>\n",
       "      <th>id</th>\n",
       "      <th>single</th>\n",
       "      <th>recorded_at</th>\n",
       "      <th>ip</th>\n",
       "      <th>user_agent</th>\n",
       "      <th>device</th>\n",
       "      <th>browser</th>\n",
       "      <th>browser_version</th>\n",
       "      <th>platform</th>\n",
       "      <th>platform_version</th>\n",
       "      <th>source_code_version</th>\n",
       "    </tr>\n",
       "  </thead>\n",
       "  <tbody>\n",
       "    <tr>\n",
       "      <th>0</th>\n",
       "      <td>1</td>\n",
       "      <td>1</td>\n",
       "      <td>5435.6</td>\n",
       "      <td>https://raw.githubusercontent.com/Sepsad/EDE-q...</td>\n",
       "      <td>external-html</td>\n",
       "      <td>0</td>\n",
       "      <td>5735</td>\n",
       "      <td>0.0-0.0</td>\n",
       "      <td>3OKP4QVBP30V9KW4WXSHA4UVOTJGAU</td>\n",
       "      <td>A12FTSX85NQ8N9</td>\n",
       "      <td>3LJ7UR74RIGO37V2020NC5CHERMN4Z</td>\n",
       "      <td>4UJL1</td>\n",
       "      <td>4UJL1</td>\n",
       "      <td>3LJ7UR74RIGO37V2020NC5CHERMN4Z</td>\n",
       "      <td>3LJ7UR74RIGO37V2020NC5CHERMN4Z</td>\n",
       "      <td>334281</td>\n",
       "      <td>334281</td>\n",
       "      <td>GNG_2x0clljk</td>\n",
       "      <td>3LJ7UR74RIGO37V2020NC5CHERMN4Z</td>\n",
       "      <td>A12FTSX85NQ8N9</td>\n",
       "      <td>3OKP4QVBP30V9KW4WXSHA4UVOTJGAU</td>\n",
       "      <td>\"</td>\n",
       "      <td>\"</td>\n",
       "      <td>\"</td>\n",
       "      <td>\"</td>\n",
       "      <td>\"</td>\n",
       "      <td>\"</td>\n",
       "      <td>\"</td>\n",
       "      <td>\"</td>\n",
       "      <td>\"</td>\n",
       "      <td>2021-12-03 14:54:07</td>\n",
       "      <td>199.255.69.217</td>\n",
       "      <td>Mozilla/5.0 (X11; CrOS x86_64 14150.87.0) Appl...</td>\n",
       "      <td>WebKit</td>\n",
       "      <td>Chrome</td>\n",
       "      <td>94.0.4606.124</td>\n",
       "      <td>ChromeOS</td>\n",
       "      <td>14150.87.0</td>\n",
       "      <td>6356fe4a7118019579648d8725187f92</td>\n",
       "    </tr>\n",
       "    <tr>\n",
       "      <th>1</th>\n",
       "      <td>1</td>\n",
       "      <td>1</td>\n",
       "      <td>1511.0</td>\n",
       "      <td>\"</td>\n",
       "      <td>html-button-response</td>\n",
       "      <td>1</td>\n",
       "      <td>7755</td>\n",
       "      <td>0.0-1.0</td>\n",
       "      <td>3OKP4QVBP30V9KW4WXSHA4UVOTJGAU</td>\n",
       "      <td>A12FTSX85NQ8N9</td>\n",
       "      <td>3LJ7UR74RIGO37V2020NC5CHERMN4Z</td>\n",
       "      <td>4UJL1</td>\n",
       "      <td>4UJL1</td>\n",
       "      <td>3LJ7UR74RIGO37V2020NC5CHERMN4Z</td>\n",
       "      <td>3LJ7UR74RIGO37V2020NC5CHERMN4Z</td>\n",
       "      <td>334281</td>\n",
       "      <td>334281</td>\n",
       "      <td>GNG_2x0clljk</td>\n",
       "      <td>3LJ7UR74RIGO37V2020NC5CHERMN4Z</td>\n",
       "      <td>A12FTSX85NQ8N9</td>\n",
       "      <td>3OKP4QVBP30V9KW4WXSHA4UVOTJGAU</td>\n",
       "      <td>&lt;img src='../img/welcome.gif' style='height: 2...</td>\n",
       "      <td>0</td>\n",
       "      <td>first_welcome</td>\n",
       "      <td>\"</td>\n",
       "      <td>\"</td>\n",
       "      <td>\"</td>\n",
       "      <td>\"</td>\n",
       "      <td>\"</td>\n",
       "      <td>\"</td>\n",
       "      <td>2021-12-03 14:54:07</td>\n",
       "      <td>199.255.69.217</td>\n",
       "      <td>Mozilla/5.0 (X11; CrOS x86_64 14150.87.0) Appl...</td>\n",
       "      <td>WebKit</td>\n",
       "      <td>Chrome</td>\n",
       "      <td>94.0.4606.124</td>\n",
       "      <td>ChromeOS</td>\n",
       "      <td>14150.87.0</td>\n",
       "      <td>6356fe4a7118019579648d8725187f92</td>\n",
       "    </tr>\n",
       "    <tr>\n",
       "      <th>2</th>\n",
       "      <td>1</td>\n",
       "      <td>1</td>\n",
       "      <td>3022.8</td>\n",
       "      <td>\"</td>\n",
       "      <td>instructions</td>\n",
       "      <td>2</td>\n",
       "      <td>11280</td>\n",
       "      <td>0.0-2.0</td>\n",
       "      <td>3OKP4QVBP30V9KW4WXSHA4UVOTJGAU</td>\n",
       "      <td>A12FTSX85NQ8N9</td>\n",
       "      <td>3LJ7UR74RIGO37V2020NC5CHERMN4Z</td>\n",
       "      <td>4UJL1</td>\n",
       "      <td>4UJL1</td>\n",
       "      <td>3LJ7UR74RIGO37V2020NC5CHERMN4Z</td>\n",
       "      <td>3LJ7UR74RIGO37V2020NC5CHERMN4Z</td>\n",
       "      <td>334281</td>\n",
       "      <td>334281</td>\n",
       "      <td>GNG_2x0clljk</td>\n",
       "      <td>3LJ7UR74RIGO37V2020NC5CHERMN4Z</td>\n",
       "      <td>A12FTSX85NQ8N9</td>\n",
       "      <td>3OKP4QVBP30V9KW4WXSHA4UVOTJGAU</td>\n",
       "      <td>\"</td>\n",
       "      <td>\"</td>\n",
       "      <td>instructions</td>\n",
       "      <td>[{\"page_index\":0,\"viewing_time\":3022}]</td>\n",
       "      <td>instructions</td>\n",
       "      <td>\"</td>\n",
       "      <td>\"</td>\n",
       "      <td>\"</td>\n",
       "      <td>\"</td>\n",
       "      <td>2021-12-03 14:54:07</td>\n",
       "      <td>199.255.69.217</td>\n",
       "      <td>Mozilla/5.0 (X11; CrOS x86_64 14150.87.0) Appl...</td>\n",
       "      <td>WebKit</td>\n",
       "      <td>Chrome</td>\n",
       "      <td>94.0.4606.124</td>\n",
       "      <td>ChromeOS</td>\n",
       "      <td>14150.87.0</td>\n",
       "      <td>6356fe4a7118019579648d8725187f92</td>\n",
       "    </tr>\n",
       "    <tr>\n",
       "      <th>3</th>\n",
       "      <td>1</td>\n",
       "      <td>1</td>\n",
       "      <td>22060.0</td>\n",
       "      <td>\"</td>\n",
       "      <td>table-completion</td>\n",
       "      <td>3</td>\n",
       "      <td>33874</td>\n",
       "      <td>0.0-3.0</td>\n",
       "      <td>3OKP4QVBP30V9KW4WXSHA4UVOTJGAU</td>\n",
       "      <td>A12FTSX85NQ8N9</td>\n",
       "      <td>3LJ7UR74RIGO37V2020NC5CHERMN4Z</td>\n",
       "      <td>4UJL1</td>\n",
       "      <td>4UJL1</td>\n",
       "      <td>3LJ7UR74RIGO37V2020NC5CHERMN4Z</td>\n",
       "      <td>3LJ7UR74RIGO37V2020NC5CHERMN4Z</td>\n",
       "      <td>334281</td>\n",
       "      <td>334281</td>\n",
       "      <td>GNG_2x0clljk</td>\n",
       "      <td>3LJ7UR74RIGO37V2020NC5CHERMN4Z</td>\n",
       "      <td>A12FTSX85NQ8N9</td>\n",
       "      <td>3OKP4QVBP30V9KW4WXSHA4UVOTJGAU</td>\n",
       "      <td>\"</td>\n",
       "      <td>\"</td>\n",
       "      <td>\"</td>\n",
       "      <td>\"</td>\n",
       "      <td>\"</td>\n",
       "      <td>[]</td>\n",
       "      <td>{\"responses\":{\"1\":{\"name\":\"1. Have you been de...</td>\n",
       "      <td>first-1</td>\n",
       "      <td>true</td>\n",
       "      <td>2021-12-03 14:54:07</td>\n",
       "      <td>199.255.69.217</td>\n",
       "      <td>Mozilla/5.0 (X11; CrOS x86_64 14150.87.0) Appl...</td>\n",
       "      <td>WebKit</td>\n",
       "      <td>Chrome</td>\n",
       "      <td>94.0.4606.124</td>\n",
       "      <td>ChromeOS</td>\n",
       "      <td>14150.87.0</td>\n",
       "      <td>6356fe4a7118019579648d8725187f92</td>\n",
       "    </tr>\n",
       "    <tr>\n",
       "      <th>4</th>\n",
       "      <td>1</td>\n",
       "      <td>1</td>\n",
       "      <td>16421.0</td>\n",
       "      <td>\"</td>\n",
       "      <td>table-completion</td>\n",
       "      <td>4</td>\n",
       "      <td>50803</td>\n",
       "      <td>0.0-4.0</td>\n",
       "      <td>3OKP4QVBP30V9KW4WXSHA4UVOTJGAU</td>\n",
       "      <td>A12FTSX85NQ8N9</td>\n",
       "      <td>3LJ7UR74RIGO37V2020NC5CHERMN4Z</td>\n",
       "      <td>4UJL1</td>\n",
       "      <td>4UJL1</td>\n",
       "      <td>3LJ7UR74RIGO37V2020NC5CHERMN4Z</td>\n",
       "      <td>3LJ7UR74RIGO37V2020NC5CHERMN4Z</td>\n",
       "      <td>334281</td>\n",
       "      <td>334281</td>\n",
       "      <td>GNG_2x0clljk</td>\n",
       "      <td>3LJ7UR74RIGO37V2020NC5CHERMN4Z</td>\n",
       "      <td>A12FTSX85NQ8N9</td>\n",
       "      <td>3OKP4QVBP30V9KW4WXSHA4UVOTJGAU</td>\n",
       "      <td>\"</td>\n",
       "      <td>\"</td>\n",
       "      <td>\"</td>\n",
       "      <td>\"</td>\n",
       "      <td>\"</td>\n",
       "      <td>[]</td>\n",
       "      <td>{\"responses\":{\"7\":{\"name\":\"7. Has thinking abo...</td>\n",
       "      <td>first-2</td>\n",
       "      <td>true</td>\n",
       "      <td>2021-12-03 14:54:07</td>\n",
       "      <td>199.255.69.217</td>\n",
       "      <td>Mozilla/5.0 (X11; CrOS x86_64 14150.87.0) Appl...</td>\n",
       "      <td>WebKit</td>\n",
       "      <td>Chrome</td>\n",
       "      <td>94.0.4606.124</td>\n",
       "      <td>ChromeOS</td>\n",
       "      <td>14150.87.0</td>\n",
       "      <td>6356fe4a7118019579648d8725187f92</td>\n",
       "    </tr>\n",
       "  </tbody>\n",
       "</table>\n",
       "</div>"
      ],
      "text/plain": [
       "   run_id  condition       rt  \\\n",
       "0       1          1   5435.6   \n",
       "1       1          1   1511.0   \n",
       "2       1          1   3022.8   \n",
       "3       1          1  22060.0   \n",
       "4       1          1  16421.0   \n",
       "\n",
       "                                                 url            trial_type  \\\n",
       "0  https://raw.githubusercontent.com/Sepsad/EDE-q...         external-html   \n",
       "1                                                  \"  html-button-response   \n",
       "2                                                  \"          instructions   \n",
       "3                                                  \"      table-completion   \n",
       "4                                                  \"      table-completion   \n",
       "\n",
       "   trial_index  time_elapsed internal_node_id                           hitId  \\\n",
       "0            0          5735          0.0-0.0  3OKP4QVBP30V9KW4WXSHA4UVOTJGAU   \n",
       "1            1          7755          0.0-1.0  3OKP4QVBP30V9KW4WXSHA4UVOTJGAU   \n",
       "2            2         11280          0.0-2.0  3OKP4QVBP30V9KW4WXSHA4UVOTJGAU   \n",
       "3            3         33874          0.0-3.0  3OKP4QVBP30V9KW4WXSHA4UVOTJGAU   \n",
       "4            4         50803          0.0-4.0  3OKP4QVBP30V9KW4WXSHA4UVOTJGAU   \n",
       "\n",
       "         workerId                    assignmentId      a   tp_a  \\\n",
       "0  A12FTSX85NQ8N9  3LJ7UR74RIGO37V2020NC5CHERMN4Z  4UJL1  4UJL1   \n",
       "1  A12FTSX85NQ8N9  3LJ7UR74RIGO37V2020NC5CHERMN4Z  4UJL1  4UJL1   \n",
       "2  A12FTSX85NQ8N9  3LJ7UR74RIGO37V2020NC5CHERMN4Z  4UJL1  4UJL1   \n",
       "3  A12FTSX85NQ8N9  3LJ7UR74RIGO37V2020NC5CHERMN4Z  4UJL1  4UJL1   \n",
       "4  A12FTSX85NQ8N9  3LJ7UR74RIGO37V2020NC5CHERMN4Z  4UJL1  4UJL1   \n",
       "\n",
       "                                b                            tp_b       c  \\\n",
       "0  3LJ7UR74RIGO37V2020NC5CHERMN4Z  3LJ7UR74RIGO37V2020NC5CHERMN4Z  334281   \n",
       "1  3LJ7UR74RIGO37V2020NC5CHERMN4Z  3LJ7UR74RIGO37V2020NC5CHERMN4Z  334281   \n",
       "2  3LJ7UR74RIGO37V2020NC5CHERMN4Z  3LJ7UR74RIGO37V2020NC5CHERMN4Z  334281   \n",
       "3  3LJ7UR74RIGO37V2020NC5CHERMN4Z  3LJ7UR74RIGO37V2020NC5CHERMN4Z  334281   \n",
       "4  3LJ7UR74RIGO37V2020NC5CHERMN4Z  3LJ7UR74RIGO37V2020NC5CHERMN4Z  334281   \n",
       "\n",
       "     tp_c experiment_id                    assignmentID         mturkID  \\\n",
       "0  334281  GNG_2x0clljk  3LJ7UR74RIGO37V2020NC5CHERMN4Z  A12FTSX85NQ8N9   \n",
       "1  334281  GNG_2x0clljk  3LJ7UR74RIGO37V2020NC5CHERMN4Z  A12FTSX85NQ8N9   \n",
       "2  334281  GNG_2x0clljk  3LJ7UR74RIGO37V2020NC5CHERMN4Z  A12FTSX85NQ8N9   \n",
       "3  334281  GNG_2x0clljk  3LJ7UR74RIGO37V2020NC5CHERMN4Z  A12FTSX85NQ8N9   \n",
       "4  334281  GNG_2x0clljk  3LJ7UR74RIGO37V2020NC5CHERMN4Z  A12FTSX85NQ8N9   \n",
       "\n",
       "                            hitID  \\\n",
       "0  3OKP4QVBP30V9KW4WXSHA4UVOTJGAU   \n",
       "1  3OKP4QVBP30V9KW4WXSHA4UVOTJGAU   \n",
       "2  3OKP4QVBP30V9KW4WXSHA4UVOTJGAU   \n",
       "3  3OKP4QVBP30V9KW4WXSHA4UVOTJGAU   \n",
       "4  3OKP4QVBP30V9KW4WXSHA4UVOTJGAU   \n",
       "\n",
       "                                            stimulus response      exp_stage  \\\n",
       "0                                                  \"        \"              \"   \n",
       "1  <img src='../img/welcome.gif' style='height: 2...        0  first_welcome   \n",
       "2                                                  \"        \"   instructions   \n",
       "3                                                  \"        \"              \"   \n",
       "4                                                  \"        \"              \"   \n",
       "\n",
       "                             view_history      exp_part own_rows  \\\n",
       "0                                       \"             \"        \"   \n",
       "1                                       \"             \"        \"   \n",
       "2  [{\"page_index\":0,\"viewing_time\":3022}]  instructions        \"   \n",
       "3                                       \"             \"       []   \n",
       "4                                       \"             \"       []   \n",
       "\n",
       "                                           responses       id single  \\\n",
       "0                                                  \"        \"      \"   \n",
       "1                                                  \"        \"      \"   \n",
       "2                                                  \"        \"      \"   \n",
       "3  {\"responses\":{\"1\":{\"name\":\"1. Have you been de...  first-1   true   \n",
       "4  {\"responses\":{\"7\":{\"name\":\"7. Has thinking abo...  first-2   true   \n",
       "\n",
       "           recorded_at              ip  \\\n",
       "0  2021-12-03 14:54:07  199.255.69.217   \n",
       "1  2021-12-03 14:54:07  199.255.69.217   \n",
       "2  2021-12-03 14:54:07  199.255.69.217   \n",
       "3  2021-12-03 14:54:07  199.255.69.217   \n",
       "4  2021-12-03 14:54:07  199.255.69.217   \n",
       "\n",
       "                                          user_agent  device browser  \\\n",
       "0  Mozilla/5.0 (X11; CrOS x86_64 14150.87.0) Appl...  WebKit  Chrome   \n",
       "1  Mozilla/5.0 (X11; CrOS x86_64 14150.87.0) Appl...  WebKit  Chrome   \n",
       "2  Mozilla/5.0 (X11; CrOS x86_64 14150.87.0) Appl...  WebKit  Chrome   \n",
       "3  Mozilla/5.0 (X11; CrOS x86_64 14150.87.0) Appl...  WebKit  Chrome   \n",
       "4  Mozilla/5.0 (X11; CrOS x86_64 14150.87.0) Appl...  WebKit  Chrome   \n",
       "\n",
       "  browser_version  platform platform_version               source_code_version  \n",
       "0   94.0.4606.124  ChromeOS       14150.87.0  6356fe4a7118019579648d8725187f92  \n",
       "1   94.0.4606.124  ChromeOS       14150.87.0  6356fe4a7118019579648d8725187f92  \n",
       "2   94.0.4606.124  ChromeOS       14150.87.0  6356fe4a7118019579648d8725187f92  \n",
       "3   94.0.4606.124  ChromeOS       14150.87.0  6356fe4a7118019579648d8725187f92  \n",
       "4   94.0.4606.124  ChromeOS       14150.87.0  6356fe4a7118019579648d8725187f92  "
      ]
     },
     "execution_count": 3,
     "metadata": {},
     "output_type": "execute_result"
    }
   ],
   "source": [
    "df.head()"
   ]
  },
  {
   "cell_type": "code",
   "execution_count": 43,
   "metadata": {},
   "outputs": [],
   "source": [
    "questionnaire_raw_data = df\n",
    "# questionnaire_raw_data = questionnaire_raw_data.dropna(axis=0, how='any')\n",
    "\n",
    "questionnaire_respones = questionnaire_raw_data[questionnaire_raw_data.trial_type.isin(['table-completion', 'custom-form'])][['mturkID', 'experiment_id', 'trial_type', 'id', 'responses']]\n"
   ]
  },
  {
   "cell_type": "code",
   "execution_count": 13,
   "metadata": {},
   "outputs": [
    {
     "data": {
      "text/plain": [
       "126"
      ]
     },
     "execution_count": 13,
     "metadata": {},
     "output_type": "execute_result"
    }
   ],
   "source": [
    "len(questionnaire_respones.mturkID.unique())"
   ]
  },
  {
   "cell_type": "code",
   "execution_count": 14,
   "metadata": {},
   "outputs": [],
   "source": [
    "\n",
    "def clean_table_questions(x):\n",
    "    dic = {}\n",
    "    a = json.loads(x)['responses']\n",
    "    for i in a:\n",
    "        dic[i] = a[i]['choices'][0]\n",
    "    return dic\n",
    "\n",
    "def clean_form_questions(x):\n",
    "    dic = {}\n",
    "    for i in json.loads(x):\n",
    "        dic[i['id']] = i['value']\n",
    "    return dic\n",
    "\n",
    "def clean_questions(x,type):\n",
    "    if(type == 'table-completion'):\n",
    "        return clean_table_questions(x)\n",
    "    elif(type == 'custom-form'):\n",
    "        return clean_form_questions(x)\n",
    "    else:\n",
    "        return x"
   ]
  },
  {
   "cell_type": "code",
   "execution_count": 20,
   "metadata": {},
   "outputs": [],
   "source": [
    "questionnaire_respones['clean_responses'] =  questionnaire_respones.apply(lambda x: clean_questions(x['responses'],x['trial_type']), axis=1)\n",
    "questionnaire_respones.clean_responses = questionnaire_respones.clean_responses.apply(lambda x: list(x.items()))\n",
    "a = questionnaire_respones.groupby('mturkID').agg({'clean_responses': 'sum'}).reset_index()\n",
    "a['clean_responses_dict'] = a.clean_responses.apply(lambda x: dict(x))\n"
   ]
  },
  {
   "cell_type": "code",
   "execution_count": 21,
   "metadata": {},
   "outputs": [],
   "source": [
    "df_dict = {}\n",
    "\n",
    "for i in a.iterrows():\n",
    "    df_dict[(i[1]['mturkID'])] = i[1]['clean_responses_dict']\n",
    "questionnaire_clean_data = pd.DataFrame(df_dict).transpose().reset_index()\n",
    "for i in range(0,48):\n",
    "    questionnaire_clean_data[str(i+1)] =(questionnaire_clean_data[str(i+1)].astype(float))"
   ]
  },
  {
   "cell_type": "code",
   "execution_count": 33,
   "metadata": {},
   "outputs": [],
   "source": [
    "questionnaire_clean_data['restraint'] = ((questionnaire_clean_data['1']) + questionnaire_clean_data['2'] + questionnaire_clean_data['3'] + (questionnaire_clean_data['4']) + (questionnaire_clean_data['5']))/5\n",
    "\n",
    "questionnaire_clean_data['eating_concern'] = ((questionnaire_clean_data['7']) + questionnaire_clean_data['9'] + questionnaire_clean_data['20'] + (questionnaire_clean_data['19']) + (questionnaire_clean_data['21']))/5\n",
    "questionnaire_clean_data['weight_concern'] = ((questionnaire_clean_data['22']) + questionnaire_clean_data['24'] + questionnaire_clean_data['8'] + (questionnaire_clean_data['25']) + (questionnaire_clean_data['12']))/5\n",
    "questionnaire_clean_data['shape_concern'] = ((questionnaire_clean_data['6']) + questionnaire_clean_data['8'] + questionnaire_clean_data['23'] + (questionnaire_clean_data['10']) + (questionnaire_clean_data['26']) \\\n",
    "    + questionnaire_clean_data['27'] + questionnaire_clean_data['28'] + questionnaire_clean_data['11'])/8\n",
    "questionnaire_clean_data['global_score'] = (questionnaire_clean_data['restraint'] + questionnaire_clean_data['eating_concern'] + questionnaire_clean_data['weight_concern'] + questionnaire_clean_data['shape_concern'])/4\n",
    "\n",
    "questionnaire_clean_data['height_m'] = questionnaire_clean_data['heightfeet'].astype(float) * 0.3048 + questionnaire_clean_data['heightinch'].astype(float) * 0.0254 \n",
    "questionnaire_clean_data['weight_kg'] = questionnaire_clean_data['weight'].astype(float)*0.453592\n",
    "questionnaire_clean_data['BMI'] = questionnaire_clean_data['weight_kg']/questionnaire_clean_data['height_m']**2\n",
    "\n",
    "questionnaire_clean_data['var_likert'] = questionnaire_clean_data[['1','2','3','4','5', '6', '7', '8','9','10','11','12','19','20','21','22','23','24','25','26','27','28']].std(axis=1)\n",
    "\n",
    "reverse_DC_respones = {1:7,2:6,3:5,7:1,6:2,5:3}\n",
    "\n",
    "questionnaire_clean_data['35'] = questionnaire_clean_data['35'].replace(reverse_DC_respones)\n",
    "questionnaire_clean_data['38'] = questionnaire_clean_data['38'].replace(reverse_DC_respones)\n",
    "questionnaire_clean_data['44'] = questionnaire_clean_data['44'].replace(reverse_DC_respones)\n",
    "questionnaire_clean_data['47'] = questionnaire_clean_data['47'].replace(reverse_DC_respones)\n",
    "questionnaire_clean_data['48'] = questionnaire_clean_data['48'].replace(reverse_DC_respones)\n",
    "\n",
    "\n",
    "\n",
    "a = (np.zeros(questionnaire_clean_data.shape[0]))\n",
    "\n",
    "for i in range(29, 49):\n",
    "    a += questionnaire_clean_data[str(i)]/20 \n",
    "\n",
    "questionnaire_clean_data['desire_to_control'] = a\n"
   ]
  },
  {
   "cell_type": "markdown",
   "metadata": {},
   "source": [
    "# Apply exclusion criteria"
   ]
  },
  {
   "cell_type": "code",
   "execution_count": 34,
   "metadata": {},
   "outputs": [],
   "source": [
    "questionnaire_clean_data = questionnaire_clean_data[questionnaire_clean_data.var_likert != 0]"
   ]
  },
  {
   "cell_type": "markdown",
   "metadata": {},
   "source": [
    "# sanity check"
   ]
  },
  {
   "cell_type": "code",
   "execution_count": 35,
   "metadata": {},
   "outputs": [
    {
     "data": {
      "text/plain": [
       "<AxesSubplot:xlabel='global_score', ylabel='BMI'>"
      ]
     },
     "execution_count": 35,
     "metadata": {},
     "output_type": "execute_result"
    },
    {
     "data": {
      "image/png": "[encoded data removed]",
      "text/plain": [
       "<Figure size 432x288 with 1 Axes>"
      ]
     },
     "metadata": {},
     "output_type": "display_data"
    }
   ],
   "source": [
    "sns.regplot(x='global_score', y='BMI', data=questionnaire_clean_data)"
   ]
  },
  {
   "cell_type": "code",
   "execution_count": 36,
   "metadata": {},
   "outputs": [
    {
     "data": {
      "text/plain": [
       "<AxesSubplot:xlabel='restraint', ylabel='BMI'>"
      ]
     },
     "execution_count": 36,
     "metadata": {},
     "output_type": "execute_result"
    },
    {
     "data": {
      "image/png": "[encoded data removed]",
      "text/plain": [
       "<Figure size 432x288 with 1 Axes>"
      ]
     },
     "metadata": {},
     "output_type": "display_data"
    }
   ],
   "source": [
    "sns.regplot(x='restraint', y='BMI', data=questionnaire_clean_data)"
   ]
  },
  {
   "cell_type": "code",
   "execution_count": 37,
   "metadata": {},
   "outputs": [
    {
     "data": {
      "text/plain": [
       "<AxesSubplot:xlabel='eating_concern', ylabel='BMI'>"
      ]
     },
     "execution_count": 37,
     "metadata": {},
     "output_type": "execute_result"
    },
    {
     "data": {
      "image/png": "[encoded data removed]",
      "text/plain": [
       "<Figure size 432x288 with 1 Axes>"
      ]
     },
     "metadata": {},
     "output_type": "display_data"
    }
   ],
   "source": [
    "sns.regplot(x='eating_concern', y='BMI', data=questionnaire_clean_data)"
   ]
  },
  {
   "cell_type": "code",
   "execution_count": 38,
   "metadata": {},
   "outputs": [
    {
     "data": {
      "text/plain": [
       "<AxesSubplot:xlabel='shape_concern', ylabel='BMI'>"
      ]
     },
     "execution_count": 38,
     "metadata": {},
     "output_type": "execute_result"
    },
    {
     "data": {
      "image/png": "[encoded data removed]",
      "text/plain": [
       "<Figure size 432x288 with 1 Axes>"
      ]
     },
     "metadata": {},
     "output_type": "display_data"
    }
   ],
   "source": [
    "sns.regplot(x='shape_concern', y='BMI', data=questionnaire_clean_data)"
   ]
  },
  {
   "cell_type": "code",
   "execution_count": 39,
   "metadata": {},
   "outputs": [
    {
     "data": {
      "text/plain": [
       "<AxesSubplot:xlabel='weight_concern', ylabel='BMI'>"
      ]
     },
     "execution_count": 39,
     "metadata": {},
     "output_type": "execute_result"
    },
    {
     "data": {
      "image/png": "[encoded data removed]",
      "text/plain": [
       "<Figure size 432x288 with 1 Axes>"
      ]
     },
     "metadata": {},
     "output_type": "display_data"
    }
   ],
   "source": [
    "sns.regplot(x='weight_concern', y='BMI', data=questionnaire_clean_data)"
   ]
  },
  {
   "cell_type": "code",
   "execution_count": 44,
   "metadata": {},
   "outputs": [
    {
     "data": {
      "text/plain": [
       "<AxesSubplot:xlabel='desire_to_control', ylabel='global_score'>"
      ]
     },
     "execution_count": 44,
     "metadata": {},
     "output_type": "execute_result"
    },
    {
     "data": {
      "image/png": "[encoded data removed]",
      "text/plain": [
       "<Figure size 432x288 with 1 Axes>"
      ]
     },
     "metadata": {},
     "output_type": "display_data"
    }
   ],
   "source": [
    "sns.regplot(x='desire_to_control', y='global_score', data=questionnaire_clean_data)"
   ]
  },
  {
   "cell_type": "code",
   "execution_count": 47,
   "metadata": {},
   "outputs": [
    {
     "data": {
      "text/html": [
       "<table class=\"simpletable\">\n",
       "<caption>OLS Regression Results</caption>\n",
       "<tr>\n",
       "  <th>Dep. Variable:</th>    <td>desire_to_control</td> <th>  R-squared:         </th> <td>   0.004</td>\n",
       "</tr>\n",
       "<tr>\n",
       "  <th>Model:</th>                   <td>OLS</td>        <th>  Adj. R-squared:    </th> <td>  -0.009</td>\n",
       "</tr>\n",
       "<tr>\n",
       "  <th>Method:</th>             <td>Least Squares</td>   <th>  F-statistic:       </th> <td>  0.2730</td>\n",
       "</tr>\n",
       "<tr>\n",
       "  <th>Date:</th>             <td>Sat, 12 Feb 2022</td>  <th>  Prob (F-statistic):</th>  <td> 0.603</td> \n",
       "</tr>\n",
       "<tr>\n",
       "  <th>Time:</th>                 <td>22:30:38</td>      <th>  Log-Likelihood:    </th> <td> -63.943</td>\n",
       "</tr>\n",
       "<tr>\n",
       "  <th>No. Observations:</th>      <td>    79</td>       <th>  AIC:               </th> <td>   131.9</td>\n",
       "</tr>\n",
       "<tr>\n",
       "  <th>Df Residuals:</th>          <td>    77</td>       <th>  BIC:               </th> <td>   136.6</td>\n",
       "</tr>\n",
       "<tr>\n",
       "  <th>Df Model:</th>              <td>     1</td>       <th>                     </th>     <td> </td>   \n",
       "</tr>\n",
       "<tr>\n",
       "  <th>Covariance Type:</th>      <td>nonrobust</td>     <th>                     </th>     <td> </td>   \n",
       "</tr>\n",
       "</table>\n",
       "<table class=\"simpletable\">\n",
       "<tr>\n",
       "        <td></td>          <th>coef</th>     <th>std err</th>      <th>t</th>      <th>P>|t|</th>  <th>[0.025</th>    <th>0.975]</th>  \n",
       "</tr>\n",
       "<tr>\n",
       "  <th>Intercept</th>    <td>    4.6337</td> <td>    0.108</td> <td>   43.035</td> <td> 0.000</td> <td>    4.419</td> <td>    4.848</td>\n",
       "</tr>\n",
       "<tr>\n",
       "  <th>global_score</th> <td>    0.0299</td> <td>    0.057</td> <td>    0.523</td> <td> 0.603</td> <td>   -0.084</td> <td>    0.144</td>\n",
       "</tr>\n",
       "</table>\n",
       "<table class=\"simpletable\">\n",
       "<tr>\n",
       "  <th>Omnibus:</th>       <td>14.815</td> <th>  Durbin-Watson:     </th> <td>   2.037</td>\n",
       "</tr>\n",
       "<tr>\n",
       "  <th>Prob(Omnibus):</th> <td> 0.001</td> <th>  Jarque-Bera (JB):  </th> <td>  18.567</td>\n",
       "</tr>\n",
       "<tr>\n",
       "  <th>Skew:</th>          <td>-0.863</td> <th>  Prob(JB):          </th> <td>9.29e-05</td>\n",
       "</tr>\n",
       "<tr>\n",
       "  <th>Kurtosis:</th>      <td> 4.632</td> <th>  Cond. No.          </th> <td>    3.94</td>\n",
       "</tr>\n",
       "</table><br/><br/>Warnings:<br/>[1] Standard Errors assume that the covariance matrix of the errors is correctly specified."
      ],
      "text/plain": [
       "<class 'statsmodels.iolib.summary.Summary'>\n",
       "\"\"\"\n",
       "                            OLS Regression Results                            \n",
       "==============================================================================\n",
       "Dep. Variable:      desire_to_control   R-squared:                       0.004\n",
       "Model:                            OLS   Adj. R-squared:                 -0.009\n",
       "Method:                 Least Squares   F-statistic:                    0.2730\n",
       "Date:                Sat, 12 Feb 2022   Prob (F-statistic):              0.603\n",
       "Time:                        22:30:38   Log-Likelihood:                -63.943\n",
       "No. Observations:                  79   AIC:                             131.9\n",
       "Df Residuals:                      77   BIC:                             136.6\n",
       "Df Model:                           1                                         \n",
       "Covariance Type:            nonrobust                                         \n",
       "================================================================================\n",
       "                   coef    std err          t      P>|t|      [0.025      0.975]\n",
       "--------------------------------------------------------------------------------\n",
       "Intercept        4.6337      0.108     43.035      0.000       4.419       4.848\n",
       "global_score     0.0299      0.057      0.523      0.603      -0.084       0.144\n",
       "==============================================================================\n",
       "Omnibus:                       14.815   Durbin-Watson:                   2.037\n",
       "Prob(Omnibus):                  0.001   Jarque-Bera (JB):               18.567\n",
       "Skew:                          -0.863   Prob(JB):                     9.29e-05\n",
       "Kurtosis:                       4.632   Cond. No.                         3.94\n",
       "==============================================================================\n",
       "\n",
       "Warnings:\n",
       "[1] Standard Errors assume that the covariance matrix of the errors is correctly specified.\n",
       "\"\"\""
      ]
     },
     "execution_count": 47,
     "metadata": {},
     "output_type": "execute_result"
    }
   ],
   "source": [
    "import statsmodels.formula.api as smf\n",
    "smf.ols(\"desire_to_control ~ global_score\",  data=questionnaire_clean_data).fit().summary()"
   ]
  },
  {
   "cell_type": "code",
   "execution_count": 41,
   "metadata": {},
   "outputs": [],
   "source": [
    "questionnaire_clean_data.to_csv('./Data/cleaned_questionnaire_data.csv')"
   ]
  }
 ],
 "metadata": {
  "interpreter": {
   "hash": "b0fa6594d8f4cbf19f97940f81e996739fb7646882a419484c72d19e05852a7e"
  },
  "kernelspec": {
   "display_name": "Python 3.9.6 64-bit",
   "language": "python",
   "name": "python3"
  },
  "language_info": {
   "codemirror_mode": {
    "name": "ipython",
    "version": 3
   },
   "file_extension": ".py",
   "mimetype": "text/x-python",
   "name": "python",
   "nbconvert_exporter": "python",
   "pygments_lexer": "ipython3",
   "version": "3.9.10"
  },
  "orig_nbformat": 4
 },
 "nbformat": 4,
 "nbformat_minor": 2
}
