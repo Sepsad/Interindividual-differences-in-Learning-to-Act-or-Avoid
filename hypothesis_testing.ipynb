{
 "cells": [
  {
   "cell_type": "markdown",
   "metadata": {},
   "source": [
    "# Interindividual difference in learning act or avoid Analysis"
   ]
  },
  {
   "cell_type": "markdown",
   "metadata": {},
   "source": [
    "# Table of content\n",
    "* [Install packages](#install)\n",
    "* [Preparing Data](#Data_prepare)\n",
    "* [First Hyphothesis](#first_hyp)\n",
    "    * [No Go to Win Conditions](#Nogo2win)\n",
    "    * [No Go to Avoid Punishment Conditions](#Nogo2avoid)\n",
    "    * [First and second session compare](#first_second_compare)\n",
    "    * [NoGo to Win and NoGo to avoid punishment relationship](#rel_nogo)\n",
    "    * --\n",
    "\n",
    "* [Second Hypothesis](#second_hyp)\n",
    "    * [EDE index vs. Nogo2win performance](#EDE_nogo2win)\n",
    "        * [EDE index vs. mean of Nogo2win](#EDE_mean_nogo2win)\n",
    "        * [EDE index vs. first session Nogo2win](#EDE_first_nogo2win)\n",
    "        * [EDE index vs. first session Go2win - Nogo2win](#EDE_first_rel_nogo2win)\n",
    "        * [EDE index vs. second session NoGo2win](#EDE_second_nogo2win)\n",
    "        \n",
    "\n",
    "    * [EDE index vs. Nogo2AvoidPunishment performance](#EDE_nogo2avoid)\n",
    "        * [EDE index vs. mean of Nogo2avoid performance](#EDE_mean_nogo2avoid)\n",
    "        * [EDE index vs. first session Nogo2avoid performance](#EDE_first_nogo2avoid)\n",
    "        \n",
    "\n",
    "* [Gender analysis](#gender)\n",
    "    * [Eating disorder index vs. gender](#EDE_gender)\n",
    "    * [Eating disorder index vs. nogo2win performance](#EDE_gender_performance)\n",
    "    * [Nogo2win performance vs. Eating disorder index (Colorize by gender)](#EDE_nogo2win_gender)\n",
    "* [Age vs. nogo2win performance](#age_nogo2win)\n",
    "* [BMI vs. nogo2win performance](#bmi_nogo2win)\n",
    "* [Other Questionnaire index vs. nogo2win performance](#Quind_nogo2win)\n",
    "    * [Restraint vs. nogo2win performance](#restraint_nogo2win)\n",
    "    * [Eating concern vs. nogo2win performance](#eating_concern_nogo2win)\n",
    "    * [Weight concern vs. nogo2win performance](#weight_concern_nogo2win)\n",
    "    * [Shape concern vs. nogo2win performance](#shape_concern_nogo2win) \n",
    "    \n",
    "* [Pet Analysis](#pet)\n",
    "    * [Has pet vs. Nogo2win performance](#haspet_ng2win)\n",
    "    * [pet number vs. Nogo2win performance](#petnumber_ng2win)\n",
    "    * [pet type vs. Nogo2win performance](#pettype_ng2win)\n",
    "\n",
    "* [EDE index vs. BMI](#EDE_bmi)\n",
    "* [Eating disorder prediction (Ridge regression)](#prediction)\n",
    "\n",
    "\n",
    "\n",
    "        "
   ]
  },
  {
   "cell_type": "markdown",
   "metadata": {},
   "source": [
    "<a id=\"install\"></a>\n",
    "# Install Packages"
   ]
  },
  {
   "cell_type": "code",
   "execution_count": 78,
   "metadata": {},
   "outputs": [],
   "source": [
    "import matplotlib.pyplot as plt\n",
    "import pandas as pd\n",
    "pd.set_option(\"display.max_columns\", None)\n",
    "pd.set_option(\"display.max_rows\", 150)\n",
    "import seaborn as sns\n",
    "sns.set_theme(color_codes=True)\n",
    "from scipy import stats\n",
    "import statsmodels.api as sm\n",
    "import statsmodels.formula.api as smf\n",
    "import numpy as np\n",
    "import json"
   ]
  },
  {
   "cell_type": "code",
   "execution_count": 79,
   "metadata": {},
   "outputs": [],
   "source": [
    "import warnings\n",
    "from statsmodels.tools.sm_exceptions import ConvergenceWarning\n",
    "warnings.simplefilter('ignore', ConvergenceWarning)"
   ]
  },
  {
   "cell_type": "markdown",
   "metadata": {},
   "source": [
    "<a id=\"Data_prepare\"></a>\n",
    "# Preparing Data"
   ]
  },
  {
   "cell_type": "code",
   "execution_count": 80,
   "metadata": {},
   "outputs": [],
   "source": [
    "first_round_perfornance = pd.read_csv('Data/first_round_final_performance.csv',index_col= 0)\n",
    "# first_round_perfornance.columns = ['mturkID', 'first_go2avoidPun', 'first_go2win', 'first_nogo2avoidPun', 'first_nogo2win']\n",
    "second_round_perfornance = pd.read_csv('Data/second_round_final_performance.csv',index_col= 0)\n",
    "# second_round_perfornance.columns = ['mturkID', 'second_go2avoidPun', 'second_go2win', 'second_nogo2avoidPun', 'second_nogo2win']\n"
   ]
  },
  {
   "cell_type": "code",
   "execution_count": 81,
   "metadata": {},
   "outputs": [],
   "source": [
    "all_performance = pd.merge(second_round_perfornance, first_round_perfornance, on = 'mturkID', how = 'left')\n",
    "all_performance.gender_second_session = all_performance.gender_second_session.map({'female':'female','other':'female','male':'male'})\n",
    "all_performance.gender_first_session = all_performance.gender_first_session.map({'female':'female','other':'female','male':'male'})\n",
    "all_performance = all_performance.drop_duplicates()"
   ]
  },
  {
   "cell_type": "code",
   "execution_count": 82,
   "metadata": {},
   "outputs": [],
   "source": [
    "all_performance['first_rel_nogo2win'] = all_performance['go2win_first_session'] - all_performance['nogo2win_first_session'] \n",
    "all_performance['second_rel_nogo2win'] = all_performance['go2win_second_session'] - all_performance['nogo2win_second_session'] \n",
    "\n",
    "all_performance['first_rel_nogo2avoidPun'] = all_performance['go2win_first_session'] - all_performance['nogo2avoidPun_first_session']\n",
    "all_performance['second_rel_nogo2avoidPun'] = all_performance['go2win_second_session'] - all_performance['nogo2avoidPun_second_session'] \n"
   ]
  },
  {
   "cell_type": "code",
   "execution_count": 83,
   "metadata": {},
   "outputs": [],
   "source": [
    "Questionnare_data = pd.read_csv('Data/cleaned_questionnaire_data.csv', index_col= 0)\n",
    "Questionnare_data.columns = ['mturkID', '1', '2', '3', '4', '5', '6', '7', '8', '9', '10', '11', '12',\n",
    "       '13', '14', '15', '16', '17', '18', '19', '20', '21', '22', '23', '24',\n",
    "       '25', '26', '27', '28', 'weight', 'heightfeet', 'heightinch', 'pet-1',\n",
    "       'pet-type', 'pet-number', 'pet-timeperiod', 'pet-0']\n",
    "\n",
    "Questionnare_data['has_pet'] = np.logical_not(Questionnare_data['pet-0'] == 'no') + (Questionnare_data['pet-1'] == 'yes') \n",
    "\n",
    "Questionnare_data['restraint'] = ((Questionnare_data['1']) + Questionnare_data['2'] + Questionnare_data['3'] + (Questionnare_data['4']) + (Questionnare_data['5']))/5\n",
    "Questionnare_data['eating_concern'] = ((Questionnare_data['7']) + Questionnare_data['9'] + Questionnare_data['20'] + (Questionnare_data['19']) + (Questionnare_data['21']))/5\n",
    "Questionnare_data['weight_concern'] = ((Questionnare_data['22']) + Questionnare_data['24'] + Questionnare_data['8'] + (Questionnare_data['25']) + (Questionnare_data['12']))/5\n",
    "Questionnare_data['shape_concern'] = ((Questionnare_data['6']) + Questionnare_data['8'] + Questionnare_data['23'] + (Questionnare_data['10']) + (Questionnare_data['26']) \\\n",
    "    + Questionnare_data['27'] + Questionnare_data['28'] + Questionnare_data['11'])/8\n",
    "\n",
    "Questionnare_data['data_quality'] = Questionnare_data['1'] + Questionnare_data['2'] + Questionnare_data['3'] + Questionnare_data['4'] + Questionnare_data['5'] + Questionnare_data['6'] + Questionnare_data['7'] + Questionnare_data['8'] + Questionnare_data['9'] + Questionnare_data['10'] + Questionnare_data['11'] + Questionnare_data['12'] + Questionnare_data['13'] + Questionnare_data['14'] + Questionnare_data['15'] + Questionnare_data['16'] + Questionnare_data['17'] + Questionnare_data['18'] + Questionnare_data['19'] + Questionnare_data['20'] + Questionnare_data['21'] + Questionnare_data['22'] + Questionnare_data['23'] + Questionnare_data['24'] + Questionnare_data['25'] + Questionnare_data['26'] + Questionnare_data['27'] + Questionnare_data['28'] \n",
    "\n",
    "Questionnare_data['global_score'] = (Questionnare_data['restraint'] + Questionnare_data['eating_concern'] + Questionnare_data['weight_concern'] + Questionnare_data['shape_concern'])/4\n",
    "\n",
    "Questionnare_data['height_m'] = Questionnare_data['heightfeet'] * 0.3048 + Questionnare_data['heightinch'] * 0.0254 \n",
    "Questionnare_data['weight_kg'] = Questionnare_data['weight']*0.453592\n",
    "Questionnare_data['BMI'] = Questionnare_data['weight_kg']/Questionnare_data['height_m']**2\n",
    "\n",
    "perf_questionnaire_data = pd.merge(Questionnare_data, all_performance, on='mturkID' )\n",
    "perf_questionnaire_data['nogo2win_mean_performance'] = (perf_questionnaire_data['nogo2win_first_session'] + perf_questionnaire_data['nogo2win_second_session'])/2\n",
    "perf_questionnaire_data['nogo2avoidPun_mean_performance'] = (perf_questionnaire_data['nogo2avoidPun_first_session'] + perf_questionnaire_data['nogo2avoidPun_second_session'])/2\n",
    "\n",
    "\n",
    "\n",
    "perf_questionnaire_data[\"pet-type\"] = perf_questionnaire_data[\"pet-type\"].map(lambda x: x if type(x)!=str else x.lower())"
   ]
  },
  {
   "cell_type": "markdown",
   "metadata": {},
   "source": [
    "<a id=\"first_hyp\"></a>\n",
    "# First Hypothesis\n",
    "1. Our first hypothesis is that Pavlovian bias in learning is a stable, trait-like characteristic of human agents. "
   ]
  },
  {
   "cell_type": "markdown",
   "metadata": {},
   "source": [
    "<a id=\"Nogo2win\"></a>\n",
    "## No Go to Win Conditions"
   ]
  },
  {
   "cell_type": "markdown",
   "metadata": {},
   "source": [
    "### Absolute performance"
   ]
  },
  {
   "cell_type": "code",
   "execution_count": 84,
   "metadata": {},
   "outputs": [
    {
     "name": "stdout",
     "output_type": "stream",
     "text": [
      "correlation between relative first and second round:  0.3765645776592518\n",
      "p-value:  0.015236990672853798\n"
     ]
    }
   ],
   "source": [
    "test_res = stats.pearsonr(all_performance.nogo2win_first_session, all_performance.nogo2win_second_session)\n",
    "print('correlation between relative first and second round: ', test_res[0])\n",
    "print('p-value: ', test_res[1])\n"
   ]
  },
  {
   "cell_type": "code",
   "execution_count": 85,
   "metadata": {},
   "outputs": [
    {
     "data": {
      "text/plain": [
       "<AxesSubplot:xlabel='nogo2win_first_session', ylabel='nogo2win_second_session'>"
      ]
     },
     "execution_count": 85,
     "metadata": {},
     "output_type": "execute_result"
    },
    {
     "data": {
      "image/png": "[encoded data removed]",
      "text/plain": [
       "<Figure size 432x288 with 1 Axes>"
      ]
     },
     "metadata": {},
     "output_type": "display_data"
    }
   ],
   "source": [
    "sns.regplot(x = all_performance.nogo2win_first_session, y = all_performance.nogo2win_second_session)"
   ]
  },
  {
   "cell_type": "code",
   "execution_count": 86,
   "metadata": {},
   "outputs": [
    {
     "data": {
      "text/html": [
       "<table class=\"simpletable\">\n",
       "<caption>OLS Regression Results</caption>\n",
       "<tr>\n",
       "  <th>Dep. Variable:</th>    <td>nogo2win_second_session</td> <th>  R-squared:         </th> <td>   0.142</td>\n",
       "</tr>\n",
       "<tr>\n",
       "  <th>Model:</th>                      <td>OLS</td>           <th>  Adj. R-squared:    </th> <td>   0.120</td>\n",
       "</tr>\n",
       "<tr>\n",
       "  <th>Method:</th>                <td>Least Squares</td>      <th>  F-statistic:       </th> <td>   6.444</td>\n",
       "</tr>\n",
       "<tr>\n",
       "  <th>Date:</th>                <td>Wed, 22 Dec 2021</td>     <th>  Prob (F-statistic):</th>  <td>0.0152</td> \n",
       "</tr>\n",
       "<tr>\n",
       "  <th>Time:</th>                    <td>17:53:15</td>         <th>  Log-Likelihood:    </th> <td> -10.150</td>\n",
       "</tr>\n",
       "<tr>\n",
       "  <th>No. Observations:</th>         <td>    41</td>          <th>  AIC:               </th> <td>   24.30</td>\n",
       "</tr>\n",
       "<tr>\n",
       "  <th>Df Residuals:</th>             <td>    39</td>          <th>  BIC:               </th> <td>   27.73</td>\n",
       "</tr>\n",
       "<tr>\n",
       "  <th>Df Model:</th>                 <td>     1</td>          <th>                     </th>     <td> </td>   \n",
       "</tr>\n",
       "<tr>\n",
       "  <th>Covariance Type:</th>         <td>nonrobust</td>        <th>                     </th>     <td> </td>   \n",
       "</tr>\n",
       "</table>\n",
       "<table class=\"simpletable\">\n",
       "<tr>\n",
       "             <td></td>               <th>coef</th>     <th>std err</th>      <th>t</th>      <th>P>|t|</th>  <th>[0.025</th>    <th>0.975]</th>  \n",
       "</tr>\n",
       "<tr>\n",
       "  <th>Intercept</th>              <td>    0.4601</td> <td>    0.086</td> <td>    5.369</td> <td> 0.000</td> <td>    0.287</td> <td>    0.633</td>\n",
       "</tr>\n",
       "<tr>\n",
       "  <th>nogo2win_first_session</th> <td>    0.3529</td> <td>    0.139</td> <td>    2.539</td> <td> 0.015</td> <td>    0.072</td> <td>    0.634</td>\n",
       "</tr>\n",
       "</table>\n",
       "<table class=\"simpletable\">\n",
       "<tr>\n",
       "  <th>Omnibus:</th>       <td> 5.858</td> <th>  Durbin-Watson:     </th> <td>   1.606</td>\n",
       "</tr>\n",
       "<tr>\n",
       "  <th>Prob(Omnibus):</th> <td> 0.053</td> <th>  Jarque-Bera (JB):  </th> <td>   5.478</td>\n",
       "</tr>\n",
       "<tr>\n",
       "  <th>Skew:</th>          <td>-0.894</td> <th>  Prob(JB):          </th> <td>  0.0647</td>\n",
       "</tr>\n",
       "<tr>\n",
       "  <th>Kurtosis:</th>      <td> 2.909</td> <th>  Cond. No.          </th> <td>    3.59</td>\n",
       "</tr>\n",
       "</table><br/><br/>Warnings:<br/>[1] Standard Errors assume that the covariance matrix of the errors is correctly specified."
      ],
      "text/plain": [
       "<class 'statsmodels.iolib.summary.Summary'>\n",
       "\"\"\"\n",
       "                               OLS Regression Results                              \n",
       "===================================================================================\n",
       "Dep. Variable:     nogo2win_second_session   R-squared:                       0.142\n",
       "Model:                                 OLS   Adj. R-squared:                  0.120\n",
       "Method:                      Least Squares   F-statistic:                     6.444\n",
       "Date:                     Wed, 22 Dec 2021   Prob (F-statistic):             0.0152\n",
       "Time:                             17:53:15   Log-Likelihood:                -10.150\n",
       "No. Observations:                       41   AIC:                             24.30\n",
       "Df Residuals:                           39   BIC:                             27.73\n",
       "Df Model:                                1                                         \n",
       "Covariance Type:                 nonrobust                                         \n",
       "==========================================================================================\n",
       "                             coef    std err          t      P>|t|      [0.025      0.975]\n",
       "------------------------------------------------------------------------------------------\n",
       "Intercept                  0.4601      0.086      5.369      0.000       0.287       0.633\n",
       "nogo2win_first_session     0.3529      0.139      2.539      0.015       0.072       0.634\n",
       "==============================================================================\n",
       "Omnibus:                        5.858   Durbin-Watson:                   1.606\n",
       "Prob(Omnibus):                  0.053   Jarque-Bera (JB):                5.478\n",
       "Skew:                          -0.894   Prob(JB):                       0.0647\n",
       "Kurtosis:                       2.909   Cond. No.                         3.59\n",
       "==============================================================================\n",
       "\n",
       "Warnings:\n",
       "[1] Standard Errors assume that the covariance matrix of the errors is correctly specified.\n",
       "\"\"\""
      ]
     },
     "execution_count": 86,
     "metadata": {},
     "output_type": "execute_result"
    }
   ],
   "source": [
    "smf.ols(formula = 'nogo2win_second_session ~ nogo2win_first_session', data = all_performance).fit().summary()"
   ]
  },
  {
   "cell_type": "markdown",
   "metadata": {},
   "source": [
    "### Relative performace "
   ]
  },
  {
   "cell_type": "code",
   "execution_count": 87,
   "metadata": {},
   "outputs": [
    {
     "name": "stdout",
     "output_type": "stream",
     "text": [
      "correlation between first and second round actual performance:  0.3257279745282606\n",
      "p-value:  0.037688065963665744\n"
     ]
    }
   ],
   "source": [
    "test_res = stats.pearsonr(all_performance.first_rel_nogo2win, all_performance.second_rel_nogo2win)\n",
    "print('correlation between first and second round actual performance: ', test_res[0])\n",
    "print('p-value: ', test_res[1])"
   ]
  },
  {
   "cell_type": "code",
   "execution_count": 88,
   "metadata": {},
   "outputs": [
    {
     "data": {
      "text/plain": [
       "<AxesSubplot:xlabel='first_rel_nogo2win', ylabel='second_rel_nogo2win'>"
      ]
     },
     "execution_count": 88,
     "metadata": {},
     "output_type": "execute_result"
    },
    {
     "data": {
      "image/png": "[encoded data removed]",
      "text/plain": [
       "<Figure size 432x288 with 1 Axes>"
      ]
     },
     "metadata": {},
     "output_type": "display_data"
    }
   ],
   "source": [
    "sns.regplot(x = all_performance.first_rel_nogo2win, y = all_performance.second_rel_nogo2win)"
   ]
  },
  {
   "cell_type": "code",
   "execution_count": 89,
   "metadata": {},
   "outputs": [
    {
     "name": "stdout",
     "output_type": "stream",
     "text": [
      "                    Robust linear Model Regression Results                    \n",
      "==============================================================================\n",
      "Dep. Variable:                      y   No. Observations:                   41\n",
      "Model:                            RLM   Df Residuals:                       39\n",
      "Method:                          IRLS   Df Model:                            1\n",
      "Norm:                          HuberT                                         \n",
      "Scale Est.:                       mad                                         \n",
      "Cov Type:                          H1                                         \n",
      "Date:                Wed, 22 Dec 2021                                         \n",
      "Time:                        17:53:15                                         \n",
      "No. Iterations:                    16                                         \n",
      "==============================================================================\n",
      "                 coef    std err          z      P>|z|      [0.025      0.975]\n",
      "------------------------------------------------------------------------------\n",
      "var_0          0.2639      0.086      3.061      0.002       0.095       0.433\n",
      "var_1          0.4489      0.210      2.133      0.033       0.036       0.861\n",
      "==============================================================================\n",
      "\n",
      "If the model instance has been used for another fit with different fit\n",
      "parameters, then the fit options might not be the correct ones anymore .\n"
     ]
    },
    {
     "name": "stderr",
     "output_type": "stream",
     "text": [
      "/opt/homebrew/lib/python3.9/site-packages/statsmodels/tsa/tsatools.py:117: FutureWarning: In a future version of pandas all arguments of concat except for the argument 'objs' will be keyword-only\n",
      "  x = pd.concat(x[::order], 1)\n"
     ]
    }
   ],
   "source": [
    "huber_t = sm.RLM(all_performance.first_rel_nogo2win, sm.add_constant(all_performance.second_rel_nogo2win), M=sm.robust.norms.HuberT())\n",
    "hub_results = huber_t.fit()\n",
    "print(\n",
    "    hub_results.summary(\n",
    "        yname=\"y\", xname=[\"var_%d\" % i for i in range(len(hub_results.params))]\n",
    "    )\n",
    ")"
   ]
  },
  {
   "cell_type": "markdown",
   "metadata": {},
   "source": [
    "<a id=\"Nogo2avoid\"></a>\n",
    "## No Go to Avoid Punishment Conditions"
   ]
  },
  {
   "cell_type": "markdown",
   "metadata": {},
   "source": [
    "### Absolute performance"
   ]
  },
  {
   "cell_type": "code",
   "execution_count": 90,
   "metadata": {},
   "outputs": [
    {
     "data": {
      "text/plain": [
       "<AxesSubplot:xlabel='nogo2avoidPun_first_session', ylabel='nogo2avoidPun_second_session'>"
      ]
     },
     "execution_count": 90,
     "metadata": {},
     "output_type": "execute_result"
    },
    {
     "data": {
      "image/png": "[encoded data removed]",
      "text/plain": [
       "<Figure size 432x288 with 1 Axes>"
      ]
     },
     "metadata": {},
     "output_type": "display_data"
    }
   ],
   "source": [
    "sns.regplot(x = all_performance.nogo2avoidPun_first_session, y = all_performance.nogo2avoidPun_second_session)"
   ]
  },
  {
   "cell_type": "code",
   "execution_count": 91,
   "metadata": {},
   "outputs": [
    {
     "data": {
      "text/html": [
       "<table class=\"simpletable\">\n",
       "<caption>OLS Regression Results</caption>\n",
       "<tr>\n",
       "  <th>Dep. Variable:</th>    <td>nogo2avoidPun_first_session</td> <th>  R-squared:         </th> <td>   0.305</td>\n",
       "</tr>\n",
       "<tr>\n",
       "  <th>Model:</th>                        <td>OLS</td>             <th>  Adj. R-squared:    </th> <td>   0.287</td>\n",
       "</tr>\n",
       "<tr>\n",
       "  <th>Method:</th>                  <td>Least Squares</td>        <th>  F-statistic:       </th> <td>   17.09</td>\n",
       "</tr>\n",
       "<tr>\n",
       "  <th>Date:</th>                  <td>Wed, 22 Dec 2021</td>       <th>  Prob (F-statistic):</th> <td>0.000183</td>\n",
       "</tr>\n",
       "<tr>\n",
       "  <th>Time:</th>                      <td>17:53:15</td>           <th>  Log-Likelihood:    </th> <td>  25.404</td>\n",
       "</tr>\n",
       "<tr>\n",
       "  <th>No. Observations:</th>           <td>    41</td>            <th>  AIC:               </th> <td>  -46.81</td>\n",
       "</tr>\n",
       "<tr>\n",
       "  <th>Df Residuals:</th>               <td>    39</td>            <th>  BIC:               </th> <td>  -43.38</td>\n",
       "</tr>\n",
       "<tr>\n",
       "  <th>Df Model:</th>                   <td>     1</td>            <th>                     </th>     <td> </td>   \n",
       "</tr>\n",
       "<tr>\n",
       "  <th>Covariance Type:</th>           <td>nonrobust</td>          <th>                     </th>     <td> </td>   \n",
       "</tr>\n",
       "</table>\n",
       "<table class=\"simpletable\">\n",
       "<tr>\n",
       "                <td></td>                  <th>coef</th>     <th>std err</th>      <th>t</th>      <th>P>|t|</th>  <th>[0.025</th>    <th>0.975]</th>  \n",
       "</tr>\n",
       "<tr>\n",
       "  <th>Intercept</th>                    <td>    0.2074</td> <td>    0.136</td> <td>    1.520</td> <td> 0.137</td> <td>   -0.069</td> <td>    0.483</td>\n",
       "</tr>\n",
       "<tr>\n",
       "  <th>nogo2avoidPun_second_session</th> <td>    0.6724</td> <td>    0.163</td> <td>    4.134</td> <td> 0.000</td> <td>    0.343</td> <td>    1.001</td>\n",
       "</tr>\n",
       "</table>\n",
       "<table class=\"simpletable\">\n",
       "<tr>\n",
       "  <th>Omnibus:</th>       <td>22.201</td> <th>  Durbin-Watson:     </th> <td>   2.380</td>\n",
       "</tr>\n",
       "<tr>\n",
       "  <th>Prob(Omnibus):</th> <td> 0.000</td> <th>  Jarque-Bera (JB):  </th> <td>  31.742</td>\n",
       "</tr>\n",
       "<tr>\n",
       "  <th>Skew:</th>          <td>-1.677</td> <th>  Prob(JB):          </th> <td>1.28e-07</td>\n",
       "</tr>\n",
       "<tr>\n",
       "  <th>Kurtosis:</th>      <td> 5.708</td> <th>  Cond. No.          </th> <td>    13.2</td>\n",
       "</tr>\n",
       "</table><br/><br/>Warnings:<br/>[1] Standard Errors assume that the covariance matrix of the errors is correctly specified."
      ],
      "text/plain": [
       "<class 'statsmodels.iolib.summary.Summary'>\n",
       "\"\"\"\n",
       "                                 OLS Regression Results                                \n",
       "=======================================================================================\n",
       "Dep. Variable:     nogo2avoidPun_first_session   R-squared:                       0.305\n",
       "Model:                                     OLS   Adj. R-squared:                  0.287\n",
       "Method:                          Least Squares   F-statistic:                     17.09\n",
       "Date:                         Wed, 22 Dec 2021   Prob (F-statistic):           0.000183\n",
       "Time:                                 17:53:15   Log-Likelihood:                 25.404\n",
       "No. Observations:                           41   AIC:                            -46.81\n",
       "Df Residuals:                               39   BIC:                            -43.38\n",
       "Df Model:                                    1                                         \n",
       "Covariance Type:                     nonrobust                                         \n",
       "================================================================================================\n",
       "                                   coef    std err          t      P>|t|      [0.025      0.975]\n",
       "------------------------------------------------------------------------------------------------\n",
       "Intercept                        0.2074      0.136      1.520      0.137      -0.069       0.483\n",
       "nogo2avoidPun_second_session     0.6724      0.163      4.134      0.000       0.343       1.001\n",
       "==============================================================================\n",
       "Omnibus:                       22.201   Durbin-Watson:                   2.380\n",
       "Prob(Omnibus):                  0.000   Jarque-Bera (JB):               31.742\n",
       "Skew:                          -1.677   Prob(JB):                     1.28e-07\n",
       "Kurtosis:                       5.708   Cond. No.                         13.2\n",
       "==============================================================================\n",
       "\n",
       "Warnings:\n",
       "[1] Standard Errors assume that the covariance matrix of the errors is correctly specified.\n",
       "\"\"\""
      ]
     },
     "execution_count": 91,
     "metadata": {},
     "output_type": "execute_result"
    }
   ],
   "source": [
    "smf.ols(formula = 'nogo2avoidPun_first_session ~ nogo2avoidPun_second_session', data = all_performance).fit().summary()"
   ]
  },
  {
   "cell_type": "markdown",
   "metadata": {},
   "source": [
    "### Relative performance"
   ]
  },
  {
   "cell_type": "code",
   "execution_count": 92,
   "metadata": {},
   "outputs": [
    {
     "data": {
      "text/plain": [
       "<AxesSubplot:xlabel='first_rel_nogo2avoidPun', ylabel='second_rel_nogo2avoidPun'>"
      ]
     },
     "execution_count": 92,
     "metadata": {},
     "output_type": "execute_result"
    },
    {
     "data": {
      "image/png": "[encoded data removed]",
      "text/plain": [
       "<Figure size 432x288 with 1 Axes>"
      ]
     },
     "metadata": {},
     "output_type": "display_data"
    }
   ],
   "source": [
    "sns.regplot(x = all_performance.first_rel_nogo2avoidPun, y = all_performance.second_rel_nogo2avoidPun)"
   ]
  },
  {
   "cell_type": "code",
   "execution_count": 93,
   "metadata": {},
   "outputs": [
    {
     "data": {
      "text/html": [
       "<table class=\"simpletable\">\n",
       "<caption>OLS Regression Results</caption>\n",
       "<tr>\n",
       "  <th>Dep. Variable:</th>    <td>first_rel_nogo2avoidPun</td> <th>  R-squared:         </th> <td>   0.002</td>\n",
       "</tr>\n",
       "<tr>\n",
       "  <th>Model:</th>                      <td>OLS</td>           <th>  Adj. R-squared:    </th> <td>  -0.024</td>\n",
       "</tr>\n",
       "<tr>\n",
       "  <th>Method:</th>                <td>Least Squares</td>      <th>  F-statistic:       </th> <td> 0.06844</td>\n",
       "</tr>\n",
       "<tr>\n",
       "  <th>Date:</th>                <td>Wed, 22 Dec 2021</td>     <th>  Prob (F-statistic):</th>  <td> 0.795</td> \n",
       "</tr>\n",
       "<tr>\n",
       "  <th>Time:</th>                    <td>17:53:16</td>         <th>  Log-Likelihood:    </th> <td>  2.4468</td>\n",
       "</tr>\n",
       "<tr>\n",
       "  <th>No. Observations:</th>         <td>    41</td>          <th>  AIC:               </th> <td> -0.8936</td>\n",
       "</tr>\n",
       "<tr>\n",
       "  <th>Df Residuals:</th>             <td>    39</td>          <th>  BIC:               </th> <td>   2.534</td>\n",
       "</tr>\n",
       "<tr>\n",
       "  <th>Df Model:</th>                 <td>     1</td>          <th>                     </th>     <td> </td>   \n",
       "</tr>\n",
       "<tr>\n",
       "  <th>Covariance Type:</th>         <td>nonrobust</td>        <th>                     </th>     <td> </td>   \n",
       "</tr>\n",
       "</table>\n",
       "<table class=\"simpletable\">\n",
       "<tr>\n",
       "              <td></td>                <th>coef</th>     <th>std err</th>      <th>t</th>      <th>P>|t|</th>  <th>[0.025</th>    <th>0.975]</th>  \n",
       "</tr>\n",
       "<tr>\n",
       "  <th>Intercept</th>                <td>    0.0951</td> <td>    0.038</td> <td>    2.524</td> <td> 0.016</td> <td>    0.019</td> <td>    0.171</td>\n",
       "</tr>\n",
       "<tr>\n",
       "  <th>second_rel_nogo2avoidPun</th> <td>    0.0425</td> <td>    0.162</td> <td>    0.262</td> <td> 0.795</td> <td>   -0.286</td> <td>    0.371</td>\n",
       "</tr>\n",
       "</table>\n",
       "<table class=\"simpletable\">\n",
       "<tr>\n",
       "  <th>Omnibus:</th>       <td>21.504</td> <th>  Durbin-Watson:     </th> <td>   2.068</td>\n",
       "</tr>\n",
       "<tr>\n",
       "  <th>Prob(Omnibus):</th> <td> 0.000</td> <th>  Jarque-Bera (JB):  </th> <td>  36.662</td>\n",
       "</tr>\n",
       "<tr>\n",
       "  <th>Skew:</th>          <td>-1.433</td> <th>  Prob(JB):          </th> <td>1.09e-08</td>\n",
       "</tr>\n",
       "<tr>\n",
       "  <th>Kurtosis:</th>      <td> 6.640</td> <th>  Cond. No.          </th> <td>    4.46</td>\n",
       "</tr>\n",
       "</table><br/><br/>Warnings:<br/>[1] Standard Errors assume that the covariance matrix of the errors is correctly specified."
      ],
      "text/plain": [
       "<class 'statsmodels.iolib.summary.Summary'>\n",
       "\"\"\"\n",
       "                               OLS Regression Results                              \n",
       "===================================================================================\n",
       "Dep. Variable:     first_rel_nogo2avoidPun   R-squared:                       0.002\n",
       "Model:                                 OLS   Adj. R-squared:                 -0.024\n",
       "Method:                      Least Squares   F-statistic:                   0.06844\n",
       "Date:                     Wed, 22 Dec 2021   Prob (F-statistic):              0.795\n",
       "Time:                             17:53:16   Log-Likelihood:                 2.4468\n",
       "No. Observations:                       41   AIC:                           -0.8936\n",
       "Df Residuals:                           39   BIC:                             2.534\n",
       "Df Model:                                1                                         \n",
       "Covariance Type:                 nonrobust                                         \n",
       "============================================================================================\n",
       "                               coef    std err          t      P>|t|      [0.025      0.975]\n",
       "--------------------------------------------------------------------------------------------\n",
       "Intercept                    0.0951      0.038      2.524      0.016       0.019       0.171\n",
       "second_rel_nogo2avoidPun     0.0425      0.162      0.262      0.795      -0.286       0.371\n",
       "==============================================================================\n",
       "Omnibus:                       21.504   Durbin-Watson:                   2.068\n",
       "Prob(Omnibus):                  0.000   Jarque-Bera (JB):               36.662\n",
       "Skew:                          -1.433   Prob(JB):                     1.09e-08\n",
       "Kurtosis:                       6.640   Cond. No.                         4.46\n",
       "==============================================================================\n",
       "\n",
       "Warnings:\n",
       "[1] Standard Errors assume that the covariance matrix of the errors is correctly specified.\n",
       "\"\"\""
      ]
     },
     "execution_count": 93,
     "metadata": {},
     "output_type": "execute_result"
    }
   ],
   "source": [
    "smf.ols(formula = 'first_rel_nogo2avoidPun ~ second_rel_nogo2avoidPun', data = all_performance).fit().summary()"
   ]
  },
  {
   "cell_type": "markdown",
   "metadata": {},
   "source": [
    "<a id=\"first_second_compare\"></a>\n",
    "## First and Second session differences in performance"
   ]
  },
  {
   "cell_type": "code",
   "execution_count": 94,
   "metadata": {},
   "outputs": [],
   "source": [
    "performance_difference = all_performance[['go2avoidPun_second_session', 'go2win_second_session','nogo2avoidPun_second_session', 'nogo2win_second_session','go2avoidPun_first_session', 'go2win_first_session',\n",
    "       'nogo2avoidPun_first_session', 'nogo2win_first_session']].melt()\n",
    "\n",
    "def extract_condition(x):\n",
    "    if('nogo2avoidPun' in x):\n",
    "        return 'nogo2avoidPun'\n",
    "    elif('nogo2win' in x):\n",
    "        return 'nogo2win'\n",
    "    elif( 'go2avoidPun' in x):\n",
    "        return 'go2avoidPun'\n",
    "    elif( 'go2win' in x):\n",
    "        return 'go2win'\n",
    "    else:\n",
    "        return 'error'\n",
    "\n",
    "def extract_session(x):\n",
    "    if('first' in x):\n",
    "        return 'first'\n",
    "    elif('second' in x):\n",
    "        return 'second'\n",
    "    else:\n",
    "        return 'error'\n",
    "\n",
    "performance_difference['condition'] = performance_difference.variable.apply(lambda x: extract_condition(x))\n",
    "\n",
    "performance_difference['session'] = performance_difference.variable.apply(lambda x: extract_session(x))\n"
   ]
  },
  {
   "cell_type": "code",
   "execution_count": 95,
   "metadata": {},
   "outputs": [
    {
     "data": {
      "image/png": "[encoded data removed]",
      "text/plain": [
       "<Figure size 576x360 with 1 Axes>"
      ]
     },
     "metadata": {},
     "output_type": "display_data"
    }
   ],
   "source": [
    "plt.figure(figsize=(8,5))\n",
    "# sns.swarmplot(x = 'condition', y = 'value', hue = 'session', dodge=True, palette='viridis', data = performance_difference)\n",
    "sns.boxplot(x = 'condition', y = 'value', hue = 'session',  palette='viridis', data = performance_difference)\n",
    "plt.title('Performance difference between first and second round')\n",
    "plt.ylabel('Performance')\n",
    "plt.show()"
   ]
  },
  {
   "cell_type": "markdown",
   "metadata": {},
   "source": [
    "<a id=\"rel_nogo\"></a>\n",
    "## NoGo to Win and NoGo to avoid punishment relationship"
   ]
  },
  {
   "cell_type": "code",
   "execution_count": 96,
   "metadata": {},
   "outputs": [
    {
     "data": {
      "text/plain": [
       "<AxesSubplot:xlabel='nogo2win_first_session', ylabel='nogo2avoidPun_first_session'>"
      ]
     },
     "execution_count": 96,
     "metadata": {},
     "output_type": "execute_result"
    },
    {
     "data": {
      "image/png": "[encoded data removed]",
      "text/plain": [
       "<Figure size 432x288 with 1 Axes>"
      ]
     },
     "metadata": {},
     "output_type": "display_data"
    }
   ],
   "source": [
    "sns.regplot(x = all_performance.nogo2win_first_session, y = all_performance.nogo2avoidPun_first_session)"
   ]
  },
  {
   "cell_type": "code",
   "execution_count": 97,
   "metadata": {},
   "outputs": [
    {
     "data": {
      "text/plain": [
       "array([[0.02499729, 0.01286518],\n",
       "       [0.01286518, 0.13063279]])"
      ]
     },
     "execution_count": 97,
     "metadata": {},
     "output_type": "execute_result"
    }
   ],
   "source": [
    "np.cov(all_performance.nogo2avoidPun_first_session,all_performance.nogo2win_first_session)"
   ]
  },
  {
   "cell_type": "code",
   "execution_count": 98,
   "metadata": {},
   "outputs": [
    {
     "data": {
      "text/html": [
       "<table class=\"simpletable\">\n",
       "<caption>OLS Regression Results</caption>\n",
       "<tr>\n",
       "  <th>Dep. Variable:</th>    <td>nogo2avoidPun_first_session</td> <th>  R-squared:         </th> <td>   0.051</td>\n",
       "</tr>\n",
       "<tr>\n",
       "  <th>Model:</th>                        <td>OLS</td>             <th>  Adj. R-squared:    </th> <td>   0.026</td>\n",
       "</tr>\n",
       "<tr>\n",
       "  <th>Method:</th>                  <td>Least Squares</td>        <th>  F-statistic:       </th> <td>   2.082</td>\n",
       "</tr>\n",
       "<tr>\n",
       "  <th>Date:</th>                  <td>Wed, 22 Dec 2021</td>       <th>  Prob (F-statistic):</th>  <td> 0.157</td> \n",
       "</tr>\n",
       "<tr>\n",
       "  <th>Time:</th>                      <td>17:53:16</td>           <th>  Log-Likelihood:    </th> <td>  19.020</td>\n",
       "</tr>\n",
       "<tr>\n",
       "  <th>No. Observations:</th>           <td>    41</td>            <th>  AIC:               </th> <td>  -34.04</td>\n",
       "</tr>\n",
       "<tr>\n",
       "  <th>Df Residuals:</th>               <td>    39</td>            <th>  BIC:               </th> <td>  -30.61</td>\n",
       "</tr>\n",
       "<tr>\n",
       "  <th>Df Model:</th>                   <td>     1</td>            <th>                     </th>     <td> </td>   \n",
       "</tr>\n",
       "<tr>\n",
       "  <th>Covariance Type:</th>           <td>nonrobust</td>          <th>                     </th>     <td> </td>   \n",
       "</tr>\n",
       "</table>\n",
       "<table class=\"simpletable\">\n",
       "<tr>\n",
       "             <td></td>               <th>coef</th>     <th>std err</th>      <th>t</th>      <th>P>|t|</th>  <th>[0.025</th>    <th>0.975]</th>  \n",
       "</tr>\n",
       "<tr>\n",
       "  <th>Intercept</th>              <td>    0.7156</td> <td>    0.042</td> <td>   17.011</td> <td> 0.000</td> <td>    0.630</td> <td>    0.801</td>\n",
       "</tr>\n",
       "<tr>\n",
       "  <th>nogo2win_first_session</th> <td>    0.0985</td> <td>    0.068</td> <td>    1.443</td> <td> 0.157</td> <td>   -0.040</td> <td>    0.237</td>\n",
       "</tr>\n",
       "</table>\n",
       "<table class=\"simpletable\">\n",
       "<tr>\n",
       "  <th>Omnibus:</th>       <td> 8.579</td> <th>  Durbin-Watson:     </th> <td>   2.255</td>\n",
       "</tr>\n",
       "<tr>\n",
       "  <th>Prob(Omnibus):</th> <td> 0.014</td> <th>  Jarque-Bera (JB):  </th> <td>   7.453</td>\n",
       "</tr>\n",
       "<tr>\n",
       "  <th>Skew:</th>          <td>-0.934</td> <th>  Prob(JB):          </th> <td>  0.0241</td>\n",
       "</tr>\n",
       "<tr>\n",
       "  <th>Kurtosis:</th>      <td> 3.933</td> <th>  Cond. No.          </th> <td>    3.59</td>\n",
       "</tr>\n",
       "</table><br/><br/>Warnings:<br/>[1] Standard Errors assume that the covariance matrix of the errors is correctly specified."
      ],
      "text/plain": [
       "<class 'statsmodels.iolib.summary.Summary'>\n",
       "\"\"\"\n",
       "                                 OLS Regression Results                                \n",
       "=======================================================================================\n",
       "Dep. Variable:     nogo2avoidPun_first_session   R-squared:                       0.051\n",
       "Model:                                     OLS   Adj. R-squared:                  0.026\n",
       "Method:                          Least Squares   F-statistic:                     2.082\n",
       "Date:                         Wed, 22 Dec 2021   Prob (F-statistic):              0.157\n",
       "Time:                                 17:53:16   Log-Likelihood:                 19.020\n",
       "No. Observations:                           41   AIC:                            -34.04\n",
       "Df Residuals:                               39   BIC:                            -30.61\n",
       "Df Model:                                    1                                         \n",
       "Covariance Type:                     nonrobust                                         \n",
       "==========================================================================================\n",
       "                             coef    std err          t      P>|t|      [0.025      0.975]\n",
       "------------------------------------------------------------------------------------------\n",
       "Intercept                  0.7156      0.042     17.011      0.000       0.630       0.801\n",
       "nogo2win_first_session     0.0985      0.068      1.443      0.157      -0.040       0.237\n",
       "==============================================================================\n",
       "Omnibus:                        8.579   Durbin-Watson:                   2.255\n",
       "Prob(Omnibus):                  0.014   Jarque-Bera (JB):                7.453\n",
       "Skew:                          -0.934   Prob(JB):                       0.0241\n",
       "Kurtosis:                       3.933   Cond. No.                         3.59\n",
       "==============================================================================\n",
       "\n",
       "Warnings:\n",
       "[1] Standard Errors assume that the covariance matrix of the errors is correctly specified.\n",
       "\"\"\""
      ]
     },
     "execution_count": 98,
     "metadata": {},
     "output_type": "execute_result"
    }
   ],
   "source": [
    "smf.ols(formula = 'nogo2avoidPun_first_session ~ nogo2win_first_session', data = all_performance).fit().summary()"
   ]
  },
  {
   "cell_type": "markdown",
   "metadata": {},
   "source": [
    "<a id=\"second_hyp\"></a>\n",
    "# Second Hypothesis\n",
    "\n",
    "Uncomment below to exclude who responded the same for all questions"
   ]
  },
  {
   "cell_type": "code",
   "execution_count": 99,
   "metadata": {},
   "outputs": [],
   "source": [
    "# perf_questionnaire_data = perf_questionnaire_data[(perf_questionnaire_data['data_quality'] != 0)]"
   ]
  },
  {
   "cell_type": "markdown",
   "metadata": {},
   "source": [
    "<a id=\"EDE_nogo2win\"></a>\n",
    "# Eating Disorder Index Vs. nogo2win Performance"
   ]
  },
  {
   "cell_type": "markdown",
   "metadata": {},
   "source": [
    "<a id=\"EDE_mean_nogo2win\"></a>\n",
    "### Average of performance of 2 sessions of NoGo2Win vs. Food disorder index"
   ]
  },
  {
   "cell_type": "code",
   "execution_count": 100,
   "metadata": {},
   "outputs": [
    {
     "data": {
      "text/plain": [
       "<AxesSubplot:xlabel='global_score', ylabel='nogo2win_mean_performance'>"
      ]
     },
     "execution_count": 100,
     "metadata": {},
     "output_type": "execute_result"
    },
    {
     "data": {
      "image/png": "[encoded data removed]",
      "text/plain": [
       "<Figure size 432x288 with 1 Axes>"
      ]
     },
     "metadata": {},
     "output_type": "display_data"
    }
   ],
   "source": [
    "sns.regplot(data = perf_questionnaire_data, x = 'global_score', y = 'nogo2win_mean_performance' )"
   ]
  },
  {
   "cell_type": "code",
   "execution_count": 101,
   "metadata": {},
   "outputs": [
    {
     "name": "stdout",
     "output_type": "stream",
     "text": [
      "correlation between eating disorder index and   -0.2216234763510661\n",
      "p-value:  0.17511841790158691\n"
     ]
    }
   ],
   "source": [
    "test_res = stats.pearsonr(perf_questionnaire_data.global_score, perf_questionnaire_data.nogo2win_mean_performance)\n",
    "print('correlation between eating disorder index and  ', test_res[0])\n",
    "print('p-value: ', test_res[1])\n"
   ]
  },
  {
   "cell_type": "markdown",
   "metadata": {},
   "source": [
    "### OLS regression"
   ]
  },
  {
   "cell_type": "code",
   "execution_count": 102,
   "metadata": {},
   "outputs": [
    {
     "data": {
      "text/html": [
       "<table class=\"simpletable\">\n",
       "<caption>OLS Regression Results</caption>\n",
       "<tr>\n",
       "  <th>Dep. Variable:</th>    <td>nogo2win_mean_performance</td> <th>  R-squared:         </th> <td>   0.049</td>\n",
       "</tr>\n",
       "<tr>\n",
       "  <th>Model:</th>                       <td>OLS</td>            <th>  Adj. R-squared:    </th> <td>   0.023</td>\n",
       "</tr>\n",
       "<tr>\n",
       "  <th>Method:</th>                 <td>Least Squares</td>       <th>  F-statistic:       </th> <td>   1.911</td>\n",
       "</tr>\n",
       "<tr>\n",
       "  <th>Date:</th>                 <td>Wed, 22 Dec 2021</td>      <th>  Prob (F-statistic):</th>  <td> 0.175</td> \n",
       "</tr>\n",
       "<tr>\n",
       "  <th>Time:</th>                     <td>17:53:16</td>          <th>  Log-Likelihood:    </th> <td> -5.8537</td>\n",
       "</tr>\n",
       "<tr>\n",
       "  <th>No. Observations:</th>          <td>    39</td>           <th>  AIC:               </th> <td>   15.71</td>\n",
       "</tr>\n",
       "<tr>\n",
       "  <th>Df Residuals:</th>              <td>    37</td>           <th>  BIC:               </th> <td>   19.03</td>\n",
       "</tr>\n",
       "<tr>\n",
       "  <th>Df Model:</th>                  <td>     1</td>           <th>                     </th>     <td> </td>   \n",
       "</tr>\n",
       "<tr>\n",
       "  <th>Covariance Type:</th>          <td>nonrobust</td>         <th>                     </th>     <td> </td>   \n",
       "</tr>\n",
       "</table>\n",
       "<table class=\"simpletable\">\n",
       "<tr>\n",
       "        <td></td>          <th>coef</th>     <th>std err</th>      <th>t</th>      <th>P>|t|</th>  <th>[0.025</th>    <th>0.975]</th>  \n",
       "</tr>\n",
       "<tr>\n",
       "  <th>Intercept</th>    <td>    0.6340</td> <td>    0.066</td> <td>    9.663</td> <td> 0.000</td> <td>    0.501</td> <td>    0.767</td>\n",
       "</tr>\n",
       "<tr>\n",
       "  <th>global_score</th> <td>   -0.0640</td> <td>    0.046</td> <td>   -1.382</td> <td> 0.175</td> <td>   -0.158</td> <td>    0.030</td>\n",
       "</tr>\n",
       "</table>\n",
       "<table class=\"simpletable\">\n",
       "<tr>\n",
       "  <th>Omnibus:</th>       <td>10.924</td> <th>  Durbin-Watson:     </th> <td>   2.194</td>\n",
       "</tr>\n",
       "<tr>\n",
       "  <th>Prob(Omnibus):</th> <td> 0.004</td> <th>  Jarque-Bera (JB):  </th> <td>   3.559</td>\n",
       "</tr>\n",
       "<tr>\n",
       "  <th>Skew:</th>          <td>-0.398</td> <th>  Prob(JB):          </th> <td>   0.169</td>\n",
       "</tr>\n",
       "<tr>\n",
       "  <th>Kurtosis:</th>      <td> 1.752</td> <th>  Cond. No.          </th> <td>    2.63</td>\n",
       "</tr>\n",
       "</table><br/><br/>Warnings:<br/>[1] Standard Errors assume that the covariance matrix of the errors is correctly specified."
      ],
      "text/plain": [
       "<class 'statsmodels.iolib.summary.Summary'>\n",
       "\"\"\"\n",
       "                                OLS Regression Results                               \n",
       "=====================================================================================\n",
       "Dep. Variable:     nogo2win_mean_performance   R-squared:                       0.049\n",
       "Model:                                   OLS   Adj. R-squared:                  0.023\n",
       "Method:                        Least Squares   F-statistic:                     1.911\n",
       "Date:                       Wed, 22 Dec 2021   Prob (F-statistic):              0.175\n",
       "Time:                               17:53:16   Log-Likelihood:                -5.8537\n",
       "No. Observations:                         39   AIC:                             15.71\n",
       "Df Residuals:                             37   BIC:                             19.03\n",
       "Df Model:                                  1                                         \n",
       "Covariance Type:                   nonrobust                                         \n",
       "================================================================================\n",
       "                   coef    std err          t      P>|t|      [0.025      0.975]\n",
       "--------------------------------------------------------------------------------\n",
       "Intercept        0.6340      0.066      9.663      0.000       0.501       0.767\n",
       "global_score    -0.0640      0.046     -1.382      0.175      -0.158       0.030\n",
       "==============================================================================\n",
       "Omnibus:                       10.924   Durbin-Watson:                   2.194\n",
       "Prob(Omnibus):                  0.004   Jarque-Bera (JB):                3.559\n",
       "Skew:                          -0.398   Prob(JB):                        0.169\n",
       "Kurtosis:                       1.752   Cond. No.                         2.63\n",
       "==============================================================================\n",
       "\n",
       "Warnings:\n",
       "[1] Standard Errors assume that the covariance matrix of the errors is correctly specified.\n",
       "\"\"\""
      ]
     },
     "execution_count": 102,
     "metadata": {},
     "output_type": "execute_result"
    }
   ],
   "source": [
    "smf.ols(formula = 'nogo2win_mean_performance ~ global_score', data = perf_questionnaire_data).fit().summary()"
   ]
  },
  {
   "cell_type": "markdown",
   "metadata": {},
   "source": [
    "### Multi-level regression"
   ]
  },
  {
   "cell_type": "code",
   "execution_count": 103,
   "metadata": {},
   "outputs": [
    {
     "data": {
      "text/plain": [
       "male      24\n",
       "female    15\n",
       "Name: gender_first_session, dtype: int64"
      ]
     },
     "execution_count": 103,
     "metadata": {},
     "output_type": "execute_result"
    }
   ],
   "source": [
    "perf_questionnaire_data.gender_first_session.value_counts()"
   ]
  },
  {
   "cell_type": "code",
   "execution_count": 104,
   "metadata": {},
   "outputs": [
    {
     "data": {
      "text/html": [
       "<table class=\"simpletable\">\n",
       "<tr>\n",
       "       <td>Model:</td>       <td>MixedLM</td> <td>Dependent Variable:</td> <td>nogo2win_mean_performance</td>\n",
       "</tr>\n",
       "<tr>\n",
       "  <td>No. Observations:</td>   <td>39</td>          <td>Method:</td>                 <td>REML</td>           \n",
       "</tr>\n",
       "<tr>\n",
       "     <td>No. Groups:</td>       <td>2</td>          <td>Scale:</td>                 <td>0.0833</td>          \n",
       "</tr>\n",
       "<tr>\n",
       "  <td>Min. group size:</td>    <td>15</td>        <td>Likelihood:</td>             <td>-10.1894</td>         \n",
       "</tr>\n",
       "<tr>\n",
       "  <td>Max. group size:</td>    <td>24</td>        <td>Converged:</td>                 <td>Yes</td>           \n",
       "</tr>\n",
       "<tr>\n",
       "  <td>Mean group size:</td>   <td>19.5</td>            <td></td>                       <td></td>             \n",
       "</tr>\n",
       "</table>\n",
       "<table class=\"simpletable\">\n",
       "<tr>\n",
       "              <td></td>              <th>Coef.</th> <th>Std.Err.</th>    <th>z</th>   <th>P>|z|</th> <th>[0.025</th> <th>0.975]</th>\n",
       "</tr>\n",
       "<tr>\n",
       "  <th>Intercept</th>                 <td>0.634</td>   <td>0.068</td>   <td>9.360</td> <td>0.000</td>  <td>0.501</td>  <td>0.767</td>\n",
       "</tr>\n",
       "<tr>\n",
       "  <th>global_score</th>             <td>-0.064</td>   <td>0.046</td>  <td>-1.382</td> <td>0.167</td> <td>-0.155</td>  <td>0.027</td>\n",
       "</tr>\n",
       "<tr>\n",
       "  <th>gender_first_session Var</th>  <td>0.000</td>   <td>0.025</td>     <td></td>      <td></td>       <td></td>       <td></td>   \n",
       "</tr>\n",
       "</table>"
      ],
      "text/plain": [
       "<class 'statsmodels.iolib.summary2.Summary'>\n",
       "\"\"\"\n",
       "                 Mixed Linear Model Regression Results\n",
       "=======================================================================\n",
       "Model:            MixedLM Dependent Variable: nogo2win_mean_performance\n",
       "No. Observations: 39      Method:             REML                     \n",
       "No. Groups:       2       Scale:              0.0833                   \n",
       "Min. group size:  15      Likelihood:         -10.1894                 \n",
       "Max. group size:  24      Converged:          Yes                      \n",
       "Mean group size:  19.5                                                 \n",
       "-----------------------------------------------------------------------\n",
       "                             Coef.  Std.Err.   z    P>|z| [0.025 0.975]\n",
       "-----------------------------------------------------------------------\n",
       "Intercept                     0.634    0.068  9.360 0.000  0.501  0.767\n",
       "global_score                 -0.064    0.046 -1.382 0.167 -0.155  0.027\n",
       "gender_first_session Var      0.000    0.025                           \n",
       "=======================================================================\n",
       "\n",
       "\"\"\""
      ]
     },
     "execution_count": 104,
     "metadata": {},
     "output_type": "execute_result"
    }
   ],
   "source": [
    "model = smf.mixedlm(\"nogo2win_mean_performance ~  global_score \",\n",
    "                    perf_questionnaire_data, re_formula='1',\n",
    "                    groups= \"gender_first_session\" ).fit()\n",
    "\n",
    "model.summary()"
   ]
  },
  {
   "cell_type": "code",
   "execution_count": 105,
   "metadata": {},
   "outputs": [
    {
     "name": "stdout",
     "output_type": "stream",
     "text": [
      "                 Mixed Linear Model Regression Results\n",
      "=======================================================================\n",
      "Model:            MixedLM Dependent Variable: nogo2win_mean_performance\n",
      "No. Observations: 39      Method:             REML                     \n",
      "No. Groups:       39      Scale:              0.0417                   \n",
      "Min. group size:  1       Likelihood:         -10.1893                 \n",
      "Max. group size:  1       Converged:          Yes                      \n",
      "Mean group size:  1.0                                                  \n",
      "--------------------------------------------------------------------------\n",
      "                 Coef.     Std.Err.      z       P>|z|    [0.025    0.975]\n",
      "--------------------------------------------------------------------------\n",
      "Intercept         0.634       0.066     9.663    0.000     0.505     0.763\n",
      "global_score     -0.064       0.046    -1.382    0.167    -0.155     0.027\n",
      "Group Var         0.042                                                   \n",
      "=======================================================================\n",
      "\n"
     ]
    },
    {
     "name": "stderr",
     "output_type": "stream",
     "text": [
      "/opt/homebrew/lib/python3.9/site-packages/statsmodels/base/model.py:1286: RuntimeWarning: invalid value encountered in sqrt\n",
      "  bse_ = np.sqrt(np.diag(self.cov_params()))\n"
     ]
    }
   ],
   "source": [
    "md = smf.mixedlm(formula = 'nogo2win_mean_performance ~ global_score', data = perf_questionnaire_data, groups = perf_questionnaire_data.BMI)\n",
    "mdf = md.fit()\n",
    "print(mdf.summary())"
   ]
  },
  {
   "cell_type": "markdown",
   "metadata": {},
   "source": [
    "<a id=\"EDE_first_nogo2win\"></a>\n",
    "\n",
    "### First performance of NoGo2Win Vs. Food disorder index\n",
    "\n",
    "* Please note that an individual in our data has participated in the first and third round but no second. and his data has effects on the p-value."
   ]
  },
  {
   "cell_type": "code",
   "execution_count": 106,
   "metadata": {},
   "outputs": [],
   "source": [
    "perf_questionnaire_data_for_first_round = pd.merge(Questionnare_data, first_round_perfornance, on='mturkID' )\n",
    "perf_questionnaire_data_for_first_round = perf_questionnaire_data_for_first_round.drop_duplicates(subset = 'mturkID')\n",
    "# perf_questionnaire_data_for_first_round = perf_questionnaire_data_for_first_round[perf_questionnaire_data_for_first_round.mturkID != 'A1PAY3X73PQ16S']\n",
    "# perf_questionnaire_data_for_first_round = perf_questionnaire_data_for_first_round[(perf_questionnaire_data_for_first_round['data_quality'] != 0)]"
   ]
  },
  {
   "cell_type": "code",
   "execution_count": 107,
   "metadata": {},
   "outputs": [
    {
     "data": {
      "text/plain": [
       "<seaborn.axisgrid.FacetGrid at 0x147c2b9d0>"
      ]
     },
     "execution_count": 107,
     "metadata": {},
     "output_type": "execute_result"
    },
    {
     "data": {
      "image/png": "[encoded data removed]",
      "text/plain": [
       "<Figure size 360x360 with 1 Axes>"
      ]
     },
     "metadata": {},
     "output_type": "display_data"
    }
   ],
   "source": [
    "sns.lmplot(data = perf_questionnaire_data_for_first_round, x = 'global_score', y = 'nogo2win_first_session' )"
   ]
  },
  {
   "cell_type": "code",
   "execution_count": 108,
   "metadata": {},
   "outputs": [
    {
     "data": {
      "text/html": [
       "<table class=\"simpletable\">\n",
       "<caption>OLS Regression Results</caption>\n",
       "<tr>\n",
       "  <th>Dep. Variable:</th>    <td>nogo2win_first_session</td> <th>  R-squared:         </th> <td>   0.070</td>\n",
       "</tr>\n",
       "<tr>\n",
       "  <th>Model:</th>                      <td>OLS</td>          <th>  Adj. R-squared:    </th> <td>   0.046</td>\n",
       "</tr>\n",
       "<tr>\n",
       "  <th>Method:</th>                <td>Least Squares</td>     <th>  F-statistic:       </th> <td>   2.864</td>\n",
       "</tr>\n",
       "<tr>\n",
       "  <th>Date:</th>                <td>Wed, 22 Dec 2021</td>    <th>  Prob (F-statistic):</th>  <td>0.0988</td> \n",
       "</tr>\n",
       "<tr>\n",
       "  <th>Time:</th>                    <td>17:53:16</td>        <th>  Log-Likelihood:    </th> <td> -14.194</td>\n",
       "</tr>\n",
       "<tr>\n",
       "  <th>No. Observations:</th>         <td>    40</td>         <th>  AIC:               </th> <td>   32.39</td>\n",
       "</tr>\n",
       "<tr>\n",
       "  <th>Df Residuals:</th>             <td>    38</td>         <th>  BIC:               </th> <td>   35.77</td>\n",
       "</tr>\n",
       "<tr>\n",
       "  <th>Df Model:</th>                 <td>     1</td>         <th>                     </th>     <td> </td>   \n",
       "</tr>\n",
       "<tr>\n",
       "  <th>Covariance Type:</th>         <td>nonrobust</td>       <th>                     </th>     <td> </td>   \n",
       "</tr>\n",
       "</table>\n",
       "<table class=\"simpletable\">\n",
       "<tr>\n",
       "        <td></td>          <th>coef</th>     <th>std err</th>      <th>t</th>      <th>P>|t|</th>  <th>[0.025</th>    <th>0.975]</th>  \n",
       "</tr>\n",
       "<tr>\n",
       "  <th>Intercept</th>    <td>    0.5896</td> <td>    0.080</td> <td>    7.355</td> <td> 0.000</td> <td>    0.427</td> <td>    0.752</td>\n",
       "</tr>\n",
       "<tr>\n",
       "  <th>global_score</th> <td>   -0.0924</td> <td>    0.055</td> <td>   -1.692</td> <td> 0.099</td> <td>   -0.203</td> <td>    0.018</td>\n",
       "</tr>\n",
       "</table>\n",
       "<table class=\"simpletable\">\n",
       "<tr>\n",
       "  <th>Omnibus:</th>       <td>13.237</td> <th>  Durbin-Watson:     </th> <td>   2.467</td>\n",
       "</tr>\n",
       "<tr>\n",
       "  <th>Prob(Omnibus):</th> <td> 0.001</td> <th>  Jarque-Bera (JB):  </th> <td>   4.151</td>\n",
       "</tr>\n",
       "<tr>\n",
       "  <th>Skew:</th>          <td>-0.459</td> <th>  Prob(JB):          </th> <td>   0.126</td>\n",
       "</tr>\n",
       "<tr>\n",
       "  <th>Kurtosis:</th>      <td> 1.716</td> <th>  Cond. No.          </th> <td>    2.71</td>\n",
       "</tr>\n",
       "</table><br/><br/>Warnings:<br/>[1] Standard Errors assume that the covariance matrix of the errors is correctly specified."
      ],
      "text/plain": [
       "<class 'statsmodels.iolib.summary.Summary'>\n",
       "\"\"\"\n",
       "                              OLS Regression Results                              \n",
       "==================================================================================\n",
       "Dep. Variable:     nogo2win_first_session   R-squared:                       0.070\n",
       "Model:                                OLS   Adj. R-squared:                  0.046\n",
       "Method:                     Least Squares   F-statistic:                     2.864\n",
       "Date:                    Wed, 22 Dec 2021   Prob (F-statistic):             0.0988\n",
       "Time:                            17:53:16   Log-Likelihood:                -14.194\n",
       "No. Observations:                      40   AIC:                             32.39\n",
       "Df Residuals:                          38   BIC:                             35.77\n",
       "Df Model:                               1                                         \n",
       "Covariance Type:                nonrobust                                         \n",
       "================================================================================\n",
       "                   coef    std err          t      P>|t|      [0.025      0.975]\n",
       "--------------------------------------------------------------------------------\n",
       "Intercept        0.5896      0.080      7.355      0.000       0.427       0.752\n",
       "global_score    -0.0924      0.055     -1.692      0.099      -0.203       0.018\n",
       "==============================================================================\n",
       "Omnibus:                       13.237   Durbin-Watson:                   2.467\n",
       "Prob(Omnibus):                  0.001   Jarque-Bera (JB):                4.151\n",
       "Skew:                          -0.459   Prob(JB):                        0.126\n",
       "Kurtosis:                       1.716   Cond. No.                         2.71\n",
       "==============================================================================\n",
       "\n",
       "Warnings:\n",
       "[1] Standard Errors assume that the covariance matrix of the errors is correctly specified.\n",
       "\"\"\""
      ]
     },
     "execution_count": 108,
     "metadata": {},
     "output_type": "execute_result"
    }
   ],
   "source": [
    "smf.ols(formula = 'nogo2win_first_session ~ global_score', data = perf_questionnaire_data_for_first_round).fit().summary()"
   ]
  },
  {
   "cell_type": "code",
   "execution_count": 109,
   "metadata": {},
   "outputs": [
    {
     "data": {
      "text/plain": [
       "male      24\n",
       "female    15\n",
       "other      1\n",
       "Name: gender_first_session, dtype: int64"
      ]
     },
     "execution_count": 109,
     "metadata": {},
     "output_type": "execute_result"
    }
   ],
   "source": [
    "perf_questionnaire_data_for_first_round.gender_first_session.value_counts()"
   ]
  },
  {
   "cell_type": "markdown",
   "metadata": {},
   "source": [
    "#### Baseline"
   ]
  },
  {
   "cell_type": "code",
   "execution_count": 110,
   "metadata": {},
   "outputs": [
    {
     "data": {
      "text/html": [
       "<table class=\"simpletable\">\n",
       "<tr>\n",
       "       <td>Model:</td>       <td>MixedLM</td> <td>Dependent Variable:</td> <td>nogo2win_first_session</td>\n",
       "</tr>\n",
       "<tr>\n",
       "  <td>No. Observations:</td>   <td>40</td>          <td>Method:</td>                <td>REML</td>         \n",
       "</tr>\n",
       "<tr>\n",
       "     <td>No. Groups:</td>       <td>3</td>          <td>Scale:</td>                <td>0.1253</td>        \n",
       "</tr>\n",
       "<tr>\n",
       "  <td>Min. group size:</td>     <td>1</td>        <td>Likelihood:</td>            <td>-18.1746</td>       \n",
       "</tr>\n",
       "<tr>\n",
       "  <td>Max. group size:</td>    <td>24</td>        <td>Converged:</td>                <td>Yes</td>         \n",
       "</tr>\n",
       "<tr>\n",
       "  <td>Mean group size:</td>   <td>13.3</td>            <td></td>                      <td></td>           \n",
       "</tr>\n",
       "</table>\n",
       "<table class=\"simpletable\">\n",
       "<tr>\n",
       "              <td></td>              <th>Coef.</th> <th>Std.Err.</th>    <th>z</th>   <th>P>|z|</th> <th>[0.025</th> <th>0.975]</th>\n",
       "</tr>\n",
       "<tr>\n",
       "  <th>Intercept</th>                 <td>0.589</td>   <td>0.083</td>   <td>7.072</td> <td>0.000</td>  <td>0.426</td>  <td>0.753</td>\n",
       "</tr>\n",
       "<tr>\n",
       "  <th>global_score</th>             <td>-0.092</td>   <td>0.055</td>  <td>-1.676</td> <td>0.094</td> <td>-0.200</td>  <td>0.016</td>\n",
       "</tr>\n",
       "<tr>\n",
       "  <th>gender_first_session Var</th>  <td>0.000</td>   <td>0.034</td>     <td></td>      <td></td>       <td></td>       <td></td>   \n",
       "</tr>\n",
       "</table>"
      ],
      "text/plain": [
       "<class 'statsmodels.iolib.summary2.Summary'>\n",
       "\"\"\"\n",
       "               Mixed Linear Model Regression Results\n",
       "====================================================================\n",
       "Model:            MixedLM Dependent Variable: nogo2win_first_session\n",
       "No. Observations: 40      Method:             REML                  \n",
       "No. Groups:       3       Scale:              0.1253                \n",
       "Min. group size:  1       Likelihood:         -18.1746              \n",
       "Max. group size:  24      Converged:          Yes                   \n",
       "Mean group size:  13.3                                              \n",
       "--------------------------------------------------------------------\n",
       "                          Coef.  Std.Err.   z    P>|z| [0.025 0.975]\n",
       "--------------------------------------------------------------------\n",
       "Intercept                  0.589    0.083  7.072 0.000  0.426  0.753\n",
       "global_score              -0.092    0.055 -1.676 0.094 -0.200  0.016\n",
       "gender_first_session Var   0.000    0.034                           \n",
       "====================================================================\n",
       "\n",
       "\"\"\""
      ]
     },
     "execution_count": 110,
     "metadata": {},
     "output_type": "execute_result"
    }
   ],
   "source": [
    "model = smf.mixedlm(\"nogo2win_first_session ~  1 + global_score\",\n",
    "                    perf_questionnaire_data_for_first_round, re_formula='1',\n",
    "                    groups= \"gender_first_session\" ).fit()\n",
    "\n",
    "model.summary()"
   ]
  },
  {
   "cell_type": "code",
   "execution_count": 111,
   "metadata": {},
   "outputs": [
    {
     "data": {
      "text/html": [
       "<table class=\"simpletable\">\n",
       "<tr>\n",
       "       <td>Model:</td>       <td>MixedLM</td> <td>Dependent Variable:</td> <td>nogo2win_first_session</td>\n",
       "</tr>\n",
       "<tr>\n",
       "  <td>No. Observations:</td>   <td>39</td>          <td>Method:</td>                <td>REML</td>         \n",
       "</tr>\n",
       "<tr>\n",
       "     <td>No. Groups:</td>       <td>2</td>          <td>Scale:</td>                <td>0.1279</td>        \n",
       "</tr>\n",
       "<tr>\n",
       "  <td>Min. group size:</td>    <td>15</td>        <td>Likelihood:</td>            <td>-18.1604</td>       \n",
       "</tr>\n",
       "<tr>\n",
       "  <td>Max. group size:</td>    <td>24</td>        <td>Converged:</td>                <td>Yes</td>         \n",
       "</tr>\n",
       "<tr>\n",
       "  <td>Mean group size:</td>   <td>19.5</td>            <td></td>                      <td></td>           \n",
       "</tr>\n",
       "</table>\n",
       "<table class=\"simpletable\">\n",
       "<tr>\n",
       "              <td></td>              <th>Coef.</th> <th>Std.Err.</th>    <th>z</th>   <th>P>|z|</th> <th>[0.025</th> <th>0.975]</th>\n",
       "</tr>\n",
       "<tr>\n",
       "  <th>Intercept</th>                 <td>0.582</td>   <td>0.088</td>   <td>6.604</td> <td>0.000</td>  <td>0.409</td>  <td>0.754</td>\n",
       "</tr>\n",
       "<tr>\n",
       "  <th>global_score</th>             <td>-0.089</td>   <td>0.056</td>  <td>-1.581</td> <td>0.114</td> <td>-0.199</td>  <td>0.021</td>\n",
       "</tr>\n",
       "<tr>\n",
       "  <th>gender_first_session Var</th>  <td>0.000</td>   <td>0.033</td>     <td></td>      <td></td>       <td></td>       <td></td>   \n",
       "</tr>\n",
       "</table>"
      ],
      "text/plain": [
       "<class 'statsmodels.iolib.summary2.Summary'>\n",
       "\"\"\"\n",
       "               Mixed Linear Model Regression Results\n",
       "====================================================================\n",
       "Model:            MixedLM Dependent Variable: nogo2win_first_session\n",
       "No. Observations: 39      Method:             REML                  \n",
       "No. Groups:       2       Scale:              0.1279                \n",
       "Min. group size:  15      Likelihood:         -18.1604              \n",
       "Max. group size:  24      Converged:          Yes                   \n",
       "Mean group size:  19.5                                              \n",
       "--------------------------------------------------------------------\n",
       "                          Coef.  Std.Err.   z    P>|z| [0.025 0.975]\n",
       "--------------------------------------------------------------------\n",
       "Intercept                  0.582    0.088  6.604 0.000  0.409  0.754\n",
       "global_score              -0.089    0.056 -1.581 0.114 -0.199  0.021\n",
       "gender_first_session Var   0.000    0.033                           \n",
       "====================================================================\n",
       "\n",
       "\"\"\""
      ]
     },
     "execution_count": 111,
     "metadata": {},
     "output_type": "execute_result"
    }
   ],
   "source": [
    "model = smf.mixedlm(\"nogo2win_first_session ~  1 + global_score \",\n",
    "                    perf_questionnaire_data_for_first_round[perf_questionnaire_data_for_first_round.gender_first_session != 'other'],\n",
    "                    re_formula='1',\n",
    "                    groups= \"gender_first_session\" ).fit()\n",
    "\n",
    "model.summary()"
   ]
  },
  {
   "cell_type": "markdown",
   "metadata": {},
   "source": [
    "<a id=\"EDE_first_rel_nogo2win\"></a>\n",
    "### First session performance of (Go2Win - NoGo2Win) Vs. Food disorder index"
   ]
  },
  {
   "cell_type": "code",
   "execution_count": 112,
   "metadata": {},
   "outputs": [
    {
     "data": {
      "text/plain": [
       "Text(0, 0.5, '(GW - NGW) performance')"
      ]
     },
     "execution_count": 112,
     "metadata": {},
     "output_type": "execute_result"
    },
    {
     "data": {
      "image/png": "[encoded data removed]",
      "text/plain": [
       "<Figure size 432x288 with 1 Axes>"
      ]
     },
     "metadata": {},
     "output_type": "display_data"
    }
   ],
   "source": [
    "plt.figure()\n",
    "\n",
    "sns.regplot(data = perf_questionnaire_data, x = 'global_score', y = 'first_rel_nogo2win' )\n",
    "plt.title('(Go2Win - NoGo2Win) performance ~ Global score')\n",
    "\n",
    "plt.xlabel('Global eating disorder score')\n",
    "plt.ylabel('(GW - NGW) performance')\n",
    "\n"
   ]
  },
  {
   "cell_type": "code",
   "execution_count": 113,
   "metadata": {},
   "outputs": [
    {
     "data": {
      "text/html": [
       "<table class=\"simpletable\">\n",
       "<caption>OLS Regression Results</caption>\n",
       "<tr>\n",
       "  <th>Dep. Variable:</th>    <td>first_rel_nogo2win</td> <th>  R-squared:         </th> <td>   0.058</td>\n",
       "</tr>\n",
       "<tr>\n",
       "  <th>Model:</th>                    <td>OLS</td>        <th>  Adj. R-squared:    </th> <td>   0.033</td>\n",
       "</tr>\n",
       "<tr>\n",
       "  <th>Method:</th>              <td>Least Squares</td>   <th>  F-statistic:       </th> <td>   2.294</td>\n",
       "</tr>\n",
       "<tr>\n",
       "  <th>Date:</th>              <td>Wed, 22 Dec 2021</td>  <th>  Prob (F-statistic):</th>  <td> 0.138</td> \n",
       "</tr>\n",
       "<tr>\n",
       "  <th>Time:</th>                  <td>17:53:17</td>      <th>  Log-Likelihood:    </th> <td> -16.613</td>\n",
       "</tr>\n",
       "<tr>\n",
       "  <th>No. Observations:</th>       <td>    39</td>       <th>  AIC:               </th> <td>   37.23</td>\n",
       "</tr>\n",
       "<tr>\n",
       "  <th>Df Residuals:</th>           <td>    37</td>       <th>  BIC:               </th> <td>   40.55</td>\n",
       "</tr>\n",
       "<tr>\n",
       "  <th>Df Model:</th>               <td>     1</td>       <th>                     </th>     <td> </td>   \n",
       "</tr>\n",
       "<tr>\n",
       "  <th>Covariance Type:</th>       <td>nonrobust</td>     <th>                     </th>     <td> </td>   \n",
       "</tr>\n",
       "</table>\n",
       "<table class=\"simpletable\">\n",
       "<tr>\n",
       "        <td></td>          <th>coef</th>     <th>std err</th>      <th>t</th>      <th>P>|t|</th>  <th>[0.025</th>    <th>0.975]</th>  \n",
       "</tr>\n",
       "<tr>\n",
       "  <th>Intercept</th>    <td>    0.2806</td> <td>    0.086</td> <td>    3.245</td> <td> 0.002</td> <td>    0.105</td> <td>    0.456</td>\n",
       "</tr>\n",
       "<tr>\n",
       "  <th>global_score</th> <td>    0.0924</td> <td>    0.061</td> <td>    1.515</td> <td> 0.138</td> <td>   -0.031</td> <td>    0.216</td>\n",
       "</tr>\n",
       "</table>\n",
       "<table class=\"simpletable\">\n",
       "<tr>\n",
       "  <th>Omnibus:</th>       <td> 2.665</td> <th>  Durbin-Watson:     </th> <td>   2.174</td>\n",
       "</tr>\n",
       "<tr>\n",
       "  <th>Prob(Omnibus):</th> <td> 0.264</td> <th>  Jarque-Bera (JB):  </th> <td>   1.705</td>\n",
       "</tr>\n",
       "<tr>\n",
       "  <th>Skew:</th>          <td> 0.275</td> <th>  Prob(JB):          </th> <td>   0.426</td>\n",
       "</tr>\n",
       "<tr>\n",
       "  <th>Kurtosis:</th>      <td> 2.136</td> <th>  Cond. No.          </th> <td>    2.63</td>\n",
       "</tr>\n",
       "</table><br/><br/>Warnings:<br/>[1] Standard Errors assume that the covariance matrix of the errors is correctly specified."
      ],
      "text/plain": [
       "<class 'statsmodels.iolib.summary.Summary'>\n",
       "\"\"\"\n",
       "                            OLS Regression Results                            \n",
       "==============================================================================\n",
       "Dep. Variable:     first_rel_nogo2win   R-squared:                       0.058\n",
       "Model:                            OLS   Adj. R-squared:                  0.033\n",
       "Method:                 Least Squares   F-statistic:                     2.294\n",
       "Date:                Wed, 22 Dec 2021   Prob (F-statistic):              0.138\n",
       "Time:                        17:53:17   Log-Likelihood:                -16.613\n",
       "No. Observations:                  39   AIC:                             37.23\n",
       "Df Residuals:                      37   BIC:                             40.55\n",
       "Df Model:                           1                                         \n",
       "Covariance Type:            nonrobust                                         \n",
       "================================================================================\n",
       "                   coef    std err          t      P>|t|      [0.025      0.975]\n",
       "--------------------------------------------------------------------------------\n",
       "Intercept        0.2806      0.086      3.245      0.002       0.105       0.456\n",
       "global_score     0.0924      0.061      1.515      0.138      -0.031       0.216\n",
       "==============================================================================\n",
       "Omnibus:                        2.665   Durbin-Watson:                   2.174\n",
       "Prob(Omnibus):                  0.264   Jarque-Bera (JB):                1.705\n",
       "Skew:                           0.275   Prob(JB):                        0.426\n",
       "Kurtosis:                       2.136   Cond. No.                         2.63\n",
       "==============================================================================\n",
       "\n",
       "Warnings:\n",
       "[1] Standard Errors assume that the covariance matrix of the errors is correctly specified.\n",
       "\"\"\""
      ]
     },
     "execution_count": 113,
     "metadata": {},
     "output_type": "execute_result"
    }
   ],
   "source": [
    "smf.ols(formula = 'first_rel_nogo2win ~ global_score', data = perf_questionnaire_data ).fit().summary()"
   ]
  },
  {
   "cell_type": "code",
   "execution_count": 114,
   "metadata": {},
   "outputs": [
    {
     "name": "stdout",
     "output_type": "stream",
     "text": [
      "             Mixed Linear Model Regression Results\n",
      "================================================================\n",
      "Model:            MixedLM Dependent Variable: first_rel_nogo2win\n",
      "No. Observations: 38      Method:             REML              \n",
      "No. Groups:       38      Scale:              0.0708            \n",
      "Min. group size:  1       Likelihood:         -19.5346          \n",
      "Max. group size:  1       Converged:          Yes               \n",
      "Mean group size:  1.0                                           \n",
      "------------------------------------------------------------------\n",
      "               Coef.   Std.Err.     z      P>|z|   [0.025   0.975]\n",
      "------------------------------------------------------------------\n",
      "Intercept      0.294      0.013   22.042   0.000    0.268    0.321\n",
      "global_score   0.092      0.036    2.573   0.010    0.022    0.161\n",
      "Group Var      0.071                                              \n",
      "================================================================\n",
      "\n"
     ]
    },
    {
     "name": "stderr",
     "output_type": "stream",
     "text": [
      "/opt/homebrew/lib/python3.9/site-packages/statsmodels/base/model.py:1286: RuntimeWarning: invalid value encountered in sqrt\n",
      "  bse_ = np.sqrt(np.diag(self.cov_params()))\n"
     ]
    }
   ],
   "source": [
    "md = smf.mixedlm(formula = 'first_rel_nogo2win ~ global_score', data = perf_questionnaire_data.drop(15), groups = perf_questionnaire_data.drop(15).BMI)\n",
    "mdf = md.fit()\n",
    "print(mdf.summary())"
   ]
  },
  {
   "cell_type": "markdown",
   "metadata": {},
   "source": [
    "<a id=\"EDE_second_nogo2win\"></a>\n",
    "### Second session performance of NoGo2Win Vs. Food disorder index"
   ]
  },
  {
   "cell_type": "code",
   "execution_count": 115,
   "metadata": {},
   "outputs": [
    {
     "data": {
      "text/plain": [
       "Text(0, 0.5, ' 2nd (NGW) performance')"
      ]
     },
     "execution_count": 115,
     "metadata": {},
     "output_type": "execute_result"
    },
    {
     "data": {
      "image/png": "[encoded data removed]",
      "text/plain": [
       "<Figure size 432x288 with 1 Axes>"
      ]
     },
     "metadata": {},
     "output_type": "display_data"
    }
   ],
   "source": [
    "plt.figure()\n",
    "\n",
    "sns.regplot(data = perf_questionnaire_data, x = 'global_score', y = 'nogo2win_second_session' )\n",
    "plt.title('2nd (NoG2Win) performance ~ Global score')\n",
    "\n",
    "plt.xlabel('Global eating disorder score')\n",
    "plt.ylabel(' 2nd (NGW) performance')\n",
    "\n"
   ]
  },
  {
   "cell_type": "code",
   "execution_count": 116,
   "metadata": {},
   "outputs": [
    {
     "data": {
      "text/html": [
       "<table class=\"simpletable\">\n",
       "<caption>OLS Regression Results</caption>\n",
       "<tr>\n",
       "  <th>Dep. Variable:</th>    <td>nogo2win_second_session</td> <th>  R-squared:         </th> <td>   0.022</td>\n",
       "</tr>\n",
       "<tr>\n",
       "  <th>Model:</th>                      <td>OLS</td>           <th>  Adj. R-squared:    </th> <td>  -0.004</td>\n",
       "</tr>\n",
       "<tr>\n",
       "  <th>Method:</th>                <td>Least Squares</td>      <th>  F-statistic:       </th> <td>  0.8374</td>\n",
       "</tr>\n",
       "<tr>\n",
       "  <th>Date:</th>                <td>Wed, 22 Dec 2021</td>     <th>  Prob (F-statistic):</th>  <td> 0.366</td> \n",
       "</tr>\n",
       "<tr>\n",
       "  <th>Time:</th>                    <td>17:53:17</td>         <th>  Log-Likelihood:    </th> <td> -13.055</td>\n",
       "</tr>\n",
       "<tr>\n",
       "  <th>No. Observations:</th>         <td>    39</td>          <th>  AIC:               </th> <td>   30.11</td>\n",
       "</tr>\n",
       "<tr>\n",
       "  <th>Df Residuals:</th>             <td>    37</td>          <th>  BIC:               </th> <td>   33.44</td>\n",
       "</tr>\n",
       "<tr>\n",
       "  <th>Df Model:</th>                 <td>     1</td>          <th>                     </th>     <td> </td>   \n",
       "</tr>\n",
       "<tr>\n",
       "  <th>Covariance Type:</th>         <td>nonrobust</td>        <th>                     </th>     <td> </td>   \n",
       "</tr>\n",
       "</table>\n",
       "<table class=\"simpletable\">\n",
       "<tr>\n",
       "        <td></td>          <th>coef</th>     <th>std err</th>      <th>t</th>      <th>P>|t|</th>  <th>[0.025</th>    <th>0.975]</th>  \n",
       "</tr>\n",
       "<tr>\n",
       "  <th>Intercept</th>    <td>    0.6854</td> <td>    0.079</td> <td>    8.685</td> <td> 0.000</td> <td>    0.526</td> <td>    0.845</td>\n",
       "</tr>\n",
       "<tr>\n",
       "  <th>global_score</th> <td>   -0.0510</td> <td>    0.056</td> <td>   -0.915</td> <td> 0.366</td> <td>   -0.164</td> <td>    0.062</td>\n",
       "</tr>\n",
       "</table>\n",
       "<table class=\"simpletable\">\n",
       "<tr>\n",
       "  <th>Omnibus:</th>       <td> 6.906</td> <th>  Durbin-Watson:     </th> <td>   1.767</td>\n",
       "</tr>\n",
       "<tr>\n",
       "  <th>Prob(Omnibus):</th> <td> 0.032</td> <th>  Jarque-Bera (JB):  </th> <td>   5.129</td>\n",
       "</tr>\n",
       "<tr>\n",
       "  <th>Skew:</th>          <td>-0.757</td> <th>  Prob(JB):          </th> <td>  0.0769</td>\n",
       "</tr>\n",
       "<tr>\n",
       "  <th>Kurtosis:</th>      <td> 2.070</td> <th>  Cond. No.          </th> <td>    2.63</td>\n",
       "</tr>\n",
       "</table><br/><br/>Warnings:<br/>[1] Standard Errors assume that the covariance matrix of the errors is correctly specified."
      ],
      "text/plain": [
       "<class 'statsmodels.iolib.summary.Summary'>\n",
       "\"\"\"\n",
       "                               OLS Regression Results                              \n",
       "===================================================================================\n",
       "Dep. Variable:     nogo2win_second_session   R-squared:                       0.022\n",
       "Model:                                 OLS   Adj. R-squared:                 -0.004\n",
       "Method:                      Least Squares   F-statistic:                    0.8374\n",
       "Date:                     Wed, 22 Dec 2021   Prob (F-statistic):              0.366\n",
       "Time:                             17:53:17   Log-Likelihood:                -13.055\n",
       "No. Observations:                       39   AIC:                             30.11\n",
       "Df Residuals:                           37   BIC:                             33.44\n",
       "Df Model:                                1                                         \n",
       "Covariance Type:                 nonrobust                                         \n",
       "================================================================================\n",
       "                   coef    std err          t      P>|t|      [0.025      0.975]\n",
       "--------------------------------------------------------------------------------\n",
       "Intercept        0.6854      0.079      8.685      0.000       0.526       0.845\n",
       "global_score    -0.0510      0.056     -0.915      0.366      -0.164       0.062\n",
       "==============================================================================\n",
       "Omnibus:                        6.906   Durbin-Watson:                   1.767\n",
       "Prob(Omnibus):                  0.032   Jarque-Bera (JB):                5.129\n",
       "Skew:                          -0.757   Prob(JB):                       0.0769\n",
       "Kurtosis:                       2.070   Cond. No.                         2.63\n",
       "==============================================================================\n",
       "\n",
       "Warnings:\n",
       "[1] Standard Errors assume that the covariance matrix of the errors is correctly specified.\n",
       "\"\"\""
      ]
     },
     "execution_count": 116,
     "metadata": {},
     "output_type": "execute_result"
    }
   ],
   "source": [
    "smf.ols(formula = 'nogo2win_second_session ~ global_score', data = perf_questionnaire_data ).fit().summary()"
   ]
  },
  {
   "cell_type": "markdown",
   "metadata": {},
   "source": [
    "<a id=\"EDE_nogo2avoid\"></a>\n",
    "# Nogo2AvoidPunishment and Food disorder index"
   ]
  },
  {
   "cell_type": "markdown",
   "metadata": {},
   "source": [
    "<a id=\"EDE_mean_nogo2avoid\"></a>\n",
    "### Average of Nogo2Avoid vs.Food disorder index"
   ]
  },
  {
   "cell_type": "code",
   "execution_count": 117,
   "metadata": {},
   "outputs": [
    {
     "data": {
      "text/plain": [
       "<AxesSubplot:xlabel='global_score', ylabel='nogo2avoidPun_mean_performance'>"
      ]
     },
     "execution_count": 117,
     "metadata": {},
     "output_type": "execute_result"
    },
    {
     "data": {
      "image/png": "[encoded data removed]",
      "text/plain": [
       "<Figure size 432x288 with 1 Axes>"
      ]
     },
     "metadata": {},
     "output_type": "display_data"
    }
   ],
   "source": [
    "sns.regplot(data = perf_questionnaire_data, x = 'global_score', y = 'nogo2avoidPun_mean_performance' )"
   ]
  },
  {
   "cell_type": "code",
   "execution_count": 118,
   "metadata": {},
   "outputs": [
    {
     "data": {
      "text/html": [
       "<table class=\"simpletable\">\n",
       "<caption>OLS Regression Results</caption>\n",
       "<tr>\n",
       "  <th>Dep. Variable:</th>    <td>nogo2avoidPun_mean_performance</td> <th>  R-squared:         </th> <td>   0.004</td>\n",
       "</tr>\n",
       "<tr>\n",
       "  <th>Model:</th>                          <td>OLS</td>              <th>  Adj. R-squared:    </th> <td>  -0.023</td>\n",
       "</tr>\n",
       "<tr>\n",
       "  <th>Method:</th>                    <td>Least Squares</td>         <th>  F-statistic:       </th> <td>  0.1492</td>\n",
       "</tr>\n",
       "<tr>\n",
       "  <th>Date:</th>                    <td>Wed, 22 Dec 2021</td>        <th>  Prob (F-statistic):</th>  <td> 0.701</td> \n",
       "</tr>\n",
       "<tr>\n",
       "  <th>Time:</th>                        <td>17:53:17</td>            <th>  Log-Likelihood:    </th> <td>  25.733</td>\n",
       "</tr>\n",
       "<tr>\n",
       "  <th>No. Observations:</th>             <td>    39</td>             <th>  AIC:               </th> <td>  -47.47</td>\n",
       "</tr>\n",
       "<tr>\n",
       "  <th>Df Residuals:</th>                 <td>    37</td>             <th>  BIC:               </th> <td>  -44.14</td>\n",
       "</tr>\n",
       "<tr>\n",
       "  <th>Df Model:</th>                     <td>     1</td>             <th>                     </th>     <td> </td>   \n",
       "</tr>\n",
       "<tr>\n",
       "  <th>Covariance Type:</th>             <td>nonrobust</td>           <th>                     </th>     <td> </td>   \n",
       "</tr>\n",
       "</table>\n",
       "<table class=\"simpletable\">\n",
       "<tr>\n",
       "        <td></td>          <th>coef</th>     <th>std err</th>      <th>t</th>      <th>P>|t|</th>  <th>[0.025</th>    <th>0.975]</th>  \n",
       "</tr>\n",
       "<tr>\n",
       "  <th>Intercept</th>    <td>    0.8063</td> <td>    0.029</td> <td>   27.620</td> <td> 0.000</td> <td>    0.747</td> <td>    0.865</td>\n",
       "</tr>\n",
       "<tr>\n",
       "  <th>global_score</th> <td>   -0.0080</td> <td>    0.021</td> <td>   -0.386</td> <td> 0.701</td> <td>   -0.050</td> <td>    0.034</td>\n",
       "</tr>\n",
       "</table>\n",
       "<table class=\"simpletable\">\n",
       "<tr>\n",
       "  <th>Omnibus:</th>       <td>10.818</td> <th>  Durbin-Watson:     </th> <td>   2.320</td>\n",
       "</tr>\n",
       "<tr>\n",
       "  <th>Prob(Omnibus):</th> <td> 0.004</td> <th>  Jarque-Bera (JB):  </th> <td>  10.223</td>\n",
       "</tr>\n",
       "<tr>\n",
       "  <th>Skew:</th>          <td>-1.178</td> <th>  Prob(JB):          </th> <td> 0.00603</td>\n",
       "</tr>\n",
       "<tr>\n",
       "  <th>Kurtosis:</th>      <td> 3.859</td> <th>  Cond. No.          </th> <td>    2.63</td>\n",
       "</tr>\n",
       "</table><br/><br/>Warnings:<br/>[1] Standard Errors assume that the covariance matrix of the errors is correctly specified."
      ],
      "text/plain": [
       "<class 'statsmodels.iolib.summary.Summary'>\n",
       "\"\"\"\n",
       "                                  OLS Regression Results                                  \n",
       "==========================================================================================\n",
       "Dep. Variable:     nogo2avoidPun_mean_performance   R-squared:                       0.004\n",
       "Model:                                        OLS   Adj. R-squared:                 -0.023\n",
       "Method:                             Least Squares   F-statistic:                    0.1492\n",
       "Date:                            Wed, 22 Dec 2021   Prob (F-statistic):              0.701\n",
       "Time:                                    17:53:17   Log-Likelihood:                 25.733\n",
       "No. Observations:                              39   AIC:                            -47.47\n",
       "Df Residuals:                                  37   BIC:                            -44.14\n",
       "Df Model:                                       1                                         \n",
       "Covariance Type:                        nonrobust                                         \n",
       "================================================================================\n",
       "                   coef    std err          t      P>|t|      [0.025      0.975]\n",
       "--------------------------------------------------------------------------------\n",
       "Intercept        0.8063      0.029     27.620      0.000       0.747       0.865\n",
       "global_score    -0.0080      0.021     -0.386      0.701      -0.050       0.034\n",
       "==============================================================================\n",
       "Omnibus:                       10.818   Durbin-Watson:                   2.320\n",
       "Prob(Omnibus):                  0.004   Jarque-Bera (JB):               10.223\n",
       "Skew:                          -1.178   Prob(JB):                      0.00603\n",
       "Kurtosis:                       3.859   Cond. No.                         2.63\n",
       "==============================================================================\n",
       "\n",
       "Warnings:\n",
       "[1] Standard Errors assume that the covariance matrix of the errors is correctly specified.\n",
       "\"\"\""
      ]
     },
     "execution_count": 118,
     "metadata": {},
     "output_type": "execute_result"
    }
   ],
   "source": [
    "smf.ols(formula = 'nogo2avoidPun_mean_performance ~ global_score', data = perf_questionnaire_data ).fit().summary()"
   ]
  },
  {
   "cell_type": "markdown",
   "metadata": {},
   "source": [
    "<a id=\"EDE_first_nogo2avoid\"></a>\n",
    "### First nogo2AvoidPun vs. Food disorder index"
   ]
  },
  {
   "cell_type": "code",
   "execution_count": 119,
   "metadata": {},
   "outputs": [
    {
     "data": {
      "text/plain": [
       "<AxesSubplot:xlabel='global_score', ylabel='nogo2avoidPun_first_session'>"
      ]
     },
     "execution_count": 119,
     "metadata": {},
     "output_type": "execute_result"
    },
    {
     "data": {
      "image/png": "[encoded data removed]",
      "text/plain": [
       "<Figure size 432x288 with 1 Axes>"
      ]
     },
     "metadata": {},
     "output_type": "display_data"
    }
   ],
   "source": [
    "sns.regplot(data = perf_questionnaire_data, x = 'global_score', y = 'nogo2avoidPun_first_session' )"
   ]
  },
  {
   "cell_type": "code",
   "execution_count": 120,
   "metadata": {},
   "outputs": [
    {
     "data": {
      "text/html": [
       "<table class=\"simpletable\">\n",
       "<caption>OLS Regression Results</caption>\n",
       "<tr>\n",
       "  <th>Dep. Variable:</th>    <td>nogo2avoidPun_first_session</td> <th>  R-squared:         </th> <td>   0.029</td>\n",
       "</tr>\n",
       "<tr>\n",
       "  <th>Model:</th>                        <td>OLS</td>             <th>  Adj. R-squared:    </th> <td>   0.003</td>\n",
       "</tr>\n",
       "<tr>\n",
       "  <th>Method:</th>                  <td>Least Squares</td>        <th>  F-statistic:       </th> <td>   1.119</td>\n",
       "</tr>\n",
       "<tr>\n",
       "  <th>Date:</th>                  <td>Wed, 22 Dec 2021</td>       <th>  Prob (F-statistic):</th>  <td> 0.297</td> \n",
       "</tr>\n",
       "<tr>\n",
       "  <th>Time:</th>                      <td>17:53:17</td>           <th>  Log-Likelihood:    </th> <td>  17.433</td>\n",
       "</tr>\n",
       "<tr>\n",
       "  <th>No. Observations:</th>           <td>    39</td>            <th>  AIC:               </th> <td>  -30.87</td>\n",
       "</tr>\n",
       "<tr>\n",
       "  <th>Df Residuals:</th>               <td>    37</td>            <th>  BIC:               </th> <td>  -27.54</td>\n",
       "</tr>\n",
       "<tr>\n",
       "  <th>Df Model:</th>                   <td>     1</td>            <th>                     </th>     <td> </td>   \n",
       "</tr>\n",
       "<tr>\n",
       "  <th>Covariance Type:</th>           <td>nonrobust</td>          <th>                     </th>     <td> </td>   \n",
       "</tr>\n",
       "</table>\n",
       "<table class=\"simpletable\">\n",
       "<tr>\n",
       "        <td></td>          <th>coef</th>     <th>std err</th>      <th>t</th>      <th>P>|t|</th>  <th>[0.025</th>    <th>0.975]</th>  \n",
       "</tr>\n",
       "<tr>\n",
       "  <th>Intercept</th>    <td>    0.7938</td> <td>    0.036</td> <td>   21.979</td> <td> 0.000</td> <td>    0.721</td> <td>    0.867</td>\n",
       "</tr>\n",
       "<tr>\n",
       "  <th>global_score</th> <td>   -0.0270</td> <td>    0.025</td> <td>   -1.058</td> <td> 0.297</td> <td>   -0.079</td> <td>    0.025</td>\n",
       "</tr>\n",
       "</table>\n",
       "<table class=\"simpletable\">\n",
       "<tr>\n",
       "  <th>Omnibus:</th>       <td>18.308</td> <th>  Durbin-Watson:     </th> <td>   2.313</td>\n",
       "</tr>\n",
       "<tr>\n",
       "  <th>Prob(Omnibus):</th> <td> 0.000</td> <th>  Jarque-Bera (JB):  </th> <td>  23.576</td>\n",
       "</tr>\n",
       "<tr>\n",
       "  <th>Skew:</th>          <td>-1.446</td> <th>  Prob(JB):          </th> <td>7.60e-06</td>\n",
       "</tr>\n",
       "<tr>\n",
       "  <th>Kurtosis:</th>      <td> 5.478</td> <th>  Cond. No.          </th> <td>    2.63</td>\n",
       "</tr>\n",
       "</table><br/><br/>Warnings:<br/>[1] Standard Errors assume that the covariance matrix of the errors is correctly specified."
      ],
      "text/plain": [
       "<class 'statsmodels.iolib.summary.Summary'>\n",
       "\"\"\"\n",
       "                                 OLS Regression Results                                \n",
       "=======================================================================================\n",
       "Dep. Variable:     nogo2avoidPun_first_session   R-squared:                       0.029\n",
       "Model:                                     OLS   Adj. R-squared:                  0.003\n",
       "Method:                          Least Squares   F-statistic:                     1.119\n",
       "Date:                         Wed, 22 Dec 2021   Prob (F-statistic):              0.297\n",
       "Time:                                 17:53:17   Log-Likelihood:                 17.433\n",
       "No. Observations:                           39   AIC:                            -30.87\n",
       "Df Residuals:                               37   BIC:                            -27.54\n",
       "Df Model:                                    1                                         \n",
       "Covariance Type:                     nonrobust                                         \n",
       "================================================================================\n",
       "                   coef    std err          t      P>|t|      [0.025      0.975]\n",
       "--------------------------------------------------------------------------------\n",
       "Intercept        0.7938      0.036     21.979      0.000       0.721       0.867\n",
       "global_score    -0.0270      0.025     -1.058      0.297      -0.079       0.025\n",
       "==============================================================================\n",
       "Omnibus:                       18.308   Durbin-Watson:                   2.313\n",
       "Prob(Omnibus):                  0.000   Jarque-Bera (JB):               23.576\n",
       "Skew:                          -1.446   Prob(JB):                     7.60e-06\n",
       "Kurtosis:                       5.478   Cond. No.                         2.63\n",
       "==============================================================================\n",
       "\n",
       "Warnings:\n",
       "[1] Standard Errors assume that the covariance matrix of the errors is correctly specified.\n",
       "\"\"\""
      ]
     },
     "execution_count": 120,
     "metadata": {},
     "output_type": "execute_result"
    }
   ],
   "source": [
    "smf.ols(formula = 'nogo2avoidPun_first_session ~ global_score', data = perf_questionnaire_data ).fit().summary()"
   ]
  },
  {
   "cell_type": "markdown",
   "metadata": {},
   "source": [
    "<a id=\"gender\"></a>\n",
    "# Gender Analysis"
   ]
  },
  {
   "cell_type": "markdown",
   "metadata": {},
   "source": [
    "<a id=\"EDE_gender\"></a>\n",
    "### Eating disorder index vs. gender"
   ]
  },
  {
   "cell_type": "code",
   "execution_count": 121,
   "metadata": {},
   "outputs": [
    {
     "data": {
      "image/png": "[encoded data removed]",
      "text/plain": [
       "<Figure size 360x360 with 1 Axes>"
      ]
     },
     "metadata": {},
     "output_type": "display_data"
    }
   ],
   "source": [
    "ax = sns.catplot(x = 'gender_first_session', y = 'global_score', data = perf_questionnaire_data)\n",
    "ax = sns.boxplot(x = 'gender_first_session', y = 'global_score',boxprops=dict(alpha=.2), data = perf_questionnaire_data)"
   ]
  },
  {
   "cell_type": "code",
   "execution_count": 122,
   "metadata": {},
   "outputs": [
    {
     "data": {
      "text/plain": [
       "Ttest_indResult(statistic=-0.01559287786220675, pvalue=0.9876429672088658)"
      ]
     },
     "execution_count": 122,
     "metadata": {},
     "output_type": "execute_result"
    }
   ],
   "source": [
    "stats.ttest_ind(perf_questionnaire_data[perf_questionnaire_data.gender_first_session == 'male'].global_score,\n",
    "                perf_questionnaire_data[perf_questionnaire_data.gender_first_session == 'female'].global_score)"
   ]
  },
  {
   "cell_type": "markdown",
   "metadata": {},
   "source": [
    "<a id=\"EDE_gender_performance\"></a>\n",
    "### nogo2win performance vs. gender"
   ]
  },
  {
   "cell_type": "code",
   "execution_count": 123,
   "metadata": {},
   "outputs": [
    {
     "data": {
      "image/png": "[encoded data removed]",
      "text/plain": [
       "<Figure size 360x360 with 1 Axes>"
      ]
     },
     "metadata": {},
     "output_type": "display_data"
    }
   ],
   "source": [
    "ax = sns.catplot(x = 'gender_first_session', y = 'nogo2win_mean_performance', data = perf_questionnaire_data)\n",
    "ax = sns.boxplot(x = 'gender_first_session', y = 'nogo2win_mean_performance',boxprops=dict(alpha=.2), data = perf_questionnaire_data)"
   ]
  },
  {
   "cell_type": "code",
   "execution_count": 124,
   "metadata": {},
   "outputs": [
    {
     "data": {
      "text/plain": [
       "Ttest_indResult(statistic=0.9508195420565173, pvalue=0.34786600121257927)"
      ]
     },
     "execution_count": 124,
     "metadata": {},
     "output_type": "execute_result"
    }
   ],
   "source": [
    "stats.ttest_ind(perf_questionnaire_data[perf_questionnaire_data.gender_first_session == 'male'].nogo2win_mean_performance,\n",
    "                perf_questionnaire_data[perf_questionnaire_data.gender_first_session == 'female'].nogo2win_mean_performance)"
   ]
  },
  {
   "cell_type": "markdown",
   "metadata": {},
   "source": [
    "<a id=\"EDE_nogo2win_gender\"></a>\n",
    "### Nogo2win performance vs. Eating disorder index (Colorize by gender)"
   ]
  },
  {
   "cell_type": "code",
   "execution_count": 125,
   "metadata": {},
   "outputs": [
    {
     "data": {
      "text/plain": [
       "<seaborn.axisgrid.FacetGrid at 0x147f9c280>"
      ]
     },
     "execution_count": 125,
     "metadata": {},
     "output_type": "execute_result"
    },
    {
     "data": {
      "text/plain": [
       "<Figure size 432x288 with 0 Axes>"
      ]
     },
     "metadata": {},
     "output_type": "display_data"
    },
    {
     "data": {
      "image/png": "[encoded data removed]",
      "text/plain": [
       "<Figure size 479.425x360 with 1 Axes>"
      ]
     },
     "metadata": {},
     "output_type": "display_data"
    }
   ],
   "source": [
    "plt.figure()\n",
    "sns.lmplot( y=\"nogo2win_mean_performance\", x=\"global_score\", data=perf_questionnaire_data, fit_reg=False, hue='gender_first_session', legend=True)\n",
    "# plt.title"
   ]
  },
  {
   "cell_type": "markdown",
   "metadata": {},
   "source": [
    "<a id=\"age_nogo2win\"></a>\n",
    "# Age Vs. NoGo2Win Performance"
   ]
  },
  {
   "cell_type": "code",
   "execution_count": 126,
   "metadata": {},
   "outputs": [
    {
     "data": {
      "text/plain": [
       "<seaborn.axisgrid.FacetGrid at 0x147f8bd30>"
      ]
     },
     "execution_count": 126,
     "metadata": {},
     "output_type": "execute_result"
    },
    {
     "data": {
      "text/plain": [
       "<Figure size 432x288 with 0 Axes>"
      ]
     },
     "metadata": {},
     "output_type": "display_data"
    },
    {
     "data": {
      "image/png": "[encoded data removed]",
      "text/plain": [
       "<Figure size 360x360 with 1 Axes>"
      ]
     },
     "metadata": {},
     "output_type": "display_data"
    }
   ],
   "source": [
    "plt.figure()\n",
    "sns.lmplot( y=\"nogo2win_mean_performance\", x=\"age_first_session\", data=perf_questionnaire_data,  fit_reg=True)"
   ]
  },
  {
   "cell_type": "code",
   "execution_count": 127,
   "metadata": {},
   "outputs": [
    {
     "data": {
      "text/html": [
       "<table class=\"simpletable\">\n",
       "<caption>OLS Regression Results</caption>\n",
       "<tr>\n",
       "  <th>Dep. Variable:</th>    <td>nogo2win_mean_performance</td> <th>  R-squared:         </th> <td>   0.038</td>\n",
       "</tr>\n",
       "<tr>\n",
       "  <th>Model:</th>                       <td>OLS</td>            <th>  Adj. R-squared:    </th> <td>   0.012</td>\n",
       "</tr>\n",
       "<tr>\n",
       "  <th>Method:</th>                 <td>Least Squares</td>       <th>  F-statistic:       </th> <td>   1.474</td>\n",
       "</tr>\n",
       "<tr>\n",
       "  <th>Date:</th>                 <td>Wed, 22 Dec 2021</td>      <th>  Prob (F-statistic):</th>  <td> 0.232</td> \n",
       "</tr>\n",
       "<tr>\n",
       "  <th>Time:</th>                     <td>17:53:17</td>          <th>  Log-Likelihood:    </th> <td> -6.0739</td>\n",
       "</tr>\n",
       "<tr>\n",
       "  <th>No. Observations:</th>          <td>    39</td>           <th>  AIC:               </th> <td>   16.15</td>\n",
       "</tr>\n",
       "<tr>\n",
       "  <th>Df Residuals:</th>              <td>    37</td>           <th>  BIC:               </th> <td>   19.47</td>\n",
       "</tr>\n",
       "<tr>\n",
       "  <th>Df Model:</th>                  <td>     1</td>           <th>                     </th>     <td> </td>   \n",
       "</tr>\n",
       "<tr>\n",
       "  <th>Covariance Type:</th>          <td>nonrobust</td>         <th>                     </th>     <td> </td>   \n",
       "</tr>\n",
       "</table>\n",
       "<table class=\"simpletable\">\n",
       "<tr>\n",
       "          <td></td>             <th>coef</th>     <th>std err</th>      <th>t</th>      <th>P>|t|</th>  <th>[0.025</th>    <th>0.975]</th>  \n",
       "</tr>\n",
       "<tr>\n",
       "  <th>Intercept</th>         <td>    0.7833</td> <td>    0.182</td> <td>    4.303</td> <td> 0.000</td> <td>    0.415</td> <td>    1.152</td>\n",
       "</tr>\n",
       "<tr>\n",
       "  <th>age_first_session</th> <td>   -0.0053</td> <td>    0.004</td> <td>   -1.214</td> <td> 0.232</td> <td>   -0.014</td> <td>    0.004</td>\n",
       "</tr>\n",
       "</table>\n",
       "<table class=\"simpletable\">\n",
       "<tr>\n",
       "  <th>Omnibus:</th>       <td> 5.049</td> <th>  Durbin-Watson:     </th> <td>   2.186</td>\n",
       "</tr>\n",
       "<tr>\n",
       "  <th>Prob(Omnibus):</th> <td> 0.080</td> <th>  Jarque-Bera (JB):  </th> <td>   2.360</td>\n",
       "</tr>\n",
       "<tr>\n",
       "  <th>Skew:</th>          <td>-0.306</td> <th>  Prob(JB):          </th> <td>   0.307</td>\n",
       "</tr>\n",
       "<tr>\n",
       "  <th>Kurtosis:</th>      <td> 1.962</td> <th>  Cond. No.          </th> <td>    164.</td>\n",
       "</tr>\n",
       "</table><br/><br/>Warnings:<br/>[1] Standard Errors assume that the covariance matrix of the errors is correctly specified."
      ],
      "text/plain": [
       "<class 'statsmodels.iolib.summary.Summary'>\n",
       "\"\"\"\n",
       "                                OLS Regression Results                               \n",
       "=====================================================================================\n",
       "Dep. Variable:     nogo2win_mean_performance   R-squared:                       0.038\n",
       "Model:                                   OLS   Adj. R-squared:                  0.012\n",
       "Method:                        Least Squares   F-statistic:                     1.474\n",
       "Date:                       Wed, 22 Dec 2021   Prob (F-statistic):              0.232\n",
       "Time:                               17:53:17   Log-Likelihood:                -6.0739\n",
       "No. Observations:                         39   AIC:                             16.15\n",
       "Df Residuals:                             37   BIC:                             19.47\n",
       "Df Model:                                  1                                         \n",
       "Covariance Type:                   nonrobust                                         \n",
       "=====================================================================================\n",
       "                        coef    std err          t      P>|t|      [0.025      0.975]\n",
       "-------------------------------------------------------------------------------------\n",
       "Intercept             0.7833      0.182      4.303      0.000       0.415       1.152\n",
       "age_first_session    -0.0053      0.004     -1.214      0.232      -0.014       0.004\n",
       "==============================================================================\n",
       "Omnibus:                        5.049   Durbin-Watson:                   2.186\n",
       "Prob(Omnibus):                  0.080   Jarque-Bera (JB):                2.360\n",
       "Skew:                          -0.306   Prob(JB):                        0.307\n",
       "Kurtosis:                       1.962   Cond. No.                         164.\n",
       "==============================================================================\n",
       "\n",
       "Warnings:\n",
       "[1] Standard Errors assume that the covariance matrix of the errors is correctly specified.\n",
       "\"\"\""
      ]
     },
     "execution_count": 127,
     "metadata": {},
     "output_type": "execute_result"
    }
   ],
   "source": [
    "smf.ols(formula = 'nogo2win_mean_performance ~ age_first_session', data = perf_questionnaire_data).fit().summary()"
   ]
  },
  {
   "cell_type": "markdown",
   "metadata": {},
   "source": [
    "<a id=\"bmi_nogo2win\"></a>\n",
    "## BMI index vs. nogo2win performance"
   ]
  },
  {
   "cell_type": "code",
   "execution_count": 128,
   "metadata": {},
   "outputs": [
    {
     "data": {
      "text/plain": [
       "<seaborn.axisgrid.FacetGrid at 0x164894fd0>"
      ]
     },
     "execution_count": 128,
     "metadata": {},
     "output_type": "execute_result"
    },
    {
     "data": {
      "text/plain": [
       "<Figure size 432x288 with 0 Axes>"
      ]
     },
     "metadata": {},
     "output_type": "display_data"
    },
    {
     "data": {
      "image/png": "[encoded data removed]",
      "text/plain": [
       "<Figure size 360x360 with 1 Axes>"
      ]
     },
     "metadata": {},
     "output_type": "display_data"
    }
   ],
   "source": [
    "plt.figure()\n",
    "sns.lmplot( y=\"nogo2win_mean_performance\", x=\"BMI\", data=perf_questionnaire_data,  fit_reg=True)\n",
    "# plt.title"
   ]
  },
  {
   "cell_type": "code",
   "execution_count": 129,
   "metadata": {},
   "outputs": [
    {
     "data": {
      "text/html": [
       "<table class=\"simpletable\">\n",
       "<caption>OLS Regression Results</caption>\n",
       "<tr>\n",
       "  <th>Dep. Variable:</th>    <td>nogo2win_mean_performance</td> <th>  R-squared:         </th> <td>   0.077</td>\n",
       "</tr>\n",
       "<tr>\n",
       "  <th>Model:</th>                       <td>OLS</td>            <th>  Adj. R-squared:    </th> <td>   0.052</td>\n",
       "</tr>\n",
       "<tr>\n",
       "  <th>Method:</th>                 <td>Least Squares</td>       <th>  F-statistic:       </th> <td>   3.082</td>\n",
       "</tr>\n",
       "<tr>\n",
       "  <th>Date:</th>                 <td>Wed, 22 Dec 2021</td>      <th>  Prob (F-statistic):</th>  <td>0.0875</td> \n",
       "</tr>\n",
       "<tr>\n",
       "  <th>Time:</th>                     <td>17:53:18</td>          <th>  Log-Likelihood:    </th> <td> -5.2757</td>\n",
       "</tr>\n",
       "<tr>\n",
       "  <th>No. Observations:</th>          <td>    39</td>           <th>  AIC:               </th> <td>   14.55</td>\n",
       "</tr>\n",
       "<tr>\n",
       "  <th>Df Residuals:</th>              <td>    37</td>           <th>  BIC:               </th> <td>   17.88</td>\n",
       "</tr>\n",
       "<tr>\n",
       "  <th>Df Model:</th>                  <td>     1</td>           <th>                     </th>     <td> </td>   \n",
       "</tr>\n",
       "<tr>\n",
       "  <th>Covariance Type:</th>          <td>nonrobust</td>         <th>                     </th>     <td> </td>   \n",
       "</tr>\n",
       "</table>\n",
       "<table class=\"simpletable\">\n",
       "<tr>\n",
       "      <td></td>         <th>coef</th>     <th>std err</th>      <th>t</th>      <th>P>|t|</th>  <th>[0.025</th>    <th>0.975]</th>  \n",
       "</tr>\n",
       "<tr>\n",
       "  <th>Intercept</th> <td>    0.8435</td> <td>    0.163</td> <td>    5.191</td> <td> 0.000</td> <td>    0.514</td> <td>    1.173</td>\n",
       "</tr>\n",
       "<tr>\n",
       "  <th>BMI</th>       <td>   -0.0097</td> <td>    0.006</td> <td>   -1.755</td> <td> 0.087</td> <td>   -0.021</td> <td>    0.001</td>\n",
       "</tr>\n",
       "</table>\n",
       "<table class=\"simpletable\">\n",
       "<tr>\n",
       "  <th>Omnibus:</th>       <td>12.197</td> <th>  Durbin-Watson:     </th> <td>   2.376</td>\n",
       "</tr>\n",
       "<tr>\n",
       "  <th>Prob(Omnibus):</th> <td> 0.002</td> <th>  Jarque-Bera (JB):  </th> <td>   3.356</td>\n",
       "</tr>\n",
       "<tr>\n",
       "  <th>Skew:</th>          <td>-0.315</td> <th>  Prob(JB):          </th> <td>   0.187</td>\n",
       "</tr>\n",
       "<tr>\n",
       "  <th>Kurtosis:</th>      <td> 1.709</td> <th>  Cond. No.          </th> <td>    105.</td>\n",
       "</tr>\n",
       "</table><br/><br/>Warnings:<br/>[1] Standard Errors assume that the covariance matrix of the errors is correctly specified."
      ],
      "text/plain": [
       "<class 'statsmodels.iolib.summary.Summary'>\n",
       "\"\"\"\n",
       "                                OLS Regression Results                               \n",
       "=====================================================================================\n",
       "Dep. Variable:     nogo2win_mean_performance   R-squared:                       0.077\n",
       "Model:                                   OLS   Adj. R-squared:                  0.052\n",
       "Method:                        Least Squares   F-statistic:                     3.082\n",
       "Date:                       Wed, 22 Dec 2021   Prob (F-statistic):             0.0875\n",
       "Time:                               17:53:18   Log-Likelihood:                -5.2757\n",
       "No. Observations:                         39   AIC:                             14.55\n",
       "Df Residuals:                             37   BIC:                             17.88\n",
       "Df Model:                                  1                                         \n",
       "Covariance Type:                   nonrobust                                         \n",
       "==============================================================================\n",
       "                 coef    std err          t      P>|t|      [0.025      0.975]\n",
       "------------------------------------------------------------------------------\n",
       "Intercept      0.8435      0.163      5.191      0.000       0.514       1.173\n",
       "BMI           -0.0097      0.006     -1.755      0.087      -0.021       0.001\n",
       "==============================================================================\n",
       "Omnibus:                       12.197   Durbin-Watson:                   2.376\n",
       "Prob(Omnibus):                  0.002   Jarque-Bera (JB):                3.356\n",
       "Skew:                          -0.315   Prob(JB):                        0.187\n",
       "Kurtosis:                       1.709   Cond. No.                         105.\n",
       "==============================================================================\n",
       "\n",
       "Warnings:\n",
       "[1] Standard Errors assume that the covariance matrix of the errors is correctly specified.\n",
       "\"\"\""
      ]
     },
     "execution_count": 129,
     "metadata": {},
     "output_type": "execute_result"
    }
   ],
   "source": [
    "smf.ols(formula = 'nogo2win_mean_performance ~ BMI', data = perf_questionnaire_data).fit().summary()"
   ]
  },
  {
   "cell_type": "markdown",
   "metadata": {},
   "source": [
    "<a id=\"Quind_nogo2win\"></a>\n",
    "# Other Questionnaire Index Vs. nogo2win Performance"
   ]
  },
  {
   "cell_type": "markdown",
   "metadata": {},
   "source": [
    "<a id=\"restraint_nogo2win\"></a>\n",
    "### Restraint Index Vs. nogo2win Performance"
   ]
  },
  {
   "cell_type": "code",
   "execution_count": 130,
   "metadata": {},
   "outputs": [
    {
     "data": {
      "text/plain": [
       "<AxesSubplot:xlabel='restraint', ylabel='nogo2win_mean_performance'>"
      ]
     },
     "execution_count": 130,
     "metadata": {},
     "output_type": "execute_result"
    },
    {
     "data": {
      "image/png": "[encoded data removed]",
      "text/plain": [
       "<Figure size 432x288 with 1 Axes>"
      ]
     },
     "metadata": {},
     "output_type": "display_data"
    }
   ],
   "source": [
    "sns.regplot(data = perf_questionnaire_data, x = 'restraint', y = 'nogo2win_mean_performance')"
   ]
  },
  {
   "cell_type": "code",
   "execution_count": 131,
   "metadata": {},
   "outputs": [
    {
     "name": "stdout",
     "output_type": "stream",
     "text": [
      "correlation between eating disorder index and   0.051717500299968466\n",
      "p-value:  0.7545261940890944\n"
     ]
    }
   ],
   "source": [
    "test_res = stats.pearsonr(perf_questionnaire_data.restraint, perf_questionnaire_data.nogo2win_mean_performance)\n",
    "print('correlation between eating disorder index and  ', test_res[0])\n",
    "print('p-value: ', test_res[1])\n"
   ]
  },
  {
   "cell_type": "markdown",
   "metadata": {},
   "source": [
    "<a id=\"eating_concern_nogo2win\"></a>\n",
    "### Eating concern vs. nogo2win average performance"
   ]
  },
  {
   "cell_type": "code",
   "execution_count": 132,
   "metadata": {},
   "outputs": [
    {
     "data": {
      "text/plain": [
       "<AxesSubplot:xlabel='eating_concern', ylabel='nogo2win_mean_performance'>"
      ]
     },
     "execution_count": 132,
     "metadata": {},
     "output_type": "execute_result"
    },
    {
     "data": {
      "image/png": "[encoded data removed]",
      "text/plain": [
       "<Figure size 432x288 with 1 Axes>"
      ]
     },
     "metadata": {},
     "output_type": "display_data"
    }
   ],
   "source": [
    "sns.regplot(data = perf_questionnaire_data, x = 'eating_concern', y = 'nogo2win_mean_performance')"
   ]
  },
  {
   "cell_type": "code",
   "execution_count": 133,
   "metadata": {},
   "outputs": [
    {
     "data": {
      "text/html": [
       "<table class=\"simpletable\">\n",
       "<caption>OLS Regression Results</caption>\n",
       "<tr>\n",
       "  <th>Dep. Variable:</th>    <td>nogo2win_mean_performance</td> <th>  R-squared:         </th> <td>   0.109</td>\n",
       "</tr>\n",
       "<tr>\n",
       "  <th>Model:</th>                       <td>OLS</td>            <th>  Adj. R-squared:    </th> <td>   0.085</td>\n",
       "</tr>\n",
       "<tr>\n",
       "  <th>Method:</th>                 <td>Least Squares</td>       <th>  F-statistic:       </th> <td>   4.511</td>\n",
       "</tr>\n",
       "<tr>\n",
       "  <th>Date:</th>                 <td>Wed, 22 Dec 2021</td>      <th>  Prob (F-statistic):</th>  <td>0.0404</td> \n",
       "</tr>\n",
       "<tr>\n",
       "  <th>Time:</th>                     <td>17:53:18</td>          <th>  Log-Likelihood:    </th> <td> -4.5925</td>\n",
       "</tr>\n",
       "<tr>\n",
       "  <th>No. Observations:</th>          <td>    39</td>           <th>  AIC:               </th> <td>   13.19</td>\n",
       "</tr>\n",
       "<tr>\n",
       "  <th>Df Residuals:</th>              <td>    37</td>           <th>  BIC:               </th> <td>   16.51</td>\n",
       "</tr>\n",
       "<tr>\n",
       "  <th>Df Model:</th>                  <td>     1</td>           <th>                     </th>     <td> </td>   \n",
       "</tr>\n",
       "<tr>\n",
       "  <th>Covariance Type:</th>          <td>nonrobust</td>         <th>                     </th>     <td> </td>   \n",
       "</tr>\n",
       "</table>\n",
       "<table class=\"simpletable\">\n",
       "<tr>\n",
       "         <td></td>           <th>coef</th>     <th>std err</th>      <th>t</th>      <th>P>|t|</th>  <th>[0.025</th>    <th>0.975]</th>  \n",
       "</tr>\n",
       "<tr>\n",
       "  <th>Intercept</th>      <td>    0.6083</td> <td>    0.048</td> <td>   12.593</td> <td> 0.000</td> <td>    0.510</td> <td>    0.706</td>\n",
       "</tr>\n",
       "<tr>\n",
       "  <th>eating_concern</th> <td>   -0.1017</td> <td>    0.048</td> <td>   -2.124</td> <td> 0.040</td> <td>   -0.199</td> <td>   -0.005</td>\n",
       "</tr>\n",
       "</table>\n",
       "<table class=\"simpletable\">\n",
       "<tr>\n",
       "  <th>Omnibus:</th>       <td> 5.205</td> <th>  Durbin-Watson:     </th> <td>   2.260</td>\n",
       "</tr>\n",
       "<tr>\n",
       "  <th>Prob(Omnibus):</th> <td> 0.074</td> <th>  Jarque-Bera (JB):  </th> <td>   2.834</td>\n",
       "</tr>\n",
       "<tr>\n",
       "  <th>Skew:</th>          <td>-0.429</td> <th>  Prob(JB):          </th> <td>   0.242</td>\n",
       "</tr>\n",
       "<tr>\n",
       "  <th>Kurtosis:</th>      <td> 1.996</td> <th>  Cond. No.          </th> <td>    1.49</td>\n",
       "</tr>\n",
       "</table><br/><br/>Warnings:<br/>[1] Standard Errors assume that the covariance matrix of the errors is correctly specified."
      ],
      "text/plain": [
       "<class 'statsmodels.iolib.summary.Summary'>\n",
       "\"\"\"\n",
       "                                OLS Regression Results                               \n",
       "=====================================================================================\n",
       "Dep. Variable:     nogo2win_mean_performance   R-squared:                       0.109\n",
       "Model:                                   OLS   Adj. R-squared:                  0.085\n",
       "Method:                        Least Squares   F-statistic:                     4.511\n",
       "Date:                       Wed, 22 Dec 2021   Prob (F-statistic):             0.0404\n",
       "Time:                               17:53:18   Log-Likelihood:                -4.5925\n",
       "No. Observations:                         39   AIC:                             13.19\n",
       "Df Residuals:                             37   BIC:                             16.51\n",
       "Df Model:                                  1                                         \n",
       "Covariance Type:                   nonrobust                                         \n",
       "==================================================================================\n",
       "                     coef    std err          t      P>|t|      [0.025      0.975]\n",
       "----------------------------------------------------------------------------------\n",
       "Intercept          0.6083      0.048     12.593      0.000       0.510       0.706\n",
       "eating_concern    -0.1017      0.048     -2.124      0.040      -0.199      -0.005\n",
       "==============================================================================\n",
       "Omnibus:                        5.205   Durbin-Watson:                   2.260\n",
       "Prob(Omnibus):                  0.074   Jarque-Bera (JB):                2.834\n",
       "Skew:                          -0.429   Prob(JB):                        0.242\n",
       "Kurtosis:                       1.996   Cond. No.                         1.49\n",
       "==============================================================================\n",
       "\n",
       "Warnings:\n",
       "[1] Standard Errors assume that the covariance matrix of the errors is correctly specified.\n",
       "\"\"\""
      ]
     },
     "execution_count": 133,
     "metadata": {},
     "output_type": "execute_result"
    }
   ],
   "source": [
    "smf.ols(formula = 'nogo2win_mean_performance ~ eating_concern', data = perf_questionnaire_data).fit().summary()"
   ]
  },
  {
   "cell_type": "markdown",
   "metadata": {},
   "source": [
    "<a id=\"weight_concern_nogo2win\"></a>\n",
    "### Weight Concern Index Vs. nogo2win Performance"
   ]
  },
  {
   "cell_type": "code",
   "execution_count": 134,
   "metadata": {},
   "outputs": [
    {
     "data": {
      "text/plain": [
       "<AxesSubplot:xlabel='weight_concern', ylabel='nogo2win_mean_performance'>"
      ]
     },
     "execution_count": 134,
     "metadata": {},
     "output_type": "execute_result"
    },
    {
     "data": {
      "image/png": "[encoded data removed]",
      "text/plain": [
       "<Figure size 432x288 with 1 Axes>"
      ]
     },
     "metadata": {},
     "output_type": "display_data"
    }
   ],
   "source": [
    "sns.regplot(data = perf_questionnaire_data, x = 'weight_concern', y = 'nogo2win_mean_performance')"
   ]
  },
  {
   "cell_type": "code",
   "execution_count": 135,
   "metadata": {},
   "outputs": [
    {
     "name": "stdout",
     "output_type": "stream",
     "text": [
      "correlation between eating disorder index and   -0.2506262943774218\n",
      "p-value:  0.12382479736600474\n"
     ]
    }
   ],
   "source": [
    "test_res = stats.pearsonr(perf_questionnaire_data.weight_concern, perf_questionnaire_data.nogo2win_mean_performance)\n",
    "print('correlation between eating disorder index and  ', test_res[0])\n",
    "print('p-value: ', test_res[1])"
   ]
  },
  {
   "cell_type": "markdown",
   "metadata": {},
   "source": [
    "<a id= \"shape_concern_nogo2win\"></a>\n",
    "### Shape Concern Index Vs. nogo2win Performance"
   ]
  },
  {
   "cell_type": "code",
   "execution_count": 136,
   "metadata": {},
   "outputs": [
    {
     "data": {
      "text/plain": [
       "<AxesSubplot:xlabel='shape_concern', ylabel='nogo2win_mean_performance'>"
      ]
     },
     "execution_count": 136,
     "metadata": {},
     "output_type": "execute_result"
    },
    {
     "data": {
      "image/png": "[encoded data removed]",
      "text/plain": [
       "<Figure size 432x288 with 1 Axes>"
      ]
     },
     "metadata": {},
     "output_type": "display_data"
    }
   ],
   "source": [
    "sns.regplot(data = perf_questionnaire_data, x = 'shape_concern', y = 'nogo2win_mean_performance')"
   ]
  },
  {
   "cell_type": "code",
   "execution_count": 137,
   "metadata": {},
   "outputs": [
    {
     "name": "stdout",
     "output_type": "stream",
     "text": [
      "correlation between eating disorder index and   -0.19929230923310248\n",
      "p-value:  0.223857813184677\n"
     ]
    }
   ],
   "source": [
    "test_res = stats.pearsonr(perf_questionnaire_data.shape_concern, perf_questionnaire_data.nogo2win_mean_performance)\n",
    "print('correlation between eating disorder index and  ', test_res[0])\n",
    "print('p-value: ', test_res[1])"
   ]
  },
  {
   "cell_type": "markdown",
   "metadata": {},
   "source": [
    "<a id=\"pet\"></a>\n",
    "# Pet Analysis"
   ]
  },
  {
   "cell_type": "markdown",
   "metadata": {},
   "source": [
    "<a id=\"haspet_ng2win\"></a>\n",
    "### Nogo 2 Win Performance Vs. has-pet"
   ]
  },
  {
   "cell_type": "markdown",
   "metadata": {},
   "source": [
    "It seems we have not enough data to compare these 2 groups"
   ]
  },
  {
   "cell_type": "code",
   "execution_count": 138,
   "metadata": {},
   "outputs": [
    {
     "data": {
      "text/plain": [
       "<seaborn.axisgrid.FacetGrid at 0x147afef70>"
      ]
     },
     "execution_count": 138,
     "metadata": {},
     "output_type": "execute_result"
    },
    {
     "data": {
      "image/png": "[encoded data removed]",
      "text/plain": [
       "<Figure size 360x360 with 1 Axes>"
      ]
     },
     "metadata": {},
     "output_type": "display_data"
    }
   ],
   "source": [
    "sns.catplot(x = 'has_pet', y = 'nogo2win_mean_performance', data = perf_questionnaire_data)"
   ]
  },
  {
   "cell_type": "markdown",
   "metadata": {},
   "source": [
    "<a id=\"petnumber_ng2win\"></a>\n",
    "### Pet counts vs. Nogo 2 Win Performance "
   ]
  },
  {
   "cell_type": "code",
   "execution_count": 139,
   "metadata": {},
   "outputs": [
    {
     "data": {
      "text/plain": [
       "<AxesSubplot:xlabel='pet-number', ylabel='nogo2win_mean_performance'>"
      ]
     },
     "execution_count": 139,
     "metadata": {},
     "output_type": "execute_result"
    },
    {
     "data": {
      "image/png": "[encoded data removed]",
      "text/plain": [
       "<Figure size 432x288 with 1 Axes>"
      ]
     },
     "metadata": {},
     "output_type": "display_data"
    }
   ],
   "source": [
    "sns.regplot(data = perf_questionnaire_data, x = 'pet-number', y = 'nogo2win_mean_performance')"
   ]
  },
  {
   "cell_type": "code",
   "execution_count": 140,
   "metadata": {},
   "outputs": [
    {
     "name": "stdout",
     "output_type": "stream",
     "text": [
      "correlation between eating disorder index and   0.02658494027433185\n",
      "p-value:  0.8776828294964419\n"
     ]
    }
   ],
   "source": [
    "test_res = stats.pearsonr(perf_questionnaire_data.dropna(subset=['pet-number'])['pet-number'], perf_questionnaire_data.dropna(subset=['pet-number']).nogo2win_mean_performance)\n",
    "print('correlation between eating disorder index and  ', test_res[0])\n",
    "print('p-value: ', test_res[1])"
   ]
  },
  {
   "cell_type": "markdown",
   "metadata": {},
   "source": [
    "<a id=\"pettype_ng2win\"></a>\n",
    "### Pet type vs. Nogo 2 Win Performance "
   ]
  },
  {
   "cell_type": "code",
   "execution_count": 141,
   "metadata": {},
   "outputs": [],
   "source": [
    "def clean_pet_type(pet_type):\n",
    "    if all(x in pet_type for x in ['cat', 'dog']):\n",
    "        return \"both\"\n",
    "    elif('dog' in pet_type):\n",
    "        return \"dog\"\n",
    "    elif('cat' in pet_type):\n",
    "        return \"cat\"\n",
    "    else:\n",
    "        return \"\"\n"
   ]
  },
  {
   "cell_type": "code",
   "execution_count": 142,
   "metadata": {},
   "outputs": [],
   "source": [
    "perf_questionnaire_data_has_pet = perf_questionnaire_data.dropna(subset=['pet-type'])"
   ]
  },
  {
   "cell_type": "code",
   "execution_count": 143,
   "metadata": {},
   "outputs": [
    {
     "name": "stderr",
     "output_type": "stream",
     "text": [
      "/var/folders/5p/j5wvkpqj2_n5r5h100pdscbr0000gn/T/ipykernel_2120/1936678068.py:1: SettingWithCopyWarning: \n",
      "A value is trying to be set on a copy of a slice from a DataFrame.\n",
      "Try using .loc[row_indexer,col_indexer] = value instead\n",
      "\n",
      "See the caveats in the documentation: https://pandas.pydata.org/pandas-docs/stable/user_guide/indexing.html#returning-a-view-versus-a-copy\n",
      "  perf_questionnaire_data_has_pet[\"pet-type\"] = perf_questionnaire_data_has_pet[\"pet-type\"].map(lambda x: clean_pet_type(x))\n"
     ]
    }
   ],
   "source": [
    "perf_questionnaire_data_has_pet[\"pet-type\"] = perf_questionnaire_data_has_pet[\"pet-type\"].map(lambda x: clean_pet_type(x))"
   ]
  },
  {
   "cell_type": "code",
   "execution_count": 144,
   "metadata": {},
   "outputs": [
    {
     "data": {
      "text/plain": [
       "<seaborn.axisgrid.FacetGrid at 0x147a6df10>"
      ]
     },
     "execution_count": 144,
     "metadata": {},
     "output_type": "execute_result"
    },
    {
     "data": {
      "image/png": "[encoded data removed]",
      "text/plain": [
       "<Figure size 360x360 with 1 Axes>"
      ]
     },
     "metadata": {},
     "output_type": "display_data"
    }
   ],
   "source": [
    "sns.catplot(x = 'pet-type', y = 'nogo2win_mean_performance', data = perf_questionnaire_data_has_pet)"
   ]
  },
  {
   "cell_type": "markdown",
   "metadata": {},
   "source": [
    "<a id=\"EDE_bmi\"></a>\n",
    "# Eating disorder index vs. BMI"
   ]
  },
  {
   "cell_type": "code",
   "execution_count": 145,
   "metadata": {},
   "outputs": [
    {
     "data": {
      "text/plain": [
       "<AxesSubplot:xlabel='BMI', ylabel='global_score'>"
      ]
     },
     "execution_count": 145,
     "metadata": {},
     "output_type": "execute_result"
    },
    {
     "data": {
      "image/png": "[encoded data removed]",
      "text/plain": [
       "<Figure size 432x288 with 1 Axes>"
      ]
     },
     "metadata": {},
     "output_type": "display_data"
    }
   ],
   "source": [
    "sns.regplot(data = perf_questionnaire_data_has_pet, y = 'global_score', x = 'BMI')"
   ]
  },
  {
   "cell_type": "code",
   "execution_count": 146,
   "metadata": {},
   "outputs": [
    {
     "name": "stdout",
     "output_type": "stream",
     "text": [
      "correlation between eating disorder index and   0.6115234035185763\n",
      "p-value:  3.5365081899800524e-05\n"
     ]
    }
   ],
   "source": [
    "test_res = stats.pearsonr(perf_questionnaire_data['global_score'], perf_questionnaire_data['BMI'])\n",
    "print('correlation between eating disorder index and  ', test_res[0])\n",
    "print('p-value: ', test_res[1])"
   ]
  },
  {
   "cell_type": "markdown",
   "metadata": {},
   "source": [
    "<a id=\"prediction\"></a>\n",
    "# Eating disorder prediction (Ridge regression) "
   ]
  },
  {
   "cell_type": "code",
   "execution_count": 153,
   "metadata": {},
   "outputs": [
    {
     "data": {
      "text/html": [
       "<table class=\"simpletable\">\n",
       "<caption>OLS Regression Results</caption>\n",
       "<tr>\n",
       "  <th>Dep. Variable:</th>      <td>global_score</td>   <th>  R-squared:         </th> <td>   0.409</td>\n",
       "</tr>\n",
       "<tr>\n",
       "  <th>Model:</th>                   <td>OLS</td>       <th>  Adj. R-squared:    </th> <td>   0.319</td>\n",
       "</tr>\n",
       "<tr>\n",
       "  <th>Method:</th>             <td>Least Squares</td>  <th>  F-statistic:       </th> <td>   4.560</td>\n",
       "</tr>\n",
       "<tr>\n",
       "  <th>Date:</th>             <td>Wed, 22 Dec 2021</td> <th>  Prob (F-statistic):</th>  <td>0.00286</td>\n",
       "</tr>\n",
       "<tr>\n",
       "  <th>Time:</th>                 <td>17:57:00</td>     <th>  Log-Likelihood:    </th> <td> -45.032</td>\n",
       "</tr>\n",
       "<tr>\n",
       "  <th>No. Observations:</th>      <td>    39</td>      <th>  AIC:               </th> <td>   102.1</td>\n",
       "</tr>\n",
       "<tr>\n",
       "  <th>Df Residuals:</th>          <td>    33</td>      <th>  BIC:               </th> <td>   112.0</td>\n",
       "</tr>\n",
       "<tr>\n",
       "  <th>Df Model:</th>              <td>     5</td>      <th>                     </th>     <td> </td>   \n",
       "</tr>\n",
       "<tr>\n",
       "  <th>Covariance Type:</th>      <td>nonrobust</td>    <th>                     </th>     <td> </td>   \n",
       "</tr>\n",
       "</table>\n",
       "<table class=\"simpletable\">\n",
       "<tr>\n",
       "               <td></td>                  <th>coef</th>     <th>std err</th>      <th>t</th>      <th>P>|t|</th>  <th>[0.025</th>    <th>0.975]</th>  \n",
       "</tr>\n",
       "<tr>\n",
       "  <th>Intercept</th>                   <td>   -0.2163</td> <td>    1.030</td> <td>   -0.210</td> <td> 0.835</td> <td>   -2.311</td> <td>    1.879</td>\n",
       "</tr>\n",
       "<tr>\n",
       "  <th>nogo2win_first_session</th>      <td>   -0.1888</td> <td>    0.425</td> <td>   -0.444</td> <td> 0.660</td> <td>   -1.054</td> <td>    0.676</td>\n",
       "</tr>\n",
       "<tr>\n",
       "  <th>go2win_first_session</th>        <td>    0.2825</td> <td>    1.313</td> <td>    0.215</td> <td> 0.831</td> <td>   -2.390</td> <td>    2.955</td>\n",
       "</tr>\n",
       "<tr>\n",
       "  <th>nogo2avoidPun_first_session</th> <td>   -0.7072</td> <td>    0.903</td> <td>   -0.783</td> <td> 0.439</td> <td>   -2.544</td> <td>    1.130</td>\n",
       "</tr>\n",
       "<tr>\n",
       "  <th>go2avoidPun_first_session</th>   <td>   -0.5107</td> <td>    0.938</td> <td>   -0.544</td> <td> 0.590</td> <td>   -2.420</td> <td>    1.399</td>\n",
       "</tr>\n",
       "<tr>\n",
       "  <th>BMI</th>                         <td>    0.0699</td> <td>    0.018</td> <td>    3.975</td> <td> 0.000</td> <td>    0.034</td> <td>    0.106</td>\n",
       "</tr>\n",
       "</table>\n",
       "<table class=\"simpletable\">\n",
       "<tr>\n",
       "  <th>Omnibus:</th>       <td> 3.884</td> <th>  Durbin-Watson:     </th> <td>   1.777</td>\n",
       "</tr>\n",
       "<tr>\n",
       "  <th>Prob(Omnibus):</th> <td> 0.143</td> <th>  Jarque-Bera (JB):  </th> <td>   2.656</td>\n",
       "</tr>\n",
       "<tr>\n",
       "  <th>Skew:</th>          <td> 0.588</td> <th>  Prob(JB):          </th> <td>   0.265</td>\n",
       "</tr>\n",
       "<tr>\n",
       "  <th>Kurtosis:</th>      <td> 3.503</td> <th>  Cond. No.          </th> <td>    346.</td>\n",
       "</tr>\n",
       "</table><br/><br/>Warnings:<br/>[1] Standard Errors assume that the covariance matrix of the errors is correctly specified."
      ],
      "text/plain": [
       "<class 'statsmodels.iolib.summary.Summary'>\n",
       "\"\"\"\n",
       "                            OLS Regression Results                            \n",
       "==============================================================================\n",
       "Dep. Variable:           global_score   R-squared:                       0.409\n",
       "Model:                            OLS   Adj. R-squared:                  0.319\n",
       "Method:                 Least Squares   F-statistic:                     4.560\n",
       "Date:                Wed, 22 Dec 2021   Prob (F-statistic):            0.00286\n",
       "Time:                        17:57:00   Log-Likelihood:                -45.032\n",
       "No. Observations:                  39   AIC:                             102.1\n",
       "Df Residuals:                      33   BIC:                             112.0\n",
       "Df Model:                           5                                         \n",
       "Covariance Type:            nonrobust                                         \n",
       "===============================================================================================\n",
       "                                  coef    std err          t      P>|t|      [0.025      0.975]\n",
       "-----------------------------------------------------------------------------------------------\n",
       "Intercept                      -0.2163      1.030     -0.210      0.835      -2.311       1.879\n",
       "nogo2win_first_session         -0.1888      0.425     -0.444      0.660      -1.054       0.676\n",
       "go2win_first_session            0.2825      1.313      0.215      0.831      -2.390       2.955\n",
       "nogo2avoidPun_first_session    -0.7072      0.903     -0.783      0.439      -2.544       1.130\n",
       "go2avoidPun_first_session      -0.5107      0.938     -0.544      0.590      -2.420       1.399\n",
       "BMI                             0.0699      0.018      3.975      0.000       0.034       0.106\n",
       "==============================================================================\n",
       "Omnibus:                        3.884   Durbin-Watson:                   1.777\n",
       "Prob(Omnibus):                  0.143   Jarque-Bera (JB):                2.656\n",
       "Skew:                           0.588   Prob(JB):                        0.265\n",
       "Kurtosis:                       3.503   Cond. No.                         346.\n",
       "==============================================================================\n",
       "\n",
       "Warnings:\n",
       "[1] Standard Errors assume that the covariance matrix of the errors is correctly specified.\n",
       "\"\"\""
      ]
     },
     "execution_count": 153,
     "metadata": {},
     "output_type": "execute_result"
    }
   ],
   "source": [
    "model = smf.ols(formula = 'global_score ~  nogo2win_first_session + go2win_first_session + \tnogo2avoidPun_first_session + go2avoidPun_first_session + BMI',\n",
    "                 data = perf_questionnaire_data)\n",
    "\n",
    "model.fit().summary()"
   ]
  },
  {
   "cell_type": "code",
   "execution_count": 154,
   "metadata": {},
   "outputs": [
    {
     "ename": "NotImplementedError",
     "evalue": "",
     "output_type": "error",
     "traceback": [
      "\u001b[0;31m---------------------------------------------------------------------------\u001b[0m",
      "\u001b[0;31mNotImplementedError\u001b[0m                       Traceback (most recent call last)",
      "\u001b[0;32m/var/folders/5p/j5wvkpqj2_n5r5h100pdscbr0000gn/T/ipykernel_2120/3911276413.py\u001b[0m in \u001b[0;36m<module>\u001b[0;34m\u001b[0m\n\u001b[0;32m----> 1\u001b[0;31m \u001b[0mmodel\u001b[0m\u001b[0;34m.\u001b[0m\u001b[0mfit_regularized\u001b[0m\u001b[0;34m(\u001b[0m\u001b[0malpha\u001b[0m\u001b[0;34m=\u001b[0m\u001b[0;36m0.05\u001b[0m\u001b[0;34m,\u001b[0m \u001b[0mL1_wt\u001b[0m\u001b[0;34m=\u001b[0m\u001b[0;36m0.5\u001b[0m\u001b[0;34m)\u001b[0m\u001b[0;34m.\u001b[0m\u001b[0msummary\u001b[0m\u001b[0;34m(\u001b[0m\u001b[0;34m)\u001b[0m\u001b[0;34m\u001b[0m\u001b[0;34m\u001b[0m\u001b[0m\n\u001b[0m",
      "\u001b[0;32m/opt/homebrew/lib/python3.9/site-packages/statsmodels/base/model.py\u001b[0m in \u001b[0;36msummary\u001b[0;34m(self)\u001b[0m\n\u001b[1;32m   1053\u001b[0m         \u001b[0mNot\u001b[0m \u001b[0mimplemented\u001b[0m\u001b[0;34m\u001b[0m\u001b[0;34m\u001b[0m\u001b[0m\n\u001b[1;32m   1054\u001b[0m         \"\"\"\n\u001b[0;32m-> 1055\u001b[0;31m         \u001b[0;32mraise\u001b[0m \u001b[0mNotImplementedError\u001b[0m\u001b[0;34m\u001b[0m\u001b[0;34m\u001b[0m\u001b[0m\n\u001b[0m\u001b[1;32m   1056\u001b[0m \u001b[0;34m\u001b[0m\u001b[0m\n\u001b[1;32m   1057\u001b[0m \u001b[0;34m\u001b[0m\u001b[0m\n",
      "\u001b[0;31mNotImplementedError\u001b[0m: "
     ]
    }
   ],
   "source": [
    "# model.fit_regularized(alpha=0.05, L1_wt=0.5).summary()"
   ]
  },
  {
   "cell_type": "code",
   "execution_count": null,
   "metadata": {},
   "outputs": [],
   "source": []
  }
 ],
 "metadata": {
  "interpreter": {
   "hash": "b0fa6594d8f4cbf19f97940f81e996739fb7646882a419484c72d19e05852a7e"
  },
  "kernelspec": {
   "display_name": "Python 3.9.6 64-bit",
   "language": "python",
   "name": "python3"
  },
  "language_info": {
   "codemirror_mode": {
    "name": "ipython",
    "version": 3
   },
   "file_extension": ".py",
   "mimetype": "text/x-python",
   "name": "python",
   "nbconvert_exporter": "python",
   "pygments_lexer": "ipython3",
   "version": "3.9.6"
  },
  "orig_nbformat": 4
 },
 "nbformat": 4,
 "nbformat_minor": 2
}
